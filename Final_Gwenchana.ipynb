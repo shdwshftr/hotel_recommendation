{
  "cells": [
    {
      "cell_type": "code",
      "execution_count": 642,
      "id": "d0cc080d",
      "metadata": {
        "id": "d0cc080d"
      },
      "outputs": [],
      "source": [
        "import pandas as pd\n",
        "import numpy as np\n",
        "import matplotlib.pyplot as plt\n",
        "import seaborn as sns"
      ]
    },
    {
      "cell_type": "code",
      "source": [
        "from google.colab import drive\n",
        "drive.mount('/content/drive')"
      ],
      "metadata": {
        "colab": {
          "base_uri": "https://localhost:8080/",
          "height": 0
        },
        "id": "CpdttwUZDzHq",
        "outputId": "5ecca3b8-a61b-4a92-9fe0-20c6b372d51c"
      },
      "id": "CpdttwUZDzHq",
      "execution_count": 643,
      "outputs": [
        {
          "output_type": "stream",
          "name": "stdout",
          "text": [
            "Drive already mounted at /content/drive; to attempt to forcibly remount, call drive.mount(\"/content/drive\", force_remount=True).\n"
          ]
        }
      ]
    },
    {
      "cell_type": "code",
      "execution_count": 644,
      "id": "26dec315",
      "metadata": {
        "id": "26dec315"
      },
      "outputs": [],
      "source": [
        "df_price = pd.read_csv('/content/drive/My Drive/hotels_RoomPrice.csv')\n",
        "df_minmax = pd.read_csv('/content/drive/My Drive/hotel_price_min_max - Formula.csv')\n",
        "df_details = pd.read_csv('/content/drive/My Drive/Hotel_details.csv')\n",
        "df_attributes = pd.read_csv('/content/drive/My Drive/Hotel_Room_attributes.csv')"
      ]
    },
    {
      "cell_type": "markdown",
      "id": "76932783",
      "metadata": {
        "id": "76932783"
      },
      "source": [
        "# Data Understanding"
      ]
    },
    {
      "cell_type": "markdown",
      "id": "f740f26a",
      "metadata": {
        "id": "f740f26a"
      },
      "source": [
        "### Based on hotels_RoomPrice.csv dataset"
      ]
    },
    {
      "cell_type": "code",
      "execution_count": 645,
      "id": "e9bea265",
      "metadata": {
        "id": "e9bea265",
        "outputId": "d6c89c24-408a-4b0f-bf3f-d3da9ae5192a",
        "colab": {
          "base_uri": "https://localhost:8080/",
          "height": 377
        }
      },
      "outputs": [
        {
          "output_type": "execute_result",
          "data": {
            "text/plain": [
              "         id    refid  hotelcode  websitecode          dtcollected    ratedate  \\\n",
              "0  50677497  8646773     634876            5  2019-10-12 15:46:54  2019-11-02   \n",
              "1  50672149  6234691    8328096            5  2019-10-12 15:47:45  2019-11-30   \n",
              "2  50643430  7015677    8323442            5  2019-10-12 15:47:00  2019-12-20   \n",
              "3  50650317  7327094       7975            5  2019-10-12 15:47:02  2019-12-28   \n",
              "4  50650318  7327094       7975            5  2019-10-12 15:47:02  2019-12-28   \n",
              "\n",
              "   los  guests              roomtype  onsiterate  ...  promoname status_code  \\\n",
              "0    1       1           Double Room       82.36  ...        NaN         200   \n",
              "1    1       1         Vacation Home      636.09  ...        NaN         200   \n",
              "2    1       1         Vacation Home      591.74  ...        NaN         200   \n",
              "3    1       1  Standard Triple Room      881.48  ...        NaN         200   \n",
              "4    1       1  Standard Triple Room      897.53  ...        NaN         200   \n",
              "\n",
              "  taxstatus       taxtype taxamount                            proxyused  \\\n",
              "0         2           NaN       0.0   media:M3diAproxy@173.44.165.126:80   \n",
              "1         2           NaN       0.0   media:M3diAproxy@173.44.164.126:80   \n",
              "2         2           NaN       0.0   media:M3diAproxy@173.44.166.122:80   \n",
              "3         2       Tax 20%       0.0  media:M3diAproxy@209.242.219.141:80   \n",
              "4         2  VAT $ 179.51       0.0  media:M3diAproxy@209.242.219.141:80   \n",
              "\n",
              "   israteperstay       mealinclusiontype hotelblock  input_dtcollected  \n",
              "0              Y          Free Breakfast        NaN         2019-10-13  \n",
              "1              Y                     NaN        NaN         2019-10-13  \n",
              "2              Y                     NaN        NaN         2019-10-13  \n",
              "3              Y                     NaN        NaN         2019-10-13  \n",
              "4              Y  Free breakfast for {3}        NaN         2019-10-13  \n",
              "\n",
              "[5 rows x 30 columns]"
            ],
            "text/html": [
              "\n",
              "  <div id=\"df-85aa7e77-d69b-42ef-9014-46f1278ca1df\" class=\"colab-df-container\">\n",
              "    <div>\n",
              "<style scoped>\n",
              "    .dataframe tbody tr th:only-of-type {\n",
              "        vertical-align: middle;\n",
              "    }\n",
              "\n",
              "    .dataframe tbody tr th {\n",
              "        vertical-align: top;\n",
              "    }\n",
              "\n",
              "    .dataframe thead th {\n",
              "        text-align: right;\n",
              "    }\n",
              "</style>\n",
              "<table border=\"1\" class=\"dataframe\">\n",
              "  <thead>\n",
              "    <tr style=\"text-align: right;\">\n",
              "      <th></th>\n",
              "      <th>id</th>\n",
              "      <th>refid</th>\n",
              "      <th>hotelcode</th>\n",
              "      <th>websitecode</th>\n",
              "      <th>dtcollected</th>\n",
              "      <th>ratedate</th>\n",
              "      <th>los</th>\n",
              "      <th>guests</th>\n",
              "      <th>roomtype</th>\n",
              "      <th>onsiterate</th>\n",
              "      <th>...</th>\n",
              "      <th>promoname</th>\n",
              "      <th>status_code</th>\n",
              "      <th>taxstatus</th>\n",
              "      <th>taxtype</th>\n",
              "      <th>taxamount</th>\n",
              "      <th>proxyused</th>\n",
              "      <th>israteperstay</th>\n",
              "      <th>mealinclusiontype</th>\n",
              "      <th>hotelblock</th>\n",
              "      <th>input_dtcollected</th>\n",
              "    </tr>\n",
              "  </thead>\n",
              "  <tbody>\n",
              "    <tr>\n",
              "      <th>0</th>\n",
              "      <td>50677497</td>\n",
              "      <td>8646773</td>\n",
              "      <td>634876</td>\n",
              "      <td>5</td>\n",
              "      <td>2019-10-12 15:46:54</td>\n",
              "      <td>2019-11-02</td>\n",
              "      <td>1</td>\n",
              "      <td>1</td>\n",
              "      <td>Double Room</td>\n",
              "      <td>82.36</td>\n",
              "      <td>...</td>\n",
              "      <td>NaN</td>\n",
              "      <td>200</td>\n",
              "      <td>2</td>\n",
              "      <td>NaN</td>\n",
              "      <td>0.0</td>\n",
              "      <td>media:M3diAproxy@173.44.165.126:80</td>\n",
              "      <td>Y</td>\n",
              "      <td>Free Breakfast</td>\n",
              "      <td>NaN</td>\n",
              "      <td>2019-10-13</td>\n",
              "    </tr>\n",
              "    <tr>\n",
              "      <th>1</th>\n",
              "      <td>50672149</td>\n",
              "      <td>6234691</td>\n",
              "      <td>8328096</td>\n",
              "      <td>5</td>\n",
              "      <td>2019-10-12 15:47:45</td>\n",
              "      <td>2019-11-30</td>\n",
              "      <td>1</td>\n",
              "      <td>1</td>\n",
              "      <td>Vacation Home</td>\n",
              "      <td>636.09</td>\n",
              "      <td>...</td>\n",
              "      <td>NaN</td>\n",
              "      <td>200</td>\n",
              "      <td>2</td>\n",
              "      <td>NaN</td>\n",
              "      <td>0.0</td>\n",
              "      <td>media:M3diAproxy@173.44.164.126:80</td>\n",
              "      <td>Y</td>\n",
              "      <td>NaN</td>\n",
              "      <td>NaN</td>\n",
              "      <td>2019-10-13</td>\n",
              "    </tr>\n",
              "    <tr>\n",
              "      <th>2</th>\n",
              "      <td>50643430</td>\n",
              "      <td>7015677</td>\n",
              "      <td>8323442</td>\n",
              "      <td>5</td>\n",
              "      <td>2019-10-12 15:47:00</td>\n",
              "      <td>2019-12-20</td>\n",
              "      <td>1</td>\n",
              "      <td>1</td>\n",
              "      <td>Vacation Home</td>\n",
              "      <td>591.74</td>\n",
              "      <td>...</td>\n",
              "      <td>NaN</td>\n",
              "      <td>200</td>\n",
              "      <td>2</td>\n",
              "      <td>NaN</td>\n",
              "      <td>0.0</td>\n",
              "      <td>media:M3diAproxy@173.44.166.122:80</td>\n",
              "      <td>Y</td>\n",
              "      <td>NaN</td>\n",
              "      <td>NaN</td>\n",
              "      <td>2019-10-13</td>\n",
              "    </tr>\n",
              "    <tr>\n",
              "      <th>3</th>\n",
              "      <td>50650317</td>\n",
              "      <td>7327094</td>\n",
              "      <td>7975</td>\n",
              "      <td>5</td>\n",
              "      <td>2019-10-12 15:47:02</td>\n",
              "      <td>2019-12-28</td>\n",
              "      <td>1</td>\n",
              "      <td>1</td>\n",
              "      <td>Standard Triple Room</td>\n",
              "      <td>881.48</td>\n",
              "      <td>...</td>\n",
              "      <td>NaN</td>\n",
              "      <td>200</td>\n",
              "      <td>2</td>\n",
              "      <td>Tax 20%</td>\n",
              "      <td>0.0</td>\n",
              "      <td>media:M3diAproxy@209.242.219.141:80</td>\n",
              "      <td>Y</td>\n",
              "      <td>NaN</td>\n",
              "      <td>NaN</td>\n",
              "      <td>2019-10-13</td>\n",
              "    </tr>\n",
              "    <tr>\n",
              "      <th>4</th>\n",
              "      <td>50650318</td>\n",
              "      <td>7327094</td>\n",
              "      <td>7975</td>\n",
              "      <td>5</td>\n",
              "      <td>2019-10-12 15:47:02</td>\n",
              "      <td>2019-12-28</td>\n",
              "      <td>1</td>\n",
              "      <td>1</td>\n",
              "      <td>Standard Triple Room</td>\n",
              "      <td>897.53</td>\n",
              "      <td>...</td>\n",
              "      <td>NaN</td>\n",
              "      <td>200</td>\n",
              "      <td>2</td>\n",
              "      <td>VAT $ 179.51</td>\n",
              "      <td>0.0</td>\n",
              "      <td>media:M3diAproxy@209.242.219.141:80</td>\n",
              "      <td>Y</td>\n",
              "      <td>Free breakfast for {3}</td>\n",
              "      <td>NaN</td>\n",
              "      <td>2019-10-13</td>\n",
              "    </tr>\n",
              "  </tbody>\n",
              "</table>\n",
              "<p>5 rows × 30 columns</p>\n",
              "</div>\n",
              "    <div class=\"colab-df-buttons\">\n",
              "\n",
              "  <div class=\"colab-df-container\">\n",
              "    <button class=\"colab-df-convert\" onclick=\"convertToInteractive('df-85aa7e77-d69b-42ef-9014-46f1278ca1df')\"\n",
              "            title=\"Convert this dataframe to an interactive table.\"\n",
              "            style=\"display:none;\">\n",
              "\n",
              "  <svg xmlns=\"http://www.w3.org/2000/svg\" height=\"24px\" viewBox=\"0 -960 960 960\">\n",
              "    <path d=\"M120-120v-720h720v720H120Zm60-500h600v-160H180v160Zm220 220h160v-160H400v160Zm0 220h160v-160H400v160ZM180-400h160v-160H180v160Zm440 0h160v-160H620v160ZM180-180h160v-160H180v160Zm440 0h160v-160H620v160Z\"/>\n",
              "  </svg>\n",
              "    </button>\n",
              "\n",
              "  <style>\n",
              "    .colab-df-container {\n",
              "      display:flex;\n",
              "      gap: 12px;\n",
              "    }\n",
              "\n",
              "    .colab-df-convert {\n",
              "      background-color: #E8F0FE;\n",
              "      border: none;\n",
              "      border-radius: 50%;\n",
              "      cursor: pointer;\n",
              "      display: none;\n",
              "      fill: #1967D2;\n",
              "      height: 32px;\n",
              "      padding: 0 0 0 0;\n",
              "      width: 32px;\n",
              "    }\n",
              "\n",
              "    .colab-df-convert:hover {\n",
              "      background-color: #E2EBFA;\n",
              "      box-shadow: 0px 1px 2px rgba(60, 64, 67, 0.3), 0px 1px 3px 1px rgba(60, 64, 67, 0.15);\n",
              "      fill: #174EA6;\n",
              "    }\n",
              "\n",
              "    .colab-df-buttons div {\n",
              "      margin-bottom: 4px;\n",
              "    }\n",
              "\n",
              "    [theme=dark] .colab-df-convert {\n",
              "      background-color: #3B4455;\n",
              "      fill: #D2E3FC;\n",
              "    }\n",
              "\n",
              "    [theme=dark] .colab-df-convert:hover {\n",
              "      background-color: #434B5C;\n",
              "      box-shadow: 0px 1px 3px 1px rgba(0, 0, 0, 0.15);\n",
              "      filter: drop-shadow(0px 1px 2px rgba(0, 0, 0, 0.3));\n",
              "      fill: #FFFFFF;\n",
              "    }\n",
              "  </style>\n",
              "\n",
              "    <script>\n",
              "      const buttonEl =\n",
              "        document.querySelector('#df-85aa7e77-d69b-42ef-9014-46f1278ca1df button.colab-df-convert');\n",
              "      buttonEl.style.display =\n",
              "        google.colab.kernel.accessAllowed ? 'block' : 'none';\n",
              "\n",
              "      async function convertToInteractive(key) {\n",
              "        const element = document.querySelector('#df-85aa7e77-d69b-42ef-9014-46f1278ca1df');\n",
              "        const dataTable =\n",
              "          await google.colab.kernel.invokeFunction('convertToInteractive',\n",
              "                                                    [key], {});\n",
              "        if (!dataTable) return;\n",
              "\n",
              "        const docLinkHtml = 'Like what you see? Visit the ' +\n",
              "          '<a target=\"_blank\" href=https://colab.research.google.com/notebooks/data_table.ipynb>data table notebook</a>'\n",
              "          + ' to learn more about interactive tables.';\n",
              "        element.innerHTML = '';\n",
              "        dataTable['output_type'] = 'display_data';\n",
              "        await google.colab.output.renderOutput(dataTable, element);\n",
              "        const docLink = document.createElement('div');\n",
              "        docLink.innerHTML = docLinkHtml;\n",
              "        element.appendChild(docLink);\n",
              "      }\n",
              "    </script>\n",
              "  </div>\n",
              "\n",
              "\n",
              "<div id=\"df-47512911-34a6-40f9-b0c4-34bd43269ffe\">\n",
              "  <button class=\"colab-df-quickchart\" onclick=\"quickchart('df-47512911-34a6-40f9-b0c4-34bd43269ffe')\"\n",
              "            title=\"Suggest charts\"\n",
              "            style=\"display:none;\">\n",
              "\n",
              "<svg xmlns=\"http://www.w3.org/2000/svg\" height=\"24px\"viewBox=\"0 0 24 24\"\n",
              "     width=\"24px\">\n",
              "    <g>\n",
              "        <path d=\"M19 3H5c-1.1 0-2 .9-2 2v14c0 1.1.9 2 2 2h14c1.1 0 2-.9 2-2V5c0-1.1-.9-2-2-2zM9 17H7v-7h2v7zm4 0h-2V7h2v10zm4 0h-2v-4h2v4z\"/>\n",
              "    </g>\n",
              "</svg>\n",
              "  </button>\n",
              "\n",
              "<style>\n",
              "  .colab-df-quickchart {\n",
              "      --bg-color: #E8F0FE;\n",
              "      --fill-color: #1967D2;\n",
              "      --hover-bg-color: #E2EBFA;\n",
              "      --hover-fill-color: #174EA6;\n",
              "      --disabled-fill-color: #AAA;\n",
              "      --disabled-bg-color: #DDD;\n",
              "  }\n",
              "\n",
              "  [theme=dark] .colab-df-quickchart {\n",
              "      --bg-color: #3B4455;\n",
              "      --fill-color: #D2E3FC;\n",
              "      --hover-bg-color: #434B5C;\n",
              "      --hover-fill-color: #FFFFFF;\n",
              "      --disabled-bg-color: #3B4455;\n",
              "      --disabled-fill-color: #666;\n",
              "  }\n",
              "\n",
              "  .colab-df-quickchart {\n",
              "    background-color: var(--bg-color);\n",
              "    border: none;\n",
              "    border-radius: 50%;\n",
              "    cursor: pointer;\n",
              "    display: none;\n",
              "    fill: var(--fill-color);\n",
              "    height: 32px;\n",
              "    padding: 0;\n",
              "    width: 32px;\n",
              "  }\n",
              "\n",
              "  .colab-df-quickchart:hover {\n",
              "    background-color: var(--hover-bg-color);\n",
              "    box-shadow: 0 1px 2px rgba(60, 64, 67, 0.3), 0 1px 3px 1px rgba(60, 64, 67, 0.15);\n",
              "    fill: var(--button-hover-fill-color);\n",
              "  }\n",
              "\n",
              "  .colab-df-quickchart-complete:disabled,\n",
              "  .colab-df-quickchart-complete:disabled:hover {\n",
              "    background-color: var(--disabled-bg-color);\n",
              "    fill: var(--disabled-fill-color);\n",
              "    box-shadow: none;\n",
              "  }\n",
              "\n",
              "  .colab-df-spinner {\n",
              "    border: 2px solid var(--fill-color);\n",
              "    border-color: transparent;\n",
              "    border-bottom-color: var(--fill-color);\n",
              "    animation:\n",
              "      spin 1s steps(1) infinite;\n",
              "  }\n",
              "\n",
              "  @keyframes spin {\n",
              "    0% {\n",
              "      border-color: transparent;\n",
              "      border-bottom-color: var(--fill-color);\n",
              "      border-left-color: var(--fill-color);\n",
              "    }\n",
              "    20% {\n",
              "      border-color: transparent;\n",
              "      border-left-color: var(--fill-color);\n",
              "      border-top-color: var(--fill-color);\n",
              "    }\n",
              "    30% {\n",
              "      border-color: transparent;\n",
              "      border-left-color: var(--fill-color);\n",
              "      border-top-color: var(--fill-color);\n",
              "      border-right-color: var(--fill-color);\n",
              "    }\n",
              "    40% {\n",
              "      border-color: transparent;\n",
              "      border-right-color: var(--fill-color);\n",
              "      border-top-color: var(--fill-color);\n",
              "    }\n",
              "    60% {\n",
              "      border-color: transparent;\n",
              "      border-right-color: var(--fill-color);\n",
              "    }\n",
              "    80% {\n",
              "      border-color: transparent;\n",
              "      border-right-color: var(--fill-color);\n",
              "      border-bottom-color: var(--fill-color);\n",
              "    }\n",
              "    90% {\n",
              "      border-color: transparent;\n",
              "      border-bottom-color: var(--fill-color);\n",
              "    }\n",
              "  }\n",
              "</style>\n",
              "\n",
              "  <script>\n",
              "    async function quickchart(key) {\n",
              "      const quickchartButtonEl =\n",
              "        document.querySelector('#' + key + ' button');\n",
              "      quickchartButtonEl.disabled = true;  // To prevent multiple clicks.\n",
              "      quickchartButtonEl.classList.add('colab-df-spinner');\n",
              "      try {\n",
              "        const charts = await google.colab.kernel.invokeFunction(\n",
              "            'suggestCharts', [key], {});\n",
              "      } catch (error) {\n",
              "        console.error('Error during call to suggestCharts:', error);\n",
              "      }\n",
              "      quickchartButtonEl.classList.remove('colab-df-spinner');\n",
              "      quickchartButtonEl.classList.add('colab-df-quickchart-complete');\n",
              "    }\n",
              "    (() => {\n",
              "      let quickchartButtonEl =\n",
              "        document.querySelector('#df-47512911-34a6-40f9-b0c4-34bd43269ffe button');\n",
              "      quickchartButtonEl.style.display =\n",
              "        google.colab.kernel.accessAllowed ? 'block' : 'none';\n",
              "    })();\n",
              "  </script>\n",
              "</div>\n",
              "    </div>\n",
              "  </div>\n"
            ]
          },
          "metadata": {},
          "execution_count": 645
        }
      ],
      "source": [
        "df_price.head()"
      ]
    },
    {
      "cell_type": "code",
      "execution_count": 646,
      "id": "39704567",
      "metadata": {
        "id": "39704567",
        "outputId": "a150ff95-8eb1-4685-d79a-80cfe9e748e5",
        "colab": {
          "base_uri": "https://localhost:8080/",
          "height": 0
        }
      },
      "outputs": [
        {
          "output_type": "execute_result",
          "data": {
            "text/plain": [
              "(165873, 30)"
            ]
          },
          "metadata": {},
          "execution_count": 646
        }
      ],
      "source": [
        "df_price.shape"
      ]
    },
    {
      "cell_type": "code",
      "execution_count": 647,
      "id": "5e79f293",
      "metadata": {
        "id": "5e79f293",
        "outputId": "8841a09c-a7c7-471b-dc45-7e02860820b1",
        "colab": {
          "base_uri": "https://localhost:8080/",
          "height": 0
        }
      },
      "outputs": [
        {
          "output_type": "execute_result",
          "data": {
            "text/plain": [
              "Index(['id', 'refid', 'hotelcode', 'websitecode', 'dtcollected', 'ratedate',\n",
              "       'los', 'guests', 'roomtype', 'onsiterate', 'netrate', 'currency',\n",
              "       'ratedescription', 'ratetype', 'sourceurl', 'roomamenities',\n",
              "       'maxoccupancy', 'ispromo', 'closed', 'discount', 'promoname',\n",
              "       'status_code', 'taxstatus', 'taxtype', 'taxamount', 'proxyused',\n",
              "       'israteperstay', 'mealinclusiontype', 'hotelblock',\n",
              "       'input_dtcollected'],\n",
              "      dtype='object')"
            ]
          },
          "metadata": {},
          "execution_count": 647
        }
      ],
      "source": [
        "df_price.columns"
      ]
    },
    {
      "cell_type": "code",
      "execution_count": 648,
      "id": "bc360a8c",
      "metadata": {
        "id": "bc360a8c",
        "outputId": "fda9f1ca-8b6a-46e7-ad0b-1f1b322a75ae",
        "colab": {
          "base_uri": "https://localhost:8080/",
          "height": 0
        }
      },
      "outputs": [
        {
          "output_type": "stream",
          "name": "stdout",
          "text": [
            "<class 'pandas.core.frame.DataFrame'>\n",
            "RangeIndex: 165873 entries, 0 to 165872\n",
            "Data columns (total 30 columns):\n",
            " #   Column             Non-Null Count   Dtype  \n",
            "---  ------             --------------   -----  \n",
            " 0   id                 165873 non-null  int64  \n",
            " 1   refid              165873 non-null  int64  \n",
            " 2   hotelcode          165873 non-null  int64  \n",
            " 3   websitecode        165873 non-null  int64  \n",
            " 4   dtcollected        165873 non-null  object \n",
            " 5   ratedate           165873 non-null  object \n",
            " 6   los                165873 non-null  int64  \n",
            " 7   guests             165873 non-null  int64  \n",
            " 8   roomtype           165873 non-null  object \n",
            " 9   onsiterate         165873 non-null  float64\n",
            " 10  netrate            165873 non-null  float64\n",
            " 11  currency           165873 non-null  object \n",
            " 12  ratedescription    161054 non-null  object \n",
            " 13  ratetype           161054 non-null  object \n",
            " 14  sourceurl          165873 non-null  object \n",
            " 15  roomamenities      161054 non-null  object \n",
            " 16  maxoccupancy       165873 non-null  int64  \n",
            " 17  ispromo            165873 non-null  object \n",
            " 18  closed             165873 non-null  object \n",
            " 19  discount           165873 non-null  float64\n",
            " 20  promoname          3177 non-null    object \n",
            " 21  status_code        165873 non-null  int64  \n",
            " 22  taxstatus          165873 non-null  int64  \n",
            " 23  taxtype            157503 non-null  object \n",
            " 24  taxamount          165873 non-null  float64\n",
            " 25  proxyused          165873 non-null  object \n",
            " 26  israteperstay      165873 non-null  object \n",
            " 27  mealinclusiontype  97387 non-null   object \n",
            " 28  hotelblock         4819 non-null    object \n",
            " 29  input_dtcollected  165873 non-null  object \n",
            "dtypes: float64(4), int64(9), object(17)\n",
            "memory usage: 38.0+ MB\n"
          ]
        }
      ],
      "source": [
        "df_price.info()"
      ]
    },
    {
      "cell_type": "code",
      "execution_count": 649,
      "id": "517f84df",
      "metadata": {
        "id": "517f84df",
        "outputId": "10612658-654d-4685-c90c-93bc975d3efa",
        "colab": {
          "base_uri": "https://localhost:8080/",
          "height": 0
        }
      },
      "outputs": [
        {
          "output_type": "execute_result",
          "data": {
            "text/plain": [
              "id                        0\n",
              "refid                     0\n",
              "hotelcode                 0\n",
              "websitecode               0\n",
              "dtcollected               0\n",
              "ratedate                  0\n",
              "los                       0\n",
              "guests                    0\n",
              "roomtype                  0\n",
              "onsiterate                0\n",
              "netrate                   0\n",
              "currency                  0\n",
              "ratedescription        4819\n",
              "ratetype               4819\n",
              "sourceurl                 0\n",
              "roomamenities          4819\n",
              "maxoccupancy              0\n",
              "ispromo                   0\n",
              "closed                    0\n",
              "discount                  0\n",
              "promoname            162696\n",
              "status_code               0\n",
              "taxstatus                 0\n",
              "taxtype                8370\n",
              "taxamount                 0\n",
              "proxyused                 0\n",
              "israteperstay             0\n",
              "mealinclusiontype     68486\n",
              "hotelblock           161054\n",
              "input_dtcollected         0\n",
              "dtype: int64"
            ]
          },
          "metadata": {},
          "execution_count": 649
        }
      ],
      "source": [
        "df_price.isnull().sum()"
      ]
    },
    {
      "cell_type": "markdown",
      "id": "3d550d10",
      "metadata": {
        "id": "3d550d10"
      },
      "source": [
        "The data have some **null/missing** values on some columns. This can be bad because it may lead to data incompleteness, affecting the accuracy of recommendations and limiting the model's ability to understand user preferences. It can also affect , the subsequent analysis, and modeling procedures which cannot be conducted reliably and accurately."
      ]
    },
    {
      "cell_type": "code",
      "execution_count": 650,
      "id": "f56918cd",
      "metadata": {
        "id": "f56918cd",
        "outputId": "efb143bf-f075-4490-d1ff-fca8a9e6a3bb",
        "colab": {
          "base_uri": "https://localhost:8080/",
          "height": 0
        }
      },
      "outputs": [
        {
          "output_type": "execute_result",
          "data": {
            "text/plain": [
              "Sold out    4819\n",
              "Name: hotelblock, dtype: int64"
            ]
          },
          "metadata": {},
          "execution_count": 650
        }
      ],
      "source": [
        "df_price['hotelblock'].value_counts()"
      ]
    },
    {
      "cell_type": "markdown",
      "id": "8700dd3b",
      "metadata": {
        "id": "8700dd3b"
      },
      "source": [
        "We have the same value of hotelblock which is only 'Sold out' in the dataset. Our hypothesis is that the null value means that the hotel is not sold out (room available)."
      ]
    },
    {
      "cell_type": "code",
      "execution_count": 651,
      "id": "57b7b2bd",
      "metadata": {
        "id": "57b7b2bd",
        "outputId": "d3429887-5856-4bf5-fe11-65a9279dd0fe",
        "colab": {
          "base_uri": "https://localhost:8080/",
          "height": 0
        }
      },
      "outputs": [
        {
          "output_type": "execute_result",
          "data": {
            "text/plain": [
              "Free Breakfast                  46617\n",
              "Free breakfast for {2}          31757\n",
              "Free breakfast for {3}           5355\n",
              "Free Breakfast Dinner            4267\n",
              "Free breakfast for {4}           2460\n",
              "                                ...  \n",
              "Free breakfast for {12}             1\n",
              "Free breakfast for {11}             1\n",
              "Free breakfast for {10}             1\n",
              "Free breakfast for {9}              1\n",
              "Free Breakfast Welcome drink        1\n",
              "Name: mealinclusiontype, Length: 88, dtype: int64"
            ]
          },
          "metadata": {},
          "execution_count": 651
        }
      ],
      "source": [
        "df_price['mealinclusiontype'].value_counts()"
      ]
    },
    {
      "cell_type": "markdown",
      "id": "0bf3a567",
      "metadata": {
        "id": "0bf3a567"
      },
      "source": [
        "Hotels that have free breakfast. Our hypothesis is that the null value means do not have free breakfast."
      ]
    },
    {
      "cell_type": "code",
      "execution_count": 652,
      "id": "fbba2b15",
      "metadata": {
        "id": "fbba2b15",
        "outputId": "fc41bdfc-19b7-4b1d-f591-ebc7148e3f30",
        "colab": {
          "base_uri": "https://localhost:8080/",
          "height": 0
        }
      },
      "outputs": [
        {
          "output_type": "execute_result",
          "data": {
            "text/plain": [
              "Tax 20%                                                   21048\n",
              "Tax 10%                                                   16450\n",
              "Tax 7%                                                     3401\n",
              "Tax 6%                                                     1285\n",
              "Tax 8%                                                      996\n",
              "                                                          ...  \n",
              "VAT $ 10.48, Tourism Fee  (Pay at the property) $ 2.21        1\n",
              "VAT $ 10.11, Tourism Fee  (Pay at the property) $ 2.21        1\n",
              "VAT $ 42.35                                                   1\n",
              "VAT $ 10.49, Tourism Fee  (Pay at the property) $ 2.21        1\n",
              "City tax (Pay at the property) $ 1.49, VAT $ 91.37            1\n",
              "Name: taxtype, Length: 24188, dtype: int64"
            ]
          },
          "metadata": {},
          "execution_count": 652
        }
      ],
      "source": [
        "df_price['taxtype'].value_counts()"
      ]
    },
    {
      "cell_type": "markdown",
      "id": "4c82fab4",
      "metadata": {
        "id": "4c82fab4"
      },
      "source": [
        "information about the tax."
      ]
    },
    {
      "cell_type": "code",
      "execution_count": 653,
      "id": "546b09de",
      "metadata": {
        "id": "546b09de",
        "outputId": "1aa9f988-8179-4e2d-fa6e-5049190ec102",
        "colab": {
          "base_uri": "https://localhost:8080/",
          "height": 0
        }
      },
      "outputs": [
        {
          "output_type": "execute_result",
          "data": {
            "text/plain": [
              "Early Booking Saver. Rate includes 10% discount!    1034\n",
              "Limited time offer. Rate includes 20% discount!      638\n",
              "Early Booking Saver. Rate includes 15% discount!     351\n",
              "Early Booking Saver. Rate includes 20% discount!     311\n",
              "Limited time offer. Rate includes 15% discount!      193\n",
              "Limited time offer. Rate includes 10% discount!      165\n",
              "Early Booking Saver. Rate includes 30% discount!      65\n",
              "Limited time offer. Rate includes 5% discount!        65\n",
              "Expiring soon. Book Now!                              57\n",
              "Early Booking Saver. Rate includes 5% discount!       55\n",
              "Limited time offer. Rate includes 22% discount!       43\n",
              "Rate includes 12% discount!                           38\n",
              "Limited time offer. Book Now!                         24\n",
              "Limited time offer. Rate includes 30% discount!       21\n",
              "Early Booking Saver. Super Hot Deal                   19\n",
              "Limited time offer. Rate includes 3% discount!        18\n",
              "Limited time offer. Super Hot Deal                    15\n",
              "Early Booking Saver. Rate includes 12% discount!      14\n",
              "72 hr limited sale Super Hot Deal                      9\n",
              "Early Booking Saver. Rate includes 49% discount!       8\n",
              "Last Minute Special.\\n Super Hot Deal                  8\n",
              "Limited time offer. Rate includes 8% discount!         7\n",
              "72 hr limited sale Rate includes 20% discount!         7\n",
              "Weekend Special. Rate includes 15% discount!           5\n",
              "Limited time offer. Rate includes 47% discount!        3\n",
              "Super Saver                                            2\n",
              "Limited time offer. Rate includes 12% discount!        2\n",
              "Name: promoname, dtype: int64"
            ]
          },
          "metadata": {},
          "execution_count": 653
        }
      ],
      "source": [
        "df_price['promoname'].value_counts()"
      ]
    },
    {
      "cell_type": "markdown",
      "id": "56811276",
      "metadata": {
        "id": "56811276"
      },
      "source": [
        "We can see some keyword in 'promoname' column like **discount**, **Saver**, **offer**, and **deal**."
      ]
    },
    {
      "cell_type": "code",
      "execution_count": 654,
      "id": "cc3b8658",
      "metadata": {
        "id": "cc3b8658",
        "outputId": "daccc058-eeff-4e9b-d50c-f8b131dcd178",
        "colab": {
          "base_uri": "https://localhost:8080/",
          "height": 0
        }
      },
      "outputs": [
        {
          "output_type": "execute_result",
          "data": {
            "text/plain": [
              "Air conditioning: ;Free Wi-Fi in all rooms!: ;In-room safe box: ;Shower: ;TV: ;                                                                                                                                                                                                                                                                         15810\n",
              "Air conditioning: ;Free Wi-Fi in all rooms!: ;In-room safe box: ;Shower: ;Telephone: ;TV: ;                                                                                                                                                                                                                                                              2548\n",
              "Air conditioning: ;In-room safe box: ;Shower: ;TV: ;                                                                                                                                                                                                                                                                                                      674\n",
              "Air conditioning: ;Closet: ;Free Wi-Fi in all rooms!: ;In-room safe box: ;Ironing facilities: ;Shower: ;TV: ;                                                                                                                                                                                                                                             431\n",
              "Air conditioning: ;Free Wi-Fi in all rooms!: ;In-room safe box: ;Shower: ;TV [flat screen]: ;                                                                                                                                                                                                                                                             230\n",
              "                                                                                                                                                                                                                                                                                                                                                        ...  \n",
              "Air conditioning: ;Alarm clock: ;Carpeting: ;Closet: ;Coffee/tea maker: ;Desk: ;Fan: ;Free bottled water: ;Free Wi-Fi in all rooms!: ;Hair dryer: ;Heating: ;In-room safe box: ;Interconnecting room(s) available: ;Laptop safe box: ;Satellite/cable channels: ;Smoke detector: ;Sofa: ;Soundproofing: ;Telephone: ;Toiletries: ;Wake-up service: ;        1\n",
              "Air conditioning: ;Closet: ;Free Wi-Fi in all rooms!: ;Hair dryer: ;Heating: ;In-room safe box: ;Mini bar: ;TV [flat screen]: ;                                                                                                                                                                                                                             1\n",
              "Air conditioning: ;Closet: ;Clothes rack: ;Desk: ;Free Wi-Fi in all rooms!: ;Hair dryer: ;Heating: ;In-room safe box: ;TV [flat screen]: ;                                                                                                                                                                                                                  1\n",
              "Air conditioning: ;Closet: ;Clothes rack: ;Desk: ;Full kitchen: ;Hair dryer: ;Heating: ;In-room safe box: ;Ironing facilities: ;Linens: ;Microwave: ;Refrigerator: ;Satellite/cable channels: ;Seating area: ;Sofa: ;Toiletries: ;Towels: ;Washing machine: ;                                                                                               1\n",
              "Air conditioning: ;Carpeting: ;Closet: ;Coffee/tea maker: ;Free Wi-Fi in all rooms!: ;In-room safe box: ;Linens: ;Toiletries: ;Towels: ;TV: ;                                                                                                                                                                                                               1\n",
              "Name: roomamenities, Length: 22680, dtype: int64"
            ]
          },
          "metadata": {},
          "execution_count": 654
        }
      ],
      "source": [
        "df_price['roomamenities'].value_counts()"
      ]
    },
    {
      "cell_type": "code",
      "execution_count": 655,
      "id": "433d7091",
      "metadata": {
        "id": "433d7091",
        "outputId": "17e6651f-4ba7-4110-a568-9535cb47cebf",
        "colab": {
          "base_uri": "https://localhost:8080/",
          "height": 0
        }
      },
      "outputs": [
        {
          "output_type": "execute_result",
          "data": {
            "text/plain": [
              "Double Room                                                        8227\n",
              "Twin Room                                                          4459\n",
              "Single Room                                                        4260\n",
              "Standard Double Room                                               4151\n",
              "Triple Room                                                        3705\n",
              "                                                                   ... \n",
              "Double Room - Breakfast included                                      1\n",
              "Executive Club Family Room Non-Smoking                                1\n",
              "Executive King Room Non-Smoking                                       1\n",
              "Double Standard 3 Adults - Breakfast Included - Advance Booking       1\n",
              "1 Double Bed, 1 Single Bed, standard room                             1\n",
              "Name: roomtype, Length: 9121, dtype: int64"
            ]
          },
          "metadata": {},
          "execution_count": 655
        }
      ],
      "source": [
        "df_price['roomtype'].value_counts()"
      ]
    },
    {
      "cell_type": "code",
      "execution_count": 656,
      "id": "b4be2c70",
      "metadata": {
        "id": "b4be2c70",
        "outputId": "55540a2e-0976-4786-a4d4-09e423f4b1b9",
        "colab": {
          "base_uri": "https://localhost:8080/",
          "height": 0
        }
      },
      "outputs": [
        {
          "output_type": "execute_result",
          "data": {
            "text/plain": [
              "Free Wi-Fi, Extra low price! (non-refundable)                                                                             6470\n",
              "Free Wi-Fi, Cancellation policy                                                                                           3382\n",
              "Free Breakfast, Free Wi-Fi, Extra low price! (non-refundable)                                                             1373\n",
              "Free Breakfast, Free Wi-Fi, Cancellation policy                                                                           1354\n",
              "Shower, 1 double bed                                                                                                      1256\n",
              "                                                                                                                          ... \n",
              "Room size: 70 m²/753 ft², 2 bathrooms, Shower, Shared bathroom, Kitchenette, 2 bedrooms, 1 double bed or 2 single beds       1\n",
              "2 bathrooms, Shower, Kitchenette, 4 bedrooms, 1 single bed or 1 double bed or 1 double bed or 1 double bed                   1\n",
              "Room size: 24 m²/258 ft², Shower, 1 single bed and 1 queen bed or 3 single beds                                              1\n",
              "Room size: 50 m²/538 ft², Balcony/terrace, Shower, Kitchenette, 3 single beds or 2 sofa beds                                 1\n",
              "Room size: 15 m²/161 ft², Balcony/terrace, 2 single beds                                                                     1\n",
              "Name: ratedescription, Length: 13946, dtype: int64"
            ]
          },
          "metadata": {},
          "execution_count": 656
        }
      ],
      "source": [
        "df_price['ratedescription'].value_counts()"
      ]
    },
    {
      "cell_type": "code",
      "execution_count": 657,
      "id": "25cc12b5",
      "metadata": {
        "id": "25cc12b5",
        "outputId": "a5a287b8-5083-4872-adc8-83e6afce6ba2",
        "colab": {
          "base_uri": "https://localhost:8080/",
          "height": 0
        }
      },
      "outputs": [
        {
          "output_type": "execute_result",
          "data": {
            "text/plain": [
              "5    165873\n",
              "Name: websitecode, dtype: int64"
            ]
          },
          "metadata": {},
          "execution_count": 657
        }
      ],
      "source": [
        "df_price['websitecode'].value_counts()"
      ]
    },
    {
      "cell_type": "markdown",
      "id": "af1e08d8",
      "metadata": {
        "id": "af1e08d8"
      },
      "source": [
        "All of the hotel data came from the same website."
      ]
    },
    {
      "cell_type": "code",
      "execution_count": 658,
      "id": "31dd6e5a",
      "metadata": {
        "id": "31dd6e5a",
        "outputId": "ccf17396-8ce3-478b-dc9e-b338660f620c",
        "colab": {
          "base_uri": "https://localhost:8080/",
          "height": 0
        }
      },
      "outputs": [
        {
          "output_type": "execute_result",
          "data": {
            "text/plain": [
              "1    165873\n",
              "Name: los, dtype: int64"
            ]
          },
          "metadata": {},
          "execution_count": 658
        }
      ],
      "source": [
        "df_price['los'].value_counts()"
      ]
    },
    {
      "cell_type": "code",
      "execution_count": 659,
      "id": "4d39a177",
      "metadata": {
        "id": "4d39a177",
        "outputId": "f134455d-5943-40d9-f714-3bbbb6a67f26",
        "colab": {
          "base_uri": "https://localhost:8080/",
          "height": 0
        }
      },
      "outputs": [
        {
          "output_type": "execute_result",
          "data": {
            "text/plain": [
              "1    165873\n",
              "Name: guests, dtype: int64"
            ]
          },
          "metadata": {},
          "execution_count": 659
        }
      ],
      "source": [
        "df_price['guests'].value_counts()"
      ]
    },
    {
      "cell_type": "code",
      "execution_count": 660,
      "id": "65ee3e29",
      "metadata": {
        "id": "65ee3e29",
        "outputId": "da0e4a9a-b341-45cd-f477-13cabe34f316",
        "colab": {
          "base_uri": "https://localhost:8080/",
          "height": 0
        }
      },
      "outputs": [
        {
          "output_type": "execute_result",
          "data": {
            "text/plain": [
              "USD    165873\n",
              "Name: currency, dtype: int64"
            ]
          },
          "metadata": {},
          "execution_count": 660
        }
      ],
      "source": [
        "df_price['currency'].value_counts()"
      ]
    },
    {
      "cell_type": "code",
      "execution_count": 661,
      "id": "a9c8c7eb",
      "metadata": {
        "id": "a9c8c7eb",
        "outputId": "11724d62-a6ed-453a-924b-dddae8fac5dc",
        "colab": {
          "base_uri": "https://localhost:8080/",
          "height": 0
        }
      },
      "outputs": [
        {
          "output_type": "execute_result",
          "data": {
            "text/plain": [
              "2019    165873\n",
              "Name: year, dtype: int64"
            ]
          },
          "metadata": {},
          "execution_count": 661
        }
      ],
      "source": [
        "df_price['year'] = pd.to_datetime(df_price['dtcollected']).dt.year\n",
        "df_price['year'].value_counts()"
      ]
    },
    {
      "cell_type": "code",
      "execution_count": 662,
      "id": "04a774e5",
      "metadata": {
        "id": "04a774e5",
        "outputId": "0c4ceb33-fa52-4ca3-c995-69c15ae79fc1",
        "colab": {
          "base_uri": "https://localhost:8080/",
          "height": 0
        }
      },
      "outputs": [
        {
          "output_type": "execute_result",
          "data": {
            "text/plain": [
              "2019    165873\n",
              "Name: year_input, dtype: int64"
            ]
          },
          "metadata": {},
          "execution_count": 662
        }
      ],
      "source": [
        "df_price['year_input'] = pd.to_datetime(df_price['input_dtcollected']).dt.year\n",
        "df_price['year_input'].value_counts()"
      ]
    },
    {
      "cell_type": "code",
      "execution_count": 663,
      "id": "139b50ea",
      "metadata": {
        "id": "139b50ea",
        "outputId": "9480425b-b328-4c73-9445-43eacf25c639",
        "colab": {
          "base_uri": "https://localhost:8080/",
          "height": 0
        }
      },
      "outputs": [
        {
          "output_type": "execute_result",
          "data": {
            "text/plain": [
              "0.0    165873\n",
              "Name: taxamount, dtype: int64"
            ]
          },
          "metadata": {},
          "execution_count": 663
        }
      ],
      "source": [
        "df_price['taxamount'].value_counts()"
      ]
    },
    {
      "cell_type": "code",
      "execution_count": 664,
      "id": "f7c75f0c",
      "metadata": {
        "id": "f7c75f0c",
        "outputId": "ba7ccef5-589f-4912-949c-9e8f8ffc191f",
        "colab": {
          "base_uri": "https://localhost:8080/",
          "height": 487
        }
      },
      "outputs": [
        {
          "output_type": "execute_result",
          "data": {
            "text/plain": [
              "         id    refid  hotelcode              roomtype  onsiterate  netrate  \\\n",
              "0  50677497  8646773     634876           Double Room       82.36    87.84   \n",
              "1  50672149  6234691    8328096         Vacation Home      636.09     0.00   \n",
              "2  50643430  7015677    8323442         Vacation Home      591.74     0.00   \n",
              "3  50650317  7327094       7975  Standard Triple Room      881.48     0.00   \n",
              "4  50650318  7327094       7975  Standard Triple Room      897.53     0.00   \n",
              "\n",
              "                                     ratedescription  \\\n",
              "0       Room size: 15 m²/161 ft², Shower, 1 king bed   \n",
              "1  Shower, Kitchenette, 2 bedrooms, 1 double bed ...   \n",
              "2  Shower, Kitchenette, 2 bedrooms, 1 double bed ...   \n",
              "3    Room size: 20 m²/215 ft², Shower, 3 single beds   \n",
              "4    Room size: 20 m²/215 ft², Shower, 3 single beds   \n",
              "\n",
              "                            ratetype  \\\n",
              "0                Cancellation policy   \n",
              "1                Cancellation policy   \n",
              "2  Extra low price! (non-refundable)   \n",
              "3  Extra low price! (non-refundable)   \n",
              "4  Extra low price! (non-refundable)   \n",
              "\n",
              "                                       roomamenities  maxoccupancy ispromo  \\\n",
              "0  Air conditioning: ;Alarm clock: ;Carpeting: ;C...             1       Y   \n",
              "1  Air conditioning: ;Closet: ;Fireplace: ;Free W...             4       N   \n",
              "2  Air conditioning: ;Closet: ;Dishwasher: ;Firep...             4       N   \n",
              "3  Air conditioning: ;Clothes rack: ;Coffee/tea m...             1       N   \n",
              "4  Air conditioning: ;Clothes rack: ;Coffee/tea m...             3       N   \n",
              "\n",
              "  closed  discount promoname  status_code  taxstatus       taxtype  \\\n",
              "0      N      6.24       NaN          200          2           NaN   \n",
              "1      N      0.00       NaN          200          2           NaN   \n",
              "2      N      0.00       NaN          200          2           NaN   \n",
              "3      N      0.00       NaN          200          2       Tax 20%   \n",
              "4      N      0.00       NaN          200          2  VAT $ 179.51   \n",
              "\n",
              "  israteperstay       mealinclusiontype hotelblock  \n",
              "0             Y          Free Breakfast        NaN  \n",
              "1             Y                     NaN        NaN  \n",
              "2             Y                     NaN        NaN  \n",
              "3             Y                     NaN        NaN  \n",
              "4             Y  Free breakfast for {3}        NaN  "
            ],
            "text/html": [
              "\n",
              "  <div id=\"df-8a9bb4c9-a39b-4e55-9462-c724d91b20ed\" class=\"colab-df-container\">\n",
              "    <div>\n",
              "<style scoped>\n",
              "    .dataframe tbody tr th:only-of-type {\n",
              "        vertical-align: middle;\n",
              "    }\n",
              "\n",
              "    .dataframe tbody tr th {\n",
              "        vertical-align: top;\n",
              "    }\n",
              "\n",
              "    .dataframe thead th {\n",
              "        text-align: right;\n",
              "    }\n",
              "</style>\n",
              "<table border=\"1\" class=\"dataframe\">\n",
              "  <thead>\n",
              "    <tr style=\"text-align: right;\">\n",
              "      <th></th>\n",
              "      <th>id</th>\n",
              "      <th>refid</th>\n",
              "      <th>hotelcode</th>\n",
              "      <th>roomtype</th>\n",
              "      <th>onsiterate</th>\n",
              "      <th>netrate</th>\n",
              "      <th>ratedescription</th>\n",
              "      <th>ratetype</th>\n",
              "      <th>roomamenities</th>\n",
              "      <th>maxoccupancy</th>\n",
              "      <th>ispromo</th>\n",
              "      <th>closed</th>\n",
              "      <th>discount</th>\n",
              "      <th>promoname</th>\n",
              "      <th>status_code</th>\n",
              "      <th>taxstatus</th>\n",
              "      <th>taxtype</th>\n",
              "      <th>israteperstay</th>\n",
              "      <th>mealinclusiontype</th>\n",
              "      <th>hotelblock</th>\n",
              "    </tr>\n",
              "  </thead>\n",
              "  <tbody>\n",
              "    <tr>\n",
              "      <th>0</th>\n",
              "      <td>50677497</td>\n",
              "      <td>8646773</td>\n",
              "      <td>634876</td>\n",
              "      <td>Double Room</td>\n",
              "      <td>82.36</td>\n",
              "      <td>87.84</td>\n",
              "      <td>Room size: 15 m²/161 ft², Shower, 1 king bed</td>\n",
              "      <td>Cancellation policy</td>\n",
              "      <td>Air conditioning: ;Alarm clock: ;Carpeting: ;C...</td>\n",
              "      <td>1</td>\n",
              "      <td>Y</td>\n",
              "      <td>N</td>\n",
              "      <td>6.24</td>\n",
              "      <td>NaN</td>\n",
              "      <td>200</td>\n",
              "      <td>2</td>\n",
              "      <td>NaN</td>\n",
              "      <td>Y</td>\n",
              "      <td>Free Breakfast</td>\n",
              "      <td>NaN</td>\n",
              "    </tr>\n",
              "    <tr>\n",
              "      <th>1</th>\n",
              "      <td>50672149</td>\n",
              "      <td>6234691</td>\n",
              "      <td>8328096</td>\n",
              "      <td>Vacation Home</td>\n",
              "      <td>636.09</td>\n",
              "      <td>0.00</td>\n",
              "      <td>Shower, Kitchenette, 2 bedrooms, 1 double bed ...</td>\n",
              "      <td>Cancellation policy</td>\n",
              "      <td>Air conditioning: ;Closet: ;Fireplace: ;Free W...</td>\n",
              "      <td>4</td>\n",
              "      <td>N</td>\n",
              "      <td>N</td>\n",
              "      <td>0.00</td>\n",
              "      <td>NaN</td>\n",
              "      <td>200</td>\n",
              "      <td>2</td>\n",
              "      <td>NaN</td>\n",
              "      <td>Y</td>\n",
              "      <td>NaN</td>\n",
              "      <td>NaN</td>\n",
              "    </tr>\n",
              "    <tr>\n",
              "      <th>2</th>\n",
              "      <td>50643430</td>\n",
              "      <td>7015677</td>\n",
              "      <td>8323442</td>\n",
              "      <td>Vacation Home</td>\n",
              "      <td>591.74</td>\n",
              "      <td>0.00</td>\n",
              "      <td>Shower, Kitchenette, 2 bedrooms, 1 double bed ...</td>\n",
              "      <td>Extra low price! (non-refundable)</td>\n",
              "      <td>Air conditioning: ;Closet: ;Dishwasher: ;Firep...</td>\n",
              "      <td>4</td>\n",
              "      <td>N</td>\n",
              "      <td>N</td>\n",
              "      <td>0.00</td>\n",
              "      <td>NaN</td>\n",
              "      <td>200</td>\n",
              "      <td>2</td>\n",
              "      <td>NaN</td>\n",
              "      <td>Y</td>\n",
              "      <td>NaN</td>\n",
              "      <td>NaN</td>\n",
              "    </tr>\n",
              "    <tr>\n",
              "      <th>3</th>\n",
              "      <td>50650317</td>\n",
              "      <td>7327094</td>\n",
              "      <td>7975</td>\n",
              "      <td>Standard Triple Room</td>\n",
              "      <td>881.48</td>\n",
              "      <td>0.00</td>\n",
              "      <td>Room size: 20 m²/215 ft², Shower, 3 single beds</td>\n",
              "      <td>Extra low price! (non-refundable)</td>\n",
              "      <td>Air conditioning: ;Clothes rack: ;Coffee/tea m...</td>\n",
              "      <td>1</td>\n",
              "      <td>N</td>\n",
              "      <td>N</td>\n",
              "      <td>0.00</td>\n",
              "      <td>NaN</td>\n",
              "      <td>200</td>\n",
              "      <td>2</td>\n",
              "      <td>Tax 20%</td>\n",
              "      <td>Y</td>\n",
              "      <td>NaN</td>\n",
              "      <td>NaN</td>\n",
              "    </tr>\n",
              "    <tr>\n",
              "      <th>4</th>\n",
              "      <td>50650318</td>\n",
              "      <td>7327094</td>\n",
              "      <td>7975</td>\n",
              "      <td>Standard Triple Room</td>\n",
              "      <td>897.53</td>\n",
              "      <td>0.00</td>\n",
              "      <td>Room size: 20 m²/215 ft², Shower, 3 single beds</td>\n",
              "      <td>Extra low price! (non-refundable)</td>\n",
              "      <td>Air conditioning: ;Clothes rack: ;Coffee/tea m...</td>\n",
              "      <td>3</td>\n",
              "      <td>N</td>\n",
              "      <td>N</td>\n",
              "      <td>0.00</td>\n",
              "      <td>NaN</td>\n",
              "      <td>200</td>\n",
              "      <td>2</td>\n",
              "      <td>VAT $ 179.51</td>\n",
              "      <td>Y</td>\n",
              "      <td>Free breakfast for {3}</td>\n",
              "      <td>NaN</td>\n",
              "    </tr>\n",
              "  </tbody>\n",
              "</table>\n",
              "</div>\n",
              "    <div class=\"colab-df-buttons\">\n",
              "\n",
              "  <div class=\"colab-df-container\">\n",
              "    <button class=\"colab-df-convert\" onclick=\"convertToInteractive('df-8a9bb4c9-a39b-4e55-9462-c724d91b20ed')\"\n",
              "            title=\"Convert this dataframe to an interactive table.\"\n",
              "            style=\"display:none;\">\n",
              "\n",
              "  <svg xmlns=\"http://www.w3.org/2000/svg\" height=\"24px\" viewBox=\"0 -960 960 960\">\n",
              "    <path d=\"M120-120v-720h720v720H120Zm60-500h600v-160H180v160Zm220 220h160v-160H400v160Zm0 220h160v-160H400v160ZM180-400h160v-160H180v160Zm440 0h160v-160H620v160ZM180-180h160v-160H180v160Zm440 0h160v-160H620v160Z\"/>\n",
              "  </svg>\n",
              "    </button>\n",
              "\n",
              "  <style>\n",
              "    .colab-df-container {\n",
              "      display:flex;\n",
              "      gap: 12px;\n",
              "    }\n",
              "\n",
              "    .colab-df-convert {\n",
              "      background-color: #E8F0FE;\n",
              "      border: none;\n",
              "      border-radius: 50%;\n",
              "      cursor: pointer;\n",
              "      display: none;\n",
              "      fill: #1967D2;\n",
              "      height: 32px;\n",
              "      padding: 0 0 0 0;\n",
              "      width: 32px;\n",
              "    }\n",
              "\n",
              "    .colab-df-convert:hover {\n",
              "      background-color: #E2EBFA;\n",
              "      box-shadow: 0px 1px 2px rgba(60, 64, 67, 0.3), 0px 1px 3px 1px rgba(60, 64, 67, 0.15);\n",
              "      fill: #174EA6;\n",
              "    }\n",
              "\n",
              "    .colab-df-buttons div {\n",
              "      margin-bottom: 4px;\n",
              "    }\n",
              "\n",
              "    [theme=dark] .colab-df-convert {\n",
              "      background-color: #3B4455;\n",
              "      fill: #D2E3FC;\n",
              "    }\n",
              "\n",
              "    [theme=dark] .colab-df-convert:hover {\n",
              "      background-color: #434B5C;\n",
              "      box-shadow: 0px 1px 3px 1px rgba(0, 0, 0, 0.15);\n",
              "      filter: drop-shadow(0px 1px 2px rgba(0, 0, 0, 0.3));\n",
              "      fill: #FFFFFF;\n",
              "    }\n",
              "  </style>\n",
              "\n",
              "    <script>\n",
              "      const buttonEl =\n",
              "        document.querySelector('#df-8a9bb4c9-a39b-4e55-9462-c724d91b20ed button.colab-df-convert');\n",
              "      buttonEl.style.display =\n",
              "        google.colab.kernel.accessAllowed ? 'block' : 'none';\n",
              "\n",
              "      async function convertToInteractive(key) {\n",
              "        const element = document.querySelector('#df-8a9bb4c9-a39b-4e55-9462-c724d91b20ed');\n",
              "        const dataTable =\n",
              "          await google.colab.kernel.invokeFunction('convertToInteractive',\n",
              "                                                    [key], {});\n",
              "        if (!dataTable) return;\n",
              "\n",
              "        const docLinkHtml = 'Like what you see? Visit the ' +\n",
              "          '<a target=\"_blank\" href=https://colab.research.google.com/notebooks/data_table.ipynb>data table notebook</a>'\n",
              "          + ' to learn more about interactive tables.';\n",
              "        element.innerHTML = '';\n",
              "        dataTable['output_type'] = 'display_data';\n",
              "        await google.colab.output.renderOutput(dataTable, element);\n",
              "        const docLink = document.createElement('div');\n",
              "        docLink.innerHTML = docLinkHtml;\n",
              "        element.appendChild(docLink);\n",
              "      }\n",
              "    </script>\n",
              "  </div>\n",
              "\n",
              "\n",
              "<div id=\"df-eb8e1d47-60eb-466c-8e6a-7fefdd67539c\">\n",
              "  <button class=\"colab-df-quickchart\" onclick=\"quickchart('df-eb8e1d47-60eb-466c-8e6a-7fefdd67539c')\"\n",
              "            title=\"Suggest charts\"\n",
              "            style=\"display:none;\">\n",
              "\n",
              "<svg xmlns=\"http://www.w3.org/2000/svg\" height=\"24px\"viewBox=\"0 0 24 24\"\n",
              "     width=\"24px\">\n",
              "    <g>\n",
              "        <path d=\"M19 3H5c-1.1 0-2 .9-2 2v14c0 1.1.9 2 2 2h14c1.1 0 2-.9 2-2V5c0-1.1-.9-2-2-2zM9 17H7v-7h2v7zm4 0h-2V7h2v10zm4 0h-2v-4h2v4z\"/>\n",
              "    </g>\n",
              "</svg>\n",
              "  </button>\n",
              "\n",
              "<style>\n",
              "  .colab-df-quickchart {\n",
              "      --bg-color: #E8F0FE;\n",
              "      --fill-color: #1967D2;\n",
              "      --hover-bg-color: #E2EBFA;\n",
              "      --hover-fill-color: #174EA6;\n",
              "      --disabled-fill-color: #AAA;\n",
              "      --disabled-bg-color: #DDD;\n",
              "  }\n",
              "\n",
              "  [theme=dark] .colab-df-quickchart {\n",
              "      --bg-color: #3B4455;\n",
              "      --fill-color: #D2E3FC;\n",
              "      --hover-bg-color: #434B5C;\n",
              "      --hover-fill-color: #FFFFFF;\n",
              "      --disabled-bg-color: #3B4455;\n",
              "      --disabled-fill-color: #666;\n",
              "  }\n",
              "\n",
              "  .colab-df-quickchart {\n",
              "    background-color: var(--bg-color);\n",
              "    border: none;\n",
              "    border-radius: 50%;\n",
              "    cursor: pointer;\n",
              "    display: none;\n",
              "    fill: var(--fill-color);\n",
              "    height: 32px;\n",
              "    padding: 0;\n",
              "    width: 32px;\n",
              "  }\n",
              "\n",
              "  .colab-df-quickchart:hover {\n",
              "    background-color: var(--hover-bg-color);\n",
              "    box-shadow: 0 1px 2px rgba(60, 64, 67, 0.3), 0 1px 3px 1px rgba(60, 64, 67, 0.15);\n",
              "    fill: var(--button-hover-fill-color);\n",
              "  }\n",
              "\n",
              "  .colab-df-quickchart-complete:disabled,\n",
              "  .colab-df-quickchart-complete:disabled:hover {\n",
              "    background-color: var(--disabled-bg-color);\n",
              "    fill: var(--disabled-fill-color);\n",
              "    box-shadow: none;\n",
              "  }\n",
              "\n",
              "  .colab-df-spinner {\n",
              "    border: 2px solid var(--fill-color);\n",
              "    border-color: transparent;\n",
              "    border-bottom-color: var(--fill-color);\n",
              "    animation:\n",
              "      spin 1s steps(1) infinite;\n",
              "  }\n",
              "\n",
              "  @keyframes spin {\n",
              "    0% {\n",
              "      border-color: transparent;\n",
              "      border-bottom-color: var(--fill-color);\n",
              "      border-left-color: var(--fill-color);\n",
              "    }\n",
              "    20% {\n",
              "      border-color: transparent;\n",
              "      border-left-color: var(--fill-color);\n",
              "      border-top-color: var(--fill-color);\n",
              "    }\n",
              "    30% {\n",
              "      border-color: transparent;\n",
              "      border-left-color: var(--fill-color);\n",
              "      border-top-color: var(--fill-color);\n",
              "      border-right-color: var(--fill-color);\n",
              "    }\n",
              "    40% {\n",
              "      border-color: transparent;\n",
              "      border-right-color: var(--fill-color);\n",
              "      border-top-color: var(--fill-color);\n",
              "    }\n",
              "    60% {\n",
              "      border-color: transparent;\n",
              "      border-right-color: var(--fill-color);\n",
              "    }\n",
              "    80% {\n",
              "      border-color: transparent;\n",
              "      border-right-color: var(--fill-color);\n",
              "      border-bottom-color: var(--fill-color);\n",
              "    }\n",
              "    90% {\n",
              "      border-color: transparent;\n",
              "      border-bottom-color: var(--fill-color);\n",
              "    }\n",
              "  }\n",
              "</style>\n",
              "\n",
              "  <script>\n",
              "    async function quickchart(key) {\n",
              "      const quickchartButtonEl =\n",
              "        document.querySelector('#' + key + ' button');\n",
              "      quickchartButtonEl.disabled = true;  // To prevent multiple clicks.\n",
              "      quickchartButtonEl.classList.add('colab-df-spinner');\n",
              "      try {\n",
              "        const charts = await google.colab.kernel.invokeFunction(\n",
              "            'suggestCharts', [key], {});\n",
              "      } catch (error) {\n",
              "        console.error('Error during call to suggestCharts:', error);\n",
              "      }\n",
              "      quickchartButtonEl.classList.remove('colab-df-spinner');\n",
              "      quickchartButtonEl.classList.add('colab-df-quickchart-complete');\n",
              "    }\n",
              "    (() => {\n",
              "      let quickchartButtonEl =\n",
              "        document.querySelector('#df-eb8e1d47-60eb-466c-8e6a-7fefdd67539c button');\n",
              "      quickchartButtonEl.style.display =\n",
              "        google.colab.kernel.accessAllowed ? 'block' : 'none';\n",
              "    })();\n",
              "  </script>\n",
              "</div>\n",
              "    </div>\n",
              "  </div>\n"
            ]
          },
          "metadata": {},
          "execution_count": 664
        }
      ],
      "source": [
        "drop = ['websitecode', 'los', 'guests', 'currency', 'dtcollected', 'input_dtcollected', 'year', 'year_input', 'ratedate', 'sourceurl', 'proxyused', 'taxamount']\n",
        "df_price_drop = df_price.drop(columns=drop)\n",
        "df_price_drop.head()"
      ]
    },
    {
      "cell_type": "code",
      "execution_count": 665,
      "id": "42f860f8",
      "metadata": {
        "id": "42f860f8",
        "outputId": "b9efed23-8de9-47e4-9c76-bd57d061c7dd",
        "colab": {
          "base_uri": "https://localhost:8080/",
          "height": 0
        }
      },
      "outputs": [
        {
          "output_type": "stream",
          "name": "stdout",
          "text": [
            "<class 'pandas.core.frame.DataFrame'>\n",
            "RangeIndex: 165873 entries, 0 to 165872\n",
            "Data columns (total 20 columns):\n",
            " #   Column             Non-Null Count   Dtype  \n",
            "---  ------             --------------   -----  \n",
            " 0   id                 165873 non-null  int64  \n",
            " 1   refid              165873 non-null  int64  \n",
            " 2   hotelcode          165873 non-null  int64  \n",
            " 3   roomtype           165873 non-null  object \n",
            " 4   onsiterate         165873 non-null  float64\n",
            " 5   netrate            165873 non-null  float64\n",
            " 6   ratedescription    161054 non-null  object \n",
            " 7   ratetype           161054 non-null  object \n",
            " 8   roomamenities      161054 non-null  object \n",
            " 9   maxoccupancy       165873 non-null  int64  \n",
            " 10  ispromo            165873 non-null  object \n",
            " 11  closed             165873 non-null  object \n",
            " 12  discount           165873 non-null  float64\n",
            " 13  promoname          3177 non-null    object \n",
            " 14  status_code        165873 non-null  int64  \n",
            " 15  taxstatus          165873 non-null  int64  \n",
            " 16  taxtype            157503 non-null  object \n",
            " 17  israteperstay      165873 non-null  object \n",
            " 18  mealinclusiontype  97387 non-null   object \n",
            " 19  hotelblock         4819 non-null    object \n",
            "dtypes: float64(3), int64(6), object(11)\n",
            "memory usage: 25.3+ MB\n"
          ]
        }
      ],
      "source": [
        "df_price_drop.info()"
      ]
    },
    {
      "cell_type": "code",
      "execution_count": 666,
      "id": "2ae0f9d7",
      "metadata": {
        "id": "2ae0f9d7",
        "outputId": "b3c71ee9-2084-43e2-e56a-8d2f27c19941",
        "colab": {
          "base_uri": "https://localhost:8080/",
          "height": 0
        }
      },
      "outputs": [
        {
          "output_type": "execute_result",
          "data": {
            "text/plain": [
              "id                        0\n",
              "refid                     0\n",
              "hotelcode                 0\n",
              "roomtype                  0\n",
              "onsiterate                0\n",
              "netrate                   0\n",
              "ratedescription        4819\n",
              "ratetype               4819\n",
              "roomamenities          4819\n",
              "maxoccupancy              0\n",
              "ispromo                   0\n",
              "closed                    0\n",
              "discount                  0\n",
              "promoname            162696\n",
              "status_code               0\n",
              "taxstatus                 0\n",
              "taxtype                8370\n",
              "israteperstay             0\n",
              "mealinclusiontype     68486\n",
              "hotelblock           161054\n",
              "dtype: int64"
            ]
          },
          "metadata": {},
          "execution_count": 666
        }
      ],
      "source": [
        "df_price_drop.isnull().sum()"
      ]
    },
    {
      "cell_type": "code",
      "execution_count": 667,
      "id": "fb68c965",
      "metadata": {
        "id": "fb68c965",
        "outputId": "2e95da31-75ad-44b7-c73f-7895a37d1172",
        "colab": {
          "base_uri": "https://localhost:8080/",
          "height": 0
        }
      },
      "outputs": [
        {
          "output_type": "execute_result",
          "data": {
            "text/plain": [
              "200    161054\n",
              "201      4819\n",
              "Name: status_code, dtype: int64"
            ]
          },
          "metadata": {},
          "execution_count": 667
        }
      ],
      "source": [
        "df_price_drop['status_code'].value_counts()"
      ]
    },
    {
      "cell_type": "code",
      "execution_count": 668,
      "id": "b9b216c0",
      "metadata": {
        "id": "b9b216c0",
        "outputId": "a4d7daa8-c33e-49f9-a3c7-f94ad6152929",
        "colab": {
          "base_uri": "https://localhost:8080/",
          "height": 0
        }
      },
      "outputs": [
        {
          "output_type": "execute_result",
          "data": {
            "text/plain": [
              " 2    161054\n",
              "-1      4819\n",
              "Name: taxstatus, dtype: int64"
            ]
          },
          "metadata": {},
          "execution_count": 668
        }
      ],
      "source": [
        "df_price_drop['taxstatus'].value_counts()"
      ]
    },
    {
      "cell_type": "code",
      "execution_count": 669,
      "id": "0e524de7",
      "metadata": {
        "id": "0e524de7",
        "outputId": "f96a3da2-75a8-4b23-e5e9-458404c55ebb",
        "colab": {
          "base_uri": "https://localhost:8080/",
          "height": 0
        }
      },
      "outputs": [
        {
          "output_type": "execute_result",
          "data": {
            "text/plain": [
              "Y    161054\n",
              "N      4819\n",
              "Name: israteperstay, dtype: int64"
            ]
          },
          "metadata": {},
          "execution_count": 669
        }
      ],
      "source": [
        "df_price_drop['israteperstay'].value_counts()"
      ]
    },
    {
      "cell_type": "code",
      "execution_count": 670,
      "id": "c33f0ada",
      "metadata": {
        "id": "c33f0ada",
        "outputId": "f71fb333-676e-4cc3-8f52-834b1403f4f0",
        "colab": {
          "base_uri": "https://localhost:8080/",
          "height": 0
        }
      },
      "outputs": [
        {
          "output_type": "execute_result",
          "data": {
            "text/plain": [
              "0.00     101055\n",
              "75.00      1406\n",
              "77.50       170\n",
              "8.04         72\n",
              "18.26        59\n",
              "          ...  \n",
              "63.37         1\n",
              "83.02         1\n",
              "62.33         1\n",
              "82.46         1\n",
              "83.58         1\n",
              "Name: discount, Length: 8258, dtype: int64"
            ]
          },
          "metadata": {},
          "execution_count": 670
        }
      ],
      "source": [
        "df_price_drop['discount'].value_counts()"
      ]
    },
    {
      "cell_type": "code",
      "execution_count": 671,
      "id": "b0672057",
      "metadata": {
        "id": "b0672057",
        "outputId": "5ea13019-f89f-4f9f-82ac-c9213aa7a58f",
        "colab": {
          "base_uri": "https://localhost:8080/",
          "height": 0
        }
      },
      "outputs": [
        {
          "output_type": "execute_result",
          "data": {
            "text/plain": [
              "N    100211\n",
              "Y     65662\n",
              "Name: ispromo, dtype: int64"
            ]
          },
          "metadata": {},
          "execution_count": 671
        }
      ],
      "source": [
        "df_price_drop['ispromo'].value_counts()"
      ]
    },
    {
      "cell_type": "code",
      "execution_count": 672,
      "id": "a6b105c2",
      "metadata": {
        "id": "a6b105c2",
        "outputId": "bddfd479-fd6e-4e80-aa93-cdd838381f98",
        "colab": {
          "base_uri": "https://localhost:8080/",
          "height": 0
        }
      },
      "outputs": [
        {
          "output_type": "execute_result",
          "data": {
            "text/plain": [
              "N    161054\n",
              "Y      4819\n",
              "Name: closed, dtype: int64"
            ]
          },
          "metadata": {},
          "execution_count": 672
        }
      ],
      "source": [
        "df_price_drop['closed'].value_counts()"
      ]
    },
    {
      "cell_type": "code",
      "execution_count": 673,
      "id": "04f1cbab",
      "metadata": {
        "id": "04f1cbab",
        "outputId": "9de325b9-db55-450c-8506-2fdb0486166f",
        "colab": {
          "base_uri": "https://localhost:8080/",
          "height": 0
        }
      },
      "outputs": [
        {
          "output_type": "execute_result",
          "data": {
            "text/plain": [
              "0.00      101055\n",
              "253.42       313\n",
              "221.02       310\n",
              "552.55       275\n",
              "331.53       232\n",
              "           ...  \n",
              "202.09         1\n",
              "151.93         1\n",
              "373.40         1\n",
              "147.22         1\n",
              "841.58         1\n",
              "Name: netrate, Length: 8446, dtype: int64"
            ]
          },
          "metadata": {},
          "execution_count": 673
        }
      ],
      "source": [
        "df_price_drop['netrate'].value_counts()"
      ]
    },
    {
      "cell_type": "code",
      "execution_count": 674,
      "id": "f108a78f",
      "metadata": {
        "id": "f108a78f",
        "outputId": "61bb09e4-07eb-4753-a617-a491da7e5986",
        "colab": {
          "base_uri": "https://localhost:8080/",
          "height": 0
        }
      },
      "outputs": [
        {
          "output_type": "execute_result",
          "data": {
            "text/plain": [
              "0.00      4819\n",
              "95.03      971\n",
              "104.54     970\n",
              "89.75      901\n",
              "79.19      787\n",
              "          ... \n",
              "405.09       1\n",
              "433.32       1\n",
              "396.69       1\n",
              "391.08       1\n",
              "903.57       1\n",
              "Name: onsiterate, Length: 23796, dtype: int64"
            ]
          },
          "metadata": {},
          "execution_count": 674
        }
      ],
      "source": [
        "df_price_drop['onsiterate'].value_counts()"
      ]
    },
    {
      "cell_type": "code",
      "execution_count": 675,
      "id": "bd5418e5",
      "metadata": {
        "id": "bd5418e5",
        "outputId": "0d3da1b6-7412-4eef-d18b-5f8c5fb7ee75",
        "colab": {
          "base_uri": "https://localhost:8080/",
          "height": 0
        }
      },
      "outputs": [
        {
          "output_type": "stream",
          "name": "stdout",
          "text": [
            "Count Closed: 4819\n"
          ]
        }
      ],
      "source": [
        "result_closed = df_price_drop[(df_price_drop['closed'] == 'Y') &\n",
        "                              (df_price_drop['ratetype'].isnull()) &\n",
        "                              (df_price_drop['ratedescription'].isnull()) &\n",
        "                              (df_price_drop['roomamenities'].isnull()) &\n",
        "                              (df_price_drop['hotelblock'] == 'Sold out') &\n",
        "                              (df_price_drop['israteperstay'] == 'N') &\n",
        "                              (df_price_drop['taxstatus'] == -1) &\n",
        "                              (df_price_drop['status_code'] == 201) &\n",
        "                              (df_price_drop['onsiterate'] == 0.00)]\n",
        "count_closed = result_closed.shape[0]\n",
        "print(f\"Count Closed: {count_closed}\")"
      ]
    },
    {
      "cell_type": "markdown",
      "source": [
        "We got an amount of 4819 records of Count Closed which indicates that these 4819 records are the rooms of hotels which are already closed, we validate them by combining and counting the amount of **closed**, **ratetype**, **ratedescription**, **roomamenities**, **hotelblock**, **israteperstay**, **taxstatus**, **statuscode**, and **onsiterate** which all of the columns give the same amount of 4819 records with a certain **anomaly** values."
      ],
      "metadata": {
        "id": "OcNNM2QmnflZ"
      },
      "id": "OcNNM2QmnflZ"
    },
    {
      "cell_type": "code",
      "execution_count": 676,
      "id": "ac0cacb2",
      "metadata": {
        "id": "ac0cacb2",
        "outputId": "1ed00bea-bd0b-4ce0-d0e5-b9337083c3f3",
        "colab": {
          "base_uri": "https://localhost:8080/",
          "height": 0
        }
      },
      "outputs": [
        {
          "output_type": "execute_result",
          "data": {
            "text/plain": [
              "1     86020\n",
              "2     61683\n",
              "3     11042\n",
              "4      5525\n",
              "5       755\n",
              "6       566\n",
              "8       134\n",
              "7        70\n",
              "10       30\n",
              "9        15\n",
              "12       11\n",
              "13        5\n",
              "14        4\n",
              "11        4\n",
              "15        3\n",
              "17        2\n",
              "24        2\n",
              "16        1\n",
              "20        1\n",
              "Name: maxoccupancy, dtype: int64"
            ]
          },
          "metadata": {},
          "execution_count": 676
        }
      ],
      "source": [
        "df_price_drop['maxoccupancy'].value_counts()"
      ]
    },
    {
      "cell_type": "code",
      "execution_count": 677,
      "id": "7a02d918",
      "metadata": {
        "id": "7a02d918",
        "outputId": "82b970ba-6402-44a8-f921-9c9c78e9a219",
        "colab": {
          "base_uri": "https://localhost:8080/",
          "height": 0
        }
      },
      "outputs": [
        {
          "output_type": "stream",
          "name": "stdout",
          "text": [
            "<class 'pandas.core.frame.DataFrame'>\n",
            "Int64Index: 161054 entries, 0 to 165872\n",
            "Data columns (total 20 columns):\n",
            " #   Column             Non-Null Count   Dtype  \n",
            "---  ------             --------------   -----  \n",
            " 0   id                 161054 non-null  int64  \n",
            " 1   refid              161054 non-null  int64  \n",
            " 2   hotelcode          161054 non-null  int64  \n",
            " 3   roomtype           161054 non-null  object \n",
            " 4   onsiterate         161054 non-null  float64\n",
            " 5   netrate            161054 non-null  float64\n",
            " 6   ratedescription    161054 non-null  object \n",
            " 7   ratetype           161054 non-null  object \n",
            " 8   roomamenities      161054 non-null  object \n",
            " 9   maxoccupancy       161054 non-null  int64  \n",
            " 10  ispromo            161054 non-null  object \n",
            " 11  closed             161054 non-null  object \n",
            " 12  discount           161054 non-null  float64\n",
            " 13  promoname          3177 non-null    object \n",
            " 14  status_code        161054 non-null  int64  \n",
            " 15  taxstatus          161054 non-null  int64  \n",
            " 16  taxtype            157503 non-null  object \n",
            " 17  israteperstay      161054 non-null  object \n",
            " 18  mealinclusiontype  97387 non-null   object \n",
            " 19  hotelblock         0 non-null       object \n",
            "dtypes: float64(3), int64(6), object(11)\n",
            "memory usage: 25.8+ MB\n"
          ]
        }
      ],
      "source": [
        "df_price_drop.dropna(subset=['roomamenities', 'ratedescription', 'ratetype'], inplace=True)\n",
        "df_price_drop.info()"
      ]
    },
    {
      "cell_type": "markdown",
      "id": "a7d34261",
      "metadata": {
        "id": "a7d34261"
      },
      "source": [
        "We drop the NULL Values in roomamenities, ratedescription and ratetype because the hotel with those NULL Values is Sold Out already."
      ]
    },
    {
      "cell_type": "code",
      "execution_count": 678,
      "id": "f5d654f5",
      "metadata": {
        "id": "f5d654f5"
      },
      "outputs": [],
      "source": [
        "price_to_drop = ['id', 'refid', 'hotelblock']\n",
        "df_price_drop = df_price_drop.drop(columns=price_to_drop, axis=1)"
      ]
    },
    {
      "cell_type": "code",
      "execution_count": 679,
      "id": "1216e4bf",
      "metadata": {
        "id": "1216e4bf",
        "outputId": "558e9a3d-e744-437a-e666-829239116076",
        "colab": {
          "base_uri": "https://localhost:8080/",
          "height": 328
        }
      },
      "outputs": [
        {
          "output_type": "execute_result",
          "data": {
            "text/plain": [
              "   hotelcode              roomtype  onsiterate  netrate  \\\n",
              "0     634876           Double Room       82.36    87.84   \n",
              "1    8328096         Vacation Home      636.09     0.00   \n",
              "2    8323442         Vacation Home      591.74     0.00   \n",
              "3       7975  Standard Triple Room      881.48     0.00   \n",
              "4       7975  Standard Triple Room      897.53     0.00   \n",
              "\n",
              "                                     ratedescription  \\\n",
              "0       Room size: 15 m²/161 ft², Shower, 1 king bed   \n",
              "1  Shower, Kitchenette, 2 bedrooms, 1 double bed ...   \n",
              "2  Shower, Kitchenette, 2 bedrooms, 1 double bed ...   \n",
              "3    Room size: 20 m²/215 ft², Shower, 3 single beds   \n",
              "4    Room size: 20 m²/215 ft², Shower, 3 single beds   \n",
              "\n",
              "                            ratetype  \\\n",
              "0                Cancellation policy   \n",
              "1                Cancellation policy   \n",
              "2  Extra low price! (non-refundable)   \n",
              "3  Extra low price! (non-refundable)   \n",
              "4  Extra low price! (non-refundable)   \n",
              "\n",
              "                                       roomamenities  maxoccupancy ispromo  \\\n",
              "0  Air conditioning: ;Alarm clock: ;Carpeting: ;C...             1       Y   \n",
              "1  Air conditioning: ;Closet: ;Fireplace: ;Free W...             4       N   \n",
              "2  Air conditioning: ;Closet: ;Dishwasher: ;Firep...             4       N   \n",
              "3  Air conditioning: ;Clothes rack: ;Coffee/tea m...             1       N   \n",
              "4  Air conditioning: ;Clothes rack: ;Coffee/tea m...             3       N   \n",
              "\n",
              "  closed  discount promoname  status_code  taxstatus       taxtype  \\\n",
              "0      N      6.24       NaN          200          2           NaN   \n",
              "1      N      0.00       NaN          200          2           NaN   \n",
              "2      N      0.00       NaN          200          2           NaN   \n",
              "3      N      0.00       NaN          200          2       Tax 20%   \n",
              "4      N      0.00       NaN          200          2  VAT $ 179.51   \n",
              "\n",
              "  israteperstay       mealinclusiontype  \n",
              "0             Y          Free Breakfast  \n",
              "1             Y                     NaN  \n",
              "2             Y                     NaN  \n",
              "3             Y                     NaN  \n",
              "4             Y  Free breakfast for {3}  "
            ],
            "text/html": [
              "\n",
              "  <div id=\"df-b7c83954-eb88-438e-939f-fbaf8a60101b\" class=\"colab-df-container\">\n",
              "    <div>\n",
              "<style scoped>\n",
              "    .dataframe tbody tr th:only-of-type {\n",
              "        vertical-align: middle;\n",
              "    }\n",
              "\n",
              "    .dataframe tbody tr th {\n",
              "        vertical-align: top;\n",
              "    }\n",
              "\n",
              "    .dataframe thead th {\n",
              "        text-align: right;\n",
              "    }\n",
              "</style>\n",
              "<table border=\"1\" class=\"dataframe\">\n",
              "  <thead>\n",
              "    <tr style=\"text-align: right;\">\n",
              "      <th></th>\n",
              "      <th>hotelcode</th>\n",
              "      <th>roomtype</th>\n",
              "      <th>onsiterate</th>\n",
              "      <th>netrate</th>\n",
              "      <th>ratedescription</th>\n",
              "      <th>ratetype</th>\n",
              "      <th>roomamenities</th>\n",
              "      <th>maxoccupancy</th>\n",
              "      <th>ispromo</th>\n",
              "      <th>closed</th>\n",
              "      <th>discount</th>\n",
              "      <th>promoname</th>\n",
              "      <th>status_code</th>\n",
              "      <th>taxstatus</th>\n",
              "      <th>taxtype</th>\n",
              "      <th>israteperstay</th>\n",
              "      <th>mealinclusiontype</th>\n",
              "    </tr>\n",
              "  </thead>\n",
              "  <tbody>\n",
              "    <tr>\n",
              "      <th>0</th>\n",
              "      <td>634876</td>\n",
              "      <td>Double Room</td>\n",
              "      <td>82.36</td>\n",
              "      <td>87.84</td>\n",
              "      <td>Room size: 15 m²/161 ft², Shower, 1 king bed</td>\n",
              "      <td>Cancellation policy</td>\n",
              "      <td>Air conditioning: ;Alarm clock: ;Carpeting: ;C...</td>\n",
              "      <td>1</td>\n",
              "      <td>Y</td>\n",
              "      <td>N</td>\n",
              "      <td>6.24</td>\n",
              "      <td>NaN</td>\n",
              "      <td>200</td>\n",
              "      <td>2</td>\n",
              "      <td>NaN</td>\n",
              "      <td>Y</td>\n",
              "      <td>Free Breakfast</td>\n",
              "    </tr>\n",
              "    <tr>\n",
              "      <th>1</th>\n",
              "      <td>8328096</td>\n",
              "      <td>Vacation Home</td>\n",
              "      <td>636.09</td>\n",
              "      <td>0.00</td>\n",
              "      <td>Shower, Kitchenette, 2 bedrooms, 1 double bed ...</td>\n",
              "      <td>Cancellation policy</td>\n",
              "      <td>Air conditioning: ;Closet: ;Fireplace: ;Free W...</td>\n",
              "      <td>4</td>\n",
              "      <td>N</td>\n",
              "      <td>N</td>\n",
              "      <td>0.00</td>\n",
              "      <td>NaN</td>\n",
              "      <td>200</td>\n",
              "      <td>2</td>\n",
              "      <td>NaN</td>\n",
              "      <td>Y</td>\n",
              "      <td>NaN</td>\n",
              "    </tr>\n",
              "    <tr>\n",
              "      <th>2</th>\n",
              "      <td>8323442</td>\n",
              "      <td>Vacation Home</td>\n",
              "      <td>591.74</td>\n",
              "      <td>0.00</td>\n",
              "      <td>Shower, Kitchenette, 2 bedrooms, 1 double bed ...</td>\n",
              "      <td>Extra low price! (non-refundable)</td>\n",
              "      <td>Air conditioning: ;Closet: ;Dishwasher: ;Firep...</td>\n",
              "      <td>4</td>\n",
              "      <td>N</td>\n",
              "      <td>N</td>\n",
              "      <td>0.00</td>\n",
              "      <td>NaN</td>\n",
              "      <td>200</td>\n",
              "      <td>2</td>\n",
              "      <td>NaN</td>\n",
              "      <td>Y</td>\n",
              "      <td>NaN</td>\n",
              "    </tr>\n",
              "    <tr>\n",
              "      <th>3</th>\n",
              "      <td>7975</td>\n",
              "      <td>Standard Triple Room</td>\n",
              "      <td>881.48</td>\n",
              "      <td>0.00</td>\n",
              "      <td>Room size: 20 m²/215 ft², Shower, 3 single beds</td>\n",
              "      <td>Extra low price! (non-refundable)</td>\n",
              "      <td>Air conditioning: ;Clothes rack: ;Coffee/tea m...</td>\n",
              "      <td>1</td>\n",
              "      <td>N</td>\n",
              "      <td>N</td>\n",
              "      <td>0.00</td>\n",
              "      <td>NaN</td>\n",
              "      <td>200</td>\n",
              "      <td>2</td>\n",
              "      <td>Tax 20%</td>\n",
              "      <td>Y</td>\n",
              "      <td>NaN</td>\n",
              "    </tr>\n",
              "    <tr>\n",
              "      <th>4</th>\n",
              "      <td>7975</td>\n",
              "      <td>Standard Triple Room</td>\n",
              "      <td>897.53</td>\n",
              "      <td>0.00</td>\n",
              "      <td>Room size: 20 m²/215 ft², Shower, 3 single beds</td>\n",
              "      <td>Extra low price! (non-refundable)</td>\n",
              "      <td>Air conditioning: ;Clothes rack: ;Coffee/tea m...</td>\n",
              "      <td>3</td>\n",
              "      <td>N</td>\n",
              "      <td>N</td>\n",
              "      <td>0.00</td>\n",
              "      <td>NaN</td>\n",
              "      <td>200</td>\n",
              "      <td>2</td>\n",
              "      <td>VAT $ 179.51</td>\n",
              "      <td>Y</td>\n",
              "      <td>Free breakfast for {3}</td>\n",
              "    </tr>\n",
              "  </tbody>\n",
              "</table>\n",
              "</div>\n",
              "    <div class=\"colab-df-buttons\">\n",
              "\n",
              "  <div class=\"colab-df-container\">\n",
              "    <button class=\"colab-df-convert\" onclick=\"convertToInteractive('df-b7c83954-eb88-438e-939f-fbaf8a60101b')\"\n",
              "            title=\"Convert this dataframe to an interactive table.\"\n",
              "            style=\"display:none;\">\n",
              "\n",
              "  <svg xmlns=\"http://www.w3.org/2000/svg\" height=\"24px\" viewBox=\"0 -960 960 960\">\n",
              "    <path d=\"M120-120v-720h720v720H120Zm60-500h600v-160H180v160Zm220 220h160v-160H400v160Zm0 220h160v-160H400v160ZM180-400h160v-160H180v160Zm440 0h160v-160H620v160ZM180-180h160v-160H180v160Zm440 0h160v-160H620v160Z\"/>\n",
              "  </svg>\n",
              "    </button>\n",
              "\n",
              "  <style>\n",
              "    .colab-df-container {\n",
              "      display:flex;\n",
              "      gap: 12px;\n",
              "    }\n",
              "\n",
              "    .colab-df-convert {\n",
              "      background-color: #E8F0FE;\n",
              "      border: none;\n",
              "      border-radius: 50%;\n",
              "      cursor: pointer;\n",
              "      display: none;\n",
              "      fill: #1967D2;\n",
              "      height: 32px;\n",
              "      padding: 0 0 0 0;\n",
              "      width: 32px;\n",
              "    }\n",
              "\n",
              "    .colab-df-convert:hover {\n",
              "      background-color: #E2EBFA;\n",
              "      box-shadow: 0px 1px 2px rgba(60, 64, 67, 0.3), 0px 1px 3px 1px rgba(60, 64, 67, 0.15);\n",
              "      fill: #174EA6;\n",
              "    }\n",
              "\n",
              "    .colab-df-buttons div {\n",
              "      margin-bottom: 4px;\n",
              "    }\n",
              "\n",
              "    [theme=dark] .colab-df-convert {\n",
              "      background-color: #3B4455;\n",
              "      fill: #D2E3FC;\n",
              "    }\n",
              "\n",
              "    [theme=dark] .colab-df-convert:hover {\n",
              "      background-color: #434B5C;\n",
              "      box-shadow: 0px 1px 3px 1px rgba(0, 0, 0, 0.15);\n",
              "      filter: drop-shadow(0px 1px 2px rgba(0, 0, 0, 0.3));\n",
              "      fill: #FFFFFF;\n",
              "    }\n",
              "  </style>\n",
              "\n",
              "    <script>\n",
              "      const buttonEl =\n",
              "        document.querySelector('#df-b7c83954-eb88-438e-939f-fbaf8a60101b button.colab-df-convert');\n",
              "      buttonEl.style.display =\n",
              "        google.colab.kernel.accessAllowed ? 'block' : 'none';\n",
              "\n",
              "      async function convertToInteractive(key) {\n",
              "        const element = document.querySelector('#df-b7c83954-eb88-438e-939f-fbaf8a60101b');\n",
              "        const dataTable =\n",
              "          await google.colab.kernel.invokeFunction('convertToInteractive',\n",
              "                                                    [key], {});\n",
              "        if (!dataTable) return;\n",
              "\n",
              "        const docLinkHtml = 'Like what you see? Visit the ' +\n",
              "          '<a target=\"_blank\" href=https://colab.research.google.com/notebooks/data_table.ipynb>data table notebook</a>'\n",
              "          + ' to learn more about interactive tables.';\n",
              "        element.innerHTML = '';\n",
              "        dataTable['output_type'] = 'display_data';\n",
              "        await google.colab.output.renderOutput(dataTable, element);\n",
              "        const docLink = document.createElement('div');\n",
              "        docLink.innerHTML = docLinkHtml;\n",
              "        element.appendChild(docLink);\n",
              "      }\n",
              "    </script>\n",
              "  </div>\n",
              "\n",
              "\n",
              "<div id=\"df-e0991561-5208-4d17-b879-00815b58327a\">\n",
              "  <button class=\"colab-df-quickchart\" onclick=\"quickchart('df-e0991561-5208-4d17-b879-00815b58327a')\"\n",
              "            title=\"Suggest charts\"\n",
              "            style=\"display:none;\">\n",
              "\n",
              "<svg xmlns=\"http://www.w3.org/2000/svg\" height=\"24px\"viewBox=\"0 0 24 24\"\n",
              "     width=\"24px\">\n",
              "    <g>\n",
              "        <path d=\"M19 3H5c-1.1 0-2 .9-2 2v14c0 1.1.9 2 2 2h14c1.1 0 2-.9 2-2V5c0-1.1-.9-2-2-2zM9 17H7v-7h2v7zm4 0h-2V7h2v10zm4 0h-2v-4h2v4z\"/>\n",
              "    </g>\n",
              "</svg>\n",
              "  </button>\n",
              "\n",
              "<style>\n",
              "  .colab-df-quickchart {\n",
              "      --bg-color: #E8F0FE;\n",
              "      --fill-color: #1967D2;\n",
              "      --hover-bg-color: #E2EBFA;\n",
              "      --hover-fill-color: #174EA6;\n",
              "      --disabled-fill-color: #AAA;\n",
              "      --disabled-bg-color: #DDD;\n",
              "  }\n",
              "\n",
              "  [theme=dark] .colab-df-quickchart {\n",
              "      --bg-color: #3B4455;\n",
              "      --fill-color: #D2E3FC;\n",
              "      --hover-bg-color: #434B5C;\n",
              "      --hover-fill-color: #FFFFFF;\n",
              "      --disabled-bg-color: #3B4455;\n",
              "      --disabled-fill-color: #666;\n",
              "  }\n",
              "\n",
              "  .colab-df-quickchart {\n",
              "    background-color: var(--bg-color);\n",
              "    border: none;\n",
              "    border-radius: 50%;\n",
              "    cursor: pointer;\n",
              "    display: none;\n",
              "    fill: var(--fill-color);\n",
              "    height: 32px;\n",
              "    padding: 0;\n",
              "    width: 32px;\n",
              "  }\n",
              "\n",
              "  .colab-df-quickchart:hover {\n",
              "    background-color: var(--hover-bg-color);\n",
              "    box-shadow: 0 1px 2px rgba(60, 64, 67, 0.3), 0 1px 3px 1px rgba(60, 64, 67, 0.15);\n",
              "    fill: var(--button-hover-fill-color);\n",
              "  }\n",
              "\n",
              "  .colab-df-quickchart-complete:disabled,\n",
              "  .colab-df-quickchart-complete:disabled:hover {\n",
              "    background-color: var(--disabled-bg-color);\n",
              "    fill: var(--disabled-fill-color);\n",
              "    box-shadow: none;\n",
              "  }\n",
              "\n",
              "  .colab-df-spinner {\n",
              "    border: 2px solid var(--fill-color);\n",
              "    border-color: transparent;\n",
              "    border-bottom-color: var(--fill-color);\n",
              "    animation:\n",
              "      spin 1s steps(1) infinite;\n",
              "  }\n",
              "\n",
              "  @keyframes spin {\n",
              "    0% {\n",
              "      border-color: transparent;\n",
              "      border-bottom-color: var(--fill-color);\n",
              "      border-left-color: var(--fill-color);\n",
              "    }\n",
              "    20% {\n",
              "      border-color: transparent;\n",
              "      border-left-color: var(--fill-color);\n",
              "      border-top-color: var(--fill-color);\n",
              "    }\n",
              "    30% {\n",
              "      border-color: transparent;\n",
              "      border-left-color: var(--fill-color);\n",
              "      border-top-color: var(--fill-color);\n",
              "      border-right-color: var(--fill-color);\n",
              "    }\n",
              "    40% {\n",
              "      border-color: transparent;\n",
              "      border-right-color: var(--fill-color);\n",
              "      border-top-color: var(--fill-color);\n",
              "    }\n",
              "    60% {\n",
              "      border-color: transparent;\n",
              "      border-right-color: var(--fill-color);\n",
              "    }\n",
              "    80% {\n",
              "      border-color: transparent;\n",
              "      border-right-color: var(--fill-color);\n",
              "      border-bottom-color: var(--fill-color);\n",
              "    }\n",
              "    90% {\n",
              "      border-color: transparent;\n",
              "      border-bottom-color: var(--fill-color);\n",
              "    }\n",
              "  }\n",
              "</style>\n",
              "\n",
              "  <script>\n",
              "    async function quickchart(key) {\n",
              "      const quickchartButtonEl =\n",
              "        document.querySelector('#' + key + ' button');\n",
              "      quickchartButtonEl.disabled = true;  // To prevent multiple clicks.\n",
              "      quickchartButtonEl.classList.add('colab-df-spinner');\n",
              "      try {\n",
              "        const charts = await google.colab.kernel.invokeFunction(\n",
              "            'suggestCharts', [key], {});\n",
              "      } catch (error) {\n",
              "        console.error('Error during call to suggestCharts:', error);\n",
              "      }\n",
              "      quickchartButtonEl.classList.remove('colab-df-spinner');\n",
              "      quickchartButtonEl.classList.add('colab-df-quickchart-complete');\n",
              "    }\n",
              "    (() => {\n",
              "      let quickchartButtonEl =\n",
              "        document.querySelector('#df-e0991561-5208-4d17-b879-00815b58327a button');\n",
              "      quickchartButtonEl.style.display =\n",
              "        google.colab.kernel.accessAllowed ? 'block' : 'none';\n",
              "    })();\n",
              "  </script>\n",
              "</div>\n",
              "    </div>\n",
              "  </div>\n"
            ]
          },
          "metadata": {},
          "execution_count": 679
        }
      ],
      "source": [
        "df_price_drop.head()"
      ]
    },
    {
      "cell_type": "code",
      "execution_count": 680,
      "id": "6369bf91",
      "metadata": {
        "id": "6369bf91",
        "outputId": "eb46194f-fe73-4d49-9d23-0c9b4827fa99",
        "colab": {
          "base_uri": "https://localhost:8080/",
          "height": 0
        }
      },
      "outputs": [
        {
          "output_type": "stream",
          "name": "stdout",
          "text": [
            "<class 'pandas.core.frame.DataFrame'>\n",
            "Int64Index: 161054 entries, 0 to 165872\n",
            "Data columns (total 17 columns):\n",
            " #   Column             Non-Null Count   Dtype  \n",
            "---  ------             --------------   -----  \n",
            " 0   hotelcode          161054 non-null  int64  \n",
            " 1   roomtype           161054 non-null  object \n",
            " 2   onsiterate         161054 non-null  float64\n",
            " 3   netrate            161054 non-null  float64\n",
            " 4   ratedescription    161054 non-null  object \n",
            " 5   ratetype           161054 non-null  object \n",
            " 6   roomamenities      161054 non-null  object \n",
            " 7   maxoccupancy       161054 non-null  int64  \n",
            " 8   ispromo            161054 non-null  object \n",
            " 9   closed             161054 non-null  object \n",
            " 10  discount           161054 non-null  float64\n",
            " 11  promoname          3177 non-null    object \n",
            " 12  status_code        161054 non-null  int64  \n",
            " 13  taxstatus          161054 non-null  int64  \n",
            " 14  taxtype            157503 non-null  object \n",
            " 15  israteperstay      161054 non-null  object \n",
            " 16  mealinclusiontype  97387 non-null   object \n",
            "dtypes: float64(3), int64(4), object(10)\n",
            "memory usage: 22.1+ MB\n"
          ]
        }
      ],
      "source": [
        "df_price_drop.info()"
      ]
    },
    {
      "cell_type": "markdown",
      "id": "c3b44a5b",
      "metadata": {
        "id": "c3b44a5b"
      },
      "source": [
        "Fill NULL Values"
      ]
    },
    {
      "cell_type": "code",
      "execution_count": 681,
      "id": "b1731c3e",
      "metadata": {
        "id": "b1731c3e"
      },
      "outputs": [],
      "source": [
        "df_price_drop['promoname'].fillna('none', inplace=True)\n",
        "df_price_drop['mealinclusiontype'].fillna('No meal', inplace=True)\n",
        "df_price_drop['taxtype'].fillna('none', inplace=True)"
      ]
    },
    {
      "cell_type": "code",
      "execution_count": 682,
      "id": "e9236b6a",
      "metadata": {
        "id": "e9236b6a",
        "outputId": "8bfeeda5-c9af-4908-eeb0-1ee23d09c05f",
        "colab": {
          "base_uri": "https://localhost:8080/",
          "height": 328
        }
      },
      "outputs": [
        {
          "output_type": "execute_result",
          "data": {
            "text/plain": [
              "   hotelcode              roomtype  onsiterate  netrate  \\\n",
              "0     634876           Double Room       82.36    87.84   \n",
              "1    8328096         Vacation Home      636.09     0.00   \n",
              "2    8323442         Vacation Home      591.74     0.00   \n",
              "3       7975  Standard Triple Room      881.48     0.00   \n",
              "4       7975  Standard Triple Room      897.53     0.00   \n",
              "\n",
              "                                     ratedescription  \\\n",
              "0       Room size: 15 m²/161 ft², Shower, 1 king bed   \n",
              "1  Shower, Kitchenette, 2 bedrooms, 1 double bed ...   \n",
              "2  Shower, Kitchenette, 2 bedrooms, 1 double bed ...   \n",
              "3    Room size: 20 m²/215 ft², Shower, 3 single beds   \n",
              "4    Room size: 20 m²/215 ft², Shower, 3 single beds   \n",
              "\n",
              "                            ratetype  \\\n",
              "0                Cancellation policy   \n",
              "1                Cancellation policy   \n",
              "2  Extra low price! (non-refundable)   \n",
              "3  Extra low price! (non-refundable)   \n",
              "4  Extra low price! (non-refundable)   \n",
              "\n",
              "                                       roomamenities  maxoccupancy ispromo  \\\n",
              "0  Air conditioning: ;Alarm clock: ;Carpeting: ;C...             1       Y   \n",
              "1  Air conditioning: ;Closet: ;Fireplace: ;Free W...             4       N   \n",
              "2  Air conditioning: ;Closet: ;Dishwasher: ;Firep...             4       N   \n",
              "3  Air conditioning: ;Clothes rack: ;Coffee/tea m...             1       N   \n",
              "4  Air conditioning: ;Clothes rack: ;Coffee/tea m...             3       N   \n",
              "\n",
              "  closed  discount promoname  status_code  taxstatus       taxtype  \\\n",
              "0      N      6.24      none          200          2          none   \n",
              "1      N      0.00      none          200          2          none   \n",
              "2      N      0.00      none          200          2          none   \n",
              "3      N      0.00      none          200          2       Tax 20%   \n",
              "4      N      0.00      none          200          2  VAT $ 179.51   \n",
              "\n",
              "  israteperstay       mealinclusiontype  \n",
              "0             Y          Free Breakfast  \n",
              "1             Y                 No meal  \n",
              "2             Y                 No meal  \n",
              "3             Y                 No meal  \n",
              "4             Y  Free breakfast for {3}  "
            ],
            "text/html": [
              "\n",
              "  <div id=\"df-4000f635-424b-408d-bafb-80bf3bf71951\" class=\"colab-df-container\">\n",
              "    <div>\n",
              "<style scoped>\n",
              "    .dataframe tbody tr th:only-of-type {\n",
              "        vertical-align: middle;\n",
              "    }\n",
              "\n",
              "    .dataframe tbody tr th {\n",
              "        vertical-align: top;\n",
              "    }\n",
              "\n",
              "    .dataframe thead th {\n",
              "        text-align: right;\n",
              "    }\n",
              "</style>\n",
              "<table border=\"1\" class=\"dataframe\">\n",
              "  <thead>\n",
              "    <tr style=\"text-align: right;\">\n",
              "      <th></th>\n",
              "      <th>hotelcode</th>\n",
              "      <th>roomtype</th>\n",
              "      <th>onsiterate</th>\n",
              "      <th>netrate</th>\n",
              "      <th>ratedescription</th>\n",
              "      <th>ratetype</th>\n",
              "      <th>roomamenities</th>\n",
              "      <th>maxoccupancy</th>\n",
              "      <th>ispromo</th>\n",
              "      <th>closed</th>\n",
              "      <th>discount</th>\n",
              "      <th>promoname</th>\n",
              "      <th>status_code</th>\n",
              "      <th>taxstatus</th>\n",
              "      <th>taxtype</th>\n",
              "      <th>israteperstay</th>\n",
              "      <th>mealinclusiontype</th>\n",
              "    </tr>\n",
              "  </thead>\n",
              "  <tbody>\n",
              "    <tr>\n",
              "      <th>0</th>\n",
              "      <td>634876</td>\n",
              "      <td>Double Room</td>\n",
              "      <td>82.36</td>\n",
              "      <td>87.84</td>\n",
              "      <td>Room size: 15 m²/161 ft², Shower, 1 king bed</td>\n",
              "      <td>Cancellation policy</td>\n",
              "      <td>Air conditioning: ;Alarm clock: ;Carpeting: ;C...</td>\n",
              "      <td>1</td>\n",
              "      <td>Y</td>\n",
              "      <td>N</td>\n",
              "      <td>6.24</td>\n",
              "      <td>none</td>\n",
              "      <td>200</td>\n",
              "      <td>2</td>\n",
              "      <td>none</td>\n",
              "      <td>Y</td>\n",
              "      <td>Free Breakfast</td>\n",
              "    </tr>\n",
              "    <tr>\n",
              "      <th>1</th>\n",
              "      <td>8328096</td>\n",
              "      <td>Vacation Home</td>\n",
              "      <td>636.09</td>\n",
              "      <td>0.00</td>\n",
              "      <td>Shower, Kitchenette, 2 bedrooms, 1 double bed ...</td>\n",
              "      <td>Cancellation policy</td>\n",
              "      <td>Air conditioning: ;Closet: ;Fireplace: ;Free W...</td>\n",
              "      <td>4</td>\n",
              "      <td>N</td>\n",
              "      <td>N</td>\n",
              "      <td>0.00</td>\n",
              "      <td>none</td>\n",
              "      <td>200</td>\n",
              "      <td>2</td>\n",
              "      <td>none</td>\n",
              "      <td>Y</td>\n",
              "      <td>No meal</td>\n",
              "    </tr>\n",
              "    <tr>\n",
              "      <th>2</th>\n",
              "      <td>8323442</td>\n",
              "      <td>Vacation Home</td>\n",
              "      <td>591.74</td>\n",
              "      <td>0.00</td>\n",
              "      <td>Shower, Kitchenette, 2 bedrooms, 1 double bed ...</td>\n",
              "      <td>Extra low price! (non-refundable)</td>\n",
              "      <td>Air conditioning: ;Closet: ;Dishwasher: ;Firep...</td>\n",
              "      <td>4</td>\n",
              "      <td>N</td>\n",
              "      <td>N</td>\n",
              "      <td>0.00</td>\n",
              "      <td>none</td>\n",
              "      <td>200</td>\n",
              "      <td>2</td>\n",
              "      <td>none</td>\n",
              "      <td>Y</td>\n",
              "      <td>No meal</td>\n",
              "    </tr>\n",
              "    <tr>\n",
              "      <th>3</th>\n",
              "      <td>7975</td>\n",
              "      <td>Standard Triple Room</td>\n",
              "      <td>881.48</td>\n",
              "      <td>0.00</td>\n",
              "      <td>Room size: 20 m²/215 ft², Shower, 3 single beds</td>\n",
              "      <td>Extra low price! (non-refundable)</td>\n",
              "      <td>Air conditioning: ;Clothes rack: ;Coffee/tea m...</td>\n",
              "      <td>1</td>\n",
              "      <td>N</td>\n",
              "      <td>N</td>\n",
              "      <td>0.00</td>\n",
              "      <td>none</td>\n",
              "      <td>200</td>\n",
              "      <td>2</td>\n",
              "      <td>Tax 20%</td>\n",
              "      <td>Y</td>\n",
              "      <td>No meal</td>\n",
              "    </tr>\n",
              "    <tr>\n",
              "      <th>4</th>\n",
              "      <td>7975</td>\n",
              "      <td>Standard Triple Room</td>\n",
              "      <td>897.53</td>\n",
              "      <td>0.00</td>\n",
              "      <td>Room size: 20 m²/215 ft², Shower, 3 single beds</td>\n",
              "      <td>Extra low price! (non-refundable)</td>\n",
              "      <td>Air conditioning: ;Clothes rack: ;Coffee/tea m...</td>\n",
              "      <td>3</td>\n",
              "      <td>N</td>\n",
              "      <td>N</td>\n",
              "      <td>0.00</td>\n",
              "      <td>none</td>\n",
              "      <td>200</td>\n",
              "      <td>2</td>\n",
              "      <td>VAT $ 179.51</td>\n",
              "      <td>Y</td>\n",
              "      <td>Free breakfast for {3}</td>\n",
              "    </tr>\n",
              "  </tbody>\n",
              "</table>\n",
              "</div>\n",
              "    <div class=\"colab-df-buttons\">\n",
              "\n",
              "  <div class=\"colab-df-container\">\n",
              "    <button class=\"colab-df-convert\" onclick=\"convertToInteractive('df-4000f635-424b-408d-bafb-80bf3bf71951')\"\n",
              "            title=\"Convert this dataframe to an interactive table.\"\n",
              "            style=\"display:none;\">\n",
              "\n",
              "  <svg xmlns=\"http://www.w3.org/2000/svg\" height=\"24px\" viewBox=\"0 -960 960 960\">\n",
              "    <path d=\"M120-120v-720h720v720H120Zm60-500h600v-160H180v160Zm220 220h160v-160H400v160Zm0 220h160v-160H400v160ZM180-400h160v-160H180v160Zm440 0h160v-160H620v160ZM180-180h160v-160H180v160Zm440 0h160v-160H620v160Z\"/>\n",
              "  </svg>\n",
              "    </button>\n",
              "\n",
              "  <style>\n",
              "    .colab-df-container {\n",
              "      display:flex;\n",
              "      gap: 12px;\n",
              "    }\n",
              "\n",
              "    .colab-df-convert {\n",
              "      background-color: #E8F0FE;\n",
              "      border: none;\n",
              "      border-radius: 50%;\n",
              "      cursor: pointer;\n",
              "      display: none;\n",
              "      fill: #1967D2;\n",
              "      height: 32px;\n",
              "      padding: 0 0 0 0;\n",
              "      width: 32px;\n",
              "    }\n",
              "\n",
              "    .colab-df-convert:hover {\n",
              "      background-color: #E2EBFA;\n",
              "      box-shadow: 0px 1px 2px rgba(60, 64, 67, 0.3), 0px 1px 3px 1px rgba(60, 64, 67, 0.15);\n",
              "      fill: #174EA6;\n",
              "    }\n",
              "\n",
              "    .colab-df-buttons div {\n",
              "      margin-bottom: 4px;\n",
              "    }\n",
              "\n",
              "    [theme=dark] .colab-df-convert {\n",
              "      background-color: #3B4455;\n",
              "      fill: #D2E3FC;\n",
              "    }\n",
              "\n",
              "    [theme=dark] .colab-df-convert:hover {\n",
              "      background-color: #434B5C;\n",
              "      box-shadow: 0px 1px 3px 1px rgba(0, 0, 0, 0.15);\n",
              "      filter: drop-shadow(0px 1px 2px rgba(0, 0, 0, 0.3));\n",
              "      fill: #FFFFFF;\n",
              "    }\n",
              "  </style>\n",
              "\n",
              "    <script>\n",
              "      const buttonEl =\n",
              "        document.querySelector('#df-4000f635-424b-408d-bafb-80bf3bf71951 button.colab-df-convert');\n",
              "      buttonEl.style.display =\n",
              "        google.colab.kernel.accessAllowed ? 'block' : 'none';\n",
              "\n",
              "      async function convertToInteractive(key) {\n",
              "        const element = document.querySelector('#df-4000f635-424b-408d-bafb-80bf3bf71951');\n",
              "        const dataTable =\n",
              "          await google.colab.kernel.invokeFunction('convertToInteractive',\n",
              "                                                    [key], {});\n",
              "        if (!dataTable) return;\n",
              "\n",
              "        const docLinkHtml = 'Like what you see? Visit the ' +\n",
              "          '<a target=\"_blank\" href=https://colab.research.google.com/notebooks/data_table.ipynb>data table notebook</a>'\n",
              "          + ' to learn more about interactive tables.';\n",
              "        element.innerHTML = '';\n",
              "        dataTable['output_type'] = 'display_data';\n",
              "        await google.colab.output.renderOutput(dataTable, element);\n",
              "        const docLink = document.createElement('div');\n",
              "        docLink.innerHTML = docLinkHtml;\n",
              "        element.appendChild(docLink);\n",
              "      }\n",
              "    </script>\n",
              "  </div>\n",
              "\n",
              "\n",
              "<div id=\"df-719415ff-52f1-4d64-ac9d-c5ea263f893b\">\n",
              "  <button class=\"colab-df-quickchart\" onclick=\"quickchart('df-719415ff-52f1-4d64-ac9d-c5ea263f893b')\"\n",
              "            title=\"Suggest charts\"\n",
              "            style=\"display:none;\">\n",
              "\n",
              "<svg xmlns=\"http://www.w3.org/2000/svg\" height=\"24px\"viewBox=\"0 0 24 24\"\n",
              "     width=\"24px\">\n",
              "    <g>\n",
              "        <path d=\"M19 3H5c-1.1 0-2 .9-2 2v14c0 1.1.9 2 2 2h14c1.1 0 2-.9 2-2V5c0-1.1-.9-2-2-2zM9 17H7v-7h2v7zm4 0h-2V7h2v10zm4 0h-2v-4h2v4z\"/>\n",
              "    </g>\n",
              "</svg>\n",
              "  </button>\n",
              "\n",
              "<style>\n",
              "  .colab-df-quickchart {\n",
              "      --bg-color: #E8F0FE;\n",
              "      --fill-color: #1967D2;\n",
              "      --hover-bg-color: #E2EBFA;\n",
              "      --hover-fill-color: #174EA6;\n",
              "      --disabled-fill-color: #AAA;\n",
              "      --disabled-bg-color: #DDD;\n",
              "  }\n",
              "\n",
              "  [theme=dark] .colab-df-quickchart {\n",
              "      --bg-color: #3B4455;\n",
              "      --fill-color: #D2E3FC;\n",
              "      --hover-bg-color: #434B5C;\n",
              "      --hover-fill-color: #FFFFFF;\n",
              "      --disabled-bg-color: #3B4455;\n",
              "      --disabled-fill-color: #666;\n",
              "  }\n",
              "\n",
              "  .colab-df-quickchart {\n",
              "    background-color: var(--bg-color);\n",
              "    border: none;\n",
              "    border-radius: 50%;\n",
              "    cursor: pointer;\n",
              "    display: none;\n",
              "    fill: var(--fill-color);\n",
              "    height: 32px;\n",
              "    padding: 0;\n",
              "    width: 32px;\n",
              "  }\n",
              "\n",
              "  .colab-df-quickchart:hover {\n",
              "    background-color: var(--hover-bg-color);\n",
              "    box-shadow: 0 1px 2px rgba(60, 64, 67, 0.3), 0 1px 3px 1px rgba(60, 64, 67, 0.15);\n",
              "    fill: var(--button-hover-fill-color);\n",
              "  }\n",
              "\n",
              "  .colab-df-quickchart-complete:disabled,\n",
              "  .colab-df-quickchart-complete:disabled:hover {\n",
              "    background-color: var(--disabled-bg-color);\n",
              "    fill: var(--disabled-fill-color);\n",
              "    box-shadow: none;\n",
              "  }\n",
              "\n",
              "  .colab-df-spinner {\n",
              "    border: 2px solid var(--fill-color);\n",
              "    border-color: transparent;\n",
              "    border-bottom-color: var(--fill-color);\n",
              "    animation:\n",
              "      spin 1s steps(1) infinite;\n",
              "  }\n",
              "\n",
              "  @keyframes spin {\n",
              "    0% {\n",
              "      border-color: transparent;\n",
              "      border-bottom-color: var(--fill-color);\n",
              "      border-left-color: var(--fill-color);\n",
              "    }\n",
              "    20% {\n",
              "      border-color: transparent;\n",
              "      border-left-color: var(--fill-color);\n",
              "      border-top-color: var(--fill-color);\n",
              "    }\n",
              "    30% {\n",
              "      border-color: transparent;\n",
              "      border-left-color: var(--fill-color);\n",
              "      border-top-color: var(--fill-color);\n",
              "      border-right-color: var(--fill-color);\n",
              "    }\n",
              "    40% {\n",
              "      border-color: transparent;\n",
              "      border-right-color: var(--fill-color);\n",
              "      border-top-color: var(--fill-color);\n",
              "    }\n",
              "    60% {\n",
              "      border-color: transparent;\n",
              "      border-right-color: var(--fill-color);\n",
              "    }\n",
              "    80% {\n",
              "      border-color: transparent;\n",
              "      border-right-color: var(--fill-color);\n",
              "      border-bottom-color: var(--fill-color);\n",
              "    }\n",
              "    90% {\n",
              "      border-color: transparent;\n",
              "      border-bottom-color: var(--fill-color);\n",
              "    }\n",
              "  }\n",
              "</style>\n",
              "\n",
              "  <script>\n",
              "    async function quickchart(key) {\n",
              "      const quickchartButtonEl =\n",
              "        document.querySelector('#' + key + ' button');\n",
              "      quickchartButtonEl.disabled = true;  // To prevent multiple clicks.\n",
              "      quickchartButtonEl.classList.add('colab-df-spinner');\n",
              "      try {\n",
              "        const charts = await google.colab.kernel.invokeFunction(\n",
              "            'suggestCharts', [key], {});\n",
              "      } catch (error) {\n",
              "        console.error('Error during call to suggestCharts:', error);\n",
              "      }\n",
              "      quickchartButtonEl.classList.remove('colab-df-spinner');\n",
              "      quickchartButtonEl.classList.add('colab-df-quickchart-complete');\n",
              "    }\n",
              "    (() => {\n",
              "      let quickchartButtonEl =\n",
              "        document.querySelector('#df-719415ff-52f1-4d64-ac9d-c5ea263f893b button');\n",
              "      quickchartButtonEl.style.display =\n",
              "        google.colab.kernel.accessAllowed ? 'block' : 'none';\n",
              "    })();\n",
              "  </script>\n",
              "</div>\n",
              "    </div>\n",
              "  </div>\n"
            ]
          },
          "metadata": {},
          "execution_count": 682
        }
      ],
      "source": [
        "df_price_drop.head()"
      ]
    },
    {
      "cell_type": "code",
      "execution_count": 683,
      "id": "15b4a573",
      "metadata": {
        "id": "15b4a573",
        "outputId": "e4aeaa99-2607-437c-c843-f3c828393977",
        "colab": {
          "base_uri": "https://localhost:8080/",
          "height": 0
        }
      },
      "outputs": [
        {
          "output_type": "execute_result",
          "data": {
            "text/plain": [
              "hotelcode            0\n",
              "roomtype             0\n",
              "onsiterate           0\n",
              "netrate              0\n",
              "ratedescription      0\n",
              "ratetype             0\n",
              "roomamenities        0\n",
              "maxoccupancy         0\n",
              "ispromo              0\n",
              "closed               0\n",
              "discount             0\n",
              "promoname            0\n",
              "status_code          0\n",
              "taxstatus            0\n",
              "taxtype              0\n",
              "israteperstay        0\n",
              "mealinclusiontype    0\n",
              "dtype: int64"
            ]
          },
          "metadata": {},
          "execution_count": 683
        }
      ],
      "source": [
        "df_price_drop.isnull().sum()"
      ]
    },
    {
      "cell_type": "code",
      "source": [
        "fig, axes = plt.subplots(1, 3, figsize=(20, 5))\n",
        "\n",
        "sns.histplot(df_price['onsiterate'], bins=50, ax=axes[0], kde=True)\n",
        "axes[0].set_title('Distribution of On-Site Rates')\n",
        "axes[0].set_xlabel('On-Site Rate')\n",
        "axes[0].set_ylabel('Count')\n",
        "\n",
        "sns.histplot(df_price['netrate'], bins=50, ax=axes[1], kde=True)\n",
        "axes[1].set_title('Distribution of Net Rates')\n",
        "axes[1].set_xlabel('Net Rate')\n",
        "axes[1].set_ylabel('Count')\n",
        "\n",
        "sns.histplot(df_price['discount'], bins=50, ax=axes[2], kde=True)\n",
        "axes[2].set_title('Distribution of Discounts')\n",
        "axes[2].set_xlabel('Discount')\n",
        "axes[2].set_ylabel('Count')\n",
        "\n",
        "plt.tight_layout()\n",
        "plt.show()"
      ],
      "metadata": {
        "colab": {
          "base_uri": "https://localhost:8080/",
          "height": 459
        },
        "id": "UuyTSQ1tJWec",
        "outputId": "6a41a000-20d1-4e67-ca4a-9c6ae8479c1d"
      },
      "id": "UuyTSQ1tJWec",
      "execution_count": 684,
      "outputs": [
        {
          "output_type": "display_data",
          "data": {
            "text/plain": [
              "<Figure size 2000x500 with 3 Axes>"
            ],
            "image/png": "[encoded data removed]"
          },
          "metadata": {}
        }
      ]
    },
    {
      "cell_type": "markdown",
      "source": [
        "- On-Site Rate Distribution: Most on-site rates are clustered at the lower end, indicating that a majority of the rooms are priced in the lower range. There's a long tail extending to the higher rates, suggesting there are a few rooms with very high rates. This is typical for hotel pricing where different types of rooms and services can vary significantly in price.\n",
        "\n",
        "- Net Rate Distribution: The net rate distribution shows a similar pattern to the on-site rate with most of the data concentrated at the lower end and a long tail toward the higher rates. This indicates that after applying any discounts or special offers, the majority of room rates remain relatively low, but there is still a significant range.\n",
        "\n",
        "- Discount Distribution: The distribution of discounts shows that most entries have a discount of 0, with a diminishing frequency as the discount value increases. There are very few instances of extremely high discounts.\n",
        "\n",
        "These distributions can inform the recommendation system in several ways. For instance, they indicate the typical price range that could be expected for the majority of rooms. This information can be used to segment hotels into different price categories, which can be a feature in the recommendation algorithm. Additionally, the discount distribution may help in identifying special offers or promotions that could be attractive to users."
      ],
      "metadata": {
        "id": "FBWV2v_1JfBr"
      },
      "id": "FBWV2v_1JfBr"
    },
    {
      "cell_type": "code",
      "source": [
        "fig, axes = plt.subplots(1, 2, figsize=(15, 5))\n",
        "\n",
        "sns.countplot(x='maxoccupancy', data=df_price, ax=axes[0])\n",
        "axes[0].set_title('Distribution of Maximum Occupancy')\n",
        "axes[0].set_xlabel('Maximum Occupancy')\n",
        "axes[0].set_ylabel('Count')\n",
        "\n",
        "sns.countplot(x='taxstatus', data=df_price, ax=axes[1])\n",
        "axes[1].set_title('Count of Tax Status')\n",
        "axes[1].set_xlabel('Tax Status')\n",
        "axes[1].set_ylabel('Count')\n",
        "\n",
        "plt.tight_layout()\n",
        "plt.show()"
      ],
      "metadata": {
        "colab": {
          "base_uri": "https://localhost:8080/",
          "height": 507
        },
        "id": "yp3uFR9eJW5V",
        "outputId": "25903eb5-9eaa-4e2b-96e7-5177111444ec"
      },
      "id": "yp3uFR9eJW5V",
      "execution_count": 685,
      "outputs": [
        {
          "output_type": "display_data",
          "data": {
            "text/plain": [
              "<Figure size 1500x500 with 2 Axes>"
            ],
            "image/png": "[encoded data removed]"
          },
          "metadata": {}
        }
      ]
    },
    {
      "cell_type": "markdown",
      "source": [
        "1. Maximum Occupancy (maxoccupancy):\n",
        "\n",
        "The majority of the rooms have a maximum occupancy of 1 or 2, which likely corresponds to single and double rooms.\n",
        "Rooms that accommodate more than 2 guests are less common, with a significant drop in frequency as the occupancy number increases.\n",
        "The distribution indicates that the dataset largely caters to individual or couple travelers, with fewer options available for large groups or families.\n",
        "\n",
        "2. Tax Status (taxstatus):\n",
        "There are two prominent tax status categories represented by '2' and '-1'. The '2' category is overwhelmingly more common, while the '-1' category is rare.\n",
        "The meaning of these numerical codes is not provided, but the distribution suggests that one tax status is standard, while the other is exceptional.\n",
        "The presence of a '-1' category is unusual and may warrant further investigation to understand its significance.\n",
        "These visualizations add to our understanding of the dataset by indicating the types of rooms most commonly available and the tax statuses applied. This information can be used to tailor recommendations based on group size and to further investigate the tax implications which might influence the final pricing for the customer."
      ],
      "metadata": {
        "id": "lkNNPOviJnTF"
      },
      "id": "lkNNPOviJnTF"
    },
    {
      "cell_type": "markdown",
      "id": "9999f9db",
      "metadata": {
        "id": "9999f9db"
      },
      "source": [
        "### Based on Hotel_details.csv"
      ]
    },
    {
      "cell_type": "code",
      "execution_count": 686,
      "id": "ecf3632a",
      "metadata": {
        "id": "ecf3632a",
        "outputId": "cec4fcbf-c5ad-4d7c-eec0-b9c18daf55c7",
        "colab": {
          "base_uri": "https://localhost:8080/",
          "height": 520
        }
      },
      "outputs": [
        {
          "output_type": "execute_result",
          "data": {
            "text/plain": [
              "       id  hotelid                    hotelname                 address  \\\n",
              "0   46406  1771651     Mediteran Bungalow Galeb            Vukovarska 7   \n",
              "1   46407   177167                Hotel Polonia        Plac Teatralny 5   \n",
              "2   46408  1771675            Rifugio Sass Bece  Belvedere del Pordoi,1   \n",
              "3   46409   177168               Madalena Hotel                 Mykonos   \n",
              "4   46410  1771718            Pension Morenfeld  Mair im Korn Strasse 2   \n",
              "5   46411  1771733  Boutique Hotel Three Lilies               Narodni 3   \n",
              "6   46412   177175              MPM Hotel Sport          100, Pirin Str   \n",
              "7   46413   177176    Family Hotel Santo Bansko    6 St.Ivan Rilski Str   \n",
              "8   46414   177179       Villas Jagoda & Malina                Borovets   \n",
              "9   46415   177183                 Hotel Silver            10,Lozengrad   \n",
              "10  46416   177185                  Hotel Moura                Borovets   \n",
              "11  46417   177185  Rena's Suites - Adults Only                    Fira   \n",
              "12  46418   177186                Hotel Seasons            Tsigov Chark   \n",
              "13  46419   177187                  Breza Hotel                Borovets   \n",
              "14  46420   177190            Nautica Bay Hotel             Main Street   \n",
              "\n",
              "                 city         country  zipcode   propertytype  starrating  \\\n",
              "0                Omis         Croatia  21310.0  Holiday parks           4   \n",
              "1               Torun          Poland      NaN         Hotels           3   \n",
              "2             Canazei           Italy  38032.0         Hotels           3   \n",
              "3             Mykonos          Greece  84600.0         Hotels           3   \n",
              "4             Lagundo           Italy  39022.0         Hotels           3   \n",
              "5   Frantiskovy Lazne  Czech Republic      NaN         Hotels           4   \n",
              "6              Bansko        Bulgaria   2770.0         Hotels           4   \n",
              "7              Bansko        Bulgaria   2770.0         Hotels           3   \n",
              "8            Borovets        Bulgaria   2010.0  Holiday parks           3   \n",
              "9             Sozopol        Bulgaria   8130.0         Hotels           3   \n",
              "10           Borovets        Bulgaria   2010.0         Hotels           3   \n",
              "11          Santorini          Greece  84700.0         Hotels           3   \n",
              "12       Tsigov Chark        Bulgaria   4580.0         Hotels           3   \n",
              "13           Borovets        Bulgaria   2010.0         Hotels           3   \n",
              "14        Porto Cheli          Greece  21061.0         Hotels           3   \n",
              "\n",
              "     latitude  longitude  Source  \\\n",
              "0   43.440124  16.682505       2   \n",
              "1   53.012329  18.603800       5   \n",
              "2   46.477920  11.813350       2   \n",
              "3   37.452316  25.329849       5   \n",
              "4   46.682780  11.131736       2   \n",
              "5   50.118496  12.349790       2   \n",
              "6   41.824789  23.477644       2   \n",
              "7   41.829603  23.481450       2   \n",
              "8   42.275284  23.618516       2   \n",
              "9   42.417956  27.699371       2   \n",
              "10  42.268199  23.605242       2   \n",
              "11  36.422504  25.435205       5   \n",
              "12  41.947973  24.154215       2   \n",
              "13  42.264970  23.603533       2   \n",
              "14  37.323952  23.156330       5   \n",
              "\n",
              "                                                  url curr  \n",
              "0   https://www.booking.com/hotel/hr/bungalow-luxu...  EUR  \n",
              "1   https://www.agoda.com/en-gb/hotel-polonia/hote...  EUR  \n",
              "2   http://www.booking.com/hotel/it/rifugio-sass-b...  EUR  \n",
              "3   https://www.agoda.com/en-gb/madalena-hotel/hot...  EUR  \n",
              "4   http://www.booking.com/hotel/it/pension-morenf...  EUR  \n",
              "5   http://www.booking.com/hotel/cz/three-lilies.e...  EUR  \n",
              "6    http://www.booking.com/hotel/bg/sport.en-gb.html  BGN  \n",
              "7   http://www.booking.com/hotel/bg/santo-bansko.e...  BGN  \n",
              "8   http://www.booking.com/hotel/bg/villa-settleme...  BGN  \n",
              "9   http://www.booking.com/hotel/bg/silver-sozopol...  BGN  \n",
              "10   http://www.booking.com/hotel/bg/moura.en-gb.html  BGN  \n",
              "11  https://www.agoda.com/en-gb/rena-s-suites-adul...  EUR  \n",
              "12  http://www.booking.com/hotel/bg/seasons-batak....  BGN  \n",
              "13   http://www.booking.com/hotel/bg/breza.en-gb.html  BGN  \n",
              "14  https://www.agoda.com/en-gb/nautica-bay-hotel/...  EUR  "
            ],
            "text/html": [
              "\n",
              "  <div id=\"df-3666ae4d-4abf-4ba0-891d-63127cfe1abb\" class=\"colab-df-container\">\n",
              "    <div>\n",
              "<style scoped>\n",
              "    .dataframe tbody tr th:only-of-type {\n",
              "        vertical-align: middle;\n",
              "    }\n",
              "\n",
              "    .dataframe tbody tr th {\n",
              "        vertical-align: top;\n",
              "    }\n",
              "\n",
              "    .dataframe thead th {\n",
              "        text-align: right;\n",
              "    }\n",
              "</style>\n",
              "<table border=\"1\" class=\"dataframe\">\n",
              "  <thead>\n",
              "    <tr style=\"text-align: right;\">\n",
              "      <th></th>\n",
              "      <th>id</th>\n",
              "      <th>hotelid</th>\n",
              "      <th>hotelname</th>\n",
              "      <th>address</th>\n",
              "      <th>city</th>\n",
              "      <th>country</th>\n",
              "      <th>zipcode</th>\n",
              "      <th>propertytype</th>\n",
              "      <th>starrating</th>\n",
              "      <th>latitude</th>\n",
              "      <th>longitude</th>\n",
              "      <th>Source</th>\n",
              "      <th>url</th>\n",
              "      <th>curr</th>\n",
              "    </tr>\n",
              "  </thead>\n",
              "  <tbody>\n",
              "    <tr>\n",
              "      <th>0</th>\n",
              "      <td>46406</td>\n",
              "      <td>1771651</td>\n",
              "      <td>Mediteran Bungalow Galeb</td>\n",
              "      <td>Vukovarska 7</td>\n",
              "      <td>Omis</td>\n",
              "      <td>Croatia</td>\n",
              "      <td>21310.0</td>\n",
              "      <td>Holiday parks</td>\n",
              "      <td>4</td>\n",
              "      <td>43.440124</td>\n",
              "      <td>16.682505</td>\n",
              "      <td>2</td>\n",
              "      <td>https://www.booking.com/hotel/hr/bungalow-luxu...</td>\n",
              "      <td>EUR</td>\n",
              "    </tr>\n",
              "    <tr>\n",
              "      <th>1</th>\n",
              "      <td>46407</td>\n",
              "      <td>177167</td>\n",
              "      <td>Hotel Polonia</td>\n",
              "      <td>Plac Teatralny 5</td>\n",
              "      <td>Torun</td>\n",
              "      <td>Poland</td>\n",
              "      <td>NaN</td>\n",
              "      <td>Hotels</td>\n",
              "      <td>3</td>\n",
              "      <td>53.012329</td>\n",
              "      <td>18.603800</td>\n",
              "      <td>5</td>\n",
              "      <td>https://www.agoda.com/en-gb/hotel-polonia/hote...</td>\n",
              "      <td>EUR</td>\n",
              "    </tr>\n",
              "    <tr>\n",
              "      <th>2</th>\n",
              "      <td>46408</td>\n",
              "      <td>1771675</td>\n",
              "      <td>Rifugio Sass Bece</td>\n",
              "      <td>Belvedere del Pordoi,1</td>\n",
              "      <td>Canazei</td>\n",
              "      <td>Italy</td>\n",
              "      <td>38032.0</td>\n",
              "      <td>Hotels</td>\n",
              "      <td>3</td>\n",
              "      <td>46.477920</td>\n",
              "      <td>11.813350</td>\n",
              "      <td>2</td>\n",
              "      <td>http://www.booking.com/hotel/it/rifugio-sass-b...</td>\n",
              "      <td>EUR</td>\n",
              "    </tr>\n",
              "    <tr>\n",
              "      <th>3</th>\n",
              "      <td>46409</td>\n",
              "      <td>177168</td>\n",
              "      <td>Madalena Hotel</td>\n",
              "      <td>Mykonos</td>\n",
              "      <td>Mykonos</td>\n",
              "      <td>Greece</td>\n",
              "      <td>84600.0</td>\n",
              "      <td>Hotels</td>\n",
              "      <td>3</td>\n",
              "      <td>37.452316</td>\n",
              "      <td>25.329849</td>\n",
              "      <td>5</td>\n",
              "      <td>https://www.agoda.com/en-gb/madalena-hotel/hot...</td>\n",
              "      <td>EUR</td>\n",
              "    </tr>\n",
              "    <tr>\n",
              "      <th>4</th>\n",
              "      <td>46410</td>\n",
              "      <td>1771718</td>\n",
              "      <td>Pension Morenfeld</td>\n",
              "      <td>Mair im Korn Strasse 2</td>\n",
              "      <td>Lagundo</td>\n",
              "      <td>Italy</td>\n",
              "      <td>39022.0</td>\n",
              "      <td>Hotels</td>\n",
              "      <td>3</td>\n",
              "      <td>46.682780</td>\n",
              "      <td>11.131736</td>\n",
              "      <td>2</td>\n",
              "      <td>http://www.booking.com/hotel/it/pension-morenf...</td>\n",
              "      <td>EUR</td>\n",
              "    </tr>\n",
              "    <tr>\n",
              "      <th>5</th>\n",
              "      <td>46411</td>\n",
              "      <td>1771733</td>\n",
              "      <td>Boutique Hotel Three Lilies</td>\n",
              "      <td>Narodni 3</td>\n",
              "      <td>Frantiskovy Lazne</td>\n",
              "      <td>Czech Republic</td>\n",
              "      <td>NaN</td>\n",
              "      <td>Hotels</td>\n",
              "      <td>4</td>\n",
              "      <td>50.118496</td>\n",
              "      <td>12.349790</td>\n",
              "      <td>2</td>\n",
              "      <td>http://www.booking.com/hotel/cz/three-lilies.e...</td>\n",
              "      <td>EUR</td>\n",
              "    </tr>\n",
              "    <tr>\n",
              "      <th>6</th>\n",
              "      <td>46412</td>\n",
              "      <td>177175</td>\n",
              "      <td>MPM Hotel Sport</td>\n",
              "      <td>100, Pirin Str</td>\n",
              "      <td>Bansko</td>\n",
              "      <td>Bulgaria</td>\n",
              "      <td>2770.0</td>\n",
              "      <td>Hotels</td>\n",
              "      <td>4</td>\n",
              "      <td>41.824789</td>\n",
              "      <td>23.477644</td>\n",
              "      <td>2</td>\n",
              "      <td>http://www.booking.com/hotel/bg/sport.en-gb.html</td>\n",
              "      <td>BGN</td>\n",
              "    </tr>\n",
              "    <tr>\n",
              "      <th>7</th>\n",
              "      <td>46413</td>\n",
              "      <td>177176</td>\n",
              "      <td>Family Hotel Santo Bansko</td>\n",
              "      <td>6 St.Ivan Rilski Str</td>\n",
              "      <td>Bansko</td>\n",
              "      <td>Bulgaria</td>\n",
              "      <td>2770.0</td>\n",
              "      <td>Hotels</td>\n",
              "      <td>3</td>\n",
              "      <td>41.829603</td>\n",
              "      <td>23.481450</td>\n",
              "      <td>2</td>\n",
              "      <td>http://www.booking.com/hotel/bg/santo-bansko.e...</td>\n",
              "      <td>BGN</td>\n",
              "    </tr>\n",
              "    <tr>\n",
              "      <th>8</th>\n",
              "      <td>46414</td>\n",
              "      <td>177179</td>\n",
              "      <td>Villas Jagoda &amp; Malina</td>\n",
              "      <td>Borovets</td>\n",
              "      <td>Borovets</td>\n",
              "      <td>Bulgaria</td>\n",
              "      <td>2010.0</td>\n",
              "      <td>Holiday parks</td>\n",
              "      <td>3</td>\n",
              "      <td>42.275284</td>\n",
              "      <td>23.618516</td>\n",
              "      <td>2</td>\n",
              "      <td>http://www.booking.com/hotel/bg/villa-settleme...</td>\n",
              "      <td>BGN</td>\n",
              "    </tr>\n",
              "    <tr>\n",
              "      <th>9</th>\n",
              "      <td>46415</td>\n",
              "      <td>177183</td>\n",
              "      <td>Hotel Silver</td>\n",
              "      <td>10,Lozengrad</td>\n",
              "      <td>Sozopol</td>\n",
              "      <td>Bulgaria</td>\n",
              "      <td>8130.0</td>\n",
              "      <td>Hotels</td>\n",
              "      <td>3</td>\n",
              "      <td>42.417956</td>\n",
              "      <td>27.699371</td>\n",
              "      <td>2</td>\n",
              "      <td>http://www.booking.com/hotel/bg/silver-sozopol...</td>\n",
              "      <td>BGN</td>\n",
              "    </tr>\n",
              "    <tr>\n",
              "      <th>10</th>\n",
              "      <td>46416</td>\n",
              "      <td>177185</td>\n",
              "      <td>Hotel Moura</td>\n",
              "      <td>Borovets</td>\n",
              "      <td>Borovets</td>\n",
              "      <td>Bulgaria</td>\n",
              "      <td>2010.0</td>\n",
              "      <td>Hotels</td>\n",
              "      <td>3</td>\n",
              "      <td>42.268199</td>\n",
              "      <td>23.605242</td>\n",
              "      <td>2</td>\n",
              "      <td>http://www.booking.com/hotel/bg/moura.en-gb.html</td>\n",
              "      <td>BGN</td>\n",
              "    </tr>\n",
              "    <tr>\n",
              "      <th>11</th>\n",
              "      <td>46417</td>\n",
              "      <td>177185</td>\n",
              "      <td>Rena's Suites - Adults Only</td>\n",
              "      <td>Fira</td>\n",
              "      <td>Santorini</td>\n",
              "      <td>Greece</td>\n",
              "      <td>84700.0</td>\n",
              "      <td>Hotels</td>\n",
              "      <td>3</td>\n",
              "      <td>36.422504</td>\n",
              "      <td>25.435205</td>\n",
              "      <td>5</td>\n",
              "      <td>https://www.agoda.com/en-gb/rena-s-suites-adul...</td>\n",
              "      <td>EUR</td>\n",
              "    </tr>\n",
              "    <tr>\n",
              "      <th>12</th>\n",
              "      <td>46418</td>\n",
              "      <td>177186</td>\n",
              "      <td>Hotel Seasons</td>\n",
              "      <td>Tsigov Chark</td>\n",
              "      <td>Tsigov Chark</td>\n",
              "      <td>Bulgaria</td>\n",
              "      <td>4580.0</td>\n",
              "      <td>Hotels</td>\n",
              "      <td>3</td>\n",
              "      <td>41.947973</td>\n",
              "      <td>24.154215</td>\n",
              "      <td>2</td>\n",
              "      <td>http://www.booking.com/hotel/bg/seasons-batak....</td>\n",
              "      <td>BGN</td>\n",
              "    </tr>\n",
              "    <tr>\n",
              "      <th>13</th>\n",
              "      <td>46419</td>\n",
              "      <td>177187</td>\n",
              "      <td>Breza Hotel</td>\n",
              "      <td>Borovets</td>\n",
              "      <td>Borovets</td>\n",
              "      <td>Bulgaria</td>\n",
              "      <td>2010.0</td>\n",
              "      <td>Hotels</td>\n",
              "      <td>3</td>\n",
              "      <td>42.264970</td>\n",
              "      <td>23.603533</td>\n",
              "      <td>2</td>\n",
              "      <td>http://www.booking.com/hotel/bg/breza.en-gb.html</td>\n",
              "      <td>BGN</td>\n",
              "    </tr>\n",
              "    <tr>\n",
              "      <th>14</th>\n",
              "      <td>46420</td>\n",
              "      <td>177190</td>\n",
              "      <td>Nautica Bay Hotel</td>\n",
              "      <td>Main Street</td>\n",
              "      <td>Porto Cheli</td>\n",
              "      <td>Greece</td>\n",
              "      <td>21061.0</td>\n",
              "      <td>Hotels</td>\n",
              "      <td>3</td>\n",
              "      <td>37.323952</td>\n",
              "      <td>23.156330</td>\n",
              "      <td>5</td>\n",
              "      <td>https://www.agoda.com/en-gb/nautica-bay-hotel/...</td>\n",
              "      <td>EUR</td>\n",
              "    </tr>\n",
              "  </tbody>\n",
              "</table>\n",
              "</div>\n",
              "    <div class=\"colab-df-buttons\">\n",
              "\n",
              "  <div class=\"colab-df-container\">\n",
              "    <button class=\"colab-df-convert\" onclick=\"convertToInteractive('df-3666ae4d-4abf-4ba0-891d-63127cfe1abb')\"\n",
              "            title=\"Convert this dataframe to an interactive table.\"\n",
              "            style=\"display:none;\">\n",
              "\n",
              "  <svg xmlns=\"http://www.w3.org/2000/svg\" height=\"24px\" viewBox=\"0 -960 960 960\">\n",
              "    <path d=\"M120-120v-720h720v720H120Zm60-500h600v-160H180v160Zm220 220h160v-160H400v160Zm0 220h160v-160H400v160ZM180-400h160v-160H180v160Zm440 0h160v-160H620v160ZM180-180h160v-160H180v160Zm440 0h160v-160H620v160Z\"/>\n",
              "  </svg>\n",
              "    </button>\n",
              "\n",
              "  <style>\n",
              "    .colab-df-container {\n",
              "      display:flex;\n",
              "      gap: 12px;\n",
              "    }\n",
              "\n",
              "    .colab-df-convert {\n",
              "      background-color: #E8F0FE;\n",
              "      border: none;\n",
              "      border-radius: 50%;\n",
              "      cursor: pointer;\n",
              "      display: none;\n",
              "      fill: #1967D2;\n",
              "      height: 32px;\n",
              "      padding: 0 0 0 0;\n",
              "      width: 32px;\n",
              "    }\n",
              "\n",
              "    .colab-df-convert:hover {\n",
              "      background-color: #E2EBFA;\n",
              "      box-shadow: 0px 1px 2px rgba(60, 64, 67, 0.3), 0px 1px 3px 1px rgba(60, 64, 67, 0.15);\n",
              "      fill: #174EA6;\n",
              "    }\n",
              "\n",
              "    .colab-df-buttons div {\n",
              "      margin-bottom: 4px;\n",
              "    }\n",
              "\n",
              "    [theme=dark] .colab-df-convert {\n",
              "      background-color: #3B4455;\n",
              "      fill: #D2E3FC;\n",
              "    }\n",
              "\n",
              "    [theme=dark] .colab-df-convert:hover {\n",
              "      background-color: #434B5C;\n",
              "      box-shadow: 0px 1px 3px 1px rgba(0, 0, 0, 0.15);\n",
              "      filter: drop-shadow(0px 1px 2px rgba(0, 0, 0, 0.3));\n",
              "      fill: #FFFFFF;\n",
              "    }\n",
              "  </style>\n",
              "\n",
              "    <script>\n",
              "      const buttonEl =\n",
              "        document.querySelector('#df-3666ae4d-4abf-4ba0-891d-63127cfe1abb button.colab-df-convert');\n",
              "      buttonEl.style.display =\n",
              "        google.colab.kernel.accessAllowed ? 'block' : 'none';\n",
              "\n",
              "      async function convertToInteractive(key) {\n",
              "        const element = document.querySelector('#df-3666ae4d-4abf-4ba0-891d-63127cfe1abb');\n",
              "        const dataTable =\n",
              "          await google.colab.kernel.invokeFunction('convertToInteractive',\n",
              "                                                    [key], {});\n",
              "        if (!dataTable) return;\n",
              "\n",
              "        const docLinkHtml = 'Like what you see? Visit the ' +\n",
              "          '<a target=\"_blank\" href=https://colab.research.google.com/notebooks/data_table.ipynb>data table notebook</a>'\n",
              "          + ' to learn more about interactive tables.';\n",
              "        element.innerHTML = '';\n",
              "        dataTable['output_type'] = 'display_data';\n",
              "        await google.colab.output.renderOutput(dataTable, element);\n",
              "        const docLink = document.createElement('div');\n",
              "        docLink.innerHTML = docLinkHtml;\n",
              "        element.appendChild(docLink);\n",
              "      }\n",
              "    </script>\n",
              "  </div>\n",
              "\n",
              "\n",
              "<div id=\"df-fa5b388e-b93f-4b93-bc2b-1f63bd6bb601\">\n",
              "  <button class=\"colab-df-quickchart\" onclick=\"quickchart('df-fa5b388e-b93f-4b93-bc2b-1f63bd6bb601')\"\n",
              "            title=\"Suggest charts\"\n",
              "            style=\"display:none;\">\n",
              "\n",
              "<svg xmlns=\"http://www.w3.org/2000/svg\" height=\"24px\"viewBox=\"0 0 24 24\"\n",
              "     width=\"24px\">\n",
              "    <g>\n",
              "        <path d=\"M19 3H5c-1.1 0-2 .9-2 2v14c0 1.1.9 2 2 2h14c1.1 0 2-.9 2-2V5c0-1.1-.9-2-2-2zM9 17H7v-7h2v7zm4 0h-2V7h2v10zm4 0h-2v-4h2v4z\"/>\n",
              "    </g>\n",
              "</svg>\n",
              "  </button>\n",
              "\n",
              "<style>\n",
              "  .colab-df-quickchart {\n",
              "      --bg-color: #E8F0FE;\n",
              "      --fill-color: #1967D2;\n",
              "      --hover-bg-color: #E2EBFA;\n",
              "      --hover-fill-color: #174EA6;\n",
              "      --disabled-fill-color: #AAA;\n",
              "      --disabled-bg-color: #DDD;\n",
              "  }\n",
              "\n",
              "  [theme=dark] .colab-df-quickchart {\n",
              "      --bg-color: #3B4455;\n",
              "      --fill-color: #D2E3FC;\n",
              "      --hover-bg-color: #434B5C;\n",
              "      --hover-fill-color: #FFFFFF;\n",
              "      --disabled-bg-color: #3B4455;\n",
              "      --disabled-fill-color: #666;\n",
              "  }\n",
              "\n",
              "  .colab-df-quickchart {\n",
              "    background-color: var(--bg-color);\n",
              "    border: none;\n",
              "    border-radius: 50%;\n",
              "    cursor: pointer;\n",
              "    display: none;\n",
              "    fill: var(--fill-color);\n",
              "    height: 32px;\n",
              "    padding: 0;\n",
              "    width: 32px;\n",
              "  }\n",
              "\n",
              "  .colab-df-quickchart:hover {\n",
              "    background-color: var(--hover-bg-color);\n",
              "    box-shadow: 0 1px 2px rgba(60, 64, 67, 0.3), 0 1px 3px 1px rgba(60, 64, 67, 0.15);\n",
              "    fill: var(--button-hover-fill-color);\n",
              "  }\n",
              "\n",
              "  .colab-df-quickchart-complete:disabled,\n",
              "  .colab-df-quickchart-complete:disabled:hover {\n",
              "    background-color: var(--disabled-bg-color);\n",
              "    fill: var(--disabled-fill-color);\n",
              "    box-shadow: none;\n",
              "  }\n",
              "\n",
              "  .colab-df-spinner {\n",
              "    border: 2px solid var(--fill-color);\n",
              "    border-color: transparent;\n",
              "    border-bottom-color: var(--fill-color);\n",
              "    animation:\n",
              "      spin 1s steps(1) infinite;\n",
              "  }\n",
              "\n",
              "  @keyframes spin {\n",
              "    0% {\n",
              "      border-color: transparent;\n",
              "      border-bottom-color: var(--fill-color);\n",
              "      border-left-color: var(--fill-color);\n",
              "    }\n",
              "    20% {\n",
              "      border-color: transparent;\n",
              "      border-left-color: var(--fill-color);\n",
              "      border-top-color: var(--fill-color);\n",
              "    }\n",
              "    30% {\n",
              "      border-color: transparent;\n",
              "      border-left-color: var(--fill-color);\n",
              "      border-top-color: var(--fill-color);\n",
              "      border-right-color: var(--fill-color);\n",
              "    }\n",
              "    40% {\n",
              "      border-color: transparent;\n",
              "      border-right-color: var(--fill-color);\n",
              "      border-top-color: var(--fill-color);\n",
              "    }\n",
              "    60% {\n",
              "      border-color: transparent;\n",
              "      border-right-color: var(--fill-color);\n",
              "    }\n",
              "    80% {\n",
              "      border-color: transparent;\n",
              "      border-right-color: var(--fill-color);\n",
              "      border-bottom-color: var(--fill-color);\n",
              "    }\n",
              "    90% {\n",
              "      border-color: transparent;\n",
              "      border-bottom-color: var(--fill-color);\n",
              "    }\n",
              "  }\n",
              "</style>\n",
              "\n",
              "  <script>\n",
              "    async function quickchart(key) {\n",
              "      const quickchartButtonEl =\n",
              "        document.querySelector('#' + key + ' button');\n",
              "      quickchartButtonEl.disabled = true;  // To prevent multiple clicks.\n",
              "      quickchartButtonEl.classList.add('colab-df-spinner');\n",
              "      try {\n",
              "        const charts = await google.colab.kernel.invokeFunction(\n",
              "            'suggestCharts', [key], {});\n",
              "      } catch (error) {\n",
              "        console.error('Error during call to suggestCharts:', error);\n",
              "      }\n",
              "      quickchartButtonEl.classList.remove('colab-df-spinner');\n",
              "      quickchartButtonEl.classList.add('colab-df-quickchart-complete');\n",
              "    }\n",
              "    (() => {\n",
              "      let quickchartButtonEl =\n",
              "        document.querySelector('#df-fa5b388e-b93f-4b93-bc2b-1f63bd6bb601 button');\n",
              "      quickchartButtonEl.style.display =\n",
              "        google.colab.kernel.accessAllowed ? 'block' : 'none';\n",
              "    })();\n",
              "  </script>\n",
              "</div>\n",
              "    </div>\n",
              "  </div>\n"
            ]
          },
          "metadata": {},
          "execution_count": 686
        }
      ],
      "source": [
        "df_details.head(15)"
      ]
    },
    {
      "cell_type": "code",
      "execution_count": 687,
      "id": "452c9d4a",
      "metadata": {
        "id": "452c9d4a",
        "outputId": "1919d5ef-d585-49fd-b6aa-dd86aca583a2",
        "colab": {
          "base_uri": "https://localhost:8080/",
          "height": 0
        }
      },
      "outputs": [
        {
          "output_type": "execute_result",
          "data": {
            "text/plain": [
              "(108048, 14)"
            ]
          },
          "metadata": {},
          "execution_count": 687
        }
      ],
      "source": [
        "df_details.shape"
      ]
    },
    {
      "cell_type": "code",
      "execution_count": 688,
      "id": "9a71357f",
      "metadata": {
        "id": "9a71357f",
        "outputId": "c41572b4-29fe-482f-f890-6308347b7e5e",
        "colab": {
          "base_uri": "https://localhost:8080/",
          "height": 0
        }
      },
      "outputs": [
        {
          "output_type": "execute_result",
          "data": {
            "text/plain": [
              "Index(['id', 'hotelid', 'hotelname', 'address', 'city', 'country', 'zipcode',\n",
              "       'propertytype', 'starrating', 'latitude', 'longitude', 'Source', 'url',\n",
              "       'curr'],\n",
              "      dtype='object')"
            ]
          },
          "metadata": {},
          "execution_count": 688
        }
      ],
      "source": [
        "df_details.columns"
      ]
    },
    {
      "cell_type": "code",
      "execution_count": 689,
      "id": "6e980f9c",
      "metadata": {
        "id": "6e980f9c",
        "outputId": "7843dfb4-b7ab-43c0-d051-d30c4c33f81d",
        "colab": {
          "base_uri": "https://localhost:8080/",
          "height": 0
        }
      },
      "outputs": [
        {
          "output_type": "stream",
          "name": "stdout",
          "text": [
            "<class 'pandas.core.frame.DataFrame'>\n",
            "RangeIndex: 108048 entries, 0 to 108047\n",
            "Data columns (total 14 columns):\n",
            " #   Column        Non-Null Count   Dtype  \n",
            "---  ------        --------------   -----  \n",
            " 0   id            108048 non-null  int64  \n",
            " 1   hotelid       108048 non-null  int64  \n",
            " 2   hotelname     108048 non-null  object \n",
            " 3   address       102955 non-null  object \n",
            " 4   city          108048 non-null  object \n",
            " 5   country       108048 non-null  object \n",
            " 6   zipcode       83486 non-null   float64\n",
            " 7   propertytype  108048 non-null  object \n",
            " 8   starrating    108048 non-null  int64  \n",
            " 9   latitude      108048 non-null  float64\n",
            " 10  longitude     108048 non-null  float64\n",
            " 11  Source        108048 non-null  int64  \n",
            " 12  url           107937 non-null  object \n",
            " 13  curr          108048 non-null  object \n",
            "dtypes: float64(3), int64(4), object(7)\n",
            "memory usage: 11.5+ MB\n"
          ]
        }
      ],
      "source": [
        "df_details.info()"
      ]
    },
    {
      "cell_type": "code",
      "execution_count": 690,
      "id": "cc44cf40",
      "metadata": {
        "id": "cc44cf40",
        "outputId": "359da984-8c6b-4d43-cdd9-e667b13589f4",
        "colab": {
          "base_uri": "https://localhost:8080/",
          "height": 0
        }
      },
      "outputs": [
        {
          "output_type": "execute_result",
          "data": {
            "text/plain": [
              "id                  0\n",
              "hotelid             0\n",
              "hotelname           0\n",
              "address          5093\n",
              "city                0\n",
              "country             0\n",
              "zipcode         24562\n",
              "propertytype        0\n",
              "starrating          0\n",
              "latitude            0\n",
              "longitude           0\n",
              "Source              0\n",
              "url               111\n",
              "curr                0\n",
              "dtype: int64"
            ]
          },
          "metadata": {},
          "execution_count": 690
        }
      ],
      "source": [
        "df_details.isnull().sum()"
      ]
    },
    {
      "cell_type": "code",
      "execution_count": 691,
      "id": "7869bf1d",
      "metadata": {
        "id": "7869bf1d",
        "outputId": "b7538587-5164-441f-c83a-b9d1bb60cdbd",
        "colab": {
          "base_uri": "https://localhost:8080/",
          "height": 0
        }
      },
      "outputs": [
        {
          "output_type": "execute_result",
          "data": {
            "text/plain": [
              "96203"
            ]
          },
          "metadata": {},
          "execution_count": 691
        }
      ],
      "source": [
        "df_details['hotelname'].nunique()"
      ]
    },
    {
      "cell_type": "code",
      "execution_count": 692,
      "id": "2f1f71ba",
      "metadata": {
        "id": "2f1f71ba",
        "outputId": "b9a13a9f-8d00-4c7a-b4db-9cc1a05a25cf",
        "colab": {
          "base_uri": "https://localhost:8080/",
          "height": 0
        }
      },
      "outputs": [
        {
          "output_type": "execute_result",
          "data": {
            "text/plain": [
              "96978"
            ]
          },
          "metadata": {},
          "execution_count": 692
        }
      ],
      "source": [
        "df_details['address'].nunique()"
      ]
    },
    {
      "cell_type": "code",
      "execution_count": 693,
      "id": "0f008eed",
      "metadata": {
        "id": "0f008eed",
        "outputId": "e92667c1-a6a7-4d72-b6ad-57d58e3a325d",
        "colab": {
          "base_uri": "https://localhost:8080/",
          "height": 0
        }
      },
      "outputs": [
        {
          "output_type": "execute_result",
          "data": {
            "text/plain": [
              "25693"
            ]
          },
          "metadata": {},
          "execution_count": 693
        }
      ],
      "source": [
        "df_details['city'].nunique()"
      ]
    },
    {
      "cell_type": "code",
      "execution_count": 694,
      "id": "1a102c5a",
      "metadata": {
        "id": "1a102c5a",
        "outputId": "058bf184-42d2-4fd3-cb67-c72e9f8587ae",
        "colab": {
          "base_uri": "https://localhost:8080/",
          "height": 0
        }
      },
      "outputs": [
        {
          "output_type": "execute_result",
          "data": {
            "text/plain": [
              "Italy             21385\n",
              "France            16176\n",
              "United Kingdom    12085\n",
              "Germany           11897\n",
              "Spain              9406\n",
              "Greece             4810\n",
              "Austria            4336\n",
              "Poland             2558\n",
              "Switzerland        2546\n",
              "Czech Republic     2421\n",
              "Netherlands        2399\n",
              "Croatia            2350\n",
              "Bulgaria           2238\n",
              "Romania            1972\n",
              "Belgium            1862\n",
              "Portugal           1587\n",
              "Ireland            1505\n",
              "Sweden             1419\n",
              "Hungary            1088\n",
              "Finland             985\n",
              "Slovakia            730\n",
              "Denmark             592\n",
              "Slovenia            570\n",
              "Lithuania           264\n",
              "Cyprus              258\n",
              "Latvia              205\n",
              "Luxembourg          162\n",
              "Malta               132\n",
              "Estonia             110\n",
              "Name: country, dtype: int64"
            ]
          },
          "metadata": {},
          "execution_count": 694
        }
      ],
      "source": [
        "df_details['country'].value_counts()"
      ]
    },
    {
      "cell_type": "code",
      "execution_count": 695,
      "id": "143f3cd2",
      "metadata": {
        "id": "143f3cd2",
        "outputId": "4fbba1f5-6347-4998-c068-9948e79742b9",
        "colab": {
          "base_uri": "https://localhost:8080/",
          "height": 0
        }
      },
      "outputs": [
        {
          "output_type": "execute_result",
          "data": {
            "text/plain": [
              "Hotels                102417\n",
              "Bed and breakfasts      2239\n",
              "Resorts                 1209\n",
              "Campsites                821\n",
              "Holiday parks            696\n",
              "Inns                     411\n",
              "Motels                   254\n",
              "Health resorts             1\n",
              "Name: propertytype, dtype: int64"
            ]
          },
          "metadata": {},
          "execution_count": 695
        }
      ],
      "source": [
        "df_details['propertytype'].value_counts()"
      ]
    },
    {
      "cell_type": "code",
      "execution_count": 696,
      "id": "ebb3471d",
      "metadata": {
        "id": "ebb3471d",
        "outputId": "3bbf8327-c423-4814-cfe9-7872e16ee65e",
        "colab": {
          "base_uri": "https://localhost:8080/",
          "height": 0
        }
      },
      "outputs": [
        {
          "output_type": "execute_result",
          "data": {
            "text/plain": [
              "3    56419\n",
              "4    35892\n",
              "2    15737\n",
              "Name: starrating, dtype: int64"
            ]
          },
          "metadata": {},
          "execution_count": 696
        }
      ],
      "source": [
        "df_details['starrating'].value_counts()"
      ]
    },
    {
      "cell_type": "code",
      "execution_count": 697,
      "id": "3c66e339",
      "metadata": {
        "id": "3c66e339",
        "outputId": "f1ed9833-68ed-4e89-fce5-71618681cdfe",
        "colab": {
          "base_uri": "https://localhost:8080/",
          "height": 0
        }
      },
      "outputs": [
        {
          "output_type": "execute_result",
          "data": {
            "text/plain": [
              "2    68882\n",
              "5    39166\n",
              "Name: Source, dtype: int64"
            ]
          },
          "metadata": {},
          "execution_count": 697
        }
      ],
      "source": [
        "df_details['Source'].value_counts()"
      ]
    },
    {
      "cell_type": "code",
      "execution_count": 698,
      "id": "0f146d27",
      "metadata": {
        "id": "0f146d27",
        "outputId": "8c04347b-ffde-4fa5-83cd-713a371e0686",
        "colab": {
          "base_uri": "https://localhost:8080/",
          "height": 0
        }
      },
      "outputs": [
        {
          "output_type": "execute_result",
          "data": {
            "text/plain": [
              "EUR    86483\n",
              "GBP    12085\n",
              "CHF     2546\n",
              "PLN     1967\n",
              "BGN     1553\n",
              "SEK     1419\n",
              "RON     1403\n",
              "DKK      592\n",
              "Name: curr, dtype: int64"
            ]
          },
          "metadata": {},
          "execution_count": 698
        }
      ],
      "source": [
        "df_details['curr'].value_counts()"
      ]
    },
    {
      "cell_type": "code",
      "execution_count": 699,
      "id": "a81768a8",
      "metadata": {
        "id": "a81768a8",
        "outputId": "615e0426-594f-4070-ecb0-968379bd46ec",
        "colab": {
          "base_uri": "https://localhost:8080/",
          "height": 520
        }
      },
      "outputs": [
        {
          "output_type": "execute_result",
          "data": {
            "text/plain": [
              "          id  hotelid                                   hotelname  \\\n",
              "890    47296    72173                      The Hoxton, Shoreditch   \n",
              "3594   50111  7383775                   Hotel Castleford by Accor   \n",
              "9497   55903  7645732                            OYO Chase Suites   \n",
              "12821  59226  2060565                                    Dell Mar   \n",
              "15043  61449  2170356                             The Lanes Hotel   \n",
              "15943  62348  2194658                     Apex City of Bath Hotel   \n",
              "17124  63530  8195392                     Eurostars Pazo de Sober   \n",
              "17340  63746  8262855                   Golden Key Boutique Hotel   \n",
              "18122  64528   226761                     The Varsity Hotel & Spa   \n",
              "18150  64556   226860                        OYO London 24 Sussex   \n",
              "18527  64933   829701                     Village Hotel Edinburgh   \n",
              "20036  66552   232092                        The Nadler Liverpool   \n",
              "20113  66517  2318258  Cityheart Inverness - Campus Accommodation   \n",
              "20153  66559  2321201                            City Garni Hotel   \n",
              "20176  66582   232296                              Nevis Bank Inn   \n",
              "\n",
              "                                                 address               city  \\\n",
              "890                              81 Great Eastern Street             London   \n",
              "3594                                         Pioneer Way         Castleford   \n",
              "9497                                       Bridge Street            Cannock   \n",
              "12821                                6 Beechgrove Moffat             Moffat   \n",
              "15043                                70-72 MARINE PARADE  Brighton and Hove   \n",
              "15943                                1 James Street West               Bath   \n",
              "17124                                 Camino do Pazo s/n              Sober   \n",
              "17340                                         3 Lazenska       Karlovy Vary   \n",
              "18122                                    Thompson's Lane          Cambridge   \n",
              "18150                                  24 Sussex Gardens             London   \n",
              "18527                               140 Crewe South Road          Edinburgh   \n",
              "20036                                     29 Seel Street          Liverpool   \n",
              "20113  Cityheart Living Scotland Limited UHI Student ...          Inverness   \n",
              "20153                                   Hintere Gasse 14             Fussen   \n",
              "20176                                       Belford Road       Fort William   \n",
              "\n",
              "              country  zipcode propertytype  starrating   latitude  longitude  \\\n",
              "890    United Kingdom      NaN       Hotels           4  51.525612   -0.08284   \n",
              "3594   United Kingdom      NaN       Hotels           3  53.712479   -1.38684   \n",
              "9497   United Kingdom      NaN       Hotels           3  52.673489   -2.02500   \n",
              "12821  United Kingdom      NaN       Hotels           3  55.336868   -3.44662   \n",
              "15043  United Kingdom      NaN       Hotels           3  50.818741   -0.12793   \n",
              "15943  United Kingdom      NaN       Hotels           4  51.381088   -2.36461   \n",
              "17124           Spain  27460.0       Hotels           4  42.461849   -7.58183   \n",
              "17340  Czech Republic      NaN       Hotels           4  50.224522   12.88314   \n",
              "18122  United Kingdom      NaN       Hotels           4  52.210251    0.11808   \n",
              "18150  United Kingdom      NaN       Hotels           3  51.517780   -0.16850   \n",
              "18527  United Kingdom      NaN       Hotels           4  55.967800   -3.23557   \n",
              "20036  United Kingdom      NaN       Hotels           4  53.402580   -2.98052   \n",
              "20113  United Kingdom      NaN       Hotels           4  57.479130   -4.18588   \n",
              "20153         Germany  87629.0       Hotels           4  47.568890   10.69914   \n",
              "20176  United Kingdom      NaN       Hotels           4  56.821388   -5.09535   \n",
              "\n",
              "       Source  url curr  \n",
              "890         5  NaN  GBP  \n",
              "3594        5  NaN  GBP  \n",
              "9497        5  NaN  GBP  \n",
              "12821       5  NaN  GBP  \n",
              "15043       5  NaN  GBP  \n",
              "15943       5  NaN  GBP  \n",
              "17124       5  NaN  EUR  \n",
              "17340       5  NaN  EUR  \n",
              "18122       5  NaN  GBP  \n",
              "18150       5  NaN  GBP  \n",
              "18527       5  NaN  GBP  \n",
              "20036       5  NaN  GBP  \n",
              "20113       5  NaN  GBP  \n",
              "20153       5  NaN  EUR  \n",
              "20176       5  NaN  GBP  "
            ],
            "text/html": [
              "\n",
              "  <div id=\"df-c11d6b88-27ab-4769-8d56-cded0b00f7cb\" class=\"colab-df-container\">\n",
              "    <div>\n",
              "<style scoped>\n",
              "    .dataframe tbody tr th:only-of-type {\n",
              "        vertical-align: middle;\n",
              "    }\n",
              "\n",
              "    .dataframe tbody tr th {\n",
              "        vertical-align: top;\n",
              "    }\n",
              "\n",
              "    .dataframe thead th {\n",
              "        text-align: right;\n",
              "    }\n",
              "</style>\n",
              "<table border=\"1\" class=\"dataframe\">\n",
              "  <thead>\n",
              "    <tr style=\"text-align: right;\">\n",
              "      <th></th>\n",
              "      <th>id</th>\n",
              "      <th>hotelid</th>\n",
              "      <th>hotelname</th>\n",
              "      <th>address</th>\n",
              "      <th>city</th>\n",
              "      <th>country</th>\n",
              "      <th>zipcode</th>\n",
              "      <th>propertytype</th>\n",
              "      <th>starrating</th>\n",
              "      <th>latitude</th>\n",
              "      <th>longitude</th>\n",
              "      <th>Source</th>\n",
              "      <th>url</th>\n",
              "      <th>curr</th>\n",
              "    </tr>\n",
              "  </thead>\n",
              "  <tbody>\n",
              "    <tr>\n",
              "      <th>890</th>\n",
              "      <td>47296</td>\n",
              "      <td>72173</td>\n",
              "      <td>The Hoxton, Shoreditch</td>\n",
              "      <td>81 Great Eastern Street</td>\n",
              "      <td>London</td>\n",
              "      <td>United Kingdom</td>\n",
              "      <td>NaN</td>\n",
              "      <td>Hotels</td>\n",
              "      <td>4</td>\n",
              "      <td>51.525612</td>\n",
              "      <td>-0.08284</td>\n",
              "      <td>5</td>\n",
              "      <td>NaN</td>\n",
              "      <td>GBP</td>\n",
              "    </tr>\n",
              "    <tr>\n",
              "      <th>3594</th>\n",
              "      <td>50111</td>\n",
              "      <td>7383775</td>\n",
              "      <td>Hotel Castleford by Accor</td>\n",
              "      <td>Pioneer Way</td>\n",
              "      <td>Castleford</td>\n",
              "      <td>United Kingdom</td>\n",
              "      <td>NaN</td>\n",
              "      <td>Hotels</td>\n",
              "      <td>3</td>\n",
              "      <td>53.712479</td>\n",
              "      <td>-1.38684</td>\n",
              "      <td>5</td>\n",
              "      <td>NaN</td>\n",
              "      <td>GBP</td>\n",
              "    </tr>\n",
              "    <tr>\n",
              "      <th>9497</th>\n",
              "      <td>55903</td>\n",
              "      <td>7645732</td>\n",
              "      <td>OYO Chase Suites</td>\n",
              "      <td>Bridge Street</td>\n",
              "      <td>Cannock</td>\n",
              "      <td>United Kingdom</td>\n",
              "      <td>NaN</td>\n",
              "      <td>Hotels</td>\n",
              "      <td>3</td>\n",
              "      <td>52.673489</td>\n",
              "      <td>-2.02500</td>\n",
              "      <td>5</td>\n",
              "      <td>NaN</td>\n",
              "      <td>GBP</td>\n",
              "    </tr>\n",
              "    <tr>\n",
              "      <th>12821</th>\n",
              "      <td>59226</td>\n",
              "      <td>2060565</td>\n",
              "      <td>Dell Mar</td>\n",
              "      <td>6 Beechgrove Moffat</td>\n",
              "      <td>Moffat</td>\n",
              "      <td>United Kingdom</td>\n",
              "      <td>NaN</td>\n",
              "      <td>Hotels</td>\n",
              "      <td>3</td>\n",
              "      <td>55.336868</td>\n",
              "      <td>-3.44662</td>\n",
              "      <td>5</td>\n",
              "      <td>NaN</td>\n",
              "      <td>GBP</td>\n",
              "    </tr>\n",
              "    <tr>\n",
              "      <th>15043</th>\n",
              "      <td>61449</td>\n",
              "      <td>2170356</td>\n",
              "      <td>The Lanes Hotel</td>\n",
              "      <td>70-72 MARINE PARADE</td>\n",
              "      <td>Brighton and Hove</td>\n",
              "      <td>United Kingdom</td>\n",
              "      <td>NaN</td>\n",
              "      <td>Hotels</td>\n",
              "      <td>3</td>\n",
              "      <td>50.818741</td>\n",
              "      <td>-0.12793</td>\n",
              "      <td>5</td>\n",
              "      <td>NaN</td>\n",
              "      <td>GBP</td>\n",
              "    </tr>\n",
              "    <tr>\n",
              "      <th>15943</th>\n",
              "      <td>62348</td>\n",
              "      <td>2194658</td>\n",
              "      <td>Apex City of Bath Hotel</td>\n",
              "      <td>1 James Street West</td>\n",
              "      <td>Bath</td>\n",
              "      <td>United Kingdom</td>\n",
              "      <td>NaN</td>\n",
              "      <td>Hotels</td>\n",
              "      <td>4</td>\n",
              "      <td>51.381088</td>\n",
              "      <td>-2.36461</td>\n",
              "      <td>5</td>\n",
              "      <td>NaN</td>\n",
              "      <td>GBP</td>\n",
              "    </tr>\n",
              "    <tr>\n",
              "      <th>17124</th>\n",
              "      <td>63530</td>\n",
              "      <td>8195392</td>\n",
              "      <td>Eurostars Pazo de Sober</td>\n",
              "      <td>Camino do Pazo s/n</td>\n",
              "      <td>Sober</td>\n",
              "      <td>Spain</td>\n",
              "      <td>27460.0</td>\n",
              "      <td>Hotels</td>\n",
              "      <td>4</td>\n",
              "      <td>42.461849</td>\n",
              "      <td>-7.58183</td>\n",
              "      <td>5</td>\n",
              "      <td>NaN</td>\n",
              "      <td>EUR</td>\n",
              "    </tr>\n",
              "    <tr>\n",
              "      <th>17340</th>\n",
              "      <td>63746</td>\n",
              "      <td>8262855</td>\n",
              "      <td>Golden Key Boutique Hotel</td>\n",
              "      <td>3 Lazenska</td>\n",
              "      <td>Karlovy Vary</td>\n",
              "      <td>Czech Republic</td>\n",
              "      <td>NaN</td>\n",
              "      <td>Hotels</td>\n",
              "      <td>4</td>\n",
              "      <td>50.224522</td>\n",
              "      <td>12.88314</td>\n",
              "      <td>5</td>\n",
              "      <td>NaN</td>\n",
              "      <td>EUR</td>\n",
              "    </tr>\n",
              "    <tr>\n",
              "      <th>18122</th>\n",
              "      <td>64528</td>\n",
              "      <td>226761</td>\n",
              "      <td>The Varsity Hotel &amp; Spa</td>\n",
              "      <td>Thompson's Lane</td>\n",
              "      <td>Cambridge</td>\n",
              "      <td>United Kingdom</td>\n",
              "      <td>NaN</td>\n",
              "      <td>Hotels</td>\n",
              "      <td>4</td>\n",
              "      <td>52.210251</td>\n",
              "      <td>0.11808</td>\n",
              "      <td>5</td>\n",
              "      <td>NaN</td>\n",
              "      <td>GBP</td>\n",
              "    </tr>\n",
              "    <tr>\n",
              "      <th>18150</th>\n",
              "      <td>64556</td>\n",
              "      <td>226860</td>\n",
              "      <td>OYO London 24 Sussex</td>\n",
              "      <td>24 Sussex Gardens</td>\n",
              "      <td>London</td>\n",
              "      <td>United Kingdom</td>\n",
              "      <td>NaN</td>\n",
              "      <td>Hotels</td>\n",
              "      <td>3</td>\n",
              "      <td>51.517780</td>\n",
              "      <td>-0.16850</td>\n",
              "      <td>5</td>\n",
              "      <td>NaN</td>\n",
              "      <td>GBP</td>\n",
              "    </tr>\n",
              "    <tr>\n",
              "      <th>18527</th>\n",
              "      <td>64933</td>\n",
              "      <td>829701</td>\n",
              "      <td>Village Hotel Edinburgh</td>\n",
              "      <td>140 Crewe South Road</td>\n",
              "      <td>Edinburgh</td>\n",
              "      <td>United Kingdom</td>\n",
              "      <td>NaN</td>\n",
              "      <td>Hotels</td>\n",
              "      <td>4</td>\n",
              "      <td>55.967800</td>\n",
              "      <td>-3.23557</td>\n",
              "      <td>5</td>\n",
              "      <td>NaN</td>\n",
              "      <td>GBP</td>\n",
              "    </tr>\n",
              "    <tr>\n",
              "      <th>20036</th>\n",
              "      <td>66552</td>\n",
              "      <td>232092</td>\n",
              "      <td>The Nadler Liverpool</td>\n",
              "      <td>29 Seel Street</td>\n",
              "      <td>Liverpool</td>\n",
              "      <td>United Kingdom</td>\n",
              "      <td>NaN</td>\n",
              "      <td>Hotels</td>\n",
              "      <td>4</td>\n",
              "      <td>53.402580</td>\n",
              "      <td>-2.98052</td>\n",
              "      <td>5</td>\n",
              "      <td>NaN</td>\n",
              "      <td>GBP</td>\n",
              "    </tr>\n",
              "    <tr>\n",
              "      <th>20113</th>\n",
              "      <td>66517</td>\n",
              "      <td>2318258</td>\n",
              "      <td>Cityheart Inverness - Campus Accommodation</td>\n",
              "      <td>Cityheart Living Scotland Limited UHI Student ...</td>\n",
              "      <td>Inverness</td>\n",
              "      <td>United Kingdom</td>\n",
              "      <td>NaN</td>\n",
              "      <td>Hotels</td>\n",
              "      <td>4</td>\n",
              "      <td>57.479130</td>\n",
              "      <td>-4.18588</td>\n",
              "      <td>5</td>\n",
              "      <td>NaN</td>\n",
              "      <td>GBP</td>\n",
              "    </tr>\n",
              "    <tr>\n",
              "      <th>20153</th>\n",
              "      <td>66559</td>\n",
              "      <td>2321201</td>\n",
              "      <td>City Garni Hotel</td>\n",
              "      <td>Hintere Gasse 14</td>\n",
              "      <td>Fussen</td>\n",
              "      <td>Germany</td>\n",
              "      <td>87629.0</td>\n",
              "      <td>Hotels</td>\n",
              "      <td>4</td>\n",
              "      <td>47.568890</td>\n",
              "      <td>10.69914</td>\n",
              "      <td>5</td>\n",
              "      <td>NaN</td>\n",
              "      <td>EUR</td>\n",
              "    </tr>\n",
              "    <tr>\n",
              "      <th>20176</th>\n",
              "      <td>66582</td>\n",
              "      <td>232296</td>\n",
              "      <td>Nevis Bank Inn</td>\n",
              "      <td>Belford Road</td>\n",
              "      <td>Fort William</td>\n",
              "      <td>United Kingdom</td>\n",
              "      <td>NaN</td>\n",
              "      <td>Hotels</td>\n",
              "      <td>4</td>\n",
              "      <td>56.821388</td>\n",
              "      <td>-5.09535</td>\n",
              "      <td>5</td>\n",
              "      <td>NaN</td>\n",
              "      <td>GBP</td>\n",
              "    </tr>\n",
              "  </tbody>\n",
              "</table>\n",
              "</div>\n",
              "    <div class=\"colab-df-buttons\">\n",
              "\n",
              "  <div class=\"colab-df-container\">\n",
              "    <button class=\"colab-df-convert\" onclick=\"convertToInteractive('df-c11d6b88-27ab-4769-8d56-cded0b00f7cb')\"\n",
              "            title=\"Convert this dataframe to an interactive table.\"\n",
              "            style=\"display:none;\">\n",
              "\n",
              "  <svg xmlns=\"http://www.w3.org/2000/svg\" height=\"24px\" viewBox=\"0 -960 960 960\">\n",
              "    <path d=\"M120-120v-720h720v720H120Zm60-500h600v-160H180v160Zm220 220h160v-160H400v160Zm0 220h160v-160H400v160ZM180-400h160v-160H180v160Zm440 0h160v-160H620v160ZM180-180h160v-160H180v160Zm440 0h160v-160H620v160Z\"/>\n",
              "  </svg>\n",
              "    </button>\n",
              "\n",
              "  <style>\n",
              "    .colab-df-container {\n",
              "      display:flex;\n",
              "      gap: 12px;\n",
              "    }\n",
              "\n",
              "    .colab-df-convert {\n",
              "      background-color: #E8F0FE;\n",
              "      border: none;\n",
              "      border-radius: 50%;\n",
              "      cursor: pointer;\n",
              "      display: none;\n",
              "      fill: #1967D2;\n",
              "      height: 32px;\n",
              "      padding: 0 0 0 0;\n",
              "      width: 32px;\n",
              "    }\n",
              "\n",
              "    .colab-df-convert:hover {\n",
              "      background-color: #E2EBFA;\n",
              "      box-shadow: 0px 1px 2px rgba(60, 64, 67, 0.3), 0px 1px 3px 1px rgba(60, 64, 67, 0.15);\n",
              "      fill: #174EA6;\n",
              "    }\n",
              "\n",
              "    .colab-df-buttons div {\n",
              "      margin-bottom: 4px;\n",
              "    }\n",
              "\n",
              "    [theme=dark] .colab-df-convert {\n",
              "      background-color: #3B4455;\n",
              "      fill: #D2E3FC;\n",
              "    }\n",
              "\n",
              "    [theme=dark] .colab-df-convert:hover {\n",
              "      background-color: #434B5C;\n",
              "      box-shadow: 0px 1px 3px 1px rgba(0, 0, 0, 0.15);\n",
              "      filter: drop-shadow(0px 1px 2px rgba(0, 0, 0, 0.3));\n",
              "      fill: #FFFFFF;\n",
              "    }\n",
              "  </style>\n",
              "\n",
              "    <script>\n",
              "      const buttonEl =\n",
              "        document.querySelector('#df-c11d6b88-27ab-4769-8d56-cded0b00f7cb button.colab-df-convert');\n",
              "      buttonEl.style.display =\n",
              "        google.colab.kernel.accessAllowed ? 'block' : 'none';\n",
              "\n",
              "      async function convertToInteractive(key) {\n",
              "        const element = document.querySelector('#df-c11d6b88-27ab-4769-8d56-cded0b00f7cb');\n",
              "        const dataTable =\n",
              "          await google.colab.kernel.invokeFunction('convertToInteractive',\n",
              "                                                    [key], {});\n",
              "        if (!dataTable) return;\n",
              "\n",
              "        const docLinkHtml = 'Like what you see? Visit the ' +\n",
              "          '<a target=\"_blank\" href=https://colab.research.google.com/notebooks/data_table.ipynb>data table notebook</a>'\n",
              "          + ' to learn more about interactive tables.';\n",
              "        element.innerHTML = '';\n",
              "        dataTable['output_type'] = 'display_data';\n",
              "        await google.colab.output.renderOutput(dataTable, element);\n",
              "        const docLink = document.createElement('div');\n",
              "        docLink.innerHTML = docLinkHtml;\n",
              "        element.appendChild(docLink);\n",
              "      }\n",
              "    </script>\n",
              "  </div>\n",
              "\n",
              "\n",
              "<div id=\"df-07f74e3c-7a3c-4199-8d38-4e41718f1f40\">\n",
              "  <button class=\"colab-df-quickchart\" onclick=\"quickchart('df-07f74e3c-7a3c-4199-8d38-4e41718f1f40')\"\n",
              "            title=\"Suggest charts\"\n",
              "            style=\"display:none;\">\n",
              "\n",
              "<svg xmlns=\"http://www.w3.org/2000/svg\" height=\"24px\"viewBox=\"0 0 24 24\"\n",
              "     width=\"24px\">\n",
              "    <g>\n",
              "        <path d=\"M19 3H5c-1.1 0-2 .9-2 2v14c0 1.1.9 2 2 2h14c1.1 0 2-.9 2-2V5c0-1.1-.9-2-2-2zM9 17H7v-7h2v7zm4 0h-2V7h2v10zm4 0h-2v-4h2v4z\"/>\n",
              "    </g>\n",
              "</svg>\n",
              "  </button>\n",
              "\n",
              "<style>\n",
              "  .colab-df-quickchart {\n",
              "      --bg-color: #E8F0FE;\n",
              "      --fill-color: #1967D2;\n",
              "      --hover-bg-color: #E2EBFA;\n",
              "      --hover-fill-color: #174EA6;\n",
              "      --disabled-fill-color: #AAA;\n",
              "      --disabled-bg-color: #DDD;\n",
              "  }\n",
              "\n",
              "  [theme=dark] .colab-df-quickchart {\n",
              "      --bg-color: #3B4455;\n",
              "      --fill-color: #D2E3FC;\n",
              "      --hover-bg-color: #434B5C;\n",
              "      --hover-fill-color: #FFFFFF;\n",
              "      --disabled-bg-color: #3B4455;\n",
              "      --disabled-fill-color: #666;\n",
              "  }\n",
              "\n",
              "  .colab-df-quickchart {\n",
              "    background-color: var(--bg-color);\n",
              "    border: none;\n",
              "    border-radius: 50%;\n",
              "    cursor: pointer;\n",
              "    display: none;\n",
              "    fill: var(--fill-color);\n",
              "    height: 32px;\n",
              "    padding: 0;\n",
              "    width: 32px;\n",
              "  }\n",
              "\n",
              "  .colab-df-quickchart:hover {\n",
              "    background-color: var(--hover-bg-color);\n",
              "    box-shadow: 0 1px 2px rgba(60, 64, 67, 0.3), 0 1px 3px 1px rgba(60, 64, 67, 0.15);\n",
              "    fill: var(--button-hover-fill-color);\n",
              "  }\n",
              "\n",
              "  .colab-df-quickchart-complete:disabled,\n",
              "  .colab-df-quickchart-complete:disabled:hover {\n",
              "    background-color: var(--disabled-bg-color);\n",
              "    fill: var(--disabled-fill-color);\n",
              "    box-shadow: none;\n",
              "  }\n",
              "\n",
              "  .colab-df-spinner {\n",
              "    border: 2px solid var(--fill-color);\n",
              "    border-color: transparent;\n",
              "    border-bottom-color: var(--fill-color);\n",
              "    animation:\n",
              "      spin 1s steps(1) infinite;\n",
              "  }\n",
              "\n",
              "  @keyframes spin {\n",
              "    0% {\n",
              "      border-color: transparent;\n",
              "      border-bottom-color: var(--fill-color);\n",
              "      border-left-color: var(--fill-color);\n",
              "    }\n",
              "    20% {\n",
              "      border-color: transparent;\n",
              "      border-left-color: var(--fill-color);\n",
              "      border-top-color: var(--fill-color);\n",
              "    }\n",
              "    30% {\n",
              "      border-color: transparent;\n",
              "      border-left-color: var(--fill-color);\n",
              "      border-top-color: var(--fill-color);\n",
              "      border-right-color: var(--fill-color);\n",
              "    }\n",
              "    40% {\n",
              "      border-color: transparent;\n",
              "      border-right-color: var(--fill-color);\n",
              "      border-top-color: var(--fill-color);\n",
              "    }\n",
              "    60% {\n",
              "      border-color: transparent;\n",
              "      border-right-color: var(--fill-color);\n",
              "    }\n",
              "    80% {\n",
              "      border-color: transparent;\n",
              "      border-right-color: var(--fill-color);\n",
              "      border-bottom-color: var(--fill-color);\n",
              "    }\n",
              "    90% {\n",
              "      border-color: transparent;\n",
              "      border-bottom-color: var(--fill-color);\n",
              "    }\n",
              "  }\n",
              "</style>\n",
              "\n",
              "  <script>\n",
              "    async function quickchart(key) {\n",
              "      const quickchartButtonEl =\n",
              "        document.querySelector('#' + key + ' button');\n",
              "      quickchartButtonEl.disabled = true;  // To prevent multiple clicks.\n",
              "      quickchartButtonEl.classList.add('colab-df-spinner');\n",
              "      try {\n",
              "        const charts = await google.colab.kernel.invokeFunction(\n",
              "            'suggestCharts', [key], {});\n",
              "      } catch (error) {\n",
              "        console.error('Error during call to suggestCharts:', error);\n",
              "      }\n",
              "      quickchartButtonEl.classList.remove('colab-df-spinner');\n",
              "      quickchartButtonEl.classList.add('colab-df-quickchart-complete');\n",
              "    }\n",
              "    (() => {\n",
              "      let quickchartButtonEl =\n",
              "        document.querySelector('#df-07f74e3c-7a3c-4199-8d38-4e41718f1f40 button');\n",
              "      quickchartButtonEl.style.display =\n",
              "        google.colab.kernel.accessAllowed ? 'block' : 'none';\n",
              "    })();\n",
              "  </script>\n",
              "</div>\n",
              "    </div>\n",
              "  </div>\n"
            ]
          },
          "metadata": {},
          "execution_count": 699
        }
      ],
      "source": [
        "null_url = df_details[df_details['url'].isnull()]\n",
        "null_url.head(15)"
      ]
    },
    {
      "cell_type": "code",
      "execution_count": 700,
      "id": "a0a7913c",
      "metadata": {
        "id": "a0a7913c",
        "outputId": "d188e74c-8eab-4788-9ae8-2cca9a0a4d5f",
        "colab": {
          "base_uri": "https://localhost:8080/",
          "height": 0
        }
      },
      "outputs": [
        {
          "output_type": "execute_result",
          "data": {
            "text/plain": [
              "5    97\n",
              "2    14\n",
              "Name: Source, dtype: int64"
            ]
          },
          "metadata": {},
          "execution_count": 700
        }
      ],
      "source": [
        "null_url['Source'].value_counts()"
      ]
    },
    {
      "cell_type": "code",
      "execution_count": 701,
      "id": "83e25e5f",
      "metadata": {
        "id": "83e25e5f"
      },
      "outputs": [],
      "source": [
        "details_to_drop = ['id', 'zipcode', 'latitude', 'longitude', 'Source', 'url']\n",
        "details_drop = df_details.drop(columns=details_to_drop, axis=1)"
      ]
    },
    {
      "cell_type": "code",
      "execution_count": 702,
      "id": "7d64ac38",
      "metadata": {
        "id": "7d64ac38",
        "outputId": "dc558609-07f4-4fdd-c785-96fc462e83b6",
        "colab": {
          "base_uri": "https://localhost:8080/",
          "height": 206
        }
      },
      "outputs": [
        {
          "output_type": "execute_result",
          "data": {
            "text/plain": [
              "   hotelid                 hotelname                 address     city  \\\n",
              "0  1771651  Mediteran Bungalow Galeb            Vukovarska 7     Omis   \n",
              "1   177167             Hotel Polonia        Plac Teatralny 5    Torun   \n",
              "2  1771675         Rifugio Sass Bece  Belvedere del Pordoi,1  Canazei   \n",
              "3   177168            Madalena Hotel                 Mykonos  Mykonos   \n",
              "4  1771718         Pension Morenfeld  Mair im Korn Strasse 2  Lagundo   \n",
              "\n",
              "   country   propertytype  starrating curr  \n",
              "0  Croatia  Holiday parks           4  EUR  \n",
              "1   Poland         Hotels           3  EUR  \n",
              "2    Italy         Hotels           3  EUR  \n",
              "3   Greece         Hotels           3  EUR  \n",
              "4    Italy         Hotels           3  EUR  "
            ],
            "text/html": [
              "\n",
              "  <div id=\"df-43cdc676-4613-4c3f-a0e3-412e486a35e0\" class=\"colab-df-container\">\n",
              "    <div>\n",
              "<style scoped>\n",
              "    .dataframe tbody tr th:only-of-type {\n",
              "        vertical-align: middle;\n",
              "    }\n",
              "\n",
              "    .dataframe tbody tr th {\n",
              "        vertical-align: top;\n",
              "    }\n",
              "\n",
              "    .dataframe thead th {\n",
              "        text-align: right;\n",
              "    }\n",
              "</style>\n",
              "<table border=\"1\" class=\"dataframe\">\n",
              "  <thead>\n",
              "    <tr style=\"text-align: right;\">\n",
              "      <th></th>\n",
              "      <th>hotelid</th>\n",
              "      <th>hotelname</th>\n",
              "      <th>address</th>\n",
              "      <th>city</th>\n",
              "      <th>country</th>\n",
              "      <th>propertytype</th>\n",
              "      <th>starrating</th>\n",
              "      <th>curr</th>\n",
              "    </tr>\n",
              "  </thead>\n",
              "  <tbody>\n",
              "    <tr>\n",
              "      <th>0</th>\n",
              "      <td>1771651</td>\n",
              "      <td>Mediteran Bungalow Galeb</td>\n",
              "      <td>Vukovarska 7</td>\n",
              "      <td>Omis</td>\n",
              "      <td>Croatia</td>\n",
              "      <td>Holiday parks</td>\n",
              "      <td>4</td>\n",
              "      <td>EUR</td>\n",
              "    </tr>\n",
              "    <tr>\n",
              "      <th>1</th>\n",
              "      <td>177167</td>\n",
              "      <td>Hotel Polonia</td>\n",
              "      <td>Plac Teatralny 5</td>\n",
              "      <td>Torun</td>\n",
              "      <td>Poland</td>\n",
              "      <td>Hotels</td>\n",
              "      <td>3</td>\n",
              "      <td>EUR</td>\n",
              "    </tr>\n",
              "    <tr>\n",
              "      <th>2</th>\n",
              "      <td>1771675</td>\n",
              "      <td>Rifugio Sass Bece</td>\n",
              "      <td>Belvedere del Pordoi,1</td>\n",
              "      <td>Canazei</td>\n",
              "      <td>Italy</td>\n",
              "      <td>Hotels</td>\n",
              "      <td>3</td>\n",
              "      <td>EUR</td>\n",
              "    </tr>\n",
              "    <tr>\n",
              "      <th>3</th>\n",
              "      <td>177168</td>\n",
              "      <td>Madalena Hotel</td>\n",
              "      <td>Mykonos</td>\n",
              "      <td>Mykonos</td>\n",
              "      <td>Greece</td>\n",
              "      <td>Hotels</td>\n",
              "      <td>3</td>\n",
              "      <td>EUR</td>\n",
              "    </tr>\n",
              "    <tr>\n",
              "      <th>4</th>\n",
              "      <td>1771718</td>\n",
              "      <td>Pension Morenfeld</td>\n",
              "      <td>Mair im Korn Strasse 2</td>\n",
              "      <td>Lagundo</td>\n",
              "      <td>Italy</td>\n",
              "      <td>Hotels</td>\n",
              "      <td>3</td>\n",
              "      <td>EUR</td>\n",
              "    </tr>\n",
              "  </tbody>\n",
              "</table>\n",
              "</div>\n",
              "    <div class=\"colab-df-buttons\">\n",
              "\n",
              "  <div class=\"colab-df-container\">\n",
              "    <button class=\"colab-df-convert\" onclick=\"convertToInteractive('df-43cdc676-4613-4c3f-a0e3-412e486a35e0')\"\n",
              "            title=\"Convert this dataframe to an interactive table.\"\n",
              "            style=\"display:none;\">\n",
              "\n",
              "  <svg xmlns=\"http://www.w3.org/2000/svg\" height=\"24px\" viewBox=\"0 -960 960 960\">\n",
              "    <path d=\"M120-120v-720h720v720H120Zm60-500h600v-160H180v160Zm220 220h160v-160H400v160Zm0 220h160v-160H400v160ZM180-400h160v-160H180v160Zm440 0h160v-160H620v160ZM180-180h160v-160H180v160Zm440 0h160v-160H620v160Z\"/>\n",
              "  </svg>\n",
              "    </button>\n",
              "\n",
              "  <style>\n",
              "    .colab-df-container {\n",
              "      display:flex;\n",
              "      gap: 12px;\n",
              "    }\n",
              "\n",
              "    .colab-df-convert {\n",
              "      background-color: #E8F0FE;\n",
              "      border: none;\n",
              "      border-radius: 50%;\n",
              "      cursor: pointer;\n",
              "      display: none;\n",
              "      fill: #1967D2;\n",
              "      height: 32px;\n",
              "      padding: 0 0 0 0;\n",
              "      width: 32px;\n",
              "    }\n",
              "\n",
              "    .colab-df-convert:hover {\n",
              "      background-color: #E2EBFA;\n",
              "      box-shadow: 0px 1px 2px rgba(60, 64, 67, 0.3), 0px 1px 3px 1px rgba(60, 64, 67, 0.15);\n",
              "      fill: #174EA6;\n",
              "    }\n",
              "\n",
              "    .colab-df-buttons div {\n",
              "      margin-bottom: 4px;\n",
              "    }\n",
              "\n",
              "    [theme=dark] .colab-df-convert {\n",
              "      background-color: #3B4455;\n",
              "      fill: #D2E3FC;\n",
              "    }\n",
              "\n",
              "    [theme=dark] .colab-df-convert:hover {\n",
              "      background-color: #434B5C;\n",
              "      box-shadow: 0px 1px 3px 1px rgba(0, 0, 0, 0.15);\n",
              "      filter: drop-shadow(0px 1px 2px rgba(0, 0, 0, 0.3));\n",
              "      fill: #FFFFFF;\n",
              "    }\n",
              "  </style>\n",
              "\n",
              "    <script>\n",
              "      const buttonEl =\n",
              "        document.querySelector('#df-43cdc676-4613-4c3f-a0e3-412e486a35e0 button.colab-df-convert');\n",
              "      buttonEl.style.display =\n",
              "        google.colab.kernel.accessAllowed ? 'block' : 'none';\n",
              "\n",
              "      async function convertToInteractive(key) {\n",
              "        const element = document.querySelector('#df-43cdc676-4613-4c3f-a0e3-412e486a35e0');\n",
              "        const dataTable =\n",
              "          await google.colab.kernel.invokeFunction('convertToInteractive',\n",
              "                                                    [key], {});\n",
              "        if (!dataTable) return;\n",
              "\n",
              "        const docLinkHtml = 'Like what you see? Visit the ' +\n",
              "          '<a target=\"_blank\" href=https://colab.research.google.com/notebooks/data_table.ipynb>data table notebook</a>'\n",
              "          + ' to learn more about interactive tables.';\n",
              "        element.innerHTML = '';\n",
              "        dataTable['output_type'] = 'display_data';\n",
              "        await google.colab.output.renderOutput(dataTable, element);\n",
              "        const docLink = document.createElement('div');\n",
              "        docLink.innerHTML = docLinkHtml;\n",
              "        element.appendChild(docLink);\n",
              "      }\n",
              "    </script>\n",
              "  </div>\n",
              "\n",
              "\n",
              "<div id=\"df-4cd75bcf-b4bf-4427-82ba-6144395e2e30\">\n",
              "  <button class=\"colab-df-quickchart\" onclick=\"quickchart('df-4cd75bcf-b4bf-4427-82ba-6144395e2e30')\"\n",
              "            title=\"Suggest charts\"\n",
              "            style=\"display:none;\">\n",
              "\n",
              "<svg xmlns=\"http://www.w3.org/2000/svg\" height=\"24px\"viewBox=\"0 0 24 24\"\n",
              "     width=\"24px\">\n",
              "    <g>\n",
              "        <path d=\"M19 3H5c-1.1 0-2 .9-2 2v14c0 1.1.9 2 2 2h14c1.1 0 2-.9 2-2V5c0-1.1-.9-2-2-2zM9 17H7v-7h2v7zm4 0h-2V7h2v10zm4 0h-2v-4h2v4z\"/>\n",
              "    </g>\n",
              "</svg>\n",
              "  </button>\n",
              "\n",
              "<style>\n",
              "  .colab-df-quickchart {\n",
              "      --bg-color: #E8F0FE;\n",
              "      --fill-color: #1967D2;\n",
              "      --hover-bg-color: #E2EBFA;\n",
              "      --hover-fill-color: #174EA6;\n",
              "      --disabled-fill-color: #AAA;\n",
              "      --disabled-bg-color: #DDD;\n",
              "  }\n",
              "\n",
              "  [theme=dark] .colab-df-quickchart {\n",
              "      --bg-color: #3B4455;\n",
              "      --fill-color: #D2E3FC;\n",
              "      --hover-bg-color: #434B5C;\n",
              "      --hover-fill-color: #FFFFFF;\n",
              "      --disabled-bg-color: #3B4455;\n",
              "      --disabled-fill-color: #666;\n",
              "  }\n",
              "\n",
              "  .colab-df-quickchart {\n",
              "    background-color: var(--bg-color);\n",
              "    border: none;\n",
              "    border-radius: 50%;\n",
              "    cursor: pointer;\n",
              "    display: none;\n",
              "    fill: var(--fill-color);\n",
              "    height: 32px;\n",
              "    padding: 0;\n",
              "    width: 32px;\n",
              "  }\n",
              "\n",
              "  .colab-df-quickchart:hover {\n",
              "    background-color: var(--hover-bg-color);\n",
              "    box-shadow: 0 1px 2px rgba(60, 64, 67, 0.3), 0 1px 3px 1px rgba(60, 64, 67, 0.15);\n",
              "    fill: var(--button-hover-fill-color);\n",
              "  }\n",
              "\n",
              "  .colab-df-quickchart-complete:disabled,\n",
              "  .colab-df-quickchart-complete:disabled:hover {\n",
              "    background-color: var(--disabled-bg-color);\n",
              "    fill: var(--disabled-fill-color);\n",
              "    box-shadow: none;\n",
              "  }\n",
              "\n",
              "  .colab-df-spinner {\n",
              "    border: 2px solid var(--fill-color);\n",
              "    border-color: transparent;\n",
              "    border-bottom-color: var(--fill-color);\n",
              "    animation:\n",
              "      spin 1s steps(1) infinite;\n",
              "  }\n",
              "\n",
              "  @keyframes spin {\n",
              "    0% {\n",
              "      border-color: transparent;\n",
              "      border-bottom-color: var(--fill-color);\n",
              "      border-left-color: var(--fill-color);\n",
              "    }\n",
              "    20% {\n",
              "      border-color: transparent;\n",
              "      border-left-color: var(--fill-color);\n",
              "      border-top-color: var(--fill-color);\n",
              "    }\n",
              "    30% {\n",
              "      border-color: transparent;\n",
              "      border-left-color: var(--fill-color);\n",
              "      border-top-color: var(--fill-color);\n",
              "      border-right-color: var(--fill-color);\n",
              "    }\n",
              "    40% {\n",
              "      border-color: transparent;\n",
              "      border-right-color: var(--fill-color);\n",
              "      border-top-color: var(--fill-color);\n",
              "    }\n",
              "    60% {\n",
              "      border-color: transparent;\n",
              "      border-right-color: var(--fill-color);\n",
              "    }\n",
              "    80% {\n",
              "      border-color: transparent;\n",
              "      border-right-color: var(--fill-color);\n",
              "      border-bottom-color: var(--fill-color);\n",
              "    }\n",
              "    90% {\n",
              "      border-color: transparent;\n",
              "      border-bottom-color: var(--fill-color);\n",
              "    }\n",
              "  }\n",
              "</style>\n",
              "\n",
              "  <script>\n",
              "    async function quickchart(key) {\n",
              "      const quickchartButtonEl =\n",
              "        document.querySelector('#' + key + ' button');\n",
              "      quickchartButtonEl.disabled = true;  // To prevent multiple clicks.\n",
              "      quickchartButtonEl.classList.add('colab-df-spinner');\n",
              "      try {\n",
              "        const charts = await google.colab.kernel.invokeFunction(\n",
              "            'suggestCharts', [key], {});\n",
              "      } catch (error) {\n",
              "        console.error('Error during call to suggestCharts:', error);\n",
              "      }\n",
              "      quickchartButtonEl.classList.remove('colab-df-spinner');\n",
              "      quickchartButtonEl.classList.add('colab-df-quickchart-complete');\n",
              "    }\n",
              "    (() => {\n",
              "      let quickchartButtonEl =\n",
              "        document.querySelector('#df-4cd75bcf-b4bf-4427-82ba-6144395e2e30 button');\n",
              "      quickchartButtonEl.style.display =\n",
              "        google.colab.kernel.accessAllowed ? 'block' : 'none';\n",
              "    })();\n",
              "  </script>\n",
              "</div>\n",
              "    </div>\n",
              "  </div>\n"
            ]
          },
          "metadata": {},
          "execution_count": 702
        }
      ],
      "source": [
        "details_drop.head()"
      ]
    },
    {
      "cell_type": "code",
      "execution_count": 703,
      "id": "7d0fcf25",
      "metadata": {
        "id": "7d0fcf25",
        "outputId": "83fa2e4f-540e-48ec-bb7e-de12405e5883",
        "colab": {
          "base_uri": "https://localhost:8080/",
          "height": 0
        }
      },
      "outputs": [
        {
          "output_type": "stream",
          "name": "stdout",
          "text": [
            "<class 'pandas.core.frame.DataFrame'>\n",
            "RangeIndex: 108048 entries, 0 to 108047\n",
            "Data columns (total 8 columns):\n",
            " #   Column        Non-Null Count   Dtype \n",
            "---  ------        --------------   ----- \n",
            " 0   hotelid       108048 non-null  int64 \n",
            " 1   hotelname     108048 non-null  object\n",
            " 2   address       102955 non-null  object\n",
            " 3   city          108048 non-null  object\n",
            " 4   country       108048 non-null  object\n",
            " 5   propertytype  108048 non-null  object\n",
            " 6   starrating    108048 non-null  int64 \n",
            " 7   curr          108048 non-null  object\n",
            "dtypes: int64(2), object(6)\n",
            "memory usage: 6.6+ MB\n"
          ]
        }
      ],
      "source": [
        "details_drop.info()"
      ]
    },
    {
      "cell_type": "code",
      "execution_count": 704,
      "id": "ce373b50",
      "metadata": {
        "id": "ce373b50"
      },
      "outputs": [],
      "source": [
        "details_drop['address'].fillna('no information', inplace=True)"
      ]
    },
    {
      "cell_type": "code",
      "execution_count": 705,
      "id": "fcaea16c",
      "metadata": {
        "id": "fcaea16c",
        "outputId": "b1b4b6c7-3eed-4f65-94d0-8ea0477768df",
        "colab": {
          "base_uri": "https://localhost:8080/",
          "height": 0
        }
      },
      "outputs": [
        {
          "output_type": "execute_result",
          "data": {
            "text/plain": [
              "hotelid         0\n",
              "hotelname       0\n",
              "address         0\n",
              "city            0\n",
              "country         0\n",
              "propertytype    0\n",
              "starrating      0\n",
              "curr            0\n",
              "dtype: int64"
            ]
          },
          "metadata": {},
          "execution_count": 705
        }
      ],
      "source": [
        "details_drop.isnull().sum()"
      ]
    },
    {
      "cell_type": "markdown",
      "id": "8911edda",
      "metadata": {
        "id": "8911edda"
      },
      "source": [
        "### Based on hotel_price_min_max"
      ]
    },
    {
      "cell_type": "code",
      "execution_count": 706,
      "id": "c6a5102f",
      "metadata": {
        "id": "c6a5102f",
        "outputId": "f0d7fe4f-68a3-463a-b087-e92e48c10bbc",
        "colab": {
          "base_uri": "https://localhost:8080/",
          "height": 520
        }
      },
      "outputs": [
        {
          "output_type": "execute_result",
          "data": {
            "text/plain": [
              "    hotelcode     min     max  Diff_Min  Diff_Max  Score\n",
              "0          31   75.10  189.88     0.000     0.000   0.00\n",
              "1          97  259.76  400.00     1.103     0.712   0.91\n",
              "2         834  220.67  656.86     0.786     1.124   0.95\n",
              "3        3144  254.54  347.30     0.886     0.395   0.64\n",
              "4       11203  230.91  244.58     0.748     0.149   0.45\n",
              "5         383   78.40  180.56     0.018     0.028   0.02\n",
              "6         162  123.16  371.71     0.271     0.532   0.40\n",
              "7         287   75.10  189.88     0.000     0.000   0.00\n",
              "8         333   46.80   46.80     0.187     0.490   0.34\n",
              "9         378  235.16  951.90     1.001     2.129   1.56\n",
              "10        383   78.40  180.56     0.022     0.027   0.02\n",
              "11        441   70.33  209.97     0.033     0.061   0.05\n",
              "12        515  124.76  603.14     0.345     1.175   0.76\n",
              "13        541   81.31  252.93     0.044     0.183   0.11\n",
              "14        560  245.00  333.77     1.159     0.418   0.79"
            ],
            "text/html": [
              "\n",
              "  <div id=\"df-18099717-c4de-4602-9e40-d4cd5bd9b15e\" class=\"colab-df-container\">\n",
              "    <div>\n",
              "<style scoped>\n",
              "    .dataframe tbody tr th:only-of-type {\n",
              "        vertical-align: middle;\n",
              "    }\n",
              "\n",
              "    .dataframe tbody tr th {\n",
              "        vertical-align: top;\n",
              "    }\n",
              "\n",
              "    .dataframe thead th {\n",
              "        text-align: right;\n",
              "    }\n",
              "</style>\n",
              "<table border=\"1\" class=\"dataframe\">\n",
              "  <thead>\n",
              "    <tr style=\"text-align: right;\">\n",
              "      <th></th>\n",
              "      <th>hotelcode</th>\n",
              "      <th>min</th>\n",
              "      <th>max</th>\n",
              "      <th>Diff_Min</th>\n",
              "      <th>Diff_Max</th>\n",
              "      <th>Score</th>\n",
              "    </tr>\n",
              "  </thead>\n",
              "  <tbody>\n",
              "    <tr>\n",
              "      <th>0</th>\n",
              "      <td>31</td>\n",
              "      <td>75.10</td>\n",
              "      <td>189.88</td>\n",
              "      <td>0.000</td>\n",
              "      <td>0.000</td>\n",
              "      <td>0.00</td>\n",
              "    </tr>\n",
              "    <tr>\n",
              "      <th>1</th>\n",
              "      <td>97</td>\n",
              "      <td>259.76</td>\n",
              "      <td>400.00</td>\n",
              "      <td>1.103</td>\n",
              "      <td>0.712</td>\n",
              "      <td>0.91</td>\n",
              "    </tr>\n",
              "    <tr>\n",
              "      <th>2</th>\n",
              "      <td>834</td>\n",
              "      <td>220.67</td>\n",
              "      <td>656.86</td>\n",
              "      <td>0.786</td>\n",
              "      <td>1.124</td>\n",
              "      <td>0.95</td>\n",
              "    </tr>\n",
              "    <tr>\n",
              "      <th>3</th>\n",
              "      <td>3144</td>\n",
              "      <td>254.54</td>\n",
              "      <td>347.30</td>\n",
              "      <td>0.886</td>\n",
              "      <td>0.395</td>\n",
              "      <td>0.64</td>\n",
              "    </tr>\n",
              "    <tr>\n",
              "      <th>4</th>\n",
              "      <td>11203</td>\n",
              "      <td>230.91</td>\n",
              "      <td>244.58</td>\n",
              "      <td>0.748</td>\n",
              "      <td>0.149</td>\n",
              "      <td>0.45</td>\n",
              "    </tr>\n",
              "    <tr>\n",
              "      <th>5</th>\n",
              "      <td>383</td>\n",
              "      <td>78.40</td>\n",
              "      <td>180.56</td>\n",
              "      <td>0.018</td>\n",
              "      <td>0.028</td>\n",
              "      <td>0.02</td>\n",
              "    </tr>\n",
              "    <tr>\n",
              "      <th>6</th>\n",
              "      <td>162</td>\n",
              "      <td>123.16</td>\n",
              "      <td>371.71</td>\n",
              "      <td>0.271</td>\n",
              "      <td>0.532</td>\n",
              "      <td>0.40</td>\n",
              "    </tr>\n",
              "    <tr>\n",
              "      <th>7</th>\n",
              "      <td>287</td>\n",
              "      <td>75.10</td>\n",
              "      <td>189.88</td>\n",
              "      <td>0.000</td>\n",
              "      <td>0.000</td>\n",
              "      <td>0.00</td>\n",
              "    </tr>\n",
              "    <tr>\n",
              "      <th>8</th>\n",
              "      <td>333</td>\n",
              "      <td>46.80</td>\n",
              "      <td>46.80</td>\n",
              "      <td>0.187</td>\n",
              "      <td>0.490</td>\n",
              "      <td>0.34</td>\n",
              "    </tr>\n",
              "    <tr>\n",
              "      <th>9</th>\n",
              "      <td>378</td>\n",
              "      <td>235.16</td>\n",
              "      <td>951.90</td>\n",
              "      <td>1.001</td>\n",
              "      <td>2.129</td>\n",
              "      <td>1.56</td>\n",
              "    </tr>\n",
              "    <tr>\n",
              "      <th>10</th>\n",
              "      <td>383</td>\n",
              "      <td>78.40</td>\n",
              "      <td>180.56</td>\n",
              "      <td>0.022</td>\n",
              "      <td>0.027</td>\n",
              "      <td>0.02</td>\n",
              "    </tr>\n",
              "    <tr>\n",
              "      <th>11</th>\n",
              "      <td>441</td>\n",
              "      <td>70.33</td>\n",
              "      <td>209.97</td>\n",
              "      <td>0.033</td>\n",
              "      <td>0.061</td>\n",
              "      <td>0.05</td>\n",
              "    </tr>\n",
              "    <tr>\n",
              "      <th>12</th>\n",
              "      <td>515</td>\n",
              "      <td>124.76</td>\n",
              "      <td>603.14</td>\n",
              "      <td>0.345</td>\n",
              "      <td>1.175</td>\n",
              "      <td>0.76</td>\n",
              "    </tr>\n",
              "    <tr>\n",
              "      <th>13</th>\n",
              "      <td>541</td>\n",
              "      <td>81.31</td>\n",
              "      <td>252.93</td>\n",
              "      <td>0.044</td>\n",
              "      <td>0.183</td>\n",
              "      <td>0.11</td>\n",
              "    </tr>\n",
              "    <tr>\n",
              "      <th>14</th>\n",
              "      <td>560</td>\n",
              "      <td>245.00</td>\n",
              "      <td>333.77</td>\n",
              "      <td>1.159</td>\n",
              "      <td>0.418</td>\n",
              "      <td>0.79</td>\n",
              "    </tr>\n",
              "  </tbody>\n",
              "</table>\n",
              "</div>\n",
              "    <div class=\"colab-df-buttons\">\n",
              "\n",
              "  <div class=\"colab-df-container\">\n",
              "    <button class=\"colab-df-convert\" onclick=\"convertToInteractive('df-18099717-c4de-4602-9e40-d4cd5bd9b15e')\"\n",
              "            title=\"Convert this dataframe to an interactive table.\"\n",
              "            style=\"display:none;\">\n",
              "\n",
              "  <svg xmlns=\"http://www.w3.org/2000/svg\" height=\"24px\" viewBox=\"0 -960 960 960\">\n",
              "    <path d=\"M120-120v-720h720v720H120Zm60-500h600v-160H180v160Zm220 220h160v-160H400v160Zm0 220h160v-160H400v160ZM180-400h160v-160H180v160Zm440 0h160v-160H620v160ZM180-180h160v-160H180v160Zm440 0h160v-160H620v160Z\"/>\n",
              "  </svg>\n",
              "    </button>\n",
              "\n",
              "  <style>\n",
              "    .colab-df-container {\n",
              "      display:flex;\n",
              "      gap: 12px;\n",
              "    }\n",
              "\n",
              "    .colab-df-convert {\n",
              "      background-color: #E8F0FE;\n",
              "      border: none;\n",
              "      border-radius: 50%;\n",
              "      cursor: pointer;\n",
              "      display: none;\n",
              "      fill: #1967D2;\n",
              "      height: 32px;\n",
              "      padding: 0 0 0 0;\n",
              "      width: 32px;\n",
              "    }\n",
              "\n",
              "    .colab-df-convert:hover {\n",
              "      background-color: #E2EBFA;\n",
              "      box-shadow: 0px 1px 2px rgba(60, 64, 67, 0.3), 0px 1px 3px 1px rgba(60, 64, 67, 0.15);\n",
              "      fill: #174EA6;\n",
              "    }\n",
              "\n",
              "    .colab-df-buttons div {\n",
              "      margin-bottom: 4px;\n",
              "    }\n",
              "\n",
              "    [theme=dark] .colab-df-convert {\n",
              "      background-color: #3B4455;\n",
              "      fill: #D2E3FC;\n",
              "    }\n",
              "\n",
              "    [theme=dark] .colab-df-convert:hover {\n",
              "      background-color: #434B5C;\n",
              "      box-shadow: 0px 1px 3px 1px rgba(0, 0, 0, 0.15);\n",
              "      filter: drop-shadow(0px 1px 2px rgba(0, 0, 0, 0.3));\n",
              "      fill: #FFFFFF;\n",
              "    }\n",
              "  </style>\n",
              "\n",
              "    <script>\n",
              "      const buttonEl =\n",
              "        document.querySelector('#df-18099717-c4de-4602-9e40-d4cd5bd9b15e button.colab-df-convert');\n",
              "      buttonEl.style.display =\n",
              "        google.colab.kernel.accessAllowed ? 'block' : 'none';\n",
              "\n",
              "      async function convertToInteractive(key) {\n",
              "        const element = document.querySelector('#df-18099717-c4de-4602-9e40-d4cd5bd9b15e');\n",
              "        const dataTable =\n",
              "          await google.colab.kernel.invokeFunction('convertToInteractive',\n",
              "                                                    [key], {});\n",
              "        if (!dataTable) return;\n",
              "\n",
              "        const docLinkHtml = 'Like what you see? Visit the ' +\n",
              "          '<a target=\"_blank\" href=https://colab.research.google.com/notebooks/data_table.ipynb>data table notebook</a>'\n",
              "          + ' to learn more about interactive tables.';\n",
              "        element.innerHTML = '';\n",
              "        dataTable['output_type'] = 'display_data';\n",
              "        await google.colab.output.renderOutput(dataTable, element);\n",
              "        const docLink = document.createElement('div');\n",
              "        docLink.innerHTML = docLinkHtml;\n",
              "        element.appendChild(docLink);\n",
              "      }\n",
              "    </script>\n",
              "  </div>\n",
              "\n",
              "\n",
              "<div id=\"df-5d78948c-e3a0-4f39-b0b9-9ce45b2b34c2\">\n",
              "  <button class=\"colab-df-quickchart\" onclick=\"quickchart('df-5d78948c-e3a0-4f39-b0b9-9ce45b2b34c2')\"\n",
              "            title=\"Suggest charts\"\n",
              "            style=\"display:none;\">\n",
              "\n",
              "<svg xmlns=\"http://www.w3.org/2000/svg\" height=\"24px\"viewBox=\"0 0 24 24\"\n",
              "     width=\"24px\">\n",
              "    <g>\n",
              "        <path d=\"M19 3H5c-1.1 0-2 .9-2 2v14c0 1.1.9 2 2 2h14c1.1 0 2-.9 2-2V5c0-1.1-.9-2-2-2zM9 17H7v-7h2v7zm4 0h-2V7h2v10zm4 0h-2v-4h2v4z\"/>\n",
              "    </g>\n",
              "</svg>\n",
              "  </button>\n",
              "\n",
              "<style>\n",
              "  .colab-df-quickchart {\n",
              "      --bg-color: #E8F0FE;\n",
              "      --fill-color: #1967D2;\n",
              "      --hover-bg-color: #E2EBFA;\n",
              "      --hover-fill-color: #174EA6;\n",
              "      --disabled-fill-color: #AAA;\n",
              "      --disabled-bg-color: #DDD;\n",
              "  }\n",
              "\n",
              "  [theme=dark] .colab-df-quickchart {\n",
              "      --bg-color: #3B4455;\n",
              "      --fill-color: #D2E3FC;\n",
              "      --hover-bg-color: #434B5C;\n",
              "      --hover-fill-color: #FFFFFF;\n",
              "      --disabled-bg-color: #3B4455;\n",
              "      --disabled-fill-color: #666;\n",
              "  }\n",
              "\n",
              "  .colab-df-quickchart {\n",
              "    background-color: var(--bg-color);\n",
              "    border: none;\n",
              "    border-radius: 50%;\n",
              "    cursor: pointer;\n",
              "    display: none;\n",
              "    fill: var(--fill-color);\n",
              "    height: 32px;\n",
              "    padding: 0;\n",
              "    width: 32px;\n",
              "  }\n",
              "\n",
              "  .colab-df-quickchart:hover {\n",
              "    background-color: var(--hover-bg-color);\n",
              "    box-shadow: 0 1px 2px rgba(60, 64, 67, 0.3), 0 1px 3px 1px rgba(60, 64, 67, 0.15);\n",
              "    fill: var(--button-hover-fill-color);\n",
              "  }\n",
              "\n",
              "  .colab-df-quickchart-complete:disabled,\n",
              "  .colab-df-quickchart-complete:disabled:hover {\n",
              "    background-color: var(--disabled-bg-color);\n",
              "    fill: var(--disabled-fill-color);\n",
              "    box-shadow: none;\n",
              "  }\n",
              "\n",
              "  .colab-df-spinner {\n",
              "    border: 2px solid var(--fill-color);\n",
              "    border-color: transparent;\n",
              "    border-bottom-color: var(--fill-color);\n",
              "    animation:\n",
              "      spin 1s steps(1) infinite;\n",
              "  }\n",
              "\n",
              "  @keyframes spin {\n",
              "    0% {\n",
              "      border-color: transparent;\n",
              "      border-bottom-color: var(--fill-color);\n",
              "      border-left-color: var(--fill-color);\n",
              "    }\n",
              "    20% {\n",
              "      border-color: transparent;\n",
              "      border-left-color: var(--fill-color);\n",
              "      border-top-color: var(--fill-color);\n",
              "    }\n",
              "    30% {\n",
              "      border-color: transparent;\n",
              "      border-left-color: var(--fill-color);\n",
              "      border-top-color: var(--fill-color);\n",
              "      border-right-color: var(--fill-color);\n",
              "    }\n",
              "    40% {\n",
              "      border-color: transparent;\n",
              "      border-right-color: var(--fill-color);\n",
              "      border-top-color: var(--fill-color);\n",
              "    }\n",
              "    60% {\n",
              "      border-color: transparent;\n",
              "      border-right-color: var(--fill-color);\n",
              "    }\n",
              "    80% {\n",
              "      border-color: transparent;\n",
              "      border-right-color: var(--fill-color);\n",
              "      border-bottom-color: var(--fill-color);\n",
              "    }\n",
              "    90% {\n",
              "      border-color: transparent;\n",
              "      border-bottom-color: var(--fill-color);\n",
              "    }\n",
              "  }\n",
              "</style>\n",
              "\n",
              "  <script>\n",
              "    async function quickchart(key) {\n",
              "      const quickchartButtonEl =\n",
              "        document.querySelector('#' + key + ' button');\n",
              "      quickchartButtonEl.disabled = true;  // To prevent multiple clicks.\n",
              "      quickchartButtonEl.classList.add('colab-df-spinner');\n",
              "      try {\n",
              "        const charts = await google.colab.kernel.invokeFunction(\n",
              "            'suggestCharts', [key], {});\n",
              "      } catch (error) {\n",
              "        console.error('Error during call to suggestCharts:', error);\n",
              "      }\n",
              "      quickchartButtonEl.classList.remove('colab-df-spinner');\n",
              "      quickchartButtonEl.classList.add('colab-df-quickchart-complete');\n",
              "    }\n",
              "    (() => {\n",
              "      let quickchartButtonEl =\n",
              "        document.querySelector('#df-5d78948c-e3a0-4f39-b0b9-9ce45b2b34c2 button');\n",
              "      quickchartButtonEl.style.display =\n",
              "        google.colab.kernel.accessAllowed ? 'block' : 'none';\n",
              "    })();\n",
              "  </script>\n",
              "</div>\n",
              "    </div>\n",
              "  </div>\n"
            ]
          },
          "metadata": {},
          "execution_count": 706
        }
      ],
      "source": [
        "df_minmax.head(15)"
      ]
    },
    {
      "cell_type": "code",
      "execution_count": 707,
      "id": "c0f3e327",
      "metadata": {
        "id": "c0f3e327",
        "outputId": "fad214a2-2135-4a02-92e8-40c141bc82df",
        "colab": {
          "base_uri": "https://localhost:8080/",
          "height": 0
        }
      },
      "outputs": [
        {
          "output_type": "execute_result",
          "data": {
            "text/plain": [
              "(9094, 6)"
            ]
          },
          "metadata": {},
          "execution_count": 707
        }
      ],
      "source": [
        "df_minmax.shape"
      ]
    },
    {
      "cell_type": "code",
      "execution_count": 708,
      "id": "dd629380",
      "metadata": {
        "id": "dd629380",
        "outputId": "62acb5c4-00f7-48ac-a52f-e6de0c51d0e2",
        "colab": {
          "base_uri": "https://localhost:8080/",
          "height": 0
        }
      },
      "outputs": [
        {
          "output_type": "execute_result",
          "data": {
            "text/plain": [
              "Index(['hotelcode', 'min', 'max', 'Diff_Min', 'Diff_Max', 'Score'], dtype='object')"
            ]
          },
          "metadata": {},
          "execution_count": 708
        }
      ],
      "source": [
        "df_minmax.columns"
      ]
    },
    {
      "cell_type": "code",
      "execution_count": 709,
      "id": "1f9918ae",
      "metadata": {
        "id": "1f9918ae",
        "outputId": "76ef4a43-2b61-48f1-8a44-619f8e266d83",
        "colab": {
          "base_uri": "https://localhost:8080/",
          "height": 0
        }
      },
      "outputs": [
        {
          "output_type": "stream",
          "name": "stdout",
          "text": [
            "<class 'pandas.core.frame.DataFrame'>\n",
            "RangeIndex: 9094 entries, 0 to 9093\n",
            "Data columns (total 6 columns):\n",
            " #   Column     Non-Null Count  Dtype  \n",
            "---  ------     --------------  -----  \n",
            " 0   hotelcode  9094 non-null   int64  \n",
            " 1   min        9094 non-null   float64\n",
            " 2   max        9094 non-null   float64\n",
            " 3   Diff_Min   9094 non-null   float64\n",
            " 4   Diff_Max   9094 non-null   float64\n",
            " 5   Score      9094 non-null   float64\n",
            "dtypes: float64(5), int64(1)\n",
            "memory usage: 426.4 KB\n"
          ]
        }
      ],
      "source": [
        "df_minmax.info()"
      ]
    },
    {
      "cell_type": "code",
      "execution_count": 710,
      "id": "45f3e188",
      "metadata": {
        "id": "45f3e188"
      },
      "outputs": [],
      "source": [
        "minmax_to_drop = ['Diff_Min', 'Diff_Max', 'Score']\n",
        "minmax_drop = df_minmax.drop(columns=minmax_to_drop, axis=1)"
      ]
    },
    {
      "cell_type": "code",
      "execution_count": 711,
      "id": "9435b2c5",
      "metadata": {
        "id": "9435b2c5",
        "outputId": "0b32cf21-fc1f-4368-a983-eb364188076c",
        "colab": {
          "base_uri": "https://localhost:8080/",
          "height": 206
        }
      },
      "outputs": [
        {
          "output_type": "execute_result",
          "data": {
            "text/plain": [
              "   hotelcode     min     max\n",
              "0         31   75.10  189.88\n",
              "1         97  259.76  400.00\n",
              "2        834  220.67  656.86\n",
              "3       3144  254.54  347.30\n",
              "4      11203  230.91  244.58"
            ],
            "text/html": [
              "\n",
              "  <div id=\"df-034f1413-088e-4e09-89a4-39117bae3040\" class=\"colab-df-container\">\n",
              "    <div>\n",
              "<style scoped>\n",
              "    .dataframe tbody tr th:only-of-type {\n",
              "        vertical-align: middle;\n",
              "    }\n",
              "\n",
              "    .dataframe tbody tr th {\n",
              "        vertical-align: top;\n",
              "    }\n",
              "\n",
              "    .dataframe thead th {\n",
              "        text-align: right;\n",
              "    }\n",
              "</style>\n",
              "<table border=\"1\" class=\"dataframe\">\n",
              "  <thead>\n",
              "    <tr style=\"text-align: right;\">\n",
              "      <th></th>\n",
              "      <th>hotelcode</th>\n",
              "      <th>min</th>\n",
              "      <th>max</th>\n",
              "    </tr>\n",
              "  </thead>\n",
              "  <tbody>\n",
              "    <tr>\n",
              "      <th>0</th>\n",
              "      <td>31</td>\n",
              "      <td>75.10</td>\n",
              "      <td>189.88</td>\n",
              "    </tr>\n",
              "    <tr>\n",
              "      <th>1</th>\n",
              "      <td>97</td>\n",
              "      <td>259.76</td>\n",
              "      <td>400.00</td>\n",
              "    </tr>\n",
              "    <tr>\n",
              "      <th>2</th>\n",
              "      <td>834</td>\n",
              "      <td>220.67</td>\n",
              "      <td>656.86</td>\n",
              "    </tr>\n",
              "    <tr>\n",
              "      <th>3</th>\n",
              "      <td>3144</td>\n",
              "      <td>254.54</td>\n",
              "      <td>347.30</td>\n",
              "    </tr>\n",
              "    <tr>\n",
              "      <th>4</th>\n",
              "      <td>11203</td>\n",
              "      <td>230.91</td>\n",
              "      <td>244.58</td>\n",
              "    </tr>\n",
              "  </tbody>\n",
              "</table>\n",
              "</div>\n",
              "    <div class=\"colab-df-buttons\">\n",
              "\n",
              "  <div class=\"colab-df-container\">\n",
              "    <button class=\"colab-df-convert\" onclick=\"convertToInteractive('df-034f1413-088e-4e09-89a4-39117bae3040')\"\n",
              "            title=\"Convert this dataframe to an interactive table.\"\n",
              "            style=\"display:none;\">\n",
              "\n",
              "  <svg xmlns=\"http://www.w3.org/2000/svg\" height=\"24px\" viewBox=\"0 -960 960 960\">\n",
              "    <path d=\"M120-120v-720h720v720H120Zm60-500h600v-160H180v160Zm220 220h160v-160H400v160Zm0 220h160v-160H400v160ZM180-400h160v-160H180v160Zm440 0h160v-160H620v160ZM180-180h160v-160H180v160Zm440 0h160v-160H620v160Z\"/>\n",
              "  </svg>\n",
              "    </button>\n",
              "\n",
              "  <style>\n",
              "    .colab-df-container {\n",
              "      display:flex;\n",
              "      gap: 12px;\n",
              "    }\n",
              "\n",
              "    .colab-df-convert {\n",
              "      background-color: #E8F0FE;\n",
              "      border: none;\n",
              "      border-radius: 50%;\n",
              "      cursor: pointer;\n",
              "      display: none;\n",
              "      fill: #1967D2;\n",
              "      height: 32px;\n",
              "      padding: 0 0 0 0;\n",
              "      width: 32px;\n",
              "    }\n",
              "\n",
              "    .colab-df-convert:hover {\n",
              "      background-color: #E2EBFA;\n",
              "      box-shadow: 0px 1px 2px rgba(60, 64, 67, 0.3), 0px 1px 3px 1px rgba(60, 64, 67, 0.15);\n",
              "      fill: #174EA6;\n",
              "    }\n",
              "\n",
              "    .colab-df-buttons div {\n",
              "      margin-bottom: 4px;\n",
              "    }\n",
              "\n",
              "    [theme=dark] .colab-df-convert {\n",
              "      background-color: #3B4455;\n",
              "      fill: #D2E3FC;\n",
              "    }\n",
              "\n",
              "    [theme=dark] .colab-df-convert:hover {\n",
              "      background-color: #434B5C;\n",
              "      box-shadow: 0px 1px 3px 1px rgba(0, 0, 0, 0.15);\n",
              "      filter: drop-shadow(0px 1px 2px rgba(0, 0, 0, 0.3));\n",
              "      fill: #FFFFFF;\n",
              "    }\n",
              "  </style>\n",
              "\n",
              "    <script>\n",
              "      const buttonEl =\n",
              "        document.querySelector('#df-034f1413-088e-4e09-89a4-39117bae3040 button.colab-df-convert');\n",
              "      buttonEl.style.display =\n",
              "        google.colab.kernel.accessAllowed ? 'block' : 'none';\n",
              "\n",
              "      async function convertToInteractive(key) {\n",
              "        const element = document.querySelector('#df-034f1413-088e-4e09-89a4-39117bae3040');\n",
              "        const dataTable =\n",
              "          await google.colab.kernel.invokeFunction('convertToInteractive',\n",
              "                                                    [key], {});\n",
              "        if (!dataTable) return;\n",
              "\n",
              "        const docLinkHtml = 'Like what you see? Visit the ' +\n",
              "          '<a target=\"_blank\" href=https://colab.research.google.com/notebooks/data_table.ipynb>data table notebook</a>'\n",
              "          + ' to learn more about interactive tables.';\n",
              "        element.innerHTML = '';\n",
              "        dataTable['output_type'] = 'display_data';\n",
              "        await google.colab.output.renderOutput(dataTable, element);\n",
              "        const docLink = document.createElement('div');\n",
              "        docLink.innerHTML = docLinkHtml;\n",
              "        element.appendChild(docLink);\n",
              "      }\n",
              "    </script>\n",
              "  </div>\n",
              "\n",
              "\n",
              "<div id=\"df-ce7ff766-8cb1-43c0-b40b-41c5ad374181\">\n",
              "  <button class=\"colab-df-quickchart\" onclick=\"quickchart('df-ce7ff766-8cb1-43c0-b40b-41c5ad374181')\"\n",
              "            title=\"Suggest charts\"\n",
              "            style=\"display:none;\">\n",
              "\n",
              "<svg xmlns=\"http://www.w3.org/2000/svg\" height=\"24px\"viewBox=\"0 0 24 24\"\n",
              "     width=\"24px\">\n",
              "    <g>\n",
              "        <path d=\"M19 3H5c-1.1 0-2 .9-2 2v14c0 1.1.9 2 2 2h14c1.1 0 2-.9 2-2V5c0-1.1-.9-2-2-2zM9 17H7v-7h2v7zm4 0h-2V7h2v10zm4 0h-2v-4h2v4z\"/>\n",
              "    </g>\n",
              "</svg>\n",
              "  </button>\n",
              "\n",
              "<style>\n",
              "  .colab-df-quickchart {\n",
              "      --bg-color: #E8F0FE;\n",
              "      --fill-color: #1967D2;\n",
              "      --hover-bg-color: #E2EBFA;\n",
              "      --hover-fill-color: #174EA6;\n",
              "      --disabled-fill-color: #AAA;\n",
              "      --disabled-bg-color: #DDD;\n",
              "  }\n",
              "\n",
              "  [theme=dark] .colab-df-quickchart {\n",
              "      --bg-color: #3B4455;\n",
              "      --fill-color: #D2E3FC;\n",
              "      --hover-bg-color: #434B5C;\n",
              "      --hover-fill-color: #FFFFFF;\n",
              "      --disabled-bg-color: #3B4455;\n",
              "      --disabled-fill-color: #666;\n",
              "  }\n",
              "\n",
              "  .colab-df-quickchart {\n",
              "    background-color: var(--bg-color);\n",
              "    border: none;\n",
              "    border-radius: 50%;\n",
              "    cursor: pointer;\n",
              "    display: none;\n",
              "    fill: var(--fill-color);\n",
              "    height: 32px;\n",
              "    padding: 0;\n",
              "    width: 32px;\n",
              "  }\n",
              "\n",
              "  .colab-df-quickchart:hover {\n",
              "    background-color: var(--hover-bg-color);\n",
              "    box-shadow: 0 1px 2px rgba(60, 64, 67, 0.3), 0 1px 3px 1px rgba(60, 64, 67, 0.15);\n",
              "    fill: var(--button-hover-fill-color);\n",
              "  }\n",
              "\n",
              "  .colab-df-quickchart-complete:disabled,\n",
              "  .colab-df-quickchart-complete:disabled:hover {\n",
              "    background-color: var(--disabled-bg-color);\n",
              "    fill: var(--disabled-fill-color);\n",
              "    box-shadow: none;\n",
              "  }\n",
              "\n",
              "  .colab-df-spinner {\n",
              "    border: 2px solid var(--fill-color);\n",
              "    border-color: transparent;\n",
              "    border-bottom-color: var(--fill-color);\n",
              "    animation:\n",
              "      spin 1s steps(1) infinite;\n",
              "  }\n",
              "\n",
              "  @keyframes spin {\n",
              "    0% {\n",
              "      border-color: transparent;\n",
              "      border-bottom-color: var(--fill-color);\n",
              "      border-left-color: var(--fill-color);\n",
              "    }\n",
              "    20% {\n",
              "      border-color: transparent;\n",
              "      border-left-color: var(--fill-color);\n",
              "      border-top-color: var(--fill-color);\n",
              "    }\n",
              "    30% {\n",
              "      border-color: transparent;\n",
              "      border-left-color: var(--fill-color);\n",
              "      border-top-color: var(--fill-color);\n",
              "      border-right-color: var(--fill-color);\n",
              "    }\n",
              "    40% {\n",
              "      border-color: transparent;\n",
              "      border-right-color: var(--fill-color);\n",
              "      border-top-color: var(--fill-color);\n",
              "    }\n",
              "    60% {\n",
              "      border-color: transparent;\n",
              "      border-right-color: var(--fill-color);\n",
              "    }\n",
              "    80% {\n",
              "      border-color: transparent;\n",
              "      border-right-color: var(--fill-color);\n",
              "      border-bottom-color: var(--fill-color);\n",
              "    }\n",
              "    90% {\n",
              "      border-color: transparent;\n",
              "      border-bottom-color: var(--fill-color);\n",
              "    }\n",
              "  }\n",
              "</style>\n",
              "\n",
              "  <script>\n",
              "    async function quickchart(key) {\n",
              "      const quickchartButtonEl =\n",
              "        document.querySelector('#' + key + ' button');\n",
              "      quickchartButtonEl.disabled = true;  // To prevent multiple clicks.\n",
              "      quickchartButtonEl.classList.add('colab-df-spinner');\n",
              "      try {\n",
              "        const charts = await google.colab.kernel.invokeFunction(\n",
              "            'suggestCharts', [key], {});\n",
              "      } catch (error) {\n",
              "        console.error('Error during call to suggestCharts:', error);\n",
              "      }\n",
              "      quickchartButtonEl.classList.remove('colab-df-spinner');\n",
              "      quickchartButtonEl.classList.add('colab-df-quickchart-complete');\n",
              "    }\n",
              "    (() => {\n",
              "      let quickchartButtonEl =\n",
              "        document.querySelector('#df-ce7ff766-8cb1-43c0-b40b-41c5ad374181 button');\n",
              "      quickchartButtonEl.style.display =\n",
              "        google.colab.kernel.accessAllowed ? 'block' : 'none';\n",
              "    })();\n",
              "  </script>\n",
              "</div>\n",
              "    </div>\n",
              "  </div>\n"
            ]
          },
          "metadata": {},
          "execution_count": 711
        }
      ],
      "source": [
        "minmax_drop.head()"
      ]
    },
    {
      "cell_type": "markdown",
      "id": "38a635a2",
      "metadata": {
        "id": "38a635a2"
      },
      "source": [
        "# MERGE JOIN"
      ]
    },
    {
      "cell_type": "code",
      "execution_count": 712,
      "id": "9ed55958",
      "metadata": {
        "id": "9ed55958",
        "outputId": "18e0b6c6-ffde-4c7b-c28d-05c7421ee7e1",
        "colab": {
          "base_uri": "https://localhost:8080/",
          "height": 0
        }
      },
      "outputs": [
        {
          "output_type": "stream",
          "name": "stdout",
          "text": [
            "<class 'pandas.core.frame.DataFrame'>\n",
            "RangeIndex: 108048 entries, 0 to 108047\n",
            "Data columns (total 8 columns):\n",
            " #   Column        Non-Null Count   Dtype \n",
            "---  ------        --------------   ----- \n",
            " 0   hotelcode     108048 non-null  int64 \n",
            " 1   hotelname     108048 non-null  object\n",
            " 2   address       108048 non-null  object\n",
            " 3   city          108048 non-null  object\n",
            " 4   country       108048 non-null  object\n",
            " 5   propertytype  108048 non-null  object\n",
            " 6   starrating    108048 non-null  int64 \n",
            " 7   curr          108048 non-null  object\n",
            "dtypes: int64(2), object(6)\n",
            "memory usage: 6.6+ MB\n"
          ]
        }
      ],
      "source": [
        "details_drop.rename(columns={'hotelid': 'hotelcode'}, inplace=True)\n",
        "\n",
        "details_drop.info()"
      ]
    },
    {
      "cell_type": "code",
      "execution_count": 713,
      "id": "a321b3a1",
      "metadata": {
        "id": "a321b3a1",
        "outputId": "4a67171f-c23a-4f73-c3c3-ce325d13af92",
        "colab": {
          "base_uri": "https://localhost:8080/",
          "height": 0
        }
      },
      "outputs": [
        {
          "output_type": "stream",
          "name": "stdout",
          "text": [
            "<class 'pandas.core.frame.DataFrame'>\n",
            "Int64Index: 161054 entries, 0 to 165872\n",
            "Data columns (total 17 columns):\n",
            " #   Column             Non-Null Count   Dtype  \n",
            "---  ------             --------------   -----  \n",
            " 0   hotelcode          161054 non-null  int64  \n",
            " 1   roomtype           161054 non-null  object \n",
            " 2   onsiterate         161054 non-null  float64\n",
            " 3   netrate            161054 non-null  float64\n",
            " 4   ratedescription    161054 non-null  object \n",
            " 5   ratetype           161054 non-null  object \n",
            " 6   roomamenities      161054 non-null  object \n",
            " 7   maxoccupancy       161054 non-null  int64  \n",
            " 8   ispromo            161054 non-null  object \n",
            " 9   closed             161054 non-null  object \n",
            " 10  discount           161054 non-null  float64\n",
            " 11  promoname          161054 non-null  object \n",
            " 12  status_code        161054 non-null  int64  \n",
            " 13  taxstatus          161054 non-null  int64  \n",
            " 14  taxtype            161054 non-null  object \n",
            " 15  israteperstay      161054 non-null  object \n",
            " 16  mealinclusiontype  161054 non-null  object \n",
            "dtypes: float64(3), int64(4), object(10)\n",
            "memory usage: 22.1+ MB\n"
          ]
        }
      ],
      "source": [
        "df_price_drop.info()"
      ]
    },
    {
      "cell_type": "code",
      "execution_count": 714,
      "id": "dd73dc9f",
      "metadata": {
        "id": "dd73dc9f",
        "outputId": "dd5224fb-580e-4658-eba3-95faa216435f",
        "colab": {
          "base_uri": "https://localhost:8080/",
          "height": 0
        }
      },
      "outputs": [
        {
          "output_type": "stream",
          "name": "stdout",
          "text": [
            "<class 'pandas.core.frame.DataFrame'>\n",
            "RangeIndex: 9094 entries, 0 to 9093\n",
            "Data columns (total 3 columns):\n",
            " #   Column     Non-Null Count  Dtype  \n",
            "---  ------     --------------  -----  \n",
            " 0   hotelcode  9094 non-null   int64  \n",
            " 1   min        9094 non-null   float64\n",
            " 2   max        9094 non-null   float64\n",
            "dtypes: float64(2), int64(1)\n",
            "memory usage: 213.3 KB\n"
          ]
        }
      ],
      "source": [
        "minmax_drop.info()"
      ]
    },
    {
      "cell_type": "code",
      "execution_count": 715,
      "id": "774ebe62",
      "metadata": {
        "id": "774ebe62"
      },
      "outputs": [],
      "source": [
        "merged = pd.merge(df_price_drop, details_drop, on='hotelcode', how='inner')\n",
        "merged_df = pd.merge(merged, minmax_drop, on='hotelcode', how='inner')"
      ]
    },
    {
      "cell_type": "markdown",
      "source": [
        "We filter each of the dataset and merge them all to one dataset. Merging datasets is a common operation in data analysis and machine learning when dealing with related information distributed across multiple tables or DataFrames. The goal is to combine data from different sources based on common identifiers or keys which are 'hotelcode' in this case, enabling a more comprehensive analysis or modeling."
      ],
      "metadata": {
        "id": "jHmQ2L5KmQh7"
      },
      "id": "jHmQ2L5KmQh7"
    },
    {
      "cell_type": "code",
      "execution_count": 716,
      "id": "ee5c283f",
      "metadata": {
        "id": "ee5c283f",
        "outputId": "c3978184-5cff-49c7-b8cf-0127ebe09547",
        "colab": {
          "base_uri": "https://localhost:8080/",
          "height": 0
        }
      },
      "outputs": [
        {
          "output_type": "stream",
          "name": "stdout",
          "text": [
            "<class 'pandas.core.frame.DataFrame'>\n",
            "Int64Index: 176121 entries, 0 to 176120\n",
            "Data columns (total 26 columns):\n",
            " #   Column             Non-Null Count   Dtype  \n",
            "---  ------             --------------   -----  \n",
            " 0   hotelcode          176121 non-null  int64  \n",
            " 1   roomtype           176121 non-null  object \n",
            " 2   onsiterate         176121 non-null  float64\n",
            " 3   netrate            176121 non-null  float64\n",
            " 4   ratedescription    176121 non-null  object \n",
            " 5   ratetype           176121 non-null  object \n",
            " 6   roomamenities      176121 non-null  object \n",
            " 7   maxoccupancy       176121 non-null  int64  \n",
            " 8   ispromo            176121 non-null  object \n",
            " 9   closed             176121 non-null  object \n",
            " 10  discount           176121 non-null  float64\n",
            " 11  promoname          176121 non-null  object \n",
            " 12  status_code        176121 non-null  int64  \n",
            " 13  taxstatus          176121 non-null  int64  \n",
            " 14  taxtype            176121 non-null  object \n",
            " 15  israteperstay      176121 non-null  object \n",
            " 16  mealinclusiontype  176121 non-null  object \n",
            " 17  hotelname          176121 non-null  object \n",
            " 18  address            176121 non-null  object \n",
            " 19  city               176121 non-null  object \n",
            " 20  country            176121 non-null  object \n",
            " 21  propertytype       176121 non-null  object \n",
            " 22  starrating         176121 non-null  int64  \n",
            " 23  curr               176121 non-null  object \n",
            " 24  min                176121 non-null  float64\n",
            " 25  max                176121 non-null  float64\n",
            "dtypes: float64(5), int64(5), object(16)\n",
            "memory usage: 36.3+ MB\n"
          ]
        }
      ],
      "source": [
        "merged_df.info()"
      ]
    },
    {
      "cell_type": "code",
      "source": [
        "merged_df.to_csv('Merged.csv', index=False)"
      ],
      "metadata": {
        "id": "CjadpNPPYP4L"
      },
      "id": "CjadpNPPYP4L",
      "execution_count": 717,
      "outputs": []
    },
    {
      "cell_type": "code",
      "source": [
        "merged_df['roomtype'].value_counts()"
      ],
      "metadata": {
        "colab": {
          "base_uri": "https://localhost:8080/",
          "height": 0
        },
        "id": "LH6FPsO0wR7Q",
        "outputId": "86d554a9-2ad5-46e8-d124-916de07a406e"
      },
      "id": "LH6FPsO0wR7Q",
      "execution_count": 718,
      "outputs": [
        {
          "output_type": "execute_result",
          "data": {
            "text/plain": [
              "Double Room                                      8724\n",
              "Twin Room                                        4682\n",
              "Single Room                                      4564\n",
              "Standard Double Room                             4450\n",
              "Triple Room                                      3961\n",
              "                                                 ... \n",
              "One-Bedroom Bungalow                                1\n",
              "Junior King Suite with Sofa Bed                     1\n",
              "Double Studio Apartment                             1\n",
              "Triple Studio Apartment                             1\n",
              "Double Room (Hotel, 3-star category) - Cat. A       1\n",
              "Name: roomtype, Length: 8259, dtype: int64"
            ]
          },
          "metadata": {},
          "execution_count": 718
        }
      ]
    },
    {
      "cell_type": "code",
      "source": [
        "merged_df['onsiterate'].value_counts()"
      ],
      "metadata": {
        "colab": {
          "base_uri": "https://localhost:8080/",
          "height": 0
        },
        "id": "-zgxh6__wR9d",
        "outputId": "6fab2f14-4f86-4efe-be7d-7f50283b80ac"
      },
      "id": "-zgxh6__wR9d",
      "execution_count": 719,
      "outputs": [
        {
          "output_type": "execute_result",
          "data": {
            "text/plain": [
              "104.54    1078\n",
              "95.03     1056\n",
              "89.75      983\n",
              "79.19      864\n",
              "93.98      801\n",
              "          ... \n",
              "190.10       1\n",
              "203.09       1\n",
              "215.17       1\n",
              "189.21       1\n",
              "903.57       1\n",
              "Name: onsiterate, Length: 23794, dtype: int64"
            ]
          },
          "metadata": {},
          "execution_count": 719
        }
      ]
    },
    {
      "cell_type": "code",
      "source": [
        "merged_df['netrate'].value_counts()"
      ],
      "metadata": {
        "colab": {
          "base_uri": "https://localhost:8080/",
          "height": 0
        },
        "id": "q1jeMDlOwwPj",
        "outputId": "2f4b554a-e896-4b7a-e928-e465567389b1"
      },
      "id": "q1jeMDlOwwPj",
      "execution_count": 720,
      "outputs": [
        {
          "output_type": "execute_result",
          "data": {
            "text/plain": [
              "0.00      104103\n",
              "253.42       378\n",
              "552.55       372\n",
              "221.02       325\n",
              "386.78       293\n",
              "           ...  \n",
              "712.42         1\n",
              "125.74         1\n",
              "81.50          1\n",
              "122.88         1\n",
              "841.58         1\n",
              "Name: netrate, Length: 8442, dtype: int64"
            ]
          },
          "metadata": {},
          "execution_count": 720
        }
      ]
    },
    {
      "cell_type": "code",
      "source": [
        "merged_df['ratedescription'].value_counts()"
      ],
      "metadata": {
        "colab": {
          "base_uri": "https://localhost:8080/",
          "height": 0
        },
        "id": "eFWKivj8ZR4V",
        "outputId": "53dfb3fb-6505-4f11-a26b-42833017bf87"
      },
      "id": "eFWKivj8ZR4V",
      "execution_count": 721,
      "outputs": [
        {
          "output_type": "execute_result",
          "data": {
            "text/plain": [
              "Free Wi-Fi, Extra low price! (non-refundable)                                              7212\n",
              "Free Wi-Fi, Cancellation policy                                                            3720\n",
              "Free Breakfast, Free Wi-Fi, Extra low price! (non-refundable)                              1503\n",
              "Free Breakfast, Free Wi-Fi, Cancellation policy                                            1497\n",
              "Shower, 1 double bed                                                                       1323\n",
              "                                                                                           ... \n",
              "Room size: 12 m²/129 ft², Shower and bathtub, 1 double bed and 1 bunk bed                     1\n",
              "Free Breakfast, Pay at the hotel, Free Wi-Fi, Free cancellation before December 4, 2019       1\n",
              "Room size: 34 m²/366 ft², Shower, 1 double bed and 1 sofa bed                                 1\n",
              "Room size: 45 m²/484 ft², 2 single beds and 2 sofa beds                                       1\n",
              "Room size: 15 m²/161 ft², Balcony/terrace, 2 single beds                                      1\n",
              "Name: ratedescription, Length: 13944, dtype: int64"
            ]
          },
          "metadata": {},
          "execution_count": 721
        }
      ]
    },
    {
      "cell_type": "code",
      "source": [
        "merged_df['ratetype'].value_counts()"
      ],
      "metadata": {
        "colab": {
          "base_uri": "https://localhost:8080/",
          "height": 0
        },
        "id": "k26pa8MNZSGQ",
        "outputId": "91d55ee1-c5e1-4855-b9d0-f75199c7818d"
      },
      "id": "k26pa8MNZSGQ",
      "execution_count": 722,
      "outputs": [
        {
          "output_type": "execute_result",
          "data": {
            "text/plain": [
              "Extra low price! (non-refundable)                               56267\n",
              "FREE cancellation, Pay at the hotel                             12458\n",
              "Cancellation policy                                              8712\n",
              "Extra low price! (non-refundable), Pay at the hotel              1534\n",
              "Free cancellation before November 1, 2019                         858\n",
              "                                                                ...  \n",
              "Free cancellation before January 9, 2020, Pay at the hotel        242\n",
              "Free cancellation before December 24, 2019, Pay at the hotel      226\n",
              "Free cancellation before January 9, 2020                          192\n",
              "FREE cancellation                                                 146\n",
              "Free cancellation before January 10, 2020                           3\n",
              "Name: ratetype, Length: 185, dtype: int64"
            ]
          },
          "metadata": {},
          "execution_count": 722
        }
      ]
    },
    {
      "cell_type": "code",
      "source": [
        "merged_df['roomamenities'].value_counts()"
      ],
      "metadata": {
        "colab": {
          "base_uri": "https://localhost:8080/",
          "height": 0
        },
        "id": "T7V81kxqZSIb",
        "outputId": "9ffceed4-cbe4-4407-ccd1-d03f99b666cf"
      },
      "id": "T7V81kxqZSIb",
      "execution_count": 723,
      "outputs": [
        {
          "output_type": "execute_result",
          "data": {
            "text/plain": [
              "Air conditioning: ;Free Wi-Fi in all rooms!: ;In-room safe box: ;Shower: ;TV: ;                                                                                                                                                                                                                             17442\n",
              "Air conditioning: ;Free Wi-Fi in all rooms!: ;In-room safe box: ;Shower: ;Telephone: ;TV: ;                                                                                                                                                                                                                  2831\n",
              "Air conditioning: ;In-room safe box: ;Shower: ;TV: ;                                                                                                                                                                                                                                                          692\n",
              "Air conditioning: ;Closet: ;Free Wi-Fi in all rooms!: ;In-room safe box: ;Ironing facilities: ;Shower: ;TV: ;                                                                                                                                                                                                 454\n",
              "Air conditioning: ;Coffee/tea maker: ;Free Wi-Fi in all rooms!: ;Hair dryer: ;In-room safe box: ;Satellite/cable channels: ;Shower: ;                                                                                                                                                                         253\n",
              "                                                                                                                                                                                                                                                                                                            ...  \n",
              "Air conditioning: ;Carpeting: ;Closet: ;Desk: ;Free Wi-Fi in all rooms!: ;Hair dryer: ;Heating: ;In-room safe box: ;Seating area: ;Shower: ;Soundproofing: ;Telephone: ;TV [flat screen]: ;                                                                                                                     1\n",
              "Air conditioning: ;Bathrobes: ;Closet: ;Desk: ;Free Wi-Fi in all rooms!: ;Hair dryer: ;Heating: ;In-room safe box: ;iPod docking station: ;Mirror: ;Satellite/cable channels: ;Seating area: ;Slippers: ;Soundproofing: ;Telephone: ;Toiletries: ;Towels: ;Wooden/parqueted flooring: ;                         1\n",
              "Air conditioning: ;Carpeting: ;Closet: ;Free Wi-Fi in all rooms!: ;Hair dryer: ;Heating: ;In-room safe box: ;Seating area: ;Sofa: ;Soundproofing: ;Toiletries: ;TV [flat screen]: ;Wooden/parqueted flooring: ;                                                                                                 1\n",
              "Air conditioning: ;Alarm clock: ;Carpeting: ;Closet: ;Clothes dryer: ;Clothes rack: ;Free Wi-Fi in all rooms!: ;Heating: ;In-room safe box: ;Ironing facilities: ;Linens: ;Private entrance: ;Toiletries: ;Towels: ;TV: ;Wake-up service: ;                                                                     1\n",
              "Air conditioning: ;Carpeting: ;Closet: ;Coffee/tea maker: ;Desk: ;Extra long bed: ;Free Wi-Fi in all rooms!: ;Hair dryer: ;Heating: ;In-room safe box: ;Ironing facilities: ;Laptop safe box: ;Linens: ;Satellite/cable channels: ;Smoke detector: ;Telephone: ;Toiletries: ;Towels: ;Wake-up service: ;        1\n",
              "Name: roomamenities, Length: 22668, dtype: int64"
            ]
          },
          "metadata": {},
          "execution_count": 723
        }
      ]
    },
    {
      "cell_type": "code",
      "source": [
        "merged_df['maxoccupancy'].value_counts()"
      ],
      "metadata": {
        "colab": {
          "base_uri": "https://localhost:8080/",
          "height": 0
        },
        "id": "lfLJcpieZSKb",
        "outputId": "f1912012-23fd-4b99-afff-20a7ead6fbd6"
      },
      "id": "lfLJcpieZSKb",
      "execution_count": 724,
      "outputs": [
        {
          "output_type": "execute_result",
          "data": {
            "text/plain": [
              "1     91663\n",
              "2     65793\n",
              "3     11616\n",
              "4      5515\n",
              "5       734\n",
              "6       540\n",
              "8       117\n",
              "7        66\n",
              "10       30\n",
              "9        14\n",
              "12       11\n",
              "13        5\n",
              "14        4\n",
              "11        4\n",
              "15        3\n",
              "17        2\n",
              "24        2\n",
              "16        1\n",
              "20        1\n",
              "Name: maxoccupancy, dtype: int64"
            ]
          },
          "metadata": {},
          "execution_count": 724
        }
      ]
    },
    {
      "cell_type": "code",
      "source": [
        "merged_df['ispromo'].value_counts()"
      ],
      "metadata": {
        "colab": {
          "base_uri": "https://localhost:8080/",
          "height": 0
        },
        "id": "hOxKJRdkZSN0",
        "outputId": "5afff9da-1e9c-4688-82c1-c3d21f7ce15d"
      },
      "id": "hOxKJRdkZSN0",
      "execution_count": 725,
      "outputs": [
        {
          "output_type": "execute_result",
          "data": {
            "text/plain": [
              "N    103159\n",
              "Y     72962\n",
              "Name: ispromo, dtype: int64"
            ]
          },
          "metadata": {},
          "execution_count": 725
        }
      ]
    },
    {
      "cell_type": "code",
      "source": [
        "merged_df['closed'].value_counts()"
      ],
      "metadata": {
        "colab": {
          "base_uri": "https://localhost:8080/",
          "height": 0
        },
        "id": "cgBnlUY9gM1X",
        "outputId": "4a4efb45-642c-4639-ea95-a28d90adb401"
      },
      "id": "cgBnlUY9gM1X",
      "execution_count": 726,
      "outputs": [
        {
          "output_type": "execute_result",
          "data": {
            "text/plain": [
              "N    176121\n",
              "Name: closed, dtype: int64"
            ]
          },
          "metadata": {},
          "execution_count": 726
        }
      ]
    },
    {
      "cell_type": "code",
      "source": [
        "merged_df['discount'].value_counts()"
      ],
      "metadata": {
        "colab": {
          "base_uri": "https://localhost:8080/",
          "height": 0
        },
        "id": "v3qzybb1gM3X",
        "outputId": "fa12b79f-0690-4de4-cb8c-b42ec04e88d5"
      },
      "id": "v3qzybb1gM3X",
      "execution_count": 727,
      "outputs": [
        {
          "output_type": "execute_result",
          "data": {
            "text/plain": [
              "0.00     104103\n",
              "75.00      1572\n",
              "77.50       183\n",
              "8.04         74\n",
              "18.26        61\n",
              "          ...  \n",
              "54.21         1\n",
              "83.02         1\n",
              "82.52         1\n",
              "85.59         1\n",
              "83.58         1\n",
              "Name: discount, Length: 8257, dtype: int64"
            ]
          },
          "metadata": {},
          "execution_count": 727
        }
      ]
    },
    {
      "cell_type": "code",
      "source": [
        "merged_df['promoname'].value_counts()"
      ],
      "metadata": {
        "colab": {
          "base_uri": "https://localhost:8080/",
          "height": 0
        },
        "id": "O0UawNEEgM65",
        "outputId": "7b470942-8cea-4c05-d2e6-ff372c1f2762"
      },
      "id": "O0UawNEEgM65",
      "execution_count": 728,
      "outputs": [
        {
          "output_type": "execute_result",
          "data": {
            "text/plain": [
              "none                                                172448\n",
              "Early Booking Saver. Rate includes 10% discount!      1183\n",
              "Limited time offer. Rate includes 20% discount!        839\n",
              "Early Booking Saver. Rate includes 15% discount!       396\n",
              "Early Booking Saver. Rate includes 20% discount!       363\n",
              "Limited time offer. Rate includes 15% discount!        204\n",
              "Limited time offer. Rate includes 10% discount!        165\n",
              "Early Booking Saver. Rate includes 5% discount!         93\n",
              "Early Booking Saver. Rate includes 30% discount!        65\n",
              "Limited time offer. Rate includes 5% discount!          65\n",
              "Expiring soon. Book Now!                                57\n",
              "Limited time offer. Rate includes 22% discount!         43\n",
              "Rate includes 12% discount!                             38\n",
              "Limited time offer. Book Now!                           24\n",
              "Limited time offer. Rate includes 30% discount!         21\n",
              "Early Booking Saver. Super Hot Deal                     19\n",
              "Limited time offer. Rate includes 3% discount!          18\n",
              "Limited time offer. Super Hot Deal                      15\n",
              "Early Booking Saver. Rate includes 12% discount!        14\n",
              "72 hr limited sale Super Hot Deal                        9\n",
              "Early Booking Saver. Rate includes 49% discount!         8\n",
              "Last Minute Special.\\n Super Hot Deal                    8\n",
              "Limited time offer. Rate includes 8% discount!           7\n",
              "72 hr limited sale Rate includes 20% discount!           7\n",
              "Weekend Special. Rate includes 15% discount!             5\n",
              "Limited time offer. Rate includes 47% discount!          3\n",
              "Limited time offer. Rate includes 12% discount!          2\n",
              "Super Saver                                              2\n",
              "Name: promoname, dtype: int64"
            ]
          },
          "metadata": {},
          "execution_count": 728
        }
      ]
    },
    {
      "cell_type": "code",
      "source": [
        "merged_df['status_code'].value_counts()"
      ],
      "metadata": {
        "colab": {
          "base_uri": "https://localhost:8080/",
          "height": 0
        },
        "id": "yJqZ-OBSgOZO",
        "outputId": "ef7922a6-ba78-4dad-bec7-0559fecba1e3"
      },
      "id": "yJqZ-OBSgOZO",
      "execution_count": 729,
      "outputs": [
        {
          "output_type": "execute_result",
          "data": {
            "text/plain": [
              "200    176121\n",
              "Name: status_code, dtype: int64"
            ]
          },
          "metadata": {},
          "execution_count": 729
        }
      ]
    },
    {
      "cell_type": "code",
      "source": [
        "merged_df['taxstatus'].value_counts()"
      ],
      "metadata": {
        "colab": {
          "base_uri": "https://localhost:8080/",
          "height": 0
        },
        "id": "FFgsvfNngObS",
        "outputId": "23dfe32a-9c78-4014-a4db-33b9a84ccdb9"
      },
      "id": "FFgsvfNngObS",
      "execution_count": 730,
      "outputs": [
        {
          "output_type": "execute_result",
          "data": {
            "text/plain": [
              "2    176121\n",
              "Name: taxstatus, dtype: int64"
            ]
          },
          "metadata": {},
          "execution_count": 730
        }
      ]
    },
    {
      "cell_type": "code",
      "source": [
        "merged_df['taxtype'].value_counts()"
      ],
      "metadata": {
        "colab": {
          "base_uri": "https://localhost:8080/",
          "height": 0
        },
        "id": "la1VHLLrgOdO",
        "outputId": "ff5a3f2a-e154-4326-c31a-57749dcf2395"
      },
      "id": "la1VHLLrgOdO",
      "execution_count": 731,
      "outputs": [
        {
          "output_type": "execute_result",
          "data": {
            "text/plain": [
              "Tax 20%                                                                      23735\n",
              "Tax 10%                                                                      18685\n",
              "none                                                                          3658\n",
              "Tax 7%                                                                        3537\n",
              "Tax 6%                                                                        1435\n",
              "                                                                             ...  \n",
              "City tax $ 0.41, Government Tax (Pay at the property) $ 3.32, VAT $ 10.71        1\n",
              "VAT $ 316.78                                                                     1\n",
              "City tax $ 0.38, Government Tax (Pay at the property) $ 3.32, VAT $ 9.68         1\n",
              "City tax $ 0.66, Government Tax (Pay at the property) $ 3.32, VAT $ 17.17        1\n",
              "City tax (Pay at the property) $ 1.49, VAT $ 91.37                               1\n",
              "Name: taxtype, Length: 24184, dtype: int64"
            ]
          },
          "metadata": {},
          "execution_count": 731
        }
      ]
    },
    {
      "cell_type": "code",
      "source": [
        "merged_df['israteperstay'].value_counts()"
      ],
      "metadata": {
        "colab": {
          "base_uri": "https://localhost:8080/",
          "height": 0
        },
        "id": "zjeE8GlqgOfa",
        "outputId": "ef7b58d8-2398-403d-f54a-c454cbd91b05"
      },
      "id": "zjeE8GlqgOfa",
      "execution_count": 732,
      "outputs": [
        {
          "output_type": "execute_result",
          "data": {
            "text/plain": [
              "Y    176121\n",
              "Name: israteperstay, dtype: int64"
            ]
          },
          "metadata": {},
          "execution_count": 732
        }
      ]
    },
    {
      "cell_type": "code",
      "source": [
        "merged_df['mealinclusiontype'].value_counts()"
      ],
      "metadata": {
        "colab": {
          "base_uri": "https://localhost:8080/",
          "height": 0
        },
        "id": "XhQNs_DBgOi5",
        "outputId": "1310cb0f-11f0-455c-ffa7-c4aafda0c672"
      },
      "id": "XhQNs_DBgOi5",
      "execution_count": 733,
      "outputs": [
        {
          "output_type": "execute_result",
          "data": {
            "text/plain": [
              "No meal                          69324\n",
              "Free Breakfast                   51020\n",
              "Free breakfast for {2}           34868\n",
              "Free breakfast for {3}            5883\n",
              "Free Breakfast Dinner             4746\n",
              "                                 ...  \n",
              "Free breakfast for {15} Lunch        1\n",
              "Free breakfast for {14} Lunch        1\n",
              "Free breakfast for {13} Lunch        1\n",
              "Free breakfast for {12} Lunch        1\n",
              "Free Breakfast Welcome drink         1\n",
              "Name: mealinclusiontype, Length: 89, dtype: int64"
            ]
          },
          "metadata": {},
          "execution_count": 733
        }
      ]
    },
    {
      "cell_type": "code",
      "source": [
        "merged_df['hotelname'].value_counts()"
      ],
      "metadata": {
        "colab": {
          "base_uri": "https://localhost:8080/",
          "height": 0
        },
        "id": "yiaYNi8mgheo",
        "outputId": "f88cac07-648e-4967-84f0-d9625dcf8ec0"
      },
      "id": "yiaYNi8mgheo",
      "execution_count": 734,
      "outputs": [
        {
          "output_type": "execute_result",
          "data": {
            "text/plain": [
              "Millennium Mayfair                                           352\n",
              "Hilton Garden Inn Stuttgart NeckarPark Hotel                 326\n",
              "100 Queen's Gate Hotel London, Curio Collection by Hilton    305\n",
              "Best Western L'Orangerie                                     281\n",
              "Doubletree by Hilton Dartford Bridge                         269\n",
              "                                                            ... \n",
              "2 Middle Gabberwell                                            1\n",
              "Ocean Blue                                                     1\n",
              "Magpie Cottage                                                 1\n",
              "Montgomery - Meadow Place Room                                 1\n",
              "Hotel Clementin Old Town                                       1\n",
              "Name: hotelname, Length: 9462, dtype: int64"
            ]
          },
          "metadata": {},
          "execution_count": 734
        }
      ]
    },
    {
      "cell_type": "code",
      "source": [
        "merged_df['address'].value_counts()"
      ],
      "metadata": {
        "colab": {
          "base_uri": "https://localhost:8080/",
          "height": 0
        },
        "id": "rMPeLRMDghg0",
        "outputId": "945e0f6e-7cd3-4ff2-a9f8-cc13037d71ab"
      },
      "id": "rMPeLRMDghg0",
      "execution_count": 735,
      "outputs": [
        {
          "output_type": "execute_result",
          "data": {
            "text/plain": [
              "no information                       577\n",
              "Main Street                          505\n",
              "44 Grosvenor Square                  352\n",
              "High Street                          350\n",
              "Mercedesstrasse 75                   326\n",
              "                                    ... \n",
              "Via parigi 6                           1\n",
              "Paralia Vergas                         1\n",
              "ul. Letniskowa 4A, Tartak Brzozki      1\n",
              "21 Avenue Georges Pompidou             1\n",
              "Venero, 35                             1\n",
              "Name: address, Length: 8989, dtype: int64"
            ]
          },
          "metadata": {},
          "execution_count": 735
        }
      ]
    },
    {
      "cell_type": "code",
      "source": [
        "merged_df['city'].value_counts()"
      ],
      "metadata": {
        "colab": {
          "base_uri": "https://localhost:8080/",
          "height": 0
        },
        "id": "kQ3mfl9dghi-",
        "outputId": "2c0be62e-4535-412c-b3da-4759620e2a35"
      },
      "id": "kQ3mfl9dghi-",
      "execution_count": 736,
      "outputs": [
        {
          "output_type": "execute_result",
          "data": {
            "text/plain": [
              "London          13077\n",
              "Paris            7403\n",
              "Rome             2322\n",
              "Edinburgh        2286\n",
              "Barcelona        2235\n",
              "                ...  \n",
              "Veysonnaz           1\n",
              "Lanlivery           1\n",
              "Albinyana           1\n",
              "Tulfes              1\n",
              "Newcastleton        1\n",
              "Name: city, Length: 4708, dtype: int64"
            ]
          },
          "metadata": {},
          "execution_count": 736
        }
      ]
    },
    {
      "cell_type": "code",
      "source": [
        "merged_df['country'].value_counts()"
      ],
      "metadata": {
        "colab": {
          "base_uri": "https://localhost:8080/",
          "height": 0
        },
        "id": "fsvQgI6MghlN",
        "outputId": "05ba195f-05d4-40ce-9499-952fef68d4d6"
      },
      "id": "fsvQgI6MghlN",
      "execution_count": 737,
      "outputs": [
        {
          "output_type": "execute_result",
          "data": {
            "text/plain": [
              "United Kingdom    65750\n",
              "France            24427\n",
              "Spain             18177\n",
              "Italy             16668\n",
              "Germany           16016\n",
              "Greece             3955\n",
              "Poland             3704\n",
              "Portugal           3650\n",
              "Netherlands        3595\n",
              "Switzerland        3036\n",
              "Austria            2258\n",
              "Czech Republic     2011\n",
              "Belgium            1793\n",
              "Romania            1426\n",
              "Malta              1215\n",
              "Hungary            1169\n",
              "Sweden             1144\n",
              "Denmark             861\n",
              "Ireland             850\n",
              "Bulgaria            770\n",
              "Croatia             625\n",
              "Cyprus              614\n",
              "Latvia              505\n",
              "Slovenia            497\n",
              "Estonia             354\n",
              "Finland             337\n",
              "Lithuania           320\n",
              "Slovakia            248\n",
              "Luxembourg          146\n",
              "Name: country, dtype: int64"
            ]
          },
          "metadata": {},
          "execution_count": 737
        }
      ]
    },
    {
      "cell_type": "code",
      "source": [
        "merged_df['propertytype'].value_counts()"
      ],
      "metadata": {
        "colab": {
          "base_uri": "https://localhost:8080/",
          "height": 0
        },
        "id": "QM0D4mclghnM",
        "outputId": "5fe7484a-b617-48c4-a30b-bbb0230d52b2"
      },
      "id": "QM0D4mclghnM",
      "execution_count": 738,
      "outputs": [
        {
          "output_type": "execute_result",
          "data": {
            "text/plain": [
              "Hotels                174105\n",
              "Resorts                 1391\n",
              "Motels                   193\n",
              "Bed and breakfasts       185\n",
              "Holiday parks            173\n",
              "Inns                      56\n",
              "Campsites                 18\n",
              "Name: propertytype, dtype: int64"
            ]
          },
          "metadata": {},
          "execution_count": 738
        }
      ]
    },
    {
      "cell_type": "code",
      "source": [
        "merged_df['starrating'].value_counts()"
      ],
      "metadata": {
        "colab": {
          "base_uri": "https://localhost:8080/",
          "height": 0
        },
        "id": "uKkGAA9Dghqo",
        "outputId": "a83ee189-104f-4940-e367-ddcd0ac6cf35"
      },
      "id": "uKkGAA9Dghqo",
      "execution_count": 739,
      "outputs": [
        {
          "output_type": "execute_result",
          "data": {
            "text/plain": [
              "4    89134\n",
              "3    74749\n",
              "2    12238\n",
              "Name: starrating, dtype: int64"
            ]
          },
          "metadata": {},
          "execution_count": 739
        }
      ]
    },
    {
      "cell_type": "code",
      "source": [
        "merged_df['curr'].value_counts()"
      ],
      "metadata": {
        "colab": {
          "base_uri": "https://localhost:8080/",
          "height": 0
        },
        "id": "Og4Z2fFHgrzZ",
        "outputId": "970463fe-95d0-4537-d1f1-246e15207091"
      },
      "id": "Og4Z2fFHgrzZ",
      "execution_count": 740,
      "outputs": [
        {
          "output_type": "execute_result",
          "data": {
            "text/plain": [
              "EUR    104925\n",
              "GBP     65750\n",
              "CHF      3036\n",
              "SEK      1144\n",
              "DKK       861\n",
              "PLN       237\n",
              "RON       106\n",
              "BGN        62\n",
              "Name: curr, dtype: int64"
            ]
          },
          "metadata": {},
          "execution_count": 740
        }
      ]
    },
    {
      "cell_type": "code",
      "source": [
        "merged_df['min'].value_counts()"
      ],
      "metadata": {
        "colab": {
          "base_uri": "https://localhost:8080/",
          "height": 0
        },
        "id": "W-9fNza7gr2E",
        "outputId": "7b600431-0721-4269-b77a-409efc4900cc"
      },
      "id": "W-9fNza7gr2E",
      "execution_count": 741,
      "outputs": [
        {
          "output_type": "execute_result",
          "data": {
            "text/plain": [
              "95.03     1430\n",
              "63.36     1116\n",
              "73.91      945\n",
              "60.28      884\n",
              "52.80      876\n",
              "          ... \n",
              "112.72       1\n",
              "166.01       1\n",
              "324.38       1\n",
              "399.14       1\n",
              "543.59       1\n",
              "Name: min, Length: 3743, dtype: int64"
            ]
          },
          "metadata": {},
          "execution_count": 741
        }
      ]
    },
    {
      "cell_type": "code",
      "source": [
        "merged_df['max'].value_counts()"
      ],
      "metadata": {
        "colab": {
          "base_uri": "https://localhost:8080/",
          "height": 0
        },
        "id": "CXoRvzY9gr5f",
        "outputId": "46d3704c-61cc-4562-c6c0-fa80da1f3aa6"
      },
      "id": "CXoRvzY9gr5f",
      "execution_count": 742,
      "outputs": [
        {
          "output_type": "execute_result",
          "data": {
            "text/plain": [
              "147.83    1164\n",
              "126.71     957\n",
              "146.77     724\n",
              "158.39     704\n",
              "179.51     694\n",
              "          ... \n",
              "774.20       1\n",
              "182.97       1\n",
              "139.95       1\n",
              "443.49       1\n",
              "45.76        1\n",
              "Name: max, Length: 4262, dtype: int64"
            ]
          },
          "metadata": {},
          "execution_count": 742
        }
      ]
    },
    {
      "cell_type": "code",
      "source": [
        "merged_df.head()"
      ],
      "metadata": {
        "colab": {
          "base_uri": "https://localhost:8080/",
          "height": 444
        },
        "id": "c7yjsAyOiSHv",
        "outputId": "1f4e55f5-2783-457b-e858-16dd053963c3"
      },
      "id": "c7yjsAyOiSHv",
      "execution_count": 743,
      "outputs": [
        {
          "output_type": "execute_result",
          "data": {
            "text/plain": [
              "   hotelcode                        roomtype  onsiterate  netrate  \\\n",
              "0     634876                     Double Room       82.36    87.84   \n",
              "1     634876                     Double Room      107.70     0.00   \n",
              "2     634876  Deluxe Double Room with Shower      107.70     0.00   \n",
              "3     634876            Superior Double Room      107.70     0.00   \n",
              "4     634876    Standard Double or Twin Room       82.36    87.84   \n",
              "\n",
              "                                     ratedescription  \\\n",
              "0       Room size: 15 m²/161 ft², Shower, 1 king bed   \n",
              "1       Room size: 15 m²/161 ft², Shower, 1 king bed   \n",
              "2  Room size: 17 m²/183 ft², Shower, 1 queen bed ...   \n",
              "3     Room size: 17 m²/183 ft², Shower, 1 double bed   \n",
              "4  Room size: 13 m²/140 ft², Shower, 1 queen bed ...   \n",
              "\n",
              "                            ratetype  \\\n",
              "0                Cancellation policy   \n",
              "1                Cancellation policy   \n",
              "2  Extra low price! (non-refundable)   \n",
              "3                Cancellation policy   \n",
              "4  Extra low price! (non-refundable)   \n",
              "\n",
              "                                       roomamenities  maxoccupancy ispromo  \\\n",
              "0  Air conditioning: ;Alarm clock: ;Carpeting: ;C...             1       Y   \n",
              "1  Air conditioning: ;Alarm clock: ;Carpeting: ;C...             2       N   \n",
              "2  Air conditioning: ;Alarm clock: ;Carpeting: ;C...             2       N   \n",
              "3  Air conditioning: ;Alarm clock: ;Carpeting: ;C...             2       N   \n",
              "4  Air conditioning: ;Alarm clock: ;Carpeting: ;C...             1       Y   \n",
              "\n",
              "  closed  ...       mealinclusiontype            hotelname           address  \\\n",
              "0      N  ...          Free Breakfast  The Old Cider House  25 Castle Street   \n",
              "1      N  ...  Free breakfast for {2}  The Old Cider House  25 Castle Street   \n",
              "2      N  ...  Free breakfast for {2}  The Old Cider House  25 Castle Street   \n",
              "3      N  ...  Free breakfast for {2}  The Old Cider House  25 Castle Street   \n",
              "4      N  ...          Free Breakfast  The Old Cider House  25 Castle Street   \n",
              "\n",
              "            city         country propertytype starrating curr    min    max  \n",
              "0  Nether Stowey  United Kingdom       Hotels          4  GBP  82.36  107.7  \n",
              "1  Nether Stowey  United Kingdom       Hotels          4  GBP  82.36  107.7  \n",
              "2  Nether Stowey  United Kingdom       Hotels          4  GBP  82.36  107.7  \n",
              "3  Nether Stowey  United Kingdom       Hotels          4  GBP  82.36  107.7  \n",
              "4  Nether Stowey  United Kingdom       Hotels          4  GBP  82.36  107.7  \n",
              "\n",
              "[5 rows x 26 columns]"
            ],
            "text/html": [
              "\n",
              "  <div id=\"df-2c82e28f-81ee-4a24-a942-831f36dbf641\" class=\"colab-df-container\">\n",
              "    <div>\n",
              "<style scoped>\n",
              "    .dataframe tbody tr th:only-of-type {\n",
              "        vertical-align: middle;\n",
              "    }\n",
              "\n",
              "    .dataframe tbody tr th {\n",
              "        vertical-align: top;\n",
              "    }\n",
              "\n",
              "    .dataframe thead th {\n",
              "        text-align: right;\n",
              "    }\n",
              "</style>\n",
              "<table border=\"1\" class=\"dataframe\">\n",
              "  <thead>\n",
              "    <tr style=\"text-align: right;\">\n",
              "      <th></th>\n",
              "      <th>hotelcode</th>\n",
              "      <th>roomtype</th>\n",
              "      <th>onsiterate</th>\n",
              "      <th>netrate</th>\n",
              "      <th>ratedescription</th>\n",
              "      <th>ratetype</th>\n",
              "      <th>roomamenities</th>\n",
              "      <th>maxoccupancy</th>\n",
              "      <th>ispromo</th>\n",
              "      <th>closed</th>\n",
              "      <th>...</th>\n",
              "      <th>mealinclusiontype</th>\n",
              "      <th>hotelname</th>\n",
              "      <th>address</th>\n",
              "      <th>city</th>\n",
              "      <th>country</th>\n",
              "      <th>propertytype</th>\n",
              "      <th>starrating</th>\n",
              "      <th>curr</th>\n",
              "      <th>min</th>\n",
              "      <th>max</th>\n",
              "    </tr>\n",
              "  </thead>\n",
              "  <tbody>\n",
              "    <tr>\n",
              "      <th>0</th>\n",
              "      <td>634876</td>\n",
              "      <td>Double Room</td>\n",
              "      <td>82.36</td>\n",
              "      <td>87.84</td>\n",
              "      <td>Room size: 15 m²/161 ft², Shower, 1 king bed</td>\n",
              "      <td>Cancellation policy</td>\n",
              "      <td>Air conditioning: ;Alarm clock: ;Carpeting: ;C...</td>\n",
              "      <td>1</td>\n",
              "      <td>Y</td>\n",
              "      <td>N</td>\n",
              "      <td>...</td>\n",
              "      <td>Free Breakfast</td>\n",
              "      <td>The Old Cider House</td>\n",
              "      <td>25 Castle Street</td>\n",
              "      <td>Nether Stowey</td>\n",
              "      <td>United Kingdom</td>\n",
              "      <td>Hotels</td>\n",
              "      <td>4</td>\n",
              "      <td>GBP</td>\n",
              "      <td>82.36</td>\n",
              "      <td>107.7</td>\n",
              "    </tr>\n",
              "    <tr>\n",
              "      <th>1</th>\n",
              "      <td>634876</td>\n",
              "      <td>Double Room</td>\n",
              "      <td>107.70</td>\n",
              "      <td>0.00</td>\n",
              "      <td>Room size: 15 m²/161 ft², Shower, 1 king bed</td>\n",
              "      <td>Cancellation policy</td>\n",
              "      <td>Air conditioning: ;Alarm clock: ;Carpeting: ;C...</td>\n",
              "      <td>2</td>\n",
              "      <td>N</td>\n",
              "      <td>N</td>\n",
              "      <td>...</td>\n",
              "      <td>Free breakfast for {2}</td>\n",
              "      <td>The Old Cider House</td>\n",
              "      <td>25 Castle Street</td>\n",
              "      <td>Nether Stowey</td>\n",
              "      <td>United Kingdom</td>\n",
              "      <td>Hotels</td>\n",
              "      <td>4</td>\n",
              "      <td>GBP</td>\n",
              "      <td>82.36</td>\n",
              "      <td>107.7</td>\n",
              "    </tr>\n",
              "    <tr>\n",
              "      <th>2</th>\n",
              "      <td>634876</td>\n",
              "      <td>Deluxe Double Room with Shower</td>\n",
              "      <td>107.70</td>\n",
              "      <td>0.00</td>\n",
              "      <td>Room size: 17 m²/183 ft², Shower, 1 queen bed ...</td>\n",
              "      <td>Extra low price! (non-refundable)</td>\n",
              "      <td>Air conditioning: ;Alarm clock: ;Carpeting: ;C...</td>\n",
              "      <td>2</td>\n",
              "      <td>N</td>\n",
              "      <td>N</td>\n",
              "      <td>...</td>\n",
              "      <td>Free breakfast for {2}</td>\n",
              "      <td>The Old Cider House</td>\n",
              "      <td>25 Castle Street</td>\n",
              "      <td>Nether Stowey</td>\n",
              "      <td>United Kingdom</td>\n",
              "      <td>Hotels</td>\n",
              "      <td>4</td>\n",
              "      <td>GBP</td>\n",
              "      <td>82.36</td>\n",
              "      <td>107.7</td>\n",
              "    </tr>\n",
              "    <tr>\n",
              "      <th>3</th>\n",
              "      <td>634876</td>\n",
              "      <td>Superior Double Room</td>\n",
              "      <td>107.70</td>\n",
              "      <td>0.00</td>\n",
              "      <td>Room size: 17 m²/183 ft², Shower, 1 double bed</td>\n",
              "      <td>Cancellation policy</td>\n",
              "      <td>Air conditioning: ;Alarm clock: ;Carpeting: ;C...</td>\n",
              "      <td>2</td>\n",
              "      <td>N</td>\n",
              "      <td>N</td>\n",
              "      <td>...</td>\n",
              "      <td>Free breakfast for {2}</td>\n",
              "      <td>The Old Cider House</td>\n",
              "      <td>25 Castle Street</td>\n",
              "      <td>Nether Stowey</td>\n",
              "      <td>United Kingdom</td>\n",
              "      <td>Hotels</td>\n",
              "      <td>4</td>\n",
              "      <td>GBP</td>\n",
              "      <td>82.36</td>\n",
              "      <td>107.7</td>\n",
              "    </tr>\n",
              "    <tr>\n",
              "      <th>4</th>\n",
              "      <td>634876</td>\n",
              "      <td>Standard Double or Twin Room</td>\n",
              "      <td>82.36</td>\n",
              "      <td>87.84</td>\n",
              "      <td>Room size: 13 m²/140 ft², Shower, 1 queen bed ...</td>\n",
              "      <td>Extra low price! (non-refundable)</td>\n",
              "      <td>Air conditioning: ;Alarm clock: ;Carpeting: ;C...</td>\n",
              "      <td>1</td>\n",
              "      <td>Y</td>\n",
              "      <td>N</td>\n",
              "      <td>...</td>\n",
              "      <td>Free Breakfast</td>\n",
              "      <td>The Old Cider House</td>\n",
              "      <td>25 Castle Street</td>\n",
              "      <td>Nether Stowey</td>\n",
              "      <td>United Kingdom</td>\n",
              "      <td>Hotels</td>\n",
              "      <td>4</td>\n",
              "      <td>GBP</td>\n",
              "      <td>82.36</td>\n",
              "      <td>107.7</td>\n",
              "    </tr>\n",
              "  </tbody>\n",
              "</table>\n",
              "<p>5 rows × 26 columns</p>\n",
              "</div>\n",
              "    <div class=\"colab-df-buttons\">\n",
              "\n",
              "  <div class=\"colab-df-container\">\n",
              "    <button class=\"colab-df-convert\" onclick=\"convertToInteractive('df-2c82e28f-81ee-4a24-a942-831f36dbf641')\"\n",
              "            title=\"Convert this dataframe to an interactive table.\"\n",
              "            style=\"display:none;\">\n",
              "\n",
              "  <svg xmlns=\"http://www.w3.org/2000/svg\" height=\"24px\" viewBox=\"0 -960 960 960\">\n",
              "    <path d=\"M120-120v-720h720v720H120Zm60-500h600v-160H180v160Zm220 220h160v-160H400v160Zm0 220h160v-160H400v160ZM180-400h160v-160H180v160Zm440 0h160v-160H620v160ZM180-180h160v-160H180v160Zm440 0h160v-160H620v160Z\"/>\n",
              "  </svg>\n",
              "    </button>\n",
              "\n",
              "  <style>\n",
              "    .colab-df-container {\n",
              "      display:flex;\n",
              "      gap: 12px;\n",
              "    }\n",
              "\n",
              "    .colab-df-convert {\n",
              "      background-color: #E8F0FE;\n",
              "      border: none;\n",
              "      border-radius: 50%;\n",
              "      cursor: pointer;\n",
              "      display: none;\n",
              "      fill: #1967D2;\n",
              "      height: 32px;\n",
              "      padding: 0 0 0 0;\n",
              "      width: 32px;\n",
              "    }\n",
              "\n",
              "    .colab-df-convert:hover {\n",
              "      background-color: #E2EBFA;\n",
              "      box-shadow: 0px 1px 2px rgba(60, 64, 67, 0.3), 0px 1px 3px 1px rgba(60, 64, 67, 0.15);\n",
              "      fill: #174EA6;\n",
              "    }\n",
              "\n",
              "    .colab-df-buttons div {\n",
              "      margin-bottom: 4px;\n",
              "    }\n",
              "\n",
              "    [theme=dark] .colab-df-convert {\n",
              "      background-color: #3B4455;\n",
              "      fill: #D2E3FC;\n",
              "    }\n",
              "\n",
              "    [theme=dark] .colab-df-convert:hover {\n",
              "      background-color: #434B5C;\n",
              "      box-shadow: 0px 1px 3px 1px rgba(0, 0, 0, 0.15);\n",
              "      filter: drop-shadow(0px 1px 2px rgba(0, 0, 0, 0.3));\n",
              "      fill: #FFFFFF;\n",
              "    }\n",
              "  </style>\n",
              "\n",
              "    <script>\n",
              "      const buttonEl =\n",
              "        document.querySelector('#df-2c82e28f-81ee-4a24-a942-831f36dbf641 button.colab-df-convert');\n",
              "      buttonEl.style.display =\n",
              "        google.colab.kernel.accessAllowed ? 'block' : 'none';\n",
              "\n",
              "      async function convertToInteractive(key) {\n",
              "        const element = document.querySelector('#df-2c82e28f-81ee-4a24-a942-831f36dbf641');\n",
              "        const dataTable =\n",
              "          await google.colab.kernel.invokeFunction('convertToInteractive',\n",
              "                                                    [key], {});\n",
              "        if (!dataTable) return;\n",
              "\n",
              "        const docLinkHtml = 'Like what you see? Visit the ' +\n",
              "          '<a target=\"_blank\" href=https://colab.research.google.com/notebooks/data_table.ipynb>data table notebook</a>'\n",
              "          + ' to learn more about interactive tables.';\n",
              "        element.innerHTML = '';\n",
              "        dataTable['output_type'] = 'display_data';\n",
              "        await google.colab.output.renderOutput(dataTable, element);\n",
              "        const docLink = document.createElement('div');\n",
              "        docLink.innerHTML = docLinkHtml;\n",
              "        element.appendChild(docLink);\n",
              "      }\n",
              "    </script>\n",
              "  </div>\n",
              "\n",
              "\n",
              "<div id=\"df-d6e0b8ef-9e51-4f5c-b97c-1ebcf74fb6e5\">\n",
              "  <button class=\"colab-df-quickchart\" onclick=\"quickchart('df-d6e0b8ef-9e51-4f5c-b97c-1ebcf74fb6e5')\"\n",
              "            title=\"Suggest charts\"\n",
              "            style=\"display:none;\">\n",
              "\n",
              "<svg xmlns=\"http://www.w3.org/2000/svg\" height=\"24px\"viewBox=\"0 0 24 24\"\n",
              "     width=\"24px\">\n",
              "    <g>\n",
              "        <path d=\"M19 3H5c-1.1 0-2 .9-2 2v14c0 1.1.9 2 2 2h14c1.1 0 2-.9 2-2V5c0-1.1-.9-2-2-2zM9 17H7v-7h2v7zm4 0h-2V7h2v10zm4 0h-2v-4h2v4z\"/>\n",
              "    </g>\n",
              "</svg>\n",
              "  </button>\n",
              "\n",
              "<style>\n",
              "  .colab-df-quickchart {\n",
              "      --bg-color: #E8F0FE;\n",
              "      --fill-color: #1967D2;\n",
              "      --hover-bg-color: #E2EBFA;\n",
              "      --hover-fill-color: #174EA6;\n",
              "      --disabled-fill-color: #AAA;\n",
              "      --disabled-bg-color: #DDD;\n",
              "  }\n",
              "\n",
              "  [theme=dark] .colab-df-quickchart {\n",
              "      --bg-color: #3B4455;\n",
              "      --fill-color: #D2E3FC;\n",
              "      --hover-bg-color: #434B5C;\n",
              "      --hover-fill-color: #FFFFFF;\n",
              "      --disabled-bg-color: #3B4455;\n",
              "      --disabled-fill-color: #666;\n",
              "  }\n",
              "\n",
              "  .colab-df-quickchart {\n",
              "    background-color: var(--bg-color);\n",
              "    border: none;\n",
              "    border-radius: 50%;\n",
              "    cursor: pointer;\n",
              "    display: none;\n",
              "    fill: var(--fill-color);\n",
              "    height: 32px;\n",
              "    padding: 0;\n",
              "    width: 32px;\n",
              "  }\n",
              "\n",
              "  .colab-df-quickchart:hover {\n",
              "    background-color: var(--hover-bg-color);\n",
              "    box-shadow: 0 1px 2px rgba(60, 64, 67, 0.3), 0 1px 3px 1px rgba(60, 64, 67, 0.15);\n",
              "    fill: var(--button-hover-fill-color);\n",
              "  }\n",
              "\n",
              "  .colab-df-quickchart-complete:disabled,\n",
              "  .colab-df-quickchart-complete:disabled:hover {\n",
              "    background-color: var(--disabled-bg-color);\n",
              "    fill: var(--disabled-fill-color);\n",
              "    box-shadow: none;\n",
              "  }\n",
              "\n",
              "  .colab-df-spinner {\n",
              "    border: 2px solid var(--fill-color);\n",
              "    border-color: transparent;\n",
              "    border-bottom-color: var(--fill-color);\n",
              "    animation:\n",
              "      spin 1s steps(1) infinite;\n",
              "  }\n",
              "\n",
              "  @keyframes spin {\n",
              "    0% {\n",
              "      border-color: transparent;\n",
              "      border-bottom-color: var(--fill-color);\n",
              "      border-left-color: var(--fill-color);\n",
              "    }\n",
              "    20% {\n",
              "      border-color: transparent;\n",
              "      border-left-color: var(--fill-color);\n",
              "      border-top-color: var(--fill-color);\n",
              "    }\n",
              "    30% {\n",
              "      border-color: transparent;\n",
              "      border-left-color: var(--fill-color);\n",
              "      border-top-color: var(--fill-color);\n",
              "      border-right-color: var(--fill-color);\n",
              "    }\n",
              "    40% {\n",
              "      border-color: transparent;\n",
              "      border-right-color: var(--fill-color);\n",
              "      border-top-color: var(--fill-color);\n",
              "    }\n",
              "    60% {\n",
              "      border-color: transparent;\n",
              "      border-right-color: var(--fill-color);\n",
              "    }\n",
              "    80% {\n",
              "      border-color: transparent;\n",
              "      border-right-color: var(--fill-color);\n",
              "      border-bottom-color: var(--fill-color);\n",
              "    }\n",
              "    90% {\n",
              "      border-color: transparent;\n",
              "      border-bottom-color: var(--fill-color);\n",
              "    }\n",
              "  }\n",
              "</style>\n",
              "\n",
              "  <script>\n",
              "    async function quickchart(key) {\n",
              "      const quickchartButtonEl =\n",
              "        document.querySelector('#' + key + ' button');\n",
              "      quickchartButtonEl.disabled = true;  // To prevent multiple clicks.\n",
              "      quickchartButtonEl.classList.add('colab-df-spinner');\n",
              "      try {\n",
              "        const charts = await google.colab.kernel.invokeFunction(\n",
              "            'suggestCharts', [key], {});\n",
              "      } catch (error) {\n",
              "        console.error('Error during call to suggestCharts:', error);\n",
              "      }\n",
              "      quickchartButtonEl.classList.remove('colab-df-spinner');\n",
              "      quickchartButtonEl.classList.add('colab-df-quickchart-complete');\n",
              "    }\n",
              "    (() => {\n",
              "      let quickchartButtonEl =\n",
              "        document.querySelector('#df-d6e0b8ef-9e51-4f5c-b97c-1ebcf74fb6e5 button');\n",
              "      quickchartButtonEl.style.display =\n",
              "        google.colab.kernel.accessAllowed ? 'block' : 'none';\n",
              "    })();\n",
              "  </script>\n",
              "</div>\n",
              "    </div>\n",
              "  </div>\n"
            ]
          },
          "metadata": {},
          "execution_count": 743
        }
      ]
    },
    {
      "cell_type": "code",
      "source": [
        "merged_df.info()"
      ],
      "metadata": {
        "id": "Uz45pymCvBtl",
        "colab": {
          "base_uri": "https://localhost:8080/",
          "height": 0
        },
        "outputId": "2c6ffa99-be72-43e5-e3a2-a938d8b13356"
      },
      "id": "Uz45pymCvBtl",
      "execution_count": 744,
      "outputs": [
        {
          "output_type": "stream",
          "name": "stdout",
          "text": [
            "<class 'pandas.core.frame.DataFrame'>\n",
            "Int64Index: 176121 entries, 0 to 176120\n",
            "Data columns (total 26 columns):\n",
            " #   Column             Non-Null Count   Dtype  \n",
            "---  ------             --------------   -----  \n",
            " 0   hotelcode          176121 non-null  int64  \n",
            " 1   roomtype           176121 non-null  object \n",
            " 2   onsiterate         176121 non-null  float64\n",
            " 3   netrate            176121 non-null  float64\n",
            " 4   ratedescription    176121 non-null  object \n",
            " 5   ratetype           176121 non-null  object \n",
            " 6   roomamenities      176121 non-null  object \n",
            " 7   maxoccupancy       176121 non-null  int64  \n",
            " 8   ispromo            176121 non-null  object \n",
            " 9   closed             176121 non-null  object \n",
            " 10  discount           176121 non-null  float64\n",
            " 11  promoname          176121 non-null  object \n",
            " 12  status_code        176121 non-null  int64  \n",
            " 13  taxstatus          176121 non-null  int64  \n",
            " 14  taxtype            176121 non-null  object \n",
            " 15  israteperstay      176121 non-null  object \n",
            " 16  mealinclusiontype  176121 non-null  object \n",
            " 17  hotelname          176121 non-null  object \n",
            " 18  address            176121 non-null  object \n",
            " 19  city               176121 non-null  object \n",
            " 20  country            176121 non-null  object \n",
            " 21  propertytype       176121 non-null  object \n",
            " 22  starrating         176121 non-null  int64  \n",
            " 23  curr               176121 non-null  object \n",
            " 24  min                176121 non-null  float64\n",
            " 25  max                176121 non-null  float64\n",
            "dtypes: float64(5), int64(5), object(16)\n",
            "memory usage: 36.3+ MB\n"
          ]
        }
      ]
    },
    {
      "cell_type": "markdown",
      "source": [
        "**EDA**"
      ],
      "metadata": {
        "id": "W12Po-7m8hTT"
      },
      "id": "W12Po-7m8hTT"
    },
    {
      "cell_type": "code",
      "source": [
        "palette = sns.color_palette(\"tab5\")\n",
        "\n",
        "fig, axs = plt.subplots(2, 2, figsize=(15, 5))\n",
        "fig.suptitle('Hotel Distribution', fontsize=20)\n",
        "\n",
        "axs[0, 0].barh(merged_df['maxoccupancy'].value_counts().index, merged_df['maxoccupancy'].value_counts().values, color=palette)\n",
        "axs[0, 0].set_title('Max Occupancy Distribution - Bar Plot')\n",
        "axs[0, 0].set_ylabel('Max Occupancy')\n",
        "axs[0, 0].set_xlabel('Counts')\n",
        "\n",
        "axs[0, 1].pie(merged_df['ispromo'].value_counts(), labels=merged_df['ispromo'].value_counts().index, autopct=\"%.2f%%\", colors=palette)\n",
        "axs[0, 1].set_title('Is Promo Distribution - Pie Chart')\n",
        "\n",
        "axs[1, 0].barh(merged_df['country'].value_counts().index, merged_df['country'].value_counts().values, color=palette)\n",
        "axs[1, 0].set_title('Country Distribution - Bar Plot')\n",
        "axs[1, 0].set_ylabel('Country')\n",
        "axs[1, 0].set_xlabel('Counts')\n",
        "\n",
        "axs[1, 1].barh(merged_df['propertytype'].value_counts().index, merged_df['propertytype'].value_counts().values, color=palette)\n",
        "axs[1, 1].set_title('Property Type Distribution - Bar Plot')\n",
        "axs[1, 1].set_ylabel('Property Type')\n",
        "axs[1, 1].set_xlabel('Counts')\n",
        "\n",
        "plt.tight_layout()\n",
        "plt.show()"
      ],
      "metadata": {
        "id": "QSZmdgHy8gKs",
        "colab": {
          "base_uri": "https://localhost:8080/",
          "height": 1002
        },
        "outputId": "170484f1-4b07-4927-dffc-72defabc8bca"
      },
      "id": "QSZmdgHy8gKs",
      "execution_count": 745,
      "outputs": [
        {
          "output_type": "display_data",
          "data": {
            "text/plain": [
              "<Figure size 1500x1000 with 4 Axes>"
            ],
            "image/png": "[encoded data removed]"
          },
          "metadata": {}
        }
      ]
    },
    {
      "cell_type": "markdown",
      "source": [
        "**Occupancies**: From the bar plot we can see that most of the rooms is only for 1 or 2 occupants and some rooms for 3 or 4 occupants. Only a few rooms that can be occupied by more than 4 occupants.\n",
        "\n",
        "**Promo**: The pie chart illustrate that almost half of the rooms offers promo to occupants.\n",
        "\n",
        "**Country**: From the bar plot we can see that most of the hotels are located in the United Kingdom. The next four countries, France, Spain, Italy, and Germany, almost have the same amount of hotels located in each country. They are the top 5 of countries which the hotels are located in.\n",
        "\n",
        "**Dominant Property**: The bar plot illustrate that hotels almost takeover the property type."
      ],
      "metadata": {
        "id": "o3rGjgV3lWdX"
      },
      "id": "o3rGjgV3lWdX"
    },
    {
      "cell_type": "code",
      "source": [
        "plt.figure(figsize=(12, 6))\n",
        "palette = sns.color_palette(\"tab5\")\n",
        "\n",
        "plt.subplot(1, 2, 1)\n",
        "plt.pie(merged_df['starrating'].value_counts(), labels=merged_df['starrating'].value_counts().index, autopct='%1.1f%%', startangle=90)\n",
        "plt.title('Pie Chart of Star Rating')\n",
        "\n",
        "plt.subplot(1, 2, 2)\n",
        "plt.bar(merged_df['curr'].value_counts().index, merged_df['curr'].value_counts().values, color=palette)\n",
        "plt.title('Bar Plot of Currency')\n",
        "plt.xlabel('Currency')\n",
        "plt.ylabel('Frequency')\n",
        "\n",
        "plt.tight_layout()\n",
        "plt.show()"
      ],
      "metadata": {
        "id": "ANI15rC2AxE9",
        "colab": {
          "base_uri": "https://localhost:8080/",
          "height": 607
        },
        "outputId": "c0a7f3c1-37ce-4bd0-9452-381cbefde26e"
      },
      "id": "ANI15rC2AxE9",
      "execution_count": 746,
      "outputs": [
        {
          "output_type": "display_data",
          "data": {
            "text/plain": [
              "<Figure size 1200x600 with 2 Axes>"
            ],
            "image/png": "[encoded data removed]"
          },
          "metadata": {}
        }
      ]
    },
    {
      "cell_type": "markdown",
      "source": [
        "**Star Rating**: From the pie chart we can see that 3 and 4 star rating are mostly given to the hotels and only few hotels got 2 star rate.\n",
        "\n",
        "**Dominant Currencies**: The bar plots illustrate that the Euro and British Pound Sterling is the most common currency used."
      ],
      "metadata": {
        "id": "XE5yk88Olbt6"
      },
      "id": "XE5yk88Olbt6"
    },
    {
      "cell_type": "code",
      "source": [
        "merged_df.plot(kind='scatter',\n",
        "               x='onsiterate',\n",
        "               y='netrate',\n",
        "               title='Onsite Rate vs Net Rate')\n",
        "plt.show()"
      ],
      "metadata": {
        "id": "DbODUDwTAxG7",
        "colab": {
          "base_uri": "https://localhost:8080/",
          "height": 472
        },
        "outputId": "be8d1c28-9d0c-48da-8deb-e59c76ad4227"
      },
      "id": "DbODUDwTAxG7",
      "execution_count": 747,
      "outputs": [
        {
          "output_type": "display_data",
          "data": {
            "text/plain": [
              "<Figure size 640x480 with 1 Axes>"
            ],
            "image/png": "[encoded data removed]"
          },
          "metadata": {}
        }
      ]
    },
    {
      "cell_type": "markdown",
      "source": [
        "We found out that there is a bad correlation between **onsiterate** and **netrate** since there are too many **'0'** in **netrate**. So we decided that we will not use **netrate** data because it serves bad information that will give bad impact for the hotel recommendation system."
      ],
      "metadata": {
        "id": "mDpdkB4rlfS5"
      },
      "id": "mDpdkB4rlfS5"
    },
    {
      "cell_type": "markdown",
      "source": [
        "### **Tokenize**"
      ],
      "metadata": {
        "id": "3vN3tDocAzF4"
      },
      "id": "3vN3tDocAzF4"
    },
    {
      "cell_type": "code",
      "source": [
        "df_ori = merged_df.copy()\n",
        "df_token = merged_df.copy()"
      ],
      "metadata": {
        "id": "CgVbXoK0-iYf"
      },
      "id": "CgVbXoK0-iYf",
      "execution_count": 748,
      "outputs": []
    },
    {
      "cell_type": "code",
      "source": [
        "stay = ['propertytype', 'country', 'city', 'starrating', 'onsiterate', 'maxoccupancy', 'roomtype', 'hotelname', 'ratedescription', 'roomamenities', 'mealinclusiontype', 'curr']\n",
        "df_token = df_token[stay]"
      ],
      "metadata": {
        "id": "raRRA5_EAtgu"
      },
      "id": "raRRA5_EAtgu",
      "execution_count": 749,
      "outputs": []
    },
    {
      "cell_type": "code",
      "source": [
        "df_token.head()"
      ],
      "metadata": {
        "colab": {
          "base_uri": "https://localhost:8080/",
          "height": 293
        },
        "id": "tHneV1TDAti8",
        "outputId": "655b8c9b-340f-4594-8270-136d5291f14d"
      },
      "id": "tHneV1TDAti8",
      "execution_count": 750,
      "outputs": [
        {
          "output_type": "execute_result",
          "data": {
            "text/plain": [
              "  propertytype         country           city  starrating  onsiterate  \\\n",
              "0       Hotels  United Kingdom  Nether Stowey           4       82.36   \n",
              "1       Hotels  United Kingdom  Nether Stowey           4      107.70   \n",
              "2       Hotels  United Kingdom  Nether Stowey           4      107.70   \n",
              "3       Hotels  United Kingdom  Nether Stowey           4      107.70   \n",
              "4       Hotels  United Kingdom  Nether Stowey           4       82.36   \n",
              "\n",
              "   maxoccupancy                        roomtype            hotelname  \\\n",
              "0             1                     Double Room  The Old Cider House   \n",
              "1             2                     Double Room  The Old Cider House   \n",
              "2             2  Deluxe Double Room with Shower  The Old Cider House   \n",
              "3             2            Superior Double Room  The Old Cider House   \n",
              "4             1    Standard Double or Twin Room  The Old Cider House   \n",
              "\n",
              "                                     ratedescription  \\\n",
              "0       Room size: 15 m²/161 ft², Shower, 1 king bed   \n",
              "1       Room size: 15 m²/161 ft², Shower, 1 king bed   \n",
              "2  Room size: 17 m²/183 ft², Shower, 1 queen bed ...   \n",
              "3     Room size: 17 m²/183 ft², Shower, 1 double bed   \n",
              "4  Room size: 13 m²/140 ft², Shower, 1 queen bed ...   \n",
              "\n",
              "                                       roomamenities       mealinclusiontype  \\\n",
              "0  Air conditioning: ;Alarm clock: ;Carpeting: ;C...          Free Breakfast   \n",
              "1  Air conditioning: ;Alarm clock: ;Carpeting: ;C...  Free breakfast for {2}   \n",
              "2  Air conditioning: ;Alarm clock: ;Carpeting: ;C...  Free breakfast for {2}   \n",
              "3  Air conditioning: ;Alarm clock: ;Carpeting: ;C...  Free breakfast for {2}   \n",
              "4  Air conditioning: ;Alarm clock: ;Carpeting: ;C...          Free Breakfast   \n",
              "\n",
              "  curr  \n",
              "0  GBP  \n",
              "1  GBP  \n",
              "2  GBP  \n",
              "3  GBP  \n",
              "4  GBP  "
            ],
            "text/html": [
              "\n",
              "  <div id=\"df-2b428f72-710b-46a3-b1a5-2494368d113a\" class=\"colab-df-container\">\n",
              "    <div>\n",
              "<style scoped>\n",
              "    .dataframe tbody tr th:only-of-type {\n",
              "        vertical-align: middle;\n",
              "    }\n",
              "\n",
              "    .dataframe tbody tr th {\n",
              "        vertical-align: top;\n",
              "    }\n",
              "\n",
              "    .dataframe thead th {\n",
              "        text-align: right;\n",
              "    }\n",
              "</style>\n",
              "<table border=\"1\" class=\"dataframe\">\n",
              "  <thead>\n",
              "    <tr style=\"text-align: right;\">\n",
              "      <th></th>\n",
              "      <th>propertytype</th>\n",
              "      <th>country</th>\n",
              "      <th>city</th>\n",
              "      <th>starrating</th>\n",
              "      <th>onsiterate</th>\n",
              "      <th>maxoccupancy</th>\n",
              "      <th>roomtype</th>\n",
              "      <th>hotelname</th>\n",
              "      <th>ratedescription</th>\n",
              "      <th>roomamenities</th>\n",
              "      <th>mealinclusiontype</th>\n",
              "      <th>curr</th>\n",
              "    </tr>\n",
              "  </thead>\n",
              "  <tbody>\n",
              "    <tr>\n",
              "      <th>0</th>\n",
              "      <td>Hotels</td>\n",
              "      <td>United Kingdom</td>\n",
              "      <td>Nether Stowey</td>\n",
              "      <td>4</td>\n",
              "      <td>82.36</td>\n",
              "      <td>1</td>\n",
              "      <td>Double Room</td>\n",
              "      <td>The Old Cider House</td>\n",
              "      <td>Room size: 15 m²/161 ft², Shower, 1 king bed</td>\n",
              "      <td>Air conditioning: ;Alarm clock: ;Carpeting: ;C...</td>\n",
              "      <td>Free Breakfast</td>\n",
              "      <td>GBP</td>\n",
              "    </tr>\n",
              "    <tr>\n",
              "      <th>1</th>\n",
              "      <td>Hotels</td>\n",
              "      <td>United Kingdom</td>\n",
              "      <td>Nether Stowey</td>\n",
              "      <td>4</td>\n",
              "      <td>107.70</td>\n",
              "      <td>2</td>\n",
              "      <td>Double Room</td>\n",
              "      <td>The Old Cider House</td>\n",
              "      <td>Room size: 15 m²/161 ft², Shower, 1 king bed</td>\n",
              "      <td>Air conditioning: ;Alarm clock: ;Carpeting: ;C...</td>\n",
              "      <td>Free breakfast for {2}</td>\n",
              "      <td>GBP</td>\n",
              "    </tr>\n",
              "    <tr>\n",
              "      <th>2</th>\n",
              "      <td>Hotels</td>\n",
              "      <td>United Kingdom</td>\n",
              "      <td>Nether Stowey</td>\n",
              "      <td>4</td>\n",
              "      <td>107.70</td>\n",
              "      <td>2</td>\n",
              "      <td>Deluxe Double Room with Shower</td>\n",
              "      <td>The Old Cider House</td>\n",
              "      <td>Room size: 17 m²/183 ft², Shower, 1 queen bed ...</td>\n",
              "      <td>Air conditioning: ;Alarm clock: ;Carpeting: ;C...</td>\n",
              "      <td>Free breakfast for {2}</td>\n",
              "      <td>GBP</td>\n",
              "    </tr>\n",
              "    <tr>\n",
              "      <th>3</th>\n",
              "      <td>Hotels</td>\n",
              "      <td>United Kingdom</td>\n",
              "      <td>Nether Stowey</td>\n",
              "      <td>4</td>\n",
              "      <td>107.70</td>\n",
              "      <td>2</td>\n",
              "      <td>Superior Double Room</td>\n",
              "      <td>The Old Cider House</td>\n",
              "      <td>Room size: 17 m²/183 ft², Shower, 1 double bed</td>\n",
              "      <td>Air conditioning: ;Alarm clock: ;Carpeting: ;C...</td>\n",
              "      <td>Free breakfast for {2}</td>\n",
              "      <td>GBP</td>\n",
              "    </tr>\n",
              "    <tr>\n",
              "      <th>4</th>\n",
              "      <td>Hotels</td>\n",
              "      <td>United Kingdom</td>\n",
              "      <td>Nether Stowey</td>\n",
              "      <td>4</td>\n",
              "      <td>82.36</td>\n",
              "      <td>1</td>\n",
              "      <td>Standard Double or Twin Room</td>\n",
              "      <td>The Old Cider House</td>\n",
              "      <td>Room size: 13 m²/140 ft², Shower, 1 queen bed ...</td>\n",
              "      <td>Air conditioning: ;Alarm clock: ;Carpeting: ;C...</td>\n",
              "      <td>Free Breakfast</td>\n",
              "      <td>GBP</td>\n",
              "    </tr>\n",
              "  </tbody>\n",
              "</table>\n",
              "</div>\n",
              "    <div class=\"colab-df-buttons\">\n",
              "\n",
              "  <div class=\"colab-df-container\">\n",
              "    <button class=\"colab-df-convert\" onclick=\"convertToInteractive('df-2b428f72-710b-46a3-b1a5-2494368d113a')\"\n",
              "            title=\"Convert this dataframe to an interactive table.\"\n",
              "            style=\"display:none;\">\n",
              "\n",
              "  <svg xmlns=\"http://www.w3.org/2000/svg\" height=\"24px\" viewBox=\"0 -960 960 960\">\n",
              "    <path d=\"M120-120v-720h720v720H120Zm60-500h600v-160H180v160Zm220 220h160v-160H400v160Zm0 220h160v-160H400v160ZM180-400h160v-160H180v160Zm440 0h160v-160H620v160ZM180-180h160v-160H180v160Zm440 0h160v-160H620v160Z\"/>\n",
              "  </svg>\n",
              "    </button>\n",
              "\n",
              "  <style>\n",
              "    .colab-df-container {\n",
              "      display:flex;\n",
              "      gap: 12px;\n",
              "    }\n",
              "\n",
              "    .colab-df-convert {\n",
              "      background-color: #E8F0FE;\n",
              "      border: none;\n",
              "      border-radius: 50%;\n",
              "      cursor: pointer;\n",
              "      display: none;\n",
              "      fill: #1967D2;\n",
              "      height: 32px;\n",
              "      padding: 0 0 0 0;\n",
              "      width: 32px;\n",
              "    }\n",
              "\n",
              "    .colab-df-convert:hover {\n",
              "      background-color: #E2EBFA;\n",
              "      box-shadow: 0px 1px 2px rgba(60, 64, 67, 0.3), 0px 1px 3px 1px rgba(60, 64, 67, 0.15);\n",
              "      fill: #174EA6;\n",
              "    }\n",
              "\n",
              "    .colab-df-buttons div {\n",
              "      margin-bottom: 4px;\n",
              "    }\n",
              "\n",
              "    [theme=dark] .colab-df-convert {\n",
              "      background-color: #3B4455;\n",
              "      fill: #D2E3FC;\n",
              "    }\n",
              "\n",
              "    [theme=dark] .colab-df-convert:hover {\n",
              "      background-color: #434B5C;\n",
              "      box-shadow: 0px 1px 3px 1px rgba(0, 0, 0, 0.15);\n",
              "      filter: drop-shadow(0px 1px 2px rgba(0, 0, 0, 0.3));\n",
              "      fill: #FFFFFF;\n",
              "    }\n",
              "  </style>\n",
              "\n",
              "    <script>\n",
              "      const buttonEl =\n",
              "        document.querySelector('#df-2b428f72-710b-46a3-b1a5-2494368d113a button.colab-df-convert');\n",
              "      buttonEl.style.display =\n",
              "        google.colab.kernel.accessAllowed ? 'block' : 'none';\n",
              "\n",
              "      async function convertToInteractive(key) {\n",
              "        const element = document.querySelector('#df-2b428f72-710b-46a3-b1a5-2494368d113a');\n",
              "        const dataTable =\n",
              "          await google.colab.kernel.invokeFunction('convertToInteractive',\n",
              "                                                    [key], {});\n",
              "        if (!dataTable) return;\n",
              "\n",
              "        const docLinkHtml = 'Like what you see? Visit the ' +\n",
              "          '<a target=\"_blank\" href=https://colab.research.google.com/notebooks/data_table.ipynb>data table notebook</a>'\n",
              "          + ' to learn more about interactive tables.';\n",
              "        element.innerHTML = '';\n",
              "        dataTable['output_type'] = 'display_data';\n",
              "        await google.colab.output.renderOutput(dataTable, element);\n",
              "        const docLink = document.createElement('div');\n",
              "        docLink.innerHTML = docLinkHtml;\n",
              "        element.appendChild(docLink);\n",
              "      }\n",
              "    </script>\n",
              "  </div>\n",
              "\n",
              "\n",
              "<div id=\"df-4d4bced1-c16e-4cf8-bcec-3c3c12c5228e\">\n",
              "  <button class=\"colab-df-quickchart\" onclick=\"quickchart('df-4d4bced1-c16e-4cf8-bcec-3c3c12c5228e')\"\n",
              "            title=\"Suggest charts\"\n",
              "            style=\"display:none;\">\n",
              "\n",
              "<svg xmlns=\"http://www.w3.org/2000/svg\" height=\"24px\"viewBox=\"0 0 24 24\"\n",
              "     width=\"24px\">\n",
              "    <g>\n",
              "        <path d=\"M19 3H5c-1.1 0-2 .9-2 2v14c0 1.1.9 2 2 2h14c1.1 0 2-.9 2-2V5c0-1.1-.9-2-2-2zM9 17H7v-7h2v7zm4 0h-2V7h2v10zm4 0h-2v-4h2v4z\"/>\n",
              "    </g>\n",
              "</svg>\n",
              "  </button>\n",
              "\n",
              "<style>\n",
              "  .colab-df-quickchart {\n",
              "      --bg-color: #E8F0FE;\n",
              "      --fill-color: #1967D2;\n",
              "      --hover-bg-color: #E2EBFA;\n",
              "      --hover-fill-color: #174EA6;\n",
              "      --disabled-fill-color: #AAA;\n",
              "      --disabled-bg-color: #DDD;\n",
              "  }\n",
              "\n",
              "  [theme=dark] .colab-df-quickchart {\n",
              "      --bg-color: #3B4455;\n",
              "      --fill-color: #D2E3FC;\n",
              "      --hover-bg-color: #434B5C;\n",
              "      --hover-fill-color: #FFFFFF;\n",
              "      --disabled-bg-color: #3B4455;\n",
              "      --disabled-fill-color: #666;\n",
              "  }\n",
              "\n",
              "  .colab-df-quickchart {\n",
              "    background-color: var(--bg-color);\n",
              "    border: none;\n",
              "    border-radius: 50%;\n",
              "    cursor: pointer;\n",
              "    display: none;\n",
              "    fill: var(--fill-color);\n",
              "    height: 32px;\n",
              "    padding: 0;\n",
              "    width: 32px;\n",
              "  }\n",
              "\n",
              "  .colab-df-quickchart:hover {\n",
              "    background-color: var(--hover-bg-color);\n",
              "    box-shadow: 0 1px 2px rgba(60, 64, 67, 0.3), 0 1px 3px 1px rgba(60, 64, 67, 0.15);\n",
              "    fill: var(--button-hover-fill-color);\n",
              "  }\n",
              "\n",
              "  .colab-df-quickchart-complete:disabled,\n",
              "  .colab-df-quickchart-complete:disabled:hover {\n",
              "    background-color: var(--disabled-bg-color);\n",
              "    fill: var(--disabled-fill-color);\n",
              "    box-shadow: none;\n",
              "  }\n",
              "\n",
              "  .colab-df-spinner {\n",
              "    border: 2px solid var(--fill-color);\n",
              "    border-color: transparent;\n",
              "    border-bottom-color: var(--fill-color);\n",
              "    animation:\n",
              "      spin 1s steps(1) infinite;\n",
              "  }\n",
              "\n",
              "  @keyframes spin {\n",
              "    0% {\n",
              "      border-color: transparent;\n",
              "      border-bottom-color: var(--fill-color);\n",
              "      border-left-color: var(--fill-color);\n",
              "    }\n",
              "    20% {\n",
              "      border-color: transparent;\n",
              "      border-left-color: var(--fill-color);\n",
              "      border-top-color: var(--fill-color);\n",
              "    }\n",
              "    30% {\n",
              "      border-color: transparent;\n",
              "      border-left-color: var(--fill-color);\n",
              "      border-top-color: var(--fill-color);\n",
              "      border-right-color: var(--fill-color);\n",
              "    }\n",
              "    40% {\n",
              "      border-color: transparent;\n",
              "      border-right-color: var(--fill-color);\n",
              "      border-top-color: var(--fill-color);\n",
              "    }\n",
              "    60% {\n",
              "      border-color: transparent;\n",
              "      border-right-color: var(--fill-color);\n",
              "    }\n",
              "    80% {\n",
              "      border-color: transparent;\n",
              "      border-right-color: var(--fill-color);\n",
              "      border-bottom-color: var(--fill-color);\n",
              "    }\n",
              "    90% {\n",
              "      border-color: transparent;\n",
              "      border-bottom-color: var(--fill-color);\n",
              "    }\n",
              "  }\n",
              "</style>\n",
              "\n",
              "  <script>\n",
              "    async function quickchart(key) {\n",
              "      const quickchartButtonEl =\n",
              "        document.querySelector('#' + key + ' button');\n",
              "      quickchartButtonEl.disabled = true;  // To prevent multiple clicks.\n",
              "      quickchartButtonEl.classList.add('colab-df-spinner');\n",
              "      try {\n",
              "        const charts = await google.colab.kernel.invokeFunction(\n",
              "            'suggestCharts', [key], {});\n",
              "      } catch (error) {\n",
              "        console.error('Error during call to suggestCharts:', error);\n",
              "      }\n",
              "      quickchartButtonEl.classList.remove('colab-df-spinner');\n",
              "      quickchartButtonEl.classList.add('colab-df-quickchart-complete');\n",
              "    }\n",
              "    (() => {\n",
              "      let quickchartButtonEl =\n",
              "        document.querySelector('#df-4d4bced1-c16e-4cf8-bcec-3c3c12c5228e button');\n",
              "      quickchartButtonEl.style.display =\n",
              "        google.colab.kernel.accessAllowed ? 'block' : 'none';\n",
              "    })();\n",
              "  </script>\n",
              "</div>\n",
              "    </div>\n",
              "  </div>\n"
            ]
          },
          "metadata": {},
          "execution_count": 750
        }
      ]
    },
    {
      "cell_type": "code",
      "source": [
        "df_token.info()"
      ],
      "metadata": {
        "colab": {
          "base_uri": "https://localhost:8080/",
          "height": 0
        },
        "id": "oVtCrxidBsk_",
        "outputId": "dd94c21b-e07b-4219-8759-c368586ee50f"
      },
      "id": "oVtCrxidBsk_",
      "execution_count": 755,
      "outputs": [
        {
          "output_type": "stream",
          "name": "stdout",
          "text": [
            "<class 'pandas.core.frame.DataFrame'>\n",
            "Int64Index: 176121 entries, 0 to 176120\n",
            "Data columns (total 12 columns):\n",
            " #   Column             Non-Null Count   Dtype  \n",
            "---  ------             --------------   -----  \n",
            " 0   propertytype       176121 non-null  object \n",
            " 1   country            176121 non-null  object \n",
            " 2   city               176121 non-null  object \n",
            " 3   starrating         176121 non-null  object \n",
            " 4   onsiterate         176121 non-null  float64\n",
            " 5   maxoccupancy       176121 non-null  int64  \n",
            " 6   roomtype           176121 non-null  object \n",
            " 7   hotelname          176121 non-null  object \n",
            " 8   ratedescription    176121 non-null  object \n",
            " 9   roomamenities      176121 non-null  object \n",
            " 10  mealinclusiontype  176121 non-null  object \n",
            " 11  curr               176121 non-null  object \n",
            "dtypes: float64(1), int64(1), object(10)\n",
            "memory usage: 17.5+ MB\n"
          ]
        }
      ]
    },
    {
      "cell_type": "code",
      "source": [
        "def encode_rating(rating):\n",
        "    if rating < 2.5:\n",
        "        return 'low'\n",
        "    elif 2.5 <= rating <= 3.5:\n",
        "        return 'average'\n",
        "    else:\n",
        "        return 'high'\n",
        "\n",
        "df_token['starrating'] = df_token['starrating'].apply(encode_rating)"
      ],
      "metadata": {
        "id": "uPYLNiRS6UZ_"
      },
      "id": "uPYLNiRS6UZ_",
      "execution_count": 751,
      "outputs": []
    },
    {
      "cell_type": "code",
      "source": [
        "df_token['starrating'].value_counts()"
      ],
      "metadata": {
        "colab": {
          "base_uri": "https://localhost:8080/",
          "height": 0
        },
        "id": "JL1_sYfO6ZWU",
        "outputId": "a1190807-f32d-4b6c-a800-726bca867929"
      },
      "id": "JL1_sYfO6ZWU",
      "execution_count": 752,
      "outputs": [
        {
          "output_type": "execute_result",
          "data": {
            "text/plain": [
              "high       89134\n",
              "average    74749\n",
              "low        12238\n",
              "Name: starrating, dtype: int64"
            ]
          },
          "metadata": {},
          "execution_count": 752
        }
      ]
    },
    {
      "cell_type": "code",
      "source": [
        "import re\n",
        "import ipywidgets as widgets\n",
        "from IPython.display import display\n",
        "import numpy as np\n",
        "from sklearn.feature_extraction.text import TfidfVectorizer\n",
        "from sklearn.metrics.pairwise import cosine_similarity\n",
        "import pandas as pd\n",
        "\n",
        "def clean_title(title):\n",
        "    if title is None:\n",
        "        return \"\"\n",
        "    return re.sub(\"[^a-zA-Z0-9 ]\", \"\", title)\n",
        "\n",
        "vectorizer_meal = TfidfVectorizer(ngram_range=(1, 2))\n",
        "tfidf_meal = vectorizer_meal.fit_transform(df_token[\"mealinclusiontype\"].apply(clean_title))\n",
        "\n",
        "def search_meal(meal):\n",
        "    meal = clean_title(meal)\n",
        "    query_vec = vectorizer_meal.transform([meal])\n",
        "    similarity = cosine_similarity(query_vec, tfidf_meal).flatten()\n",
        "    indices = np.argpartition(similarity, -5)[-5:]\n",
        "    results = merged_df.iloc[indices][::-1]\n",
        "    return results\n",
        "\n",
        "vectorizer_roomtype = TfidfVectorizer(ngram_range=(1, 2))\n",
        "tfidf_roomtype = vectorizer_roomtype.fit_transform(df_token[\"roomtype\"].apply(clean_title))\n",
        "\n",
        "def search_roomtype(roomtype):\n",
        "    roomtype = clean_title(roomtype)\n",
        "    query_vec = vectorizer_roomtype.transform([roomtype])\n",
        "    similarity = cosine_similarity(query_vec, tfidf_roomtype).flatten()\n",
        "    indices = np.argpartition(similarity, -5)[-5:]\n",
        "    results = df_token.iloc[indices][::-1]\n",
        "    return results\n",
        "\n",
        "# Vectorizer for country\n",
        "vectorizer_country = TfidfVectorizer(ngram_range=(1, 2))\n",
        "tfidf_country = vectorizer_country.fit_transform(df_token[\"country\"].apply(clean_title))\n",
        "\n",
        "def search_country(country):\n",
        "    country = clean_title(country)\n",
        "    query_vec = vectorizer_country.transform([country])\n",
        "    similarity = cosine_similarity(query_vec, tfidf_country).flatten()\n",
        "    indices = np.argpartition(similarity, -5)[-5:]\n",
        "    results = df_token.iloc[indices][::-1]\n",
        "    return results\n",
        "\n",
        "vectorizer_city = TfidfVectorizer(ngram_range=(1, 2))\n",
        "tfidf_city = vectorizer_city.fit_transform(df_token[\"city\"].apply(clean_title))\n",
        "\n",
        "def search_city(city):\n",
        "    city = clean_title(city)\n",
        "    query_vec = vectorizer_city.transform([city])\n",
        "    similarity = cosine_similarity(query_vec, tfidf_city).flatten()\n",
        "    indices = np.argpartition(similarity, -5)[-5:]\n",
        "    results = df_token.iloc[indices][::-1]\n",
        "    return results\n",
        "\n",
        "vectorizer_propertytype = TfidfVectorizer(ngram_range=(1, 2))\n",
        "tfidf_propertytype = vectorizer_propertytype.fit_transform(df_token[\"propertytype\"].apply(clean_title))\n",
        "\n",
        "def search_propertytype(propertytype):\n",
        "    propertytype = clean_title(propertytype)\n",
        "    query_vec = vectorizer_propertytype.transform([propertytype])\n",
        "    similarity = cosine_similarity(query_vec, tfidf_propertytype).flatten()\n",
        "    indices = np.argpartition(similarity, -5)[-5:]\n",
        "    results = df_token.iloc[indices][::-1]\n",
        "    return results\n",
        "\n",
        "vectorizer_starrating = TfidfVectorizer(ngram_range=(1, 2))\n",
        "tfidf_starrating = vectorizer_starrating.fit_transform(df_token[\"starrating\"].apply(str))\n",
        "\n",
        "def search_starrating(starrating):\n",
        "    starrating = str(starrating)\n",
        "    query_vec = vectorizer_starrating.transform([starrating])\n",
        "    similarity = cosine_similarity(query_vec, tfidf_starrating).flatten()\n",
        "    indices = np.argpartition(similarity, -5)[-5:]\n",
        "    results = df_token.iloc[indices][::-1]\n",
        "    return results\n",
        "\n",
        "def combined_search(meal_input, roomtype_input, country_input, city_input, propertytype_input, starrating_input):\n",
        "    if meal_input:\n",
        "        meal_results = search_meal(meal_input)\n",
        "        meal_results['query_length'] = len(meal_input)\n",
        "    else:\n",
        "        meal_results = pd.DataFrame()\n",
        "\n",
        "    if roomtype_input:\n",
        "        roomtype_results = search_roomtype(roomtype_input)\n",
        "        roomtype_results['query_length'] = len(roomtype_input)\n",
        "    else:\n",
        "        roomtype_results = pd.DataFrame()\n",
        "\n",
        "    if country_input:\n",
        "        country_results = search_country(country_input)\n",
        "        country_results['query_length'] = len(country_input)\n",
        "    else:\n",
        "        country_results = pd.DataFrame()\n",
        "\n",
        "    if city_input:\n",
        "        city_results = search_city(city_input)\n",
        "        city_results['query_length'] = len(city_input)\n",
        "    else:\n",
        "        city_results = pd.DataFrame()\n",
        "\n",
        "    if propertytype_input:\n",
        "        propertytype_results = search_propertytype(propertytype_input)\n",
        "        propertytype_results['query_length'] = len(propertytype_input)\n",
        "    else:\n",
        "        propertytype_results = pd.DataFrame()\n",
        "\n",
        "    if starrating_input:\n",
        "        starrating_results = search_starrating(starrating_input)\n",
        "        starrating_results['query_length'] = len(starrating_input)\n",
        "    else:\n",
        "        starrating_results = pd.DataFrame()\n",
        "\n",
        "    combined_results = pd.concat([meal_results, roomtype_results, country_results, city_results, propertytype_results, starrating_results]).reset_index(drop=True)\n",
        "\n",
        "    if not combined_results.empty:\n",
        "        combined_results['length_diff'] = combined_results.apply(lambda row: abs(len(row['roomtype']) - row['query_length']) if 'roomtype' in row else abs(len(row['mealinclusiontype']) - row['query_length']), axis=1)\n",
        "\n",
        "        combined_results = combined_results.sort_values(by='length_diff', ascending=True)\n",
        "\n",
        "    return combined_results[['mealinclusiontype', 'roomtype', 'country', 'city', 'propertytype', 'starrating', 'hotelname', 'maxoccupancy', 'onsiterate', 'curr', 'ratedescription', 'roomamenities']].head(5)  # Menampilkan kolom tertentu dan 5 hasil teratas\n",
        "\n",
        "meal_input = widgets.Text(value='', description='Meal:', disabled=False)\n",
        "roomtype_input = widgets.Text(value='', description='Room Type:', disabled=False)\n",
        "country_input = widgets.Text(value='', description='Country:', disabled=False)\n",
        "city_input = widgets.Text(value='', description='City:', disabled=False)\n",
        "propertytype_input = widgets.Text(value='', description='Property Type:', disabled=False)\n",
        "starrating_input = widgets.Text(value='', description='Star Rating:', disabled=False)\n",
        "\n",
        "search_button = widgets.Button(description=\"Search\")\n",
        "\n",
        "combined_list = widgets.Output()\n",
        "\n",
        "def on_search_button_clicked(b):\n",
        "    with combined_list:\n",
        "        combined_list.clear_output()\n",
        "        combined_results = combined_search(meal_input.value, roomtype_input.value, country_input.value, city_input.value, propertytype_input.value, starrating_input.value)\n",
        "        display(combined_results)\n",
        "\n",
        "search_button.on_click(on_search_button_clicked)\n",
        "\n",
        "display(country_input, city_input, meal_input, roomtype_input, propertytype_input, starrating_input, search_button, combined_list)\n"
      ],
      "metadata": {
        "colab": {
          "base_uri": "https://localhost:8080/",
          "height": 420,
          "referenced_widgets": [
            "6c134686dac14988983e52fb4ab56632",
            "4b2fa048a13945f49c9a66e67be696b5",
            "75b78fb6b1604761808296f88f83b2d7",
            "fd63ec036938430fb167a12fbaf5b89d",
            "ce64d549bdb442b49e7cfcaa187a84cd",
            "f00dc923b42a4ea6a925bd5c38b533fb",
            "69f34a41bbe84740b68621c255e39c28",
            "03b6f2e52a144bf79c31779bc71f98f5",
            "5d1a39e00b7c4b888263175bd84c341f",
            "12761115e58c47e0aa68a22d0edda5f8",
            "9f39a7c19d2f4749b18ad9fdbfa7b51d",
            "79d21706f0284db6adae7af5ec69c556",
            "fed11c30a41e4f5ba6b54cc8c2d98d0f",
            "65d8957187d34773b21b987898f1a6f2",
            "bafe1c252954480e9fdfaa767a80fb19",
            "c99dc3de9e6f401bbc56374c99e38ee4",
            "76086054cb9f4d48a657ce9c43531d60",
            "26a1cb3a29b940df80ceea6088ad0f76",
            "b54f140532134cd5b7f4a2310b357b9e",
            "0240a4690fd548f6a5823aa8c0fb9805",
            "c32a22715bc74c03b67ea8aebca42a05",
            "5f07abf664844e7bad359447b4d1292d",
            "eafdc68b5552418e80ed71dc6f3e2cd8"
          ]
        },
        "id": "aHcELst9rS3Y",
        "outputId": "b5599db9-7e90-4719-f0ce-96ad1d3df891"
      },
      "id": "aHcELst9rS3Y",
      "execution_count": 772,
      "outputs": [
        {
          "output_type": "display_data",
          "data": {
            "text/plain": [
              "Text(value='', description='Country:')"
            ],
            "application/vnd.jupyter.widget-view+json": {
              "version_major": 2,
              "version_minor": 0,
              "model_id": "6c134686dac14988983e52fb4ab56632"
            }
          },
          "metadata": {}
        },
        {
          "output_type": "display_data",
          "data": {
            "text/plain": [
              "Text(value='', description='City:')"
            ],
            "application/vnd.jupyter.widget-view+json": {
              "version_major": 2,
              "version_minor": 0,
              "model_id": "fd63ec036938430fb167a12fbaf5b89d"
            }
          },
          "metadata": {}
        },
        {
          "output_type": "display_data",
          "data": {
            "text/plain": [
              "Text(value='', description='Meal:')"
            ],
            "application/vnd.jupyter.widget-view+json": {
              "version_major": 2,
              "version_minor": 0,
              "model_id": "69f34a41bbe84740b68621c255e39c28"
            }
          },
          "metadata": {}
        },
        {
          "output_type": "display_data",
          "data": {
            "text/plain": [
              "Text(value='', description='Room Type:')"
            ],
            "application/vnd.jupyter.widget-view+json": {
              "version_major": 2,
              "version_minor": 0,
              "model_id": "12761115e58c47e0aa68a22d0edda5f8"
            }
          },
          "metadata": {}
        },
        {
          "output_type": "display_data",
          "data": {
            "text/plain": [
              "Text(value='', description='Property Type:')"
            ],
            "application/vnd.jupyter.widget-view+json": {
              "version_major": 2,
              "version_minor": 0,
              "model_id": "fed11c30a41e4f5ba6b54cc8c2d98d0f"
            }
          },
          "metadata": {}
        },
        {
          "output_type": "display_data",
          "data": {
            "text/plain": [
              "Text(value='', description='Star Rating:')"
            ],
            "application/vnd.jupyter.widget-view+json": {
              "version_major": 2,
              "version_minor": 0,
              "model_id": "c99dc3de9e6f401bbc56374c99e38ee4"
            }
          },
          "metadata": {}
        },
        {
          "output_type": "display_data",
          "data": {
            "text/plain": [
              "Button(description='Search', style=ButtonStyle())"
            ],
            "application/vnd.jupyter.widget-view+json": {
              "version_major": 2,
              "version_minor": 0,
              "model_id": "b54f140532134cd5b7f4a2310b357b9e"
            }
          },
          "metadata": {}
        },
        {
          "output_type": "display_data",
          "data": {
            "text/plain": [
              "Output()"
            ],
            "application/vnd.jupyter.widget-view+json": {
              "version_major": 2,
              "version_minor": 0,
              "model_id": "5f07abf664844e7bad359447b4d1292d"
            }
          },
          "metadata": {}
        }
      ]
    },
    {
      "cell_type": "code",
      "source": [
        "recommended_results = None\n",
        "\n",
        "def on_search_button_clicked(b):\n",
        "    global recommended_results\n",
        "    with combined_list:\n",
        "        combined_list.clear_output()\n",
        "        recommended_results = combined_search(meal_input.value, roomtype_input.value, country_input.value, city_input.value, propertytype_input.value, starrating_input.value)\n",
        "        display(recommended_results)\n",
        "\n",
        "search_button.on_click(on_search_button_clicked)\n"
      ],
      "metadata": {
        "id": "8aXhsPzhPK5B"
      },
      "id": "8aXhsPzhPK5B",
      "execution_count": 775,
      "outputs": []
    },
    {
      "cell_type": "code",
      "source": [
        "print(recommended_results)"
      ],
      "metadata": {
        "colab": {
          "base_uri": "https://localhost:8080/",
          "height": 0
        },
        "id": "ZmRpFysvPNa9",
        "outputId": "d7add27d-29ba-4e83-8263-3ba57422ab5f"
      },
      "id": "ZmRpFysvPNa9",
      "execution_count": 777,
      "outputs": [
        {
          "output_type": "stream",
          "name": "stdout",
          "text": [
            "        mealinclusiontype      roomtype         country    city propertytype  \\\n",
            "8          Free Breakfast        Single  United Kingdom  London       Hotels   \n",
            "6  Free breakfast for {2}       Double   United Kingdom  London       Hotels   \n",
            "7  Free breakfast for {4}          Quad  United Kingdom  London       Hotels   \n",
            "9  Free breakfast for {4}          Quad  United Kingdom  London       Hotels   \n",
            "5                 No meal  Run of House  United Kingdom  London       Hotels   \n",
            "\n",
            "  starrating                hotelname  maxoccupancy  onsiterate curr  \\\n",
            "8    average  Park Hotel - Guesthouse             1       39.06  GBP   \n",
            "6    average  Park Hotel - Guesthouse             2       58.08  GBP   \n",
            "7    average  Park Hotel - Guesthouse             4       79.19  GBP   \n",
            "9    average  Park Hotel - Guesthouse             4       75.23  GBP   \n",
            "5       high      The Cleveland Hotel             1      121.86  GBP   \n",
            "\n",
            "                                   ratedescription  \\\n",
            "8                             Shower, 1 single bed   \n",
            "6                             Shower, 1 double bed   \n",
            "7  Room size: 15 m²/161 ft², Shower, 2 double beds   \n",
            "9  Room size: 15 m²/161 ft², Shower, 2 double beds   \n",
            "5                                           Shower   \n",
            "\n",
            "                                       roomamenities  \n",
            "8  Air conditioning: ;Alarm clock: ;Coffee/tea ma...  \n",
            "6  Air conditioning: ;Alarm clock: ;Coffee/tea ma...  \n",
            "7  Air conditioning: ;Alarm clock: ;Coffee/tea ma...  \n",
            "9  Air conditioning: ;Alarm clock: ;Coffee/tea ma...  \n",
            "5  Air conditioning: ;Coffee/tea maker: ;Daily ho...  \n"
          ]
        }
      ]
    },
    {
      "cell_type": "code",
      "source": [
        "import re\n",
        "import ipywidgets as widgets\n",
        "from IPython.display import display\n",
        "import numpy as np\n",
        "from sklearn.feature_extraction.text import TfidfVectorizer\n",
        "from sklearn.metrics.pairwise import cosine_similarity\n",
        "import pandas as pd\n",
        "\n",
        "def clean_title(title):\n",
        "    if title is None:\n",
        "        return \"\"\n",
        "    return re.sub(\"[^a-zA-Z0-9 ]\", \"\", title)\n",
        "\n",
        "vectorizer_meal = TfidfVectorizer(ngram_range=(1, 2))\n",
        "tfidf_meal = vectorizer_meal.fit_transform(df_token[\"mealinclusiontype\"].apply(clean_title))\n",
        "\n",
        "def search_meal(meal):\n",
        "    meal = clean_title(meal)\n",
        "    query_vec = vectorizer_meal.transform([meal])\n",
        "    similarity = cosine_similarity(query_vec, tfidf_meal).flatten()\n",
        "    indices = np.argpartition(similarity, -5)[-5:]\n",
        "    results = merged_df.iloc[indices][::-1]\n",
        "    return results\n",
        "\n",
        "vectorizer_roomtype = TfidfVectorizer(ngram_range=(1, 2))\n",
        "tfidf_roomtype = vectorizer_roomtype.fit_transform(df_token[\"roomtype\"].apply(clean_title))\n",
        "\n",
        "def search_roomtype(roomtype):\n",
        "    roomtype = clean_title(roomtype)\n",
        "    query_vec = vectorizer_roomtype.transform([roomtype])\n",
        "    similarity = cosine_similarity(query_vec, tfidf_roomtype).flatten()\n",
        "    indices = np.argpartition(similarity, -5)[-5:]\n",
        "    results = df_token.iloc[indices][::-1]\n",
        "    return results\n",
        "\n",
        "vectorizer_country = TfidfVectorizer(ngram_range=(1, 2))\n",
        "tfidf_country = vectorizer_country.fit_transform(df_token[\"country\"].apply(clean_title))\n",
        "\n",
        "def search_country(country):\n",
        "    country = clean_title(country)\n",
        "    query_vec = vectorizer_country.transform([country])\n",
        "    similarity = cosine_similarity(query_vec, tfidf_country).flatten()\n",
        "    indices = np.argpartition(similarity, -5)[-5:]\n",
        "    results = df_token.iloc[indices][::-1]\n",
        "    return results\n",
        "\n",
        "vectorizer_city = TfidfVectorizer(ngram_range=(1, 2))\n",
        "tfidf_city = vectorizer_city.fit_transform(df_token[\"city\"].apply(clean_title))\n",
        "\n",
        "def search_city(city):\n",
        "    city = clean_title(city)\n",
        "    query_vec = vectorizer_city.transform([city])\n",
        "    similarity = cosine_similarity(query_vec, tfidf_city).flatten()\n",
        "    indices = np.argpartition(similarity, -5)[-5:]\n",
        "    results = df_token.iloc[indices][::-1]\n",
        "    return results\n",
        "\n",
        "vectorizer_propertytype = TfidfVectorizer(ngram_range=(1, 2))\n",
        "tfidf_propertytype = vectorizer_propertytype.fit_transform(df_token[\"propertytype\"].apply(clean_title))\n",
        "\n",
        "def search_propertytype(propertytype):\n",
        "    propertytype = clean_title(propertytype)\n",
        "    query_vec = vectorizer_propertytype.transform([propertytype])\n",
        "    similarity = cosine_similarity(query_vec, tfidf_propertytype).flatten()\n",
        "    indices = np.argpartition(similarity, -5)[-5:]\n",
        "    results = df_token.iloc[indices][::-1]\n",
        "    return results\n",
        "\n",
        "vectorizer_starrating = TfidfVectorizer(ngram_range=(1, 2))\n",
        "tfidf_starrating = vectorizer_starrating.fit_transform(df_token[\"starrating\"].apply(str))\n",
        "\n",
        "def search_starrating(starrating):\n",
        "    starrating = str(starrating)\n",
        "    query_vec = vectorizer_starrating.transform([starrating])\n",
        "    similarity = cosine_similarity(query_vec, tfidf_starrating).flatten()\n",
        "    indices = np.argpartition(similarity, -5)[-5:]\n",
        "    results = df_token.iloc[indices][::-1]\n",
        "    return results\n",
        "\n",
        "def combined_search(meal_input, roomtype_input, country_input, city_input, propertytype_input, starrating_input):\n",
        "    if meal_input:\n",
        "        meal_results = search_meal(meal_input)\n",
        "        meal_results['query_length'] = len(meal_input)\n",
        "    else:\n",
        "        meal_results = pd.DataFrame()\n",
        "\n",
        "    if roomtype_input:\n",
        "        roomtype_results = search_roomtype(roomtype_input)\n",
        "        roomtype_results['query_length'] = len(roomtype_input)\n",
        "    else:\n",
        "        roomtype_results = pd.DataFrame()\n",
        "\n",
        "    if country_input:\n",
        "        country_results = search_country(country_input)\n",
        "        country_results['query_length'] = len(country_input)\n",
        "    else:\n",
        "        country_results = pd.DataFrame()\n",
        "\n",
        "    if city_input:\n",
        "        city_results = search_city(city_input)\n",
        "        city_results['query_length'] = len(city_input)\n",
        "    else:\n",
        "        city_results = pd.DataFrame()\n",
        "\n",
        "    if propertytype_input:\n",
        "        propertytype_results = search_propertytype(propertytype_input)\n",
        "        propertytype_results['query_length'] = len(propertytype_input)\n",
        "    else:\n",
        "        propertytype_results = pd.DataFrame()\n",
        "\n",
        "    if starrating_input:\n",
        "        starrating_results = search_starrating(starrating_input)\n",
        "        starrating_results['query_length'] = len(starrating_input)\n",
        "    else:\n",
        "        starrating_results = pd.DataFrame()\n",
        "\n",
        "    combined_results = pd.concat([meal_results, roomtype_results, country_results, city_results, propertytype_results, starrating_results]).reset_index(drop=True)\n",
        "\n",
        "    if not combined_results.empty:\n",
        "        combined_results['length_diff'] = combined_results.apply(lambda row: abs(len(row['roomtype']) - row['query_length']) if 'roomtype' in row else abs(len(row['mealinclusiontype']) - row['query_length']), axis=1)\n",
        "\n",
        "        combined_results = combined_results.sample(frac=1).reset_index(drop=True)\n",
        "\n",
        "        combined_results = combined_results.sort_values(by='length_diff', ascending=True)\n",
        "\n",
        "    return combined_results[['mealinclusiontype', 'roomtype', 'country', 'city', 'propertytype', 'starrating', 'hotelname', 'maxoccupancy', 'onsiterate', 'curr', 'ratedescription', 'roomamenities']].head(5)  # Menampilkan kolom tertentu dan 5 hasil teratas\n",
        "meal_input = widgets.Text(value='', description='Meal:', disabled=False)\n",
        "roomtype_input = widgets.Text(value='', description='Room Type:', disabled=False)\n",
        "country_input = widgets.Text(value='', description='Country:', disabled=False)\n",
        "city_input = widgets.Text(value='', description='City:', disabled=False)\n",
        "propertytype_input = widgets.Text(value='', description='Property Type:', disabled=False)\n",
        "starrating_input = widgets.Text(value='', description='Star Rating:', disabled=False)\n",
        "\n",
        "search_button = widgets.Button(description=\"Search\")\n",
        "\n",
        "combined_list = widgets.Output()\n",
        "\n",
        "def on_search_button_clicked(b):\n",
        "    with combined_list:\n",
        "        combined_list.clear_output()\n",
        "        combined_results = combined_search(meal_input.value, roomtype_input.value, country_input.value, city_input.value, propertytype_input.value, starrating_input.value)\n",
        "        display(combined_results)\n",
        "\n",
        "search_button.on_click(on_search_button_clicked)\n",
        "\n",
        "display(country_input, city_input, meal_input, roomtype_input, propertytype_input, starrating_input, search_button, combined_list)"
      ],
      "metadata": {
        "colab": {
          "base_uri": "https://localhost:8080/",
          "height": 420,
          "referenced_widgets": [
            "f036e8532a0f49f7a31124f2926e9dca",
            "8f1d12d8969d45b4bafe4147053d1721",
            "a53128e969fa48ee9b672206d051942c",
            "a26c52c96dac4464bb016f9325536b67",
            "1863ad1b629e40a9acc81f66ab0dc552",
            "fb93efce7bad4796bc70eea8ebe1d7a8",
            "366a5cafa53c4427ab77c3aa6483c249",
            "4ac433afeb9a400e82460b67a95e80b4",
            "b88e1c469f1a40679aa590dec3378706",
            "e86d3043cee747bca9a01663e53ac93d",
            "c2326a8fa3c848a58c31636b029ea392",
            "c643b0b9094e478f8388ec9daa5aeb3e",
            "631fa956492d469091e37770c3ab9647",
            "0d131b8bdcb3447abdabd3e0d4d26eb8",
            "709ffe7253ee4beeb187b79499cc2ec8",
            "c9291d0d1cf8486db506fceec1d32431",
            "417ab65de70843949d3934c019fdd8f0",
            "8f7d90364989452ca35b50f816729d93",
            "3a9a65e2c07743aaaf14a7df3e249d12",
            "5176d3536f49452991f297cf7bca1f76",
            "9e58b0e4e65a461ba82c335574f20fcd",
            "c8cc5df1d76e4917b080b364e2f78420",
            "5ff2f1a426fe406e971edf6594d887ad"
          ]
        },
        "id": "XNy2WU4iPvPa",
        "outputId": "2b73f718-2d9b-4c43-977d-55b350fce4cf"
      },
      "id": "XNy2WU4iPvPa",
      "execution_count": 788,
      "outputs": [
        {
          "output_type": "display_data",
          "data": {
            "text/plain": [
              "Text(value='', description='Country:')"
            ],
            "application/vnd.jupyter.widget-view+json": {
              "version_major": 2,
              "version_minor": 0,
              "model_id": "f036e8532a0f49f7a31124f2926e9dca"
            }
          },
          "metadata": {}
        },
        {
          "output_type": "display_data",
          "data": {
            "text/plain": [
              "Text(value='', description='City:')"
            ],
            "application/vnd.jupyter.widget-view+json": {
              "version_major": 2,
              "version_minor": 0,
              "model_id": "a26c52c96dac4464bb016f9325536b67"
            }
          },
          "metadata": {}
        },
        {
          "output_type": "display_data",
          "data": {
            "text/plain": [
              "Text(value='', description='Meal:')"
            ],
            "application/vnd.jupyter.widget-view+json": {
              "version_major": 2,
              "version_minor": 0,
              "model_id": "366a5cafa53c4427ab77c3aa6483c249"
            }
          },
          "metadata": {}
        },
        {
          "output_type": "display_data",
          "data": {
            "text/plain": [
              "Text(value='', description='Room Type:')"
            ],
            "application/vnd.jupyter.widget-view+json": {
              "version_major": 2,
              "version_minor": 0,
              "model_id": "e86d3043cee747bca9a01663e53ac93d"
            }
          },
          "metadata": {}
        },
        {
          "output_type": "display_data",
          "data": {
            "text/plain": [
              "Text(value='', description='Property Type:')"
            ],
            "application/vnd.jupyter.widget-view+json": {
              "version_major": 2,
              "version_minor": 0,
              "model_id": "631fa956492d469091e37770c3ab9647"
            }
          },
          "metadata": {}
        },
        {
          "output_type": "display_data",
          "data": {
            "text/plain": [
              "Text(value='', description='Star Rating:')"
            ],
            "application/vnd.jupyter.widget-view+json": {
              "version_major": 2,
              "version_minor": 0,
              "model_id": "c9291d0d1cf8486db506fceec1d32431"
            }
          },
          "metadata": {}
        },
        {
          "output_type": "display_data",
          "data": {
            "text/plain": [
              "Button(description='Search', style=ButtonStyle())"
            ],
            "application/vnd.jupyter.widget-view+json": {
              "version_major": 2,
              "version_minor": 0,
              "model_id": "3a9a65e2c07743aaaf14a7df3e249d12"
            }
          },
          "metadata": {}
        },
        {
          "output_type": "display_data",
          "data": {
            "text/plain": [
              "Output()"
            ],
            "application/vnd.jupyter.widget-view+json": {
              "version_major": 2,
              "version_minor": 0,
              "model_id": "c8cc5df1d76e4917b080b364e2f78420"
            }
          },
          "metadata": {}
        }
      ]
    },
    {
      "cell_type": "code",
      "source": [],
      "metadata": {
        "id": "WiZEZP5_Y7a1"
      },
      "id": "WiZEZP5_Y7a1",
      "execution_count": null,
      "outputs": []
    },
    {
      "cell_type": "code",
      "source": [
        "ground_truth = None\n",
        "\n",
        "def on_search_button_clicked(b):\n",
        "    global ground_truth\n",
        "    with combined_list:\n",
        "        combined_list.clear_output()\n",
        "        ground_truth = combined_search(meal_input.value, roomtype_input.value, country_input.value, city_input.value, propertytype_input.value, starrating_input.value)\n",
        "        display(ground_truth)\n",
        "\n",
        "search_button.on_click(on_search_button_clicked)"
      ],
      "metadata": {
        "id": "HWgdH4usPycC"
      },
      "id": "HWgdH4usPycC",
      "execution_count": 786,
      "outputs": []
    },
    {
      "cell_type": "code",
      "source": [
        "print(ground_truth)"
      ],
      "metadata": {
        "colab": {
          "base_uri": "https://localhost:8080/",
          "height": 0
        },
        "id": "O5fTHhBCQd5N",
        "outputId": "41d0b9cd-3c8b-4db8-ecaa-96f2e22ce8a3"
      },
      "id": "O5fTHhBCQd5N",
      "execution_count": 787,
      "outputs": [
        {
          "output_type": "stream",
          "name": "stdout",
          "text": [
            "None\n"
          ]
        }
      ]
    },
    {
      "cell_type": "code",
      "source": [
        "from sklearn.model_selection import train_test_split\n",
        "\n",
        "train_data, test_data = train_test_split(df_token, test_size=0.2, random_state=42)\n",
        "\n",
        "recommended_items = combined_search(\n",
        "    'Free Breakfast',\n",
        "    'Single',\n",
        "    'United Kingdom',\n",
        "    'United Kingdom',\n",
        "    'Hotels',\n",
        "    'average'\n",
        ")\n",
        "\n",
        "relevant_column = recommended_items['roomtype']\n",
        "\n",
        "relevant_items = test_data[test_data['roomtype'].isin(relevant_column)]\n",
        "\n",
        "k = 5\n",
        "relevant_count = len(relevant_items)\n",
        "\n",
        "relevant_recommended_count = len(relevant_items[relevant_items['roomtype'].isin(relevant_column)])\n",
        "\n",
        "precision_at_k = relevant_recommended_count / k if k > 0 else 0\n",
        "print(f\"Precision@{k}: {precision_at_k}\")\n"
      ],
      "metadata": {
        "colab": {
          "base_uri": "https://localhost:8080/",
          "height": 0
        },
        "id": "ykWVnWZDKOGD",
        "outputId": "4d7d1000-6ea0-4765-b8b4-7cf36e8feb82"
      },
      "id": "ykWVnWZDKOGD",
      "execution_count": 759,
      "outputs": [
        {
          "output_type": "stream",
          "name": "stdout",
          "text": [
            "Precision@5: 52.0\n"
          ]
        }
      ]
    },
    {
      "cell_type": "code",
      "source": [
        "selected_columns = ['mealinclusiontype', 'roomtype', 'hotelname', 'country', 'city', 'propertytype']\n",
        "\n",
        "specific_rows = df_token[\n",
        "    (df_token['roomtype'] == 'Single') &\n",
        "    (df_token['country'] == 'France') &\n",
        "    (df_token['starrating'] == 'Low')\n",
        "\n",
        "][selected_columns].reset_index(drop=True)\n",
        "\n",
        "print(specific_rows)\n"
      ],
      "metadata": {
        "colab": {
          "base_uri": "https://localhost:8080/",
          "height": 0
        },
        "id": "IfhXyJ8JxQHD",
        "outputId": "99db9789-674a-4395-a412-9c91f12d5c59"
      },
      "id": "IfhXyJ8JxQHD",
      "execution_count": 789,
      "outputs": [
        {
          "output_type": "stream",
          "name": "stdout",
          "text": [
            "Empty DataFrame\n",
            "Columns: [mealinclusiontype, roomtype, hotelname, country, city, propertytype]\n",
            "Index: []\n"
          ]
        }
      ]
    }
  ],
  "metadata": {
    "kernelspec": {
      "display_name": "Python 3 (ipykernel)",
      "language": "python",
      "name": "python3"
    },
    "language_info": {
      "codemirror_mode": {
        "name": "ipython",
        "version": 3
      },
      "file_extension": ".py",
      "mimetype": "text/x-python",
      "name": "python",
      "nbconvert_exporter": "python",
      "pygments_lexer": "ipython3",
      "version": "3.9.12"
    },
    "colab": {
      "provenance": []
    },
    "widgets": {
      "application/vnd.jupyter.widget-state+json": {
        "6c134686dac14988983e52fb4ab56632": {
          "model_module": "@jupyter-widgets/controls",
          "model_name": "TextModel",
          "model_module_version": "1.5.0",
          "state": {
            "_dom_classes": [],
            "_model_module": "@jupyter-widgets/controls",
            "_model_module_version": "1.5.0",
            "_model_name": "TextModel",
            "_view_count": null,
            "_view_module": "@jupyter-widgets/controls",
            "_view_module_version": "1.5.0",
            "_view_name": "TextView",
            "continuous_update": true,
            "description": "Country:",
            "description_tooltip": null,
            "disabled": false,
            "layout": "IPY_MODEL_4b2fa048a13945f49c9a66e67be696b5",
            "placeholder": "​",
            "style": "IPY_MODEL_75b78fb6b1604761808296f88f83b2d7",
            "value": "United Kingdom"
          }
        },
        "4b2fa048a13945f49c9a66e67be696b5": {
          "model_module": "@jupyter-widgets/base",
          "model_name": "LayoutModel",
          "model_module_version": "1.2.0",
          "state": {
            "_model_module": "@jupyter-widgets/base",
            "_model_module_version": "1.2.0",
            "_model_name": "LayoutModel",
            "_view_count": null,
            "_view_module": "@jupyter-widgets/base",
            "_view_module_version": "1.2.0",
            "_view_name": "LayoutView",
            "align_content": null,
            "align_items": null,
            "align_self": null,
            "border": null,
            "bottom": null,
            "display": null,
            "flex": null,
            "flex_flow": null,
            "grid_area": null,
            "grid_auto_columns": null,
            "grid_auto_flow": null,
            "grid_auto_rows": null,
            "grid_column": null,
            "grid_gap": null,
            "grid_row": null,
            "grid_template_areas": null,
            "grid_template_columns": null,
            "grid_template_rows": null,
            "height": null,
            "justify_content": null,
            "justify_items": null,
            "left": null,
            "margin": null,
            "max_height": null,
            "max_width": null,
            "min_height": null,
            "min_width": null,
            "object_fit": null,
            "object_position": null,
            "order": null,
            "overflow": null,
            "overflow_x": null,
            "overflow_y": null,
            "padding": null,
            "right": null,
            "top": null,
            "visibility": null,
            "width": null
          }
        },
        "75b78fb6b1604761808296f88f83b2d7": {
          "model_module": "@jupyter-widgets/controls",
          "model_name": "DescriptionStyleModel",
          "model_module_version": "1.5.0",
          "state": {
            "_model_module": "@jupyter-widgets/controls",
            "_model_module_version": "1.5.0",
            "_model_name": "DescriptionStyleModel",
            "_view_count": null,
            "_view_module": "@jupyter-widgets/base",
            "_view_module_version": "1.2.0",
            "_view_name": "StyleView",
            "description_width": ""
          }
        },
        "fd63ec036938430fb167a12fbaf5b89d": {
          "model_module": "@jupyter-widgets/controls",
          "model_name": "TextModel",
          "model_module_version": "1.5.0",
          "state": {
            "_dom_classes": [],
            "_model_module": "@jupyter-widgets/controls",
            "_model_module_version": "1.5.0",
            "_model_name": "TextModel",
            "_view_count": null,
            "_view_module": "@jupyter-widgets/controls",
            "_view_module_version": "1.5.0",
            "_view_name": "TextView",
            "continuous_update": true,
            "description": "City:",
            "description_tooltip": null,
            "disabled": false,
            "layout": "IPY_MODEL_ce64d549bdb442b49e7cfcaa187a84cd",
            "placeholder": "​",
            "style": "IPY_MODEL_f00dc923b42a4ea6a925bd5c38b533fb",
            "value": "London"
          }
        },
        "ce64d549bdb442b49e7cfcaa187a84cd": {
          "model_module": "@jupyter-widgets/base",
          "model_name": "LayoutModel",
          "model_module_version": "1.2.0",
          "state": {
            "_model_module": "@jupyter-widgets/base",
            "_model_module_version": "1.2.0",
            "_model_name": "LayoutModel",
            "_view_count": null,
            "_view_module": "@jupyter-widgets/base",
            "_view_module_version": "1.2.0",
            "_view_name": "LayoutView",
            "align_content": null,
            "align_items": null,
            "align_self": null,
            "border": null,
            "bottom": null,
            "display": null,
            "flex": null,
            "flex_flow": null,
            "grid_area": null,
            "grid_auto_columns": null,
            "grid_auto_flow": null,
            "grid_auto_rows": null,
            "grid_column": null,
            "grid_gap": null,
            "grid_row": null,
            "grid_template_areas": null,
            "grid_template_columns": null,
            "grid_template_rows": null,
            "height": null,
            "justify_content": null,
            "justify_items": null,
            "left": null,
            "margin": null,
            "max_height": null,
            "max_width": null,
            "min_height": null,
            "min_width": null,
            "object_fit": null,
            "object_position": null,
            "order": null,
            "overflow": null,
            "overflow_x": null,
            "overflow_y": null,
            "padding": null,
            "right": null,
            "top": null,
            "visibility": null,
            "width": null
          }
        },
        "f00dc923b42a4ea6a925bd5c38b533fb": {
          "model_module": "@jupyter-widgets/controls",
          "model_name": "DescriptionStyleModel",
          "model_module_version": "1.5.0",
          "state": {
            "_model_module": "@jupyter-widgets/controls",
            "_model_module_version": "1.5.0",
            "_model_name": "DescriptionStyleModel",
            "_view_count": null,
            "_view_module": "@jupyter-widgets/base",
            "_view_module_version": "1.2.0",
            "_view_name": "StyleView",
            "description_width": ""
          }
        },
        "69f34a41bbe84740b68621c255e39c28": {
          "model_module": "@jupyter-widgets/controls",
          "model_name": "TextModel",
          "model_module_version": "1.5.0",
          "state": {
            "_dom_classes": [],
            "_model_module": "@jupyter-widgets/controls",
            "_model_module_version": "1.5.0",
            "_model_name": "TextModel",
            "_view_count": null,
            "_view_module": "@jupyter-widgets/controls",
            "_view_module_version": "1.5.0",
            "_view_name": "TextView",
            "continuous_update": true,
            "description": "Meal:",
            "description_tooltip": null,
            "disabled": false,
            "layout": "IPY_MODEL_03b6f2e52a144bf79c31779bc71f98f5",
            "placeholder": "​",
            "style": "IPY_MODEL_5d1a39e00b7c4b888263175bd84c341f",
            "value": ""
          }
        },
        "03b6f2e52a144bf79c31779bc71f98f5": {
          "model_module": "@jupyter-widgets/base",
          "model_name": "LayoutModel",
          "model_module_version": "1.2.0",
          "state": {
            "_model_module": "@jupyter-widgets/base",
            "_model_module_version": "1.2.0",
            "_model_name": "LayoutModel",
            "_view_count": null,
            "_view_module": "@jupyter-widgets/base",
            "_view_module_version": "1.2.0",
            "_view_name": "LayoutView",
            "align_content": null,
            "align_items": null,
            "align_self": null,
            "border": null,
            "bottom": null,
            "display": null,
            "flex": null,
            "flex_flow": null,
            "grid_area": null,
            "grid_auto_columns": null,
            "grid_auto_flow": null,
            "grid_auto_rows": null,
            "grid_column": null,
            "grid_gap": null,
            "grid_row": null,
            "grid_template_areas": null,
            "grid_template_columns": null,
            "grid_template_rows": null,
            "height": null,
            "justify_content": null,
            "justify_items": null,
            "left": null,
            "margin": null,
            "max_height": null,
            "max_width": null,
            "min_height": null,
            "min_width": null,
            "object_fit": null,
            "object_position": null,
            "order": null,
            "overflow": null,
            "overflow_x": null,
            "overflow_y": null,
            "padding": null,
            "right": null,
            "top": null,
            "visibility": null,
            "width": null
          }
        },
        "5d1a39e00b7c4b888263175bd84c341f": {
          "model_module": "@jupyter-widgets/controls",
          "model_name": "DescriptionStyleModel",
          "model_module_version": "1.5.0",
          "state": {
            "_model_module": "@jupyter-widgets/controls",
            "_model_module_version": "1.5.0",
            "_model_name": "DescriptionStyleModel",
            "_view_count": null,
            "_view_module": "@jupyter-widgets/base",
            "_view_module_version": "1.2.0",
            "_view_name": "StyleView",
            "description_width": ""
          }
        },
        "12761115e58c47e0aa68a22d0edda5f8": {
          "model_module": "@jupyter-widgets/controls",
          "model_name": "TextModel",
          "model_module_version": "1.5.0",
          "state": {
            "_dom_classes": [],
            "_model_module": "@jupyter-widgets/controls",
            "_model_module_version": "1.5.0",
            "_model_name": "TextModel",
            "_view_count": null,
            "_view_module": "@jupyter-widgets/controls",
            "_view_module_version": "1.5.0",
            "_view_name": "TextView",
            "continuous_update": true,
            "description": "Room Type:",
            "description_tooltip": null,
            "disabled": false,
            "layout": "IPY_MODEL_9f39a7c19d2f4749b18ad9fdbfa7b51d",
            "placeholder": "​",
            "style": "IPY_MODEL_79d21706f0284db6adae7af5ec69c556",
            "value": ""
          }
        },
        "9f39a7c19d2f4749b18ad9fdbfa7b51d": {
          "model_module": "@jupyter-widgets/base",
          "model_name": "LayoutModel",
          "model_module_version": "1.2.0",
          "state": {
            "_model_module": "@jupyter-widgets/base",
            "_model_module_version": "1.2.0",
            "_model_name": "LayoutModel",
            "_view_count": null,
            "_view_module": "@jupyter-widgets/base",
            "_view_module_version": "1.2.0",
            "_view_name": "LayoutView",
            "align_content": null,
            "align_items": null,
            "align_self": null,
            "border": null,
            "bottom": null,
            "display": null,
            "flex": null,
            "flex_flow": null,
            "grid_area": null,
            "grid_auto_columns": null,
            "grid_auto_flow": null,
            "grid_auto_rows": null,
            "grid_column": null,
            "grid_gap": null,
            "grid_row": null,
            "grid_template_areas": null,
            "grid_template_columns": null,
            "grid_template_rows": null,
            "height": null,
            "justify_content": null,
            "justify_items": null,
            "left": null,
            "margin": null,
            "max_height": null,
            "max_width": null,
            "min_height": null,
            "min_width": null,
            "object_fit": null,
            "object_position": null,
            "order": null,
            "overflow": null,
            "overflow_x": null,
            "overflow_y": null,
            "padding": null,
            "right": null,
            "top": null,
            "visibility": null,
            "width": null
          }
        },
        "79d21706f0284db6adae7af5ec69c556": {
          "model_module": "@jupyter-widgets/controls",
          "model_name": "DescriptionStyleModel",
          "model_module_version": "1.5.0",
          "state": {
            "_model_module": "@jupyter-widgets/controls",
            "_model_module_version": "1.5.0",
            "_model_name": "DescriptionStyleModel",
            "_view_count": null,
            "_view_module": "@jupyter-widgets/base",
            "_view_module_version": "1.2.0",
            "_view_name": "StyleView",
            "description_width": ""
          }
        },
        "fed11c30a41e4f5ba6b54cc8c2d98d0f": {
          "model_module": "@jupyter-widgets/controls",
          "model_name": "TextModel",
          "model_module_version": "1.5.0",
          "state": {
            "_dom_classes": [],
            "_model_module": "@jupyter-widgets/controls",
            "_model_module_version": "1.5.0",
            "_model_name": "TextModel",
            "_view_count": null,
            "_view_module": "@jupyter-widgets/controls",
            "_view_module_version": "1.5.0",
            "_view_name": "TextView",
            "continuous_update": true,
            "description": "Property Type:",
            "description_tooltip": null,
            "disabled": false,
            "layout": "IPY_MODEL_65d8957187d34773b21b987898f1a6f2",
            "placeholder": "​",
            "style": "IPY_MODEL_bafe1c252954480e9fdfaa767a80fb19",
            "value": ""
          }
        },
        "65d8957187d34773b21b987898f1a6f2": {
          "model_module": "@jupyter-widgets/base",
          "model_name": "LayoutModel",
          "model_module_version": "1.2.0",
          "state": {
            "_model_module": "@jupyter-widgets/base",
            "_model_module_version": "1.2.0",
            "_model_name": "LayoutModel",
            "_view_count": null,
            "_view_module": "@jupyter-widgets/base",
            "_view_module_version": "1.2.0",
            "_view_name": "LayoutView",
            "align_content": null,
            "align_items": null,
            "align_self": null,
            "border": null,
            "bottom": null,
            "display": null,
            "flex": null,
            "flex_flow": null,
            "grid_area": null,
            "grid_auto_columns": null,
            "grid_auto_flow": null,
            "grid_auto_rows": null,
            "grid_column": null,
            "grid_gap": null,
            "grid_row": null,
            "grid_template_areas": null,
            "grid_template_columns": null,
            "grid_template_rows": null,
            "height": null,
            "justify_content": null,
            "justify_items": null,
            "left": null,
            "margin": null,
            "max_height": null,
            "max_width": null,
            "min_height": null,
            "min_width": null,
            "object_fit": null,
            "object_position": null,
            "order": null,
            "overflow": null,
            "overflow_x": null,
            "overflow_y": null,
            "padding": null,
            "right": null,
            "top": null,
            "visibility": null,
            "width": null
          }
        },
        "bafe1c252954480e9fdfaa767a80fb19": {
          "model_module": "@jupyter-widgets/controls",
          "model_name": "DescriptionStyleModel",
          "model_module_version": "1.5.0",
          "state": {
            "_model_module": "@jupyter-widgets/controls",
            "_model_module_version": "1.5.0",
            "_model_name": "DescriptionStyleModel",
            "_view_count": null,
            "_view_module": "@jupyter-widgets/base",
            "_view_module_version": "1.2.0",
            "_view_name": "StyleView",
            "description_width": ""
          }
        },
        "c99dc3de9e6f401bbc56374c99e38ee4": {
          "model_module": "@jupyter-widgets/controls",
          "model_name": "TextModel",
          "model_module_version": "1.5.0",
          "state": {
            "_dom_classes": [],
            "_model_module": "@jupyter-widgets/controls",
            "_model_module_version": "1.5.0",
            "_model_name": "TextModel",
            "_view_count": null,
            "_view_module": "@jupyter-widgets/controls",
            "_view_module_version": "1.5.0",
            "_view_name": "TextView",
            "continuous_update": true,
            "description": "Star Rating:",
            "description_tooltip": null,
            "disabled": false,
            "layout": "IPY_MODEL_76086054cb9f4d48a657ce9c43531d60",
            "placeholder": "​",
            "style": "IPY_MODEL_26a1cb3a29b940df80ceea6088ad0f76",
            "value": ""
          }
        },
        "76086054cb9f4d48a657ce9c43531d60": {
          "model_module": "@jupyter-widgets/base",
          "model_name": "LayoutModel",
          "model_module_version": "1.2.0",
          "state": {
            "_model_module": "@jupyter-widgets/base",
            "_model_module_version": "1.2.0",
            "_model_name": "LayoutModel",
            "_view_count": null,
            "_view_module": "@jupyter-widgets/base",
            "_view_module_version": "1.2.0",
            "_view_name": "LayoutView",
            "align_content": null,
            "align_items": null,
            "align_self": null,
            "border": null,
            "bottom": null,
            "display": null,
            "flex": null,
            "flex_flow": null,
            "grid_area": null,
            "grid_auto_columns": null,
            "grid_auto_flow": null,
            "grid_auto_rows": null,
            "grid_column": null,
            "grid_gap": null,
            "grid_row": null,
            "grid_template_areas": null,
            "grid_template_columns": null,
            "grid_template_rows": null,
            "height": null,
            "justify_content": null,
            "justify_items": null,
            "left": null,
            "margin": null,
            "max_height": null,
            "max_width": null,
            "min_height": null,
            "min_width": null,
            "object_fit": null,
            "object_position": null,
            "order": null,
            "overflow": null,
            "overflow_x": null,
            "overflow_y": null,
            "padding": null,
            "right": null,
            "top": null,
            "visibility": null,
            "width": null
          }
        },
        "26a1cb3a29b940df80ceea6088ad0f76": {
          "model_module": "@jupyter-widgets/controls",
          "model_name": "DescriptionStyleModel",
          "model_module_version": "1.5.0",
          "state": {
            "_model_module": "@jupyter-widgets/controls",
            "_model_module_version": "1.5.0",
            "_model_name": "DescriptionStyleModel",
            "_view_count": null,
            "_view_module": "@jupyter-widgets/base",
            "_view_module_version": "1.2.0",
            "_view_name": "StyleView",
            "description_width": ""
          }
        },
        "b54f140532134cd5b7f4a2310b357b9e": {
          "model_module": "@jupyter-widgets/controls",
          "model_name": "ButtonModel",
          "model_module_version": "1.5.0",
          "state": {
            "_dom_classes": [],
            "_model_module": "@jupyter-widgets/controls",
            "_model_module_version": "1.5.0",
            "_model_name": "ButtonModel",
            "_view_count": null,
            "_view_module": "@jupyter-widgets/controls",
            "_view_module_version": "1.5.0",
            "_view_name": "ButtonView",
            "button_style": "",
            "description": "Search",
            "disabled": false,
            "icon": "",
            "layout": "IPY_MODEL_0240a4690fd548f6a5823aa8c0fb9805",
            "style": "IPY_MODEL_c32a22715bc74c03b67ea8aebca42a05",
            "tooltip": ""
          }
        },
        "0240a4690fd548f6a5823aa8c0fb9805": {
          "model_module": "@jupyter-widgets/base",
          "model_name": "LayoutModel",
          "model_module_version": "1.2.0",
          "state": {
            "_model_module": "@jupyter-widgets/base",
            "_model_module_version": "1.2.0",
            "_model_name": "LayoutModel",
            "_view_count": null,
            "_view_module": "@jupyter-widgets/base",
            "_view_module_version": "1.2.0",
            "_view_name": "LayoutView",
            "align_content": null,
            "align_items": null,
            "align_self": null,
            "border": null,
            "bottom": null,
            "display": null,
            "flex": null,
            "flex_flow": null,
            "grid_area": null,
            "grid_auto_columns": null,
            "grid_auto_flow": null,
            "grid_auto_rows": null,
            "grid_column": null,
            "grid_gap": null,
            "grid_row": null,
            "grid_template_areas": null,
            "grid_template_columns": null,
            "grid_template_rows": null,
            "height": null,
            "justify_content": null,
            "justify_items": null,
            "left": null,
            "margin": null,
            "max_height": null,
            "max_width": null,
            "min_height": null,
            "min_width": null,
            "object_fit": null,
            "object_position": null,
            "order": null,
            "overflow": null,
            "overflow_x": null,
            "overflow_y": null,
            "padding": null,
            "right": null,
            "top": null,
            "visibility": null,
            "width": null
          }
        },
        "c32a22715bc74c03b67ea8aebca42a05": {
          "model_module": "@jupyter-widgets/controls",
          "model_name": "ButtonStyleModel",
          "model_module_version": "1.5.0",
          "state": {
            "_model_module": "@jupyter-widgets/controls",
            "_model_module_version": "1.5.0",
            "_model_name": "ButtonStyleModel",
            "_view_count": null,
            "_view_module": "@jupyter-widgets/base",
            "_view_module_version": "1.2.0",
            "_view_name": "StyleView",
            "button_color": null,
            "font_weight": ""
          }
        },
        "5f07abf664844e7bad359447b4d1292d": {
          "model_module": "@jupyter-widgets/output",
          "model_name": "OutputModel",
          "model_module_version": "1.0.0",
          "state": {
            "_dom_classes": [],
            "_model_module": "@jupyter-widgets/output",
            "_model_module_version": "1.0.0",
            "_model_name": "OutputModel",
            "_view_count": null,
            "_view_module": "@jupyter-widgets/output",
            "_view_module_version": "1.0.0",
            "_view_name": "OutputView",
            "layout": "IPY_MODEL_eafdc68b5552418e80ed71dc6f3e2cd8",
            "msg_id": "",
            "outputs": [
              {
                "output_type": "display_data",
                "data": {
                  "text/plain": "        mealinclusiontype      roomtype         country    city propertytype  \\\n8          Free Breakfast        Single  United Kingdom  London       Hotels   \n6  Free breakfast for {2}       Double   United Kingdom  London       Hotels   \n7  Free breakfast for {4}          Quad  United Kingdom  London       Hotels   \n9  Free breakfast for {4}          Quad  United Kingdom  London       Hotels   \n5                 No meal  Run of House  United Kingdom  London       Hotels   \n\n  starrating                hotelname  maxoccupancy  onsiterate curr  \\\n8    average  Park Hotel - Guesthouse             1       39.06  GBP   \n6    average  Park Hotel - Guesthouse             2       58.08  GBP   \n7    average  Park Hotel - Guesthouse             4       79.19  GBP   \n9    average  Park Hotel - Guesthouse             4       75.23  GBP   \n5       high      The Cleveland Hotel             1      121.86  GBP   \n\n                                   ratedescription  \\\n8                             Shower, 1 single bed   \n6                             Shower, 1 double bed   \n7  Room size: 15 m²/161 ft², Shower, 2 double beds   \n9  Room size: 15 m²/161 ft², Shower, 2 double beds   \n5                                           Shower   \n\n                                       roomamenities  \n8  Air conditioning: ;Alarm clock: ;Coffee/tea ma...  \n6  Air conditioning: ;Alarm clock: ;Coffee/tea ma...  \n7  Air conditioning: ;Alarm clock: ;Coffee/tea ma...  \n9  Air conditioning: ;Alarm clock: ;Coffee/tea ma...  \n5  Air conditioning: ;Coffee/tea maker: ;Daily ho...  ",
                  "text/html": "\n  <div id=\"df-aabd3ec5-26c7-4af0-8ff1-86346b895a7f\" class=\"colab-df-container\">\n    <div>\n<style scoped>\n    .dataframe tbody tr th:only-of-type {\n        vertical-align: middle;\n    }\n\n    .dataframe tbody tr th {\n        vertical-align: top;\n    }\n\n    .dataframe thead th {\n        text-align: right;\n    }\n</style>\n<table border=\"1\" class=\"dataframe\">\n  <thead>\n    <tr style=\"text-align: right;\">\n      <th></th>\n      <th>mealinclusiontype</th>\n      <th>roomtype</th>\n      <th>country</th>\n      <th>city</th>\n      <th>propertytype</th>\n      <th>starrating</th>\n      <th>hotelname</th>\n      <th>maxoccupancy</th>\n      <th>onsiterate</th>\n      <th>curr</th>\n      <th>ratedescription</th>\n      <th>roomamenities</th>\n    </tr>\n  </thead>\n  <tbody>\n    <tr>\n      <th>8</th>\n      <td>Free Breakfast</td>\n      <td>Single</td>\n      <td>United Kingdom</td>\n      <td>London</td>\n      <td>Hotels</td>\n      <td>average</td>\n      <td>Park Hotel - Guesthouse</td>\n      <td>1</td>\n      <td>39.06</td>\n      <td>GBP</td>\n      <td>Shower, 1 single bed</td>\n      <td>Air conditioning: ;Alarm clock: ;Coffee/tea ma...</td>\n    </tr>\n    <tr>\n      <th>6</th>\n      <td>Free breakfast for {2}</td>\n      <td>Double</td>\n      <td>United Kingdom</td>\n      <td>London</td>\n      <td>Hotels</td>\n      <td>average</td>\n      <td>Park Hotel - Guesthouse</td>\n      <td>2</td>\n      <td>58.08</td>\n      <td>GBP</td>\n      <td>Shower, 1 double bed</td>\n      <td>Air conditioning: ;Alarm clock: ;Coffee/tea ma...</td>\n    </tr>\n    <tr>\n      <th>7</th>\n      <td>Free breakfast for {4}</td>\n      <td>Quad</td>\n      <td>United Kingdom</td>\n      <td>London</td>\n      <td>Hotels</td>\n      <td>average</td>\n      <td>Park Hotel - Guesthouse</td>\n      <td>4</td>\n      <td>79.19</td>\n      <td>GBP</td>\n      <td>Room size: 15 m²/161 ft², Shower, 2 double beds</td>\n      <td>Air conditioning: ;Alarm clock: ;Coffee/tea ma...</td>\n    </tr>\n    <tr>\n      <th>9</th>\n      <td>Free breakfast for {4}</td>\n      <td>Quad</td>\n      <td>United Kingdom</td>\n      <td>London</td>\n      <td>Hotels</td>\n      <td>average</td>\n      <td>Park Hotel - Guesthouse</td>\n      <td>4</td>\n      <td>75.23</td>\n      <td>GBP</td>\n      <td>Room size: 15 m²/161 ft², Shower, 2 double beds</td>\n      <td>Air conditioning: ;Alarm clock: ;Coffee/tea ma...</td>\n    </tr>\n    <tr>\n      <th>5</th>\n      <td>No meal</td>\n      <td>Run of House</td>\n      <td>United Kingdom</td>\n      <td>London</td>\n      <td>Hotels</td>\n      <td>high</td>\n      <td>The Cleveland Hotel</td>\n      <td>1</td>\n      <td>121.86</td>\n      <td>GBP</td>\n      <td>Shower</td>\n      <td>Air conditioning: ;Coffee/tea maker: ;Daily ho...</td>\n    </tr>\n  </tbody>\n</table>\n</div>\n    <div class=\"colab-df-buttons\">\n\n  <div class=\"colab-df-container\">\n    <button class=\"colab-df-convert\" onclick=\"convertToInteractive('df-aabd3ec5-26c7-4af0-8ff1-86346b895a7f')\"\n            title=\"Convert this dataframe to an interactive table.\"\n            style=\"display:none;\">\n\n  <svg xmlns=\"http://www.w3.org/2000/svg\" height=\"24px\" viewBox=\"0 -960 960 960\">\n    <path d=\"M120-120v-720h720v720H120Zm60-500h600v-160H180v160Zm220 220h160v-160H400v160Zm0 220h160v-160H400v160ZM180-400h160v-160H180v160Zm440 0h160v-160H620v160ZM180-180h160v-160H180v160Zm440 0h160v-160H620v160Z\"/>\n  </svg>\n    </button>\n\n  <style>\n    .colab-df-container {\n      display:flex;\n      gap: 12px;\n    }\n\n    .colab-df-convert {\n      background-color: #E8F0FE;\n      border: none;\n      border-radius: 50%;\n      cursor: pointer;\n      display: none;\n      fill: #1967D2;\n      height: 32px;\n      padding: 0 0 0 0;\n      width: 32px;\n    }\n\n    .colab-df-convert:hover {\n      background-color: #E2EBFA;\n      box-shadow: 0px 1px 2px rgba(60, 64, 67, 0.3), 0px 1px 3px 1px rgba(60, 64, 67, 0.15);\n      fill: #174EA6;\n    }\n\n    .colab-df-buttons div {\n      margin-bottom: 4px;\n    }\n\n    [theme=dark] .colab-df-convert {\n      background-color: #3B4455;\n      fill: #D2E3FC;\n    }\n\n    [theme=dark] .colab-df-convert:hover {\n      background-color: #434B5C;\n      box-shadow: 0px 1px 3px 1px rgba(0, 0, 0, 0.15);\n      filter: drop-shadow(0px 1px 2px rgba(0, 0, 0, 0.3));\n      fill: #FFFFFF;\n    }\n  </style>\n\n    <script>\n      const buttonEl =\n        document.querySelector('#df-aabd3ec5-26c7-4af0-8ff1-86346b895a7f button.colab-df-convert');\n      buttonEl.style.display =\n        google.colab.kernel.accessAllowed ? 'block' : 'none';\n\n      async function convertToInteractive(key) {\n        const element = document.querySelector('#df-aabd3ec5-26c7-4af0-8ff1-86346b895a7f');\n        const dataTable =\n          await google.colab.kernel.invokeFunction('convertToInteractive',\n                                                    [key], {});\n        if (!dataTable) return;\n\n        const docLinkHtml = 'Like what you see? Visit the ' +\n          '<a target=\"_blank\" href=https://colab.research.google.com/notebooks/data_table.ipynb>data table notebook</a>'\n          + ' to learn more about interactive tables.';\n        element.innerHTML = '';\n        dataTable['output_type'] = 'display_data';\n        await google.colab.output.renderOutput(dataTable, element);\n        const docLink = document.createElement('div');\n        docLink.innerHTML = docLinkHtml;\n        element.appendChild(docLink);\n      }\n    </script>\n  </div>\n\n\n<div id=\"df-4faac062-fbe9-4085-85da-3d5fc33c0650\">\n  <button class=\"colab-df-quickchart\" onclick=\"quickchart('df-4faac062-fbe9-4085-85da-3d5fc33c0650')\"\n            title=\"Suggest charts\"\n            style=\"display:none;\">\n\n<svg xmlns=\"http://www.w3.org/2000/svg\" height=\"24px\"viewBox=\"0 0 24 24\"\n     width=\"24px\">\n    <g>\n        <path d=\"M19 3H5c-1.1 0-2 .9-2 2v14c0 1.1.9 2 2 2h14c1.1 0 2-.9 2-2V5c0-1.1-.9-2-2-2zM9 17H7v-7h2v7zm4 0h-2V7h2v10zm4 0h-2v-4h2v4z\"/>\n    </g>\n</svg>\n  </button>\n\n<style>\n  .colab-df-quickchart {\n      --bg-color: #E8F0FE;\n      --fill-color: #1967D2;\n      --hover-bg-color: #E2EBFA;\n      --hover-fill-color: #174EA6;\n      --disabled-fill-color: #AAA;\n      --disabled-bg-color: #DDD;\n  }\n\n  [theme=dark] .colab-df-quickchart {\n      --bg-color: #3B4455;\n      --fill-color: #D2E3FC;\n      --hover-bg-color: #434B5C;\n      --hover-fill-color: #FFFFFF;\n      --disabled-bg-color: #3B4455;\n      --disabled-fill-color: #666;\n  }\n\n  .colab-df-quickchart {\n    background-color: var(--bg-color);\n    border: none;\n    border-radius: 50%;\n    cursor: pointer;\n    display: none;\n    fill: var(--fill-color);\n    height: 32px;\n    padding: 0;\n    width: 32px;\n  }\n\n  .colab-df-quickchart:hover {\n    background-color: var(--hover-bg-color);\n    box-shadow: 0 1px 2px rgba(60, 64, 67, 0.3), 0 1px 3px 1px rgba(60, 64, 67, 0.15);\n    fill: var(--button-hover-fill-color);\n  }\n\n  .colab-df-quickchart-complete:disabled,\n  .colab-df-quickchart-complete:disabled:hover {\n    background-color: var(--disabled-bg-color);\n    fill: var(--disabled-fill-color);\n    box-shadow: none;\n  }\n\n  .colab-df-spinner {\n    border: 2px solid var(--fill-color);\n    border-color: transparent;\n    border-bottom-color: var(--fill-color);\n    animation:\n      spin 1s steps(1) infinite;\n  }\n\n  @keyframes spin {\n    0% {\n      border-color: transparent;\n      border-bottom-color: var(--fill-color);\n      border-left-color: var(--fill-color);\n    }\n    20% {\n      border-color: transparent;\n      border-left-color: var(--fill-color);\n      border-top-color: var(--fill-color);\n    }\n    30% {\n      border-color: transparent;\n      border-left-color: var(--fill-color);\n      border-top-color: var(--fill-color);\n      border-right-color: var(--fill-color);\n    }\n    40% {\n      border-color: transparent;\n      border-right-color: var(--fill-color);\n      border-top-color: var(--fill-color);\n    }\n    60% {\n      border-color: transparent;\n      border-right-color: var(--fill-color);\n    }\n    80% {\n      border-color: transparent;\n      border-right-color: var(--fill-color);\n      border-bottom-color: var(--fill-color);\n    }\n    90% {\n      border-color: transparent;\n      border-bottom-color: var(--fill-color);\n    }\n  }\n</style>\n\n  <script>\n    async function quickchart(key) {\n      const quickchartButtonEl =\n        document.querySelector('#' + key + ' button');\n      quickchartButtonEl.disabled = true;  // To prevent multiple clicks.\n      quickchartButtonEl.classList.add('colab-df-spinner');\n      try {\n        const charts = await google.colab.kernel.invokeFunction(\n            'suggestCharts', [key], {});\n      } catch (error) {\n        console.error('Error during call to suggestCharts:', error);\n      }\n      quickchartButtonEl.classList.remove('colab-df-spinner');\n      quickchartButtonEl.classList.add('colab-df-quickchart-complete');\n    }\n    (() => {\n      let quickchartButtonEl =\n        document.querySelector('#df-4faac062-fbe9-4085-85da-3d5fc33c0650 button');\n      quickchartButtonEl.style.display =\n        google.colab.kernel.accessAllowed ? 'block' : 'none';\n    })();\n  </script>\n</div>\n    </div>\n  </div>\n"
                },
                "metadata": {}
              }
            ]
          }
        },
        "eafdc68b5552418e80ed71dc6f3e2cd8": {
          "model_module": "@jupyter-widgets/base",
          "model_name": "LayoutModel",
          "model_module_version": "1.2.0",
          "state": {
            "_model_module": "@jupyter-widgets/base",
            "_model_module_version": "1.2.0",
            "_model_name": "LayoutModel",
            "_view_count": null,
            "_view_module": "@jupyter-widgets/base",
            "_view_module_version": "1.2.0",
            "_view_name": "LayoutView",
            "align_content": null,
            "align_items": null,
            "align_self": null,
            "border": null,
            "bottom": null,
            "display": null,
            "flex": null,
            "flex_flow": null,
            "grid_area": null,
            "grid_auto_columns": null,
            "grid_auto_flow": null,
            "grid_auto_rows": null,
            "grid_column": null,
            "grid_gap": null,
            "grid_row": null,
            "grid_template_areas": null,
            "grid_template_columns": null,
            "grid_template_rows": null,
            "height": null,
            "justify_content": null,
            "justify_items": null,
            "left": null,
            "margin": null,
            "max_height": null,
            "max_width": null,
            "min_height": null,
            "min_width": null,
            "object_fit": null,
            "object_position": null,
            "order": null,
            "overflow": null,
            "overflow_x": null,
            "overflow_y": null,
            "padding": null,
            "right": null,
            "top": null,
            "visibility": null,
            "width": null
          }
        },
        "f036e8532a0f49f7a31124f2926e9dca": {
          "model_module": "@jupyter-widgets/controls",
          "model_name": "TextModel",
          "model_module_version": "1.5.0",
          "state": {
            "_dom_classes": [],
            "_model_module": "@jupyter-widgets/controls",
            "_model_module_version": "1.5.0",
            "_model_name": "TextModel",
            "_view_count": null,
            "_view_module": "@jupyter-widgets/controls",
            "_view_module_version": "1.5.0",
            "_view_name": "TextView",
            "continuous_update": true,
            "description": "Country:",
            "description_tooltip": null,
            "disabled": false,
            "layout": "IPY_MODEL_8f1d12d8969d45b4bafe4147053d1721",
            "placeholder": "​",
            "style": "IPY_MODEL_a53128e969fa48ee9b672206d051942c",
            "value": "United Kingdom"
          }
        },
        "8f1d12d8969d45b4bafe4147053d1721": {
          "model_module": "@jupyter-widgets/base",
          "model_name": "LayoutModel",
          "model_module_version": "1.2.0",
          "state": {
            "_model_module": "@jupyter-widgets/base",
            "_model_module_version": "1.2.0",
            "_model_name": "LayoutModel",
            "_view_count": null,
            "_view_module": "@jupyter-widgets/base",
            "_view_module_version": "1.2.0",
            "_view_name": "LayoutView",
            "align_content": null,
            "align_items": null,
            "align_self": null,
            "border": null,
            "bottom": null,
            "display": null,
            "flex": null,
            "flex_flow": null,
            "grid_area": null,
            "grid_auto_columns": null,
            "grid_auto_flow": null,
            "grid_auto_rows": null,
            "grid_column": null,
            "grid_gap": null,
            "grid_row": null,
            "grid_template_areas": null,
            "grid_template_columns": null,
            "grid_template_rows": null,
            "height": null,
            "justify_content": null,
            "justify_items": null,
            "left": null,
            "margin": null,
            "max_height": null,
            "max_width": null,
            "min_height": null,
            "min_width": null,
            "object_fit": null,
            "object_position": null,
            "order": null,
            "overflow": null,
            "overflow_x": null,
            "overflow_y": null,
            "padding": null,
            "right": null,
            "top": null,
            "visibility": null,
            "width": null
          }
        },
        "a53128e969fa48ee9b672206d051942c": {
          "model_module": "@jupyter-widgets/controls",
          "model_name": "DescriptionStyleModel",
          "model_module_version": "1.5.0",
          "state": {
            "_model_module": "@jupyter-widgets/controls",
            "_model_module_version": "1.5.0",
            "_model_name": "DescriptionStyleModel",
            "_view_count": null,
            "_view_module": "@jupyter-widgets/base",
            "_view_module_version": "1.2.0",
            "_view_name": "StyleView",
            "description_width": ""
          }
        },
        "a26c52c96dac4464bb016f9325536b67": {
          "model_module": "@jupyter-widgets/controls",
          "model_name": "TextModel",
          "model_module_version": "1.5.0",
          "state": {
            "_dom_classes": [],
            "_model_module": "@jupyter-widgets/controls",
            "_model_module_version": "1.5.0",
            "_model_name": "TextModel",
            "_view_count": null,
            "_view_module": "@jupyter-widgets/controls",
            "_view_module_version": "1.5.0",
            "_view_name": "TextView",
            "continuous_update": true,
            "description": "City:",
            "description_tooltip": null,
            "disabled": false,
            "layout": "IPY_MODEL_1863ad1b629e40a9acc81f66ab0dc552",
            "placeholder": "​",
            "style": "IPY_MODEL_fb93efce7bad4796bc70eea8ebe1d7a8",
            "value": "London"
          }
        },
        "1863ad1b629e40a9acc81f66ab0dc552": {
          "model_module": "@jupyter-widgets/base",
          "model_name": "LayoutModel",
          "model_module_version": "1.2.0",
          "state": {
            "_model_module": "@jupyter-widgets/base",
            "_model_module_version": "1.2.0",
            "_model_name": "LayoutModel",
            "_view_count": null,
            "_view_module": "@jupyter-widgets/base",
            "_view_module_version": "1.2.0",
            "_view_name": "LayoutView",
            "align_content": null,
            "align_items": null,
            "align_self": null,
            "border": null,
            "bottom": null,
            "display": null,
            "flex": null,
            "flex_flow": null,
            "grid_area": null,
            "grid_auto_columns": null,
            "grid_auto_flow": null,
            "grid_auto_rows": null,
            "grid_column": null,
            "grid_gap": null,
            "grid_row": null,
            "grid_template_areas": null,
            "grid_template_columns": null,
            "grid_template_rows": null,
            "height": null,
            "justify_content": null,
            "justify_items": null,
            "left": null,
            "margin": null,
            "max_height": null,
            "max_width": null,
            "min_height": null,
            "min_width": null,
            "object_fit": null,
            "object_position": null,
            "order": null,
            "overflow": null,
            "overflow_x": null,
            "overflow_y": null,
            "padding": null,
            "right": null,
            "top": null,
            "visibility": null,
            "width": null
          }
        },
        "fb93efce7bad4796bc70eea8ebe1d7a8": {
          "model_module": "@jupyter-widgets/controls",
          "model_name": "DescriptionStyleModel",
          "model_module_version": "1.5.0",
          "state": {
            "_model_module": "@jupyter-widgets/controls",
            "_model_module_version": "1.5.0",
            "_model_name": "DescriptionStyleModel",
            "_view_count": null,
            "_view_module": "@jupyter-widgets/base",
            "_view_module_version": "1.2.0",
            "_view_name": "StyleView",
            "description_width": ""
          }
        },
        "366a5cafa53c4427ab77c3aa6483c249": {
          "model_module": "@jupyter-widgets/controls",
          "model_name": "TextModel",
          "model_module_version": "1.5.0",
          "state": {
            "_dom_classes": [],
            "_model_module": "@jupyter-widgets/controls",
            "_model_module_version": "1.5.0",
            "_model_name": "TextModel",
            "_view_count": null,
            "_view_module": "@jupyter-widgets/controls",
            "_view_module_version": "1.5.0",
            "_view_name": "TextView",
            "continuous_update": true,
            "description": "Meal:",
            "description_tooltip": null,
            "disabled": false,
            "layout": "IPY_MODEL_4ac433afeb9a400e82460b67a95e80b4",
            "placeholder": "​",
            "style": "IPY_MODEL_b88e1c469f1a40679aa590dec3378706",
            "value": "Free Breakfast"
          }
        },
        "4ac433afeb9a400e82460b67a95e80b4": {
          "model_module": "@jupyter-widgets/base",
          "model_name": "LayoutModel",
          "model_module_version": "1.2.0",
          "state": {
            "_model_module": "@jupyter-widgets/base",
            "_model_module_version": "1.2.0",
            "_model_name": "LayoutModel",
            "_view_count": null,
            "_view_module": "@jupyter-widgets/base",
            "_view_module_version": "1.2.0",
            "_view_name": "LayoutView",
            "align_content": null,
            "align_items": null,
            "align_self": null,
            "border": null,
            "bottom": null,
            "display": null,
            "flex": null,
            "flex_flow": null,
            "grid_area": null,
            "grid_auto_columns": null,
            "grid_auto_flow": null,
            "grid_auto_rows": null,
            "grid_column": null,
            "grid_gap": null,
            "grid_row": null,
            "grid_template_areas": null,
            "grid_template_columns": null,
            "grid_template_rows": null,
            "height": null,
            "justify_content": null,
            "justify_items": null,
            "left": null,
            "margin": null,
            "max_height": null,
            "max_width": null,
            "min_height": null,
            "min_width": null,
            "object_fit": null,
            "object_position": null,
            "order": null,
            "overflow": null,
            "overflow_x": null,
            "overflow_y": null,
            "padding": null,
            "right": null,
            "top": null,
            "visibility": null,
            "width": null
          }
        },
        "b88e1c469f1a40679aa590dec3378706": {
          "model_module": "@jupyter-widgets/controls",
          "model_name": "DescriptionStyleModel",
          "model_module_version": "1.5.0",
          "state": {
            "_model_module": "@jupyter-widgets/controls",
            "_model_module_version": "1.5.0",
            "_model_name": "DescriptionStyleModel",
            "_view_count": null,
            "_view_module": "@jupyter-widgets/base",
            "_view_module_version": "1.2.0",
            "_view_name": "StyleView",
            "description_width": ""
          }
        },
        "e86d3043cee747bca9a01663e53ac93d": {
          "model_module": "@jupyter-widgets/controls",
          "model_name": "TextModel",
          "model_module_version": "1.5.0",
          "state": {
            "_dom_classes": [],
            "_model_module": "@jupyter-widgets/controls",
            "_model_module_version": "1.5.0",
            "_model_name": "TextModel",
            "_view_count": null,
            "_view_module": "@jupyter-widgets/controls",
            "_view_module_version": "1.5.0",
            "_view_name": "TextView",
            "continuous_update": true,
            "description": "Room Type:",
            "description_tooltip": null,
            "disabled": false,
            "layout": "IPY_MODEL_c2326a8fa3c848a58c31636b029ea392",
            "placeholder": "​",
            "style": "IPY_MODEL_c643b0b9094e478f8388ec9daa5aeb3e",
            "value": "Single"
          }
        },
        "c2326a8fa3c848a58c31636b029ea392": {
          "model_module": "@jupyter-widgets/base",
          "model_name": "LayoutModel",
          "model_module_version": "1.2.0",
          "state": {
            "_model_module": "@jupyter-widgets/base",
            "_model_module_version": "1.2.0",
            "_model_name": "LayoutModel",
            "_view_count": null,
            "_view_module": "@jupyter-widgets/base",
            "_view_module_version": "1.2.0",
            "_view_name": "LayoutView",
            "align_content": null,
            "align_items": null,
            "align_self": null,
            "border": null,
            "bottom": null,
            "display": null,
            "flex": null,
            "flex_flow": null,
            "grid_area": null,
            "grid_auto_columns": null,
            "grid_auto_flow": null,
            "grid_auto_rows": null,
            "grid_column": null,
            "grid_gap": null,
            "grid_row": null,
            "grid_template_areas": null,
            "grid_template_columns": null,
            "grid_template_rows": null,
            "height": null,
            "justify_content": null,
            "justify_items": null,
            "left": null,
            "margin": null,
            "max_height": null,
            "max_width": null,
            "min_height": null,
            "min_width": null,
            "object_fit": null,
            "object_position": null,
            "order": null,
            "overflow": null,
            "overflow_x": null,
            "overflow_y": null,
            "padding": null,
            "right": null,
            "top": null,
            "visibility": null,
            "width": null
          }
        },
        "c643b0b9094e478f8388ec9daa5aeb3e": {
          "model_module": "@jupyter-widgets/controls",
          "model_name": "DescriptionStyleModel",
          "model_module_version": "1.5.0",
          "state": {
            "_model_module": "@jupyter-widgets/controls",
            "_model_module_version": "1.5.0",
            "_model_name": "DescriptionStyleModel",
            "_view_count": null,
            "_view_module": "@jupyter-widgets/base",
            "_view_module_version": "1.2.0",
            "_view_name": "StyleView",
            "description_width": ""
          }
        },
        "631fa956492d469091e37770c3ab9647": {
          "model_module": "@jupyter-widgets/controls",
          "model_name": "TextModel",
          "model_module_version": "1.5.0",
          "state": {
            "_dom_classes": [],
            "_model_module": "@jupyter-widgets/controls",
            "_model_module_version": "1.5.0",
            "_model_name": "TextModel",
            "_view_count": null,
            "_view_module": "@jupyter-widgets/controls",
            "_view_module_version": "1.5.0",
            "_view_name": "TextView",
            "continuous_update": true,
            "description": "Property Type:",
            "description_tooltip": null,
            "disabled": false,
            "layout": "IPY_MODEL_0d131b8bdcb3447abdabd3e0d4d26eb8",
            "placeholder": "​",
            "style": "IPY_MODEL_709ffe7253ee4beeb187b79499cc2ec8",
            "value": "Hotels"
          }
        },
        "0d131b8bdcb3447abdabd3e0d4d26eb8": {
          "model_module": "@jupyter-widgets/base",
          "model_name": "LayoutModel",
          "model_module_version": "1.2.0",
          "state": {
            "_model_module": "@jupyter-widgets/base",
            "_model_module_version": "1.2.0",
            "_model_name": "LayoutModel",
            "_view_count": null,
            "_view_module": "@jupyter-widgets/base",
            "_view_module_version": "1.2.0",
            "_view_name": "LayoutView",
            "align_content": null,
            "align_items": null,
            "align_self": null,
            "border": null,
            "bottom": null,
            "display": null,
            "flex": null,
            "flex_flow": null,
            "grid_area": null,
            "grid_auto_columns": null,
            "grid_auto_flow": null,
            "grid_auto_rows": null,
            "grid_column": null,
            "grid_gap": null,
            "grid_row": null,
            "grid_template_areas": null,
            "grid_template_columns": null,
            "grid_template_rows": null,
            "height": null,
            "justify_content": null,
            "justify_items": null,
            "left": null,
            "margin": null,
            "max_height": null,
            "max_width": null,
            "min_height": null,
            "min_width": null,
            "object_fit": null,
            "object_position": null,
            "order": null,
            "overflow": null,
            "overflow_x": null,
            "overflow_y": null,
            "padding": null,
            "right": null,
            "top": null,
            "visibility": null,
            "width": null
          }
        },
        "709ffe7253ee4beeb187b79499cc2ec8": {
          "model_module": "@jupyter-widgets/controls",
          "model_name": "DescriptionStyleModel",
          "model_module_version": "1.5.0",
          "state": {
            "_model_module": "@jupyter-widgets/controls",
            "_model_module_version": "1.5.0",
            "_model_name": "DescriptionStyleModel",
            "_view_count": null,
            "_view_module": "@jupyter-widgets/base",
            "_view_module_version": "1.2.0",
            "_view_name": "StyleView",
            "description_width": ""
          }
        },
        "c9291d0d1cf8486db506fceec1d32431": {
          "model_module": "@jupyter-widgets/controls",
          "model_name": "TextModel",
          "model_module_version": "1.5.0",
          "state": {
            "_dom_classes": [],
            "_model_module": "@jupyter-widgets/controls",
            "_model_module_version": "1.5.0",
            "_model_name": "TextModel",
            "_view_count": null,
            "_view_module": "@jupyter-widgets/controls",
            "_view_module_version": "1.5.0",
            "_view_name": "TextView",
            "continuous_update": true,
            "description": "Star Rating:",
            "description_tooltip": null,
            "disabled": false,
            "layout": "IPY_MODEL_417ab65de70843949d3934c019fdd8f0",
            "placeholder": "​",
            "style": "IPY_MODEL_8f7d90364989452ca35b50f816729d93",
            "value": "Lows"
          }
        },
        "417ab65de70843949d3934c019fdd8f0": {
          "model_module": "@jupyter-widgets/base",
          "model_name": "LayoutModel",
          "model_module_version": "1.2.0",
          "state": {
            "_model_module": "@jupyter-widgets/base",
            "_model_module_version": "1.2.0",
            "_model_name": "LayoutModel",
            "_view_count": null,
            "_view_module": "@jupyter-widgets/base",
            "_view_module_version": "1.2.0",
            "_view_name": "LayoutView",
            "align_content": null,
            "align_items": null,
            "align_self": null,
            "border": null,
            "bottom": null,
            "display": null,
            "flex": null,
            "flex_flow": null,
            "grid_area": null,
            "grid_auto_columns": null,
            "grid_auto_flow": null,
            "grid_auto_rows": null,
            "grid_column": null,
            "grid_gap": null,
            "grid_row": null,
            "grid_template_areas": null,
            "grid_template_columns": null,
            "grid_template_rows": null,
            "height": null,
            "justify_content": null,
            "justify_items": null,
            "left": null,
            "margin": null,
            "max_height": null,
            "max_width": null,
            "min_height": null,
            "min_width": null,
            "object_fit": null,
            "object_position": null,
            "order": null,
            "overflow": null,
            "overflow_x": null,
            "overflow_y": null,
            "padding": null,
            "right": null,
            "top": null,
            "visibility": null,
            "width": null
          }
        },
        "8f7d90364989452ca35b50f816729d93": {
          "model_module": "@jupyter-widgets/controls",
          "model_name": "DescriptionStyleModel",
          "model_module_version": "1.5.0",
          "state": {
            "_model_module": "@jupyter-widgets/controls",
            "_model_module_version": "1.5.0",
            "_model_name": "DescriptionStyleModel",
            "_view_count": null,
            "_view_module": "@jupyter-widgets/base",
            "_view_module_version": "1.2.0",
            "_view_name": "StyleView",
            "description_width": ""
          }
        },
        "3a9a65e2c07743aaaf14a7df3e249d12": {
          "model_module": "@jupyter-widgets/controls",
          "model_name": "ButtonModel",
          "model_module_version": "1.5.0",
          "state": {
            "_dom_classes": [],
            "_model_module": "@jupyter-widgets/controls",
            "_model_module_version": "1.5.0",
            "_model_name": "ButtonModel",
            "_view_count": null,
            "_view_module": "@jupyter-widgets/controls",
            "_view_module_version": "1.5.0",
            "_view_name": "ButtonView",
            "button_style": "",
            "description": "Search",
            "disabled": false,
            "icon": "",
            "layout": "IPY_MODEL_5176d3536f49452991f297cf7bca1f76",
            "style": "IPY_MODEL_9e58b0e4e65a461ba82c335574f20fcd",
            "tooltip": ""
          }
        },
        "5176d3536f49452991f297cf7bca1f76": {
          "model_module": "@jupyter-widgets/base",
          "model_name": "LayoutModel",
          "model_module_version": "1.2.0",
          "state": {
            "_model_module": "@jupyter-widgets/base",
            "_model_module_version": "1.2.0",
            "_model_name": "LayoutModel",
            "_view_count": null,
            "_view_module": "@jupyter-widgets/base",
            "_view_module_version": "1.2.0",
            "_view_name": "LayoutView",
            "align_content": null,
            "align_items": null,
            "align_self": null,
            "border": null,
            "bottom": null,
            "display": null,
            "flex": null,
            "flex_flow": null,
            "grid_area": null,
            "grid_auto_columns": null,
            "grid_auto_flow": null,
            "grid_auto_rows": null,
            "grid_column": null,
            "grid_gap": null,
            "grid_row": null,
            "grid_template_areas": null,
            "grid_template_columns": null,
            "grid_template_rows": null,
            "height": null,
            "justify_content": null,
            "justify_items": null,
            "left": null,
            "margin": null,
            "max_height": null,
            "max_width": null,
            "min_height": null,
            "min_width": null,
            "object_fit": null,
            "object_position": null,
            "order": null,
            "overflow": null,
            "overflow_x": null,
            "overflow_y": null,
            "padding": null,
            "right": null,
            "top": null,
            "visibility": null,
            "width": null
          }
        },
        "9e58b0e4e65a461ba82c335574f20fcd": {
          "model_module": "@jupyter-widgets/controls",
          "model_name": "ButtonStyleModel",
          "model_module_version": "1.5.0",
          "state": {
            "_model_module": "@jupyter-widgets/controls",
            "_model_module_version": "1.5.0",
            "_model_name": "ButtonStyleModel",
            "_view_count": null,
            "_view_module": "@jupyter-widgets/base",
            "_view_module_version": "1.2.0",
            "_view_name": "StyleView",
            "button_color": null,
            "font_weight": ""
          }
        },
        "c8cc5df1d76e4917b080b364e2f78420": {
          "model_module": "@jupyter-widgets/output",
          "model_name": "OutputModel",
          "model_module_version": "1.0.0",
          "state": {
            "_dom_classes": [],
            "_model_module": "@jupyter-widgets/output",
            "_model_module_version": "1.0.0",
            "_model_name": "OutputModel",
            "_view_count": null,
            "_view_module": "@jupyter-widgets/output",
            "_view_module_version": "1.0.0",
            "_view_name": "OutputView",
            "layout": "IPY_MODEL_5ff2f1a426fe406e971edf6594d887ad",
            "msg_id": "",
            "outputs": [
              {
                "output_type": "display_data",
                "data": {
                  "text/plain": "   mealinclusiontype roomtype         country       city propertytype  \\\n14           No meal   Single           Spain  Barcelona       Hotels   \n22    Free Breakfast   Single           Spain  Barcelona       Hotels   \n20           No meal   Single          France      Paris       Hotels   \n13    Free Breakfast   Single          France      Paris       Hotels   \n4     Free Breakfast   Single  United Kingdom     London       Hotels   \n\n   starrating                           hotelname  maxoccupancy  onsiterate  \\\n14       high                Salles Pere IV Hotel             1      100.08   \n22       high                Salles Pere IV Hotel             1      115.96   \n20        low                      Lilas Gambetta             1       83.38   \n13        low  Hotel Sacre Coeur Paris Montmartre             1      113.33   \n4     average             Park Hotel - Guesthouse             1       39.06   \n\n   curr                                    ratedescription  \\\n14  EUR      Free Wi-Fi, Extra low price! (non-refundable)   \n22  EUR      Free Wi-Fi, Extra low price! (non-refundable)   \n20  EUR  Room size: 10 m²/108 ft², Non-smoking, Shower,...   \n13  EUR                    Free Wi-Fi, Cancellation policy   \n4   GBP                               Shower, 1 single bed   \n\n                                        roomamenities  \n14  Air conditioning: ;Free Wi-Fi in all rooms!: ;...  \n22  Air conditioning: ;Free Wi-Fi in all rooms!: ;...  \n20  Air conditioning: ;Closet: ;Free Wi-Fi in all ...  \n13  Air conditioning: ;Free Wi-Fi in all rooms!: ;...  \n4   Air conditioning: ;Alarm clock: ;Coffee/tea ma...  ",
                  "text/html": "\n  <div id=\"df-038fe457-5b7a-49a3-9d92-b500cb3c7430\" class=\"colab-df-container\">\n    <div>\n<style scoped>\n    .dataframe tbody tr th:only-of-type {\n        vertical-align: middle;\n    }\n\n    .dataframe tbody tr th {\n        vertical-align: top;\n    }\n\n    .dataframe thead th {\n        text-align: right;\n    }\n</style>\n<table border=\"1\" class=\"dataframe\">\n  <thead>\n    <tr style=\"text-align: right;\">\n      <th></th>\n      <th>mealinclusiontype</th>\n      <th>roomtype</th>\n      <th>country</th>\n      <th>city</th>\n      <th>propertytype</th>\n      <th>starrating</th>\n      <th>hotelname</th>\n      <th>maxoccupancy</th>\n      <th>onsiterate</th>\n      <th>curr</th>\n      <th>ratedescription</th>\n      <th>roomamenities</th>\n    </tr>\n  </thead>\n  <tbody>\n    <tr>\n      <th>14</th>\n      <td>No meal</td>\n      <td>Single</td>\n      <td>Spain</td>\n      <td>Barcelona</td>\n      <td>Hotels</td>\n      <td>high</td>\n      <td>Salles Pere IV Hotel</td>\n      <td>1</td>\n      <td>100.08</td>\n      <td>EUR</td>\n      <td>Free Wi-Fi, Extra low price! (non-refundable)</td>\n      <td>Air conditioning: ;Free Wi-Fi in all rooms!: ;...</td>\n    </tr>\n    <tr>\n      <th>22</th>\n      <td>Free Breakfast</td>\n      <td>Single</td>\n      <td>Spain</td>\n      <td>Barcelona</td>\n      <td>Hotels</td>\n      <td>high</td>\n      <td>Salles Pere IV Hotel</td>\n      <td>1</td>\n      <td>115.96</td>\n      <td>EUR</td>\n      <td>Free Wi-Fi, Extra low price! (non-refundable)</td>\n      <td>Air conditioning: ;Free Wi-Fi in all rooms!: ;...</td>\n    </tr>\n    <tr>\n      <th>20</th>\n      <td>No meal</td>\n      <td>Single</td>\n      <td>France</td>\n      <td>Paris</td>\n      <td>Hotels</td>\n      <td>low</td>\n      <td>Lilas Gambetta</td>\n      <td>1</td>\n      <td>83.38</td>\n      <td>EUR</td>\n      <td>Room size: 10 m²/108 ft², Non-smoking, Shower,...</td>\n      <td>Air conditioning: ;Closet: ;Free Wi-Fi in all ...</td>\n    </tr>\n    <tr>\n      <th>13</th>\n      <td>Free Breakfast</td>\n      <td>Single</td>\n      <td>France</td>\n      <td>Paris</td>\n      <td>Hotels</td>\n      <td>low</td>\n      <td>Hotel Sacre Coeur Paris Montmartre</td>\n      <td>1</td>\n      <td>113.33</td>\n      <td>EUR</td>\n      <td>Free Wi-Fi, Cancellation policy</td>\n      <td>Air conditioning: ;Free Wi-Fi in all rooms!: ;...</td>\n    </tr>\n    <tr>\n      <th>4</th>\n      <td>Free Breakfast</td>\n      <td>Single</td>\n      <td>United Kingdom</td>\n      <td>London</td>\n      <td>Hotels</td>\n      <td>average</td>\n      <td>Park Hotel - Guesthouse</td>\n      <td>1</td>\n      <td>39.06</td>\n      <td>GBP</td>\n      <td>Shower, 1 single bed</td>\n      <td>Air conditioning: ;Alarm clock: ;Coffee/tea ma...</td>\n    </tr>\n  </tbody>\n</table>\n</div>\n    <div class=\"colab-df-buttons\">\n\n  <div class=\"colab-df-container\">\n    <button class=\"colab-df-convert\" onclick=\"convertToInteractive('df-038fe457-5b7a-49a3-9d92-b500cb3c7430')\"\n            title=\"Convert this dataframe to an interactive table.\"\n            style=\"display:none;\">\n\n  <svg xmlns=\"http://www.w3.org/2000/svg\" height=\"24px\" viewBox=\"0 -960 960 960\">\n    <path d=\"M120-120v-720h720v720H120Zm60-500h600v-160H180v160Zm220 220h160v-160H400v160Zm0 220h160v-160H400v160ZM180-400h160v-160H180v160Zm440 0h160v-160H620v160ZM180-180h160v-160H180v160Zm440 0h160v-160H620v160Z\"/>\n  </svg>\n    </button>\n\n  <style>\n    .colab-df-container {\n      display:flex;\n      gap: 12px;\n    }\n\n    .colab-df-convert {\n      background-color: #E8F0FE;\n      border: none;\n      border-radius: 50%;\n      cursor: pointer;\n      display: none;\n      fill: #1967D2;\n      height: 32px;\n      padding: 0 0 0 0;\n      width: 32px;\n    }\n\n    .colab-df-convert:hover {\n      background-color: #E2EBFA;\n      box-shadow: 0px 1px 2px rgba(60, 64, 67, 0.3), 0px 1px 3px 1px rgba(60, 64, 67, 0.15);\n      fill: #174EA6;\n    }\n\n    .colab-df-buttons div {\n      margin-bottom: 4px;\n    }\n\n    [theme=dark] .colab-df-convert {\n      background-color: #3B4455;\n      fill: #D2E3FC;\n    }\n\n    [theme=dark] .colab-df-convert:hover {\n      background-color: #434B5C;\n      box-shadow: 0px 1px 3px 1px rgba(0, 0, 0, 0.15);\n      filter: drop-shadow(0px 1px 2px rgba(0, 0, 0, 0.3));\n      fill: #FFFFFF;\n    }\n  </style>\n\n    <script>\n      const buttonEl =\n        document.querySelector('#df-038fe457-5b7a-49a3-9d92-b500cb3c7430 button.colab-df-convert');\n      buttonEl.style.display =\n        google.colab.kernel.accessAllowed ? 'block' : 'none';\n\n      async function convertToInteractive(key) {\n        const element = document.querySelector('#df-038fe457-5b7a-49a3-9d92-b500cb3c7430');\n        const dataTable =\n          await google.colab.kernel.invokeFunction('convertToInteractive',\n                                                    [key], {});\n        if (!dataTable) return;\n\n        const docLinkHtml = 'Like what you see? Visit the ' +\n          '<a target=\"_blank\" href=https://colab.research.google.com/notebooks/data_table.ipynb>data table notebook</a>'\n          + ' to learn more about interactive tables.';\n        element.innerHTML = '';\n        dataTable['output_type'] = 'display_data';\n        await google.colab.output.renderOutput(dataTable, element);\n        const docLink = document.createElement('div');\n        docLink.innerHTML = docLinkHtml;\n        element.appendChild(docLink);\n      }\n    </script>\n  </div>\n\n\n<div id=\"df-5ff59603-90e5-4f90-9acd-24d9c6783080\">\n  <button class=\"colab-df-quickchart\" onclick=\"quickchart('df-5ff59603-90e5-4f90-9acd-24d9c6783080')\"\n            title=\"Suggest charts\"\n            style=\"display:none;\">\n\n<svg xmlns=\"http://www.w3.org/2000/svg\" height=\"24px\"viewBox=\"0 0 24 24\"\n     width=\"24px\">\n    <g>\n        <path d=\"M19 3H5c-1.1 0-2 .9-2 2v14c0 1.1.9 2 2 2h14c1.1 0 2-.9 2-2V5c0-1.1-.9-2-2-2zM9 17H7v-7h2v7zm4 0h-2V7h2v10zm4 0h-2v-4h2v4z\"/>\n    </g>\n</svg>\n  </button>\n\n<style>\n  .colab-df-quickchart {\n      --bg-color: #E8F0FE;\n      --fill-color: #1967D2;\n      --hover-bg-color: #E2EBFA;\n      --hover-fill-color: #174EA6;\n      --disabled-fill-color: #AAA;\n      --disabled-bg-color: #DDD;\n  }\n\n  [theme=dark] .colab-df-quickchart {\n      --bg-color: #3B4455;\n      --fill-color: #D2E3FC;\n      --hover-bg-color: #434B5C;\n      --hover-fill-color: #FFFFFF;\n      --disabled-bg-color: #3B4455;\n      --disabled-fill-color: #666;\n  }\n\n  .colab-df-quickchart {\n    background-color: var(--bg-color);\n    border: none;\n    border-radius: 50%;\n    cursor: pointer;\n    display: none;\n    fill: var(--fill-color);\n    height: 32px;\n    padding: 0;\n    width: 32px;\n  }\n\n  .colab-df-quickchart:hover {\n    background-color: var(--hover-bg-color);\n    box-shadow: 0 1px 2px rgba(60, 64, 67, 0.3), 0 1px 3px 1px rgba(60, 64, 67, 0.15);\n    fill: var(--button-hover-fill-color);\n  }\n\n  .colab-df-quickchart-complete:disabled,\n  .colab-df-quickchart-complete:disabled:hover {\n    background-color: var(--disabled-bg-color);\n    fill: var(--disabled-fill-color);\n    box-shadow: none;\n  }\n\n  .colab-df-spinner {\n    border: 2px solid var(--fill-color);\n    border-color: transparent;\n    border-bottom-color: var(--fill-color);\n    animation:\n      spin 1s steps(1) infinite;\n  }\n\n  @keyframes spin {\n    0% {\n      border-color: transparent;\n      border-bottom-color: var(--fill-color);\n      border-left-color: var(--fill-color);\n    }\n    20% {\n      border-color: transparent;\n      border-left-color: var(--fill-color);\n      border-top-color: var(--fill-color);\n    }\n    30% {\n      border-color: transparent;\n      border-left-color: var(--fill-color);\n      border-top-color: var(--fill-color);\n      border-right-color: var(--fill-color);\n    }\n    40% {\n      border-color: transparent;\n      border-right-color: var(--fill-color);\n      border-top-color: var(--fill-color);\n    }\n    60% {\n      border-color: transparent;\n      border-right-color: var(--fill-color);\n    }\n    80% {\n      border-color: transparent;\n      border-right-color: var(--fill-color);\n      border-bottom-color: var(--fill-color);\n    }\n    90% {\n      border-color: transparent;\n      border-bottom-color: var(--fill-color);\n    }\n  }\n</style>\n\n  <script>\n    async function quickchart(key) {\n      const quickchartButtonEl =\n        document.querySelector('#' + key + ' button');\n      quickchartButtonEl.disabled = true;  // To prevent multiple clicks.\n      quickchartButtonEl.classList.add('colab-df-spinner');\n      try {\n        const charts = await google.colab.kernel.invokeFunction(\n            'suggestCharts', [key], {});\n      } catch (error) {\n        console.error('Error during call to suggestCharts:', error);\n      }\n      quickchartButtonEl.classList.remove('colab-df-spinner');\n      quickchartButtonEl.classList.add('colab-df-quickchart-complete');\n    }\n    (() => {\n      let quickchartButtonEl =\n        document.querySelector('#df-5ff59603-90e5-4f90-9acd-24d9c6783080 button');\n      quickchartButtonEl.style.display =\n        google.colab.kernel.accessAllowed ? 'block' : 'none';\n    })();\n  </script>\n</div>\n    </div>\n  </div>\n"
                },
                "metadata": {}
              }
            ]
          }
        },
        "5ff2f1a426fe406e971edf6594d887ad": {
          "model_module": "@jupyter-widgets/base",
          "model_name": "LayoutModel",
          "model_module_version": "1.2.0",
          "state": {
            "_model_module": "@jupyter-widgets/base",
            "_model_module_version": "1.2.0",
            "_model_name": "LayoutModel",
            "_view_count": null,
            "_view_module": "@jupyter-widgets/base",
            "_view_module_version": "1.2.0",
            "_view_name": "LayoutView",
            "align_content": null,
            "align_items": null,
            "align_self": null,
            "border": null,
            "bottom": null,
            "display": null,
            "flex": null,
            "flex_flow": null,
            "grid_area": null,
            "grid_auto_columns": null,
            "grid_auto_flow": null,
            "grid_auto_rows": null,
            "grid_column": null,
            "grid_gap": null,
            "grid_row": null,
            "grid_template_areas": null,
            "grid_template_columns": null,
            "grid_template_rows": null,
            "height": null,
            "justify_content": null,
            "justify_items": null,
            "left": null,
            "margin": null,
            "max_height": null,
            "max_width": null,
            "min_height": null,
            "min_width": null,
            "object_fit": null,
            "object_position": null,
            "order": null,
            "overflow": null,
            "overflow_x": null,
            "overflow_y": null,
            "padding": null,
            "right": null,
            "top": null,
            "visibility": null,
            "width": null
          }
        }
      }
    }
  },
  "nbformat": 4,
  "nbformat_minor": 5
}